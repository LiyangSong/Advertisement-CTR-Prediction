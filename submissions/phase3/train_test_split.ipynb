{
 "cells": [
  {
   "cell_type": "markdown",
   "id": "e94e4b1bbe94363e",
   "metadata": {
    "collapsed": false,
    "jupyter": {
     "outputs_hidden": false
    }
   },
   "source": [
    "# Data Split"
   ]
  },
  {
   "cell_type": "markdown",
   "id": "b3e393a495e798c9",
   "metadata": {
    "collapsed": false,
    "jupyter": {
     "outputs_hidden": false
    }
   },
   "source": [
    "\n",
    "- This file executes the split of train and test data set and the split of train and validation set. It can be rerun to reproduce the split process from the raw data. Notice the random seed has been used to ensure reproducibility.\n"
   ]
  },
  {
   "cell_type": "markdown",
   "id": "c906afa8e05075f9",
   "metadata": {
    "collapsed": false,
    "jupyter": {
     "outputs_hidden": false
    }
   },
   "source": [
    "## 1. Train test split of raw data"
   ]
  },
  {
   "cell_type": "code",
   "execution_count": 1,
   "id": "initial_id",
   "metadata": {
    "ExecuteTime": {
     "end_time": "2023-12-11T01:23:31.442798Z",
     "start_time": "2023-12-11T01:23:30.647838Z"
    },
    "collapsed": false,
    "jupyter": {
     "outputs_hidden": false
    }
   },
   "outputs": [],
   "source": [
    "import sys\n",
    "sys.path.append(\"..\")\n",
    "\n",
    "import general_utils\n",
    "import data_prepare_utils\n",
    "import pandas as pd"
   ]
  },
  {
   "cell_type": "code",
   "execution_count": 2,
   "id": "5aa24a4d-98f3-42c8-9c48-53a0dbd8a0f2",
   "metadata": {
    "ExecuteTime": {
     "end_time": "2023-12-11T01:23:31.448418Z",
     "start_time": "2023-12-11T01:23:31.444040Z"
    }
   },
   "outputs": [],
   "source": [
    "TARGET = \"label\"\n",
    "RAW_RESAMPLED_FILE_PATH = \"./data/raw_data_resampled.csv\"\n",
    "TRAIN_FILE_PATH = \"./data/train_df.csv\"\n",
    "VALIDATION_FILE_PATH = \"./data/validation_df.csv\"\n",
    "TEST_FILE_PATH = \"./data/test_df.csv\"\n",
    "\n",
    "TRAIN_TEST_SPLIT_RANDOM_STATE = 42\n",
    "TEST_SIZE = 0.20\n",
    "TRAIN_VALIDATION_SPLIT_RANDOM_STATE = 42\n",
    "VALIDATION_SIZE = 0.20"
   ]
  },
  {
   "cell_type": "code",
   "execution_count": 3,
   "id": "1f4300d8a17e1b11",
   "metadata": {
    "ExecuteTime": {
     "end_time": "2023-12-11T01:23:32.832443Z",
     "start_time": "2023-12-11T01:23:31.446375Z"
    },
    "collapsed": false,
    "jupyter": {
     "outputs_hidden": false
    }
   },
   "outputs": [
    {
     "name": "stdout",
     "output_type": "stream",
     "text": [
      "\n",
      "Read CSV file ../data/raw_data_resampled.csv into DataFrame:\n",
      "df.head(): \n"
     ]
    },
    {
     "data": {
      "text/html": [
       "<div>\n",
       "<style scoped>\n",
       "    .dataframe tbody tr th:only-of-type {\n",
       "        vertical-align: middle;\n",
       "    }\n",
       "\n",
       "    .dataframe tbody tr th {\n",
       "        vertical-align: top;\n",
       "    }\n",
       "\n",
       "    .dataframe thead th {\n",
       "        text-align: right;\n",
       "    }\n",
       "</style>\n",
       "<table border=\"1\" class=\"dataframe\">\n",
       "  <thead>\n",
       "    <tr style=\"text-align: right;\">\n",
       "      <th></th>\n",
       "      <th>label</th>\n",
       "      <th>uid</th>\n",
       "      <th>task_id</th>\n",
       "      <th>adv_id</th>\n",
       "      <th>creat_type_cd</th>\n",
       "      <th>adv_prim_id</th>\n",
       "      <th>dev_id</th>\n",
       "      <th>inter_type_cd</th>\n",
       "      <th>slot_id</th>\n",
       "      <th>spread_app_id</th>\n",
       "      <th>...</th>\n",
       "      <th>list_time</th>\n",
       "      <th>device_price</th>\n",
       "      <th>up_life_duration</th>\n",
       "      <th>up_membership_grade</th>\n",
       "      <th>membership_life_duration</th>\n",
       "      <th>consume_purchase</th>\n",
       "      <th>communication_onlinerate</th>\n",
       "      <th>communication_avgonline_30d</th>\n",
       "      <th>indu_name</th>\n",
       "      <th>pt_d</th>\n",
       "    </tr>\n",
       "  </thead>\n",
       "  <tbody>\n",
       "    <tr>\n",
       "      <th>0</th>\n",
       "      <td>0</td>\n",
       "      <td>2093274</td>\n",
       "      <td>3744</td>\n",
       "      <td>2227</td>\n",
       "      <td>5</td>\n",
       "      <td>142</td>\n",
       "      <td>36</td>\n",
       "      <td>5</td>\n",
       "      <td>18</td>\n",
       "      <td>80</td>\n",
       "      <td>...</td>\n",
       "      <td>12</td>\n",
       "      <td>2</td>\n",
       "      <td>-1</td>\n",
       "      <td>-1</td>\n",
       "      <td>-1</td>\n",
       "      <td>2</td>\n",
       "      <td>5^6^7^8^9^10^11^12^13^14^15^16^17^18^19^20^21^...</td>\n",
       "      <td>11</td>\n",
       "      <td>42</td>\n",
       "      <td>1</td>\n",
       "    </tr>\n",
       "    <tr>\n",
       "      <th>1</th>\n",
       "      <td>0</td>\n",
       "      <td>1300943</td>\n",
       "      <td>2088</td>\n",
       "      <td>2314</td>\n",
       "      <td>6</td>\n",
       "      <td>132</td>\n",
       "      <td>60</td>\n",
       "      <td>3</td>\n",
       "      <td>11</td>\n",
       "      <td>78</td>\n",
       "      <td>...</td>\n",
       "      <td>8</td>\n",
       "      <td>5</td>\n",
       "      <td>-1</td>\n",
       "      <td>-1</td>\n",
       "      <td>-1</td>\n",
       "      <td>2</td>\n",
       "      <td>0^1^2^3^4^5^6^7^8^9^10^11^12^13^14^15^16^17^18...</td>\n",
       "      <td>13</td>\n",
       "      <td>47</td>\n",
       "      <td>6</td>\n",
       "    </tr>\n",
       "    <tr>\n",
       "      <th>2</th>\n",
       "      <td>0</td>\n",
       "      <td>1630699</td>\n",
       "      <td>3747</td>\n",
       "      <td>4461</td>\n",
       "      <td>7</td>\n",
       "      <td>207</td>\n",
       "      <td>17</td>\n",
       "      <td>5</td>\n",
       "      <td>17</td>\n",
       "      <td>13</td>\n",
       "      <td>...</td>\n",
       "      <td>4</td>\n",
       "      <td>4</td>\n",
       "      <td>20</td>\n",
       "      <td>1</td>\n",
       "      <td>-1</td>\n",
       "      <td>2</td>\n",
       "      <td>5^6^7^8^9^10^11^12^13^14^15^16^17^18^19^20^21^...</td>\n",
       "      <td>11</td>\n",
       "      <td>17</td>\n",
       "      <td>7</td>\n",
       "    </tr>\n",
       "    <tr>\n",
       "      <th>3</th>\n",
       "      <td>0</td>\n",
       "      <td>1320249</td>\n",
       "      <td>1220</td>\n",
       "      <td>4477</td>\n",
       "      <td>7</td>\n",
       "      <td>207</td>\n",
       "      <td>17</td>\n",
       "      <td>5</td>\n",
       "      <td>16</td>\n",
       "      <td>13</td>\n",
       "      <td>...</td>\n",
       "      <td>14</td>\n",
       "      <td>5</td>\n",
       "      <td>20</td>\n",
       "      <td>1</td>\n",
       "      <td>-1</td>\n",
       "      <td>2</td>\n",
       "      <td>0^1^2^3^4^5^6^7^8^9^10^11^12^13^14^15^16^17^18...</td>\n",
       "      <td>13</td>\n",
       "      <td>17</td>\n",
       "      <td>7</td>\n",
       "    </tr>\n",
       "    <tr>\n",
       "      <th>4</th>\n",
       "      <td>0</td>\n",
       "      <td>1776239</td>\n",
       "      <td>3071</td>\n",
       "      <td>4591</td>\n",
       "      <td>7</td>\n",
       "      <td>109</td>\n",
       "      <td>29</td>\n",
       "      <td>5</td>\n",
       "      <td>12</td>\n",
       "      <td>86</td>\n",
       "      <td>...</td>\n",
       "      <td>5</td>\n",
       "      <td>4</td>\n",
       "      <td>-1</td>\n",
       "      <td>-1</td>\n",
       "      <td>-1</td>\n",
       "      <td>2</td>\n",
       "      <td>7^8^9^10^11^12^13^14^15^16^17^18^19^20^21^22^23</td>\n",
       "      <td>11</td>\n",
       "      <td>17</td>\n",
       "      <td>6</td>\n",
       "    </tr>\n",
       "  </tbody>\n",
       "</table>\n",
       "<p>5 rows × 36 columns</p>\n",
       "</div>"
      ],
      "text/plain": [
       "   label      uid  task_id  adv_id  creat_type_cd  adv_prim_id  dev_id  \\\n",
       "0      0  2093274     3744    2227              5          142      36   \n",
       "1      0  1300943     2088    2314              6          132      60   \n",
       "2      0  1630699     3747    4461              7          207      17   \n",
       "3      0  1320249     1220    4477              7          207      17   \n",
       "4      0  1776239     3071    4591              7          109      29   \n",
       "\n",
       "   inter_type_cd  slot_id  spread_app_id  ...  list_time  device_price  \\\n",
       "0              5       18             80  ...         12             2   \n",
       "1              3       11             78  ...          8             5   \n",
       "2              5       17             13  ...          4             4   \n",
       "3              5       16             13  ...         14             5   \n",
       "4              5       12             86  ...          5             4   \n",
       "\n",
       "   up_life_duration  up_membership_grade  membership_life_duration  \\\n",
       "0                -1                   -1                        -1   \n",
       "1                -1                   -1                        -1   \n",
       "2                20                    1                        -1   \n",
       "3                20                    1                        -1   \n",
       "4                -1                   -1                        -1   \n",
       "\n",
       "   consume_purchase                           communication_onlinerate  \\\n",
       "0                 2  5^6^7^8^9^10^11^12^13^14^15^16^17^18^19^20^21^...   \n",
       "1                 2  0^1^2^3^4^5^6^7^8^9^10^11^12^13^14^15^16^17^18...   \n",
       "2                 2  5^6^7^8^9^10^11^12^13^14^15^16^17^18^19^20^21^...   \n",
       "3                 2  0^1^2^3^4^5^6^7^8^9^10^11^12^13^14^15^16^17^18...   \n",
       "4                 2    7^8^9^10^11^12^13^14^15^16^17^18^19^20^21^22^23   \n",
       "\n",
       "   communication_avgonline_30d  indu_name  pt_d  \n",
       "0                           11         42     1  \n",
       "1                           13         47     6  \n",
       "2                           11         17     7  \n",
       "3                           13         17     7  \n",
       "4                           11         17     6  \n",
       "\n",
       "[5 rows x 36 columns]"
      ]
     },
     "metadata": {},
     "output_type": "display_data"
    },
    {
     "name": "stdout",
     "output_type": "stream",
     "text": [
      "df.shape: (1047678, 36)\n"
     ]
    }
   ],
   "source": [
    "df = general_utils.read_csv(RAW_RESAMPLED_FILE_PATH)"
   ]
  },
  {
   "cell_type": "code",
   "execution_count": 4,
   "id": "a9943eeef7c84775",
   "metadata": {
    "ExecuteTime": {
     "end_time": "2023-12-11T01:23:32.841252Z",
     "start_time": "2023-12-11T01:23:32.839151Z"
    },
    "collapsed": false,
    "jupyter": {
     "outputs_hidden": false
    }
   },
   "outputs": [
    {
     "data": {
      "text/plain": [
       "0    0.965508\n",
       "1    0.034492\n",
       "Name: label, dtype: float64"
      ]
     },
     "execution_count": 4,
     "metadata": {},
     "output_type": "execute_result"
    }
   ],
   "source": [
    "df[TARGET].value_counts(normalize=True)"
   ]
  },
  {
   "cell_type": "markdown",
   "id": "9dc3e28ffe3ca251",
   "metadata": {
    "ExecuteTime": {
     "end_time": "2023-10-21T02:28:50.711025400Z",
     "start_time": "2023-10-21T02:28:50.341821700Z"
    },
    "collapsed": false,
    "jupyter": {
     "outputs_hidden": false
    }
   },
   "source": [
    "\n",
    "- The dataset is heavily imbalanced with over 95% zero values in `'label'` column, this will introduce a risk that the minority class might not be adequately represented in either the training set or the test set (or both). This can lead to models that are poorly generalized or validated.\n",
    "- To counteract this, **stratified sampling** is applied, which can ensure that both training and test sets have approximately the same percentage of samples of each target class as the raw data set.\n"
   ]
  },
  {
   "cell_type": "code",
   "execution_count": 5,
   "id": "f7d9e4c654c4256f",
   "metadata": {
    "ExecuteTime": {
     "end_time": "2023-12-11T01:23:33.089772Z",
     "start_time": "2023-12-11T01:23:32.843294Z"
    },
    "collapsed": false,
    "jupyter": {
     "outputs_hidden": false
    }
   },
   "outputs": [
    {
     "name": "stdout",
     "output_type": "stream",
     "text": [
      "\n",
      "Perform an oversample of 0.01 due to the high imbalance:\n",
      "oversampled_df.shape: (1047678, 36)\n"
     ]
    }
   ],
   "source": [
    "df = data_prepare_utils.oversample_data(df, oversample_fraction=0.01, random_state=42)"
   ]
  },
  {
   "cell_type": "code",
   "execution_count": 6,
   "id": "eb4b65b6a6b0f986",
   "metadata": {
    "ExecuteTime": {
     "end_time": "2023-12-11T01:23:33.748465Z",
     "start_time": "2023-12-11T01:23:33.089695Z"
    },
    "collapsed": false,
    "jupyter": {
     "outputs_hidden": false
    }
   },
   "outputs": [
    {
     "name": "stdout",
     "output_type": "stream",
     "text": [
      "\n",
      "Split DataFrame into train and test set:\n",
      "train set:\n",
      "(838142, 35) (838142, 1)\n",
      "test set:\n",
      "(209536, 35) (209536, 1)\n",
      "target distribution in train set: \n",
      " label\n",
      "0        0.965507\n",
      "1        0.034493\n",
      "dtype: float64\n",
      "target distribution in test set: \n",
      " label\n",
      "0        0.96551\n",
      "1        0.03449\n",
      "dtype: float64\n"
     ]
    }
   ],
   "source": [
    "train_cap_x_df, train_y_df, test_cap_x_df, test_y_df = data_prepare_utils.split_train_test_df(df, target=TARGET, stratify=True, test_size=TEST_SIZE, random_state=TRAIN_TEST_SPLIT_RANDOM_STATE)\n",
    "del df"
   ]
  },
  {
   "cell_type": "markdown",
   "id": "68ded41c9c6c2903",
   "metadata": {
    "collapsed": false,
    "jupyter": {
     "outputs_hidden": false
    }
   },
   "source": [
    "## 2. Train validation split"
   ]
  },
  {
   "cell_type": "code",
   "execution_count": 7,
   "id": "9eea9f7dc39a5de9",
   "metadata": {
    "ExecuteTime": {
     "end_time": "2023-12-11T01:23:34.276843Z",
     "start_time": "2023-12-11T01:23:33.750454Z"
    },
    "collapsed": false,
    "jupyter": {
     "outputs_hidden": false
    }
   },
   "outputs": [
    {
     "name": "stdout",
     "output_type": "stream",
     "text": [
      "\n",
      "Split DataFrame into train and test set:\n",
      "train set:\n",
      "(670513, 35) (670513, 1)\n",
      "test set:\n",
      "(167629, 35) (167629, 1)\n",
      "target distribution in train set: \n",
      " label\n",
      "0        0.965507\n",
      "1        0.034493\n",
      "dtype: float64\n",
      "target distribution in test set: \n",
      " label\n",
      "0        0.965507\n",
      "1        0.034493\n",
      "dtype: float64\n"
     ]
    }
   ],
   "source": [
    "train_cap_x_df, train_y_df, validation_cap_x_df, validation_y_df = data_prepare_utils.split_train_test_df(pd.concat([train_cap_x_df, train_y_df], axis=1), target=TARGET, stratify=True, test_size=VALIDATION_SIZE, random_state=TRAIN_VALIDATION_SPLIT_RANDOM_STATE)"
   ]
  },
  {
   "cell_type": "code",
   "execution_count": 8,
   "id": "35aee84d82bb8ecb",
   "metadata": {
    "ExecuteTime": {
     "end_time": "2023-12-11T01:23:38.650425Z",
     "start_time": "2023-12-11T01:23:34.278293Z"
    },
    "collapsed": false,
    "jupyter": {
     "outputs_hidden": false
    }
   },
   "outputs": [
    {
     "name": "stdout",
     "output_type": "stream",
     "text": [
      "\n",
      "Save DataFrame into csv file:\n",
      "File saved: ../data/train_df.csv\n",
      "\n",
      "Save DataFrame into csv file:\n",
      "File saved: ../data/validation_df.csv\n",
      "\n",
      "Save DataFrame into csv file:\n",
      "File saved: ../data/test_df.csv\n"
     ]
    }
   ],
   "source": [
    "general_utils.save_to_csv(train_cap_x_df, train_y_df, TRAIN_FILE_PATH)\n",
    "del train_cap_x_df, train_y_df\n",
    "\n",
    "general_utils.save_to_csv(validation_cap_x_df, validation_y_df, VALIDATION_FILE_PATH)\n",
    "del validation_cap_x_df, validation_y_df\n",
    "\n",
    "general_utils.save_to_csv(test_cap_x_df, test_y_df, TEST_FILE_PATH)\n",
    "del test_cap_x_df, test_y_df"
   ]
  }
 ],
 "metadata": {
  "kernelspec": {
   "display_name": "Python 3 (ipykernel)",
   "language": "python",
   "name": "python3"
  },
  "language_info": {
   "codemirror_mode": {
    "name": "ipython",
    "version": 3
   },
   "file_extension": ".py",
   "mimetype": "text/x-python",
   "name": "python",
   "nbconvert_exporter": "python",
   "pygments_lexer": "ipython3",
   "version": "3.10.13"
  }
 },
 "nbformat": 4,
 "nbformat_minor": 5
}
