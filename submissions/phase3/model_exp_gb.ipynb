{
 "cells": [
  {
   "cell_type": "markdown",
   "id": "1bfc48d1",
   "metadata": {},
   "source": [
    "## Shortlist Promising Models - Gradient Boosting Classifier"
   ]
  },
  {
   "cell_type": "markdown",
   "id": "b5d912d1",
   "metadata": {},
   "source": [
    "#### 0. Import modules and define parameters"
   ]
  },
  {
   "cell_type": "code",
   "execution_count": 1,
   "id": "f05e1a08",
   "metadata": {
    "ExecuteTime": {
     "end_time": "2023-12-11T02:13:37.311176Z",
     "start_time": "2023-12-11T02:13:36.358500Z"
    }
   },
   "outputs": [],
   "source": [
    "import sys\n",
    "sys.path.append(\"..\")\n",
    "\n",
    "import general_utils\n",
    "import data_prepare_utils\n",
    "import bin_class_utils\n",
    "from sklearn.pipeline import Pipeline\n",
    "import time\n",
    "import pandas as pd"
   ]
  },
  {
   "cell_type": "code",
   "execution_count": 2,
   "id": "609f28df527047a2",
   "metadata": {
    "ExecuteTime": {
     "end_time": "2023-12-11T02:13:37.311429Z",
     "start_time": "2023-12-11T02:13:37.305156Z"
    }
   },
   "outputs": [],
   "source": [
    "start = time.time()"
   ]
  },
  {
   "cell_type": "code",
   "execution_count": 3,
   "id": "f53a94db",
   "metadata": {
    "ExecuteTime": {
     "end_time": "2023-12-11T02:13:37.321042Z",
     "start_time": "2023-12-11T02:13:37.309706Z"
    }
   },
   "outputs": [],
   "source": [
    "TRAIN_FILE_PATH = \"./data/train_df.csv\"\n",
    "VALIDATION_FILE_PATH = \"./data/validation_df.csv\"\n",
    "\n",
    "TARGET_ATTR = \"label\"\n",
    "TARGET_TYPE = \"binary\"\n",
    "\n",
    "ESTIMATOR_NAME = \"GradientBoostingClassifier\"\n",
    "\n",
    "SAMPLE_SIZE = 0.05\n",
    "SAMPLE_RANDOM_STATE = 24\n",
    "TARGET_ENCODING_RANDOM_STATE = 42\n",
    "MODEL_RANDOM_STATE = 42\n",
    "PERMUTATION_IMPORTANCE_RANDOM_STATE = 0\n",
    "\n",
    "ATTRS_TO_DROP = ['uid', 'app_score', 'his_on_shelf_time', 'task_id', 'spread_app_id', 'tags', 'dev_id']\n",
    "\n",
    "CVS_SCORING_LIST = ['accuracy', 'precision', 'recall', 'f1']\n",
    "PERMUTATION_SCORING_LIST = ['average_precision', 'roc_auc']\n",
    "PERM_DROP_THRESHOLD_PERCENT = 0.15"
   ]
  },
  {
   "cell_type": "markdown",
   "id": "b8218d94",
   "metadata": {},
   "source": [
    "#### 1. Import Data"
   ]
  },
  {
   "cell_type": "code",
   "execution_count": 4,
   "id": "7041c859",
   "metadata": {
    "ExecuteTime": {
     "end_time": "2023-12-11T02:13:38.182910Z",
     "start_time": "2023-12-11T02:13:37.315188Z"
    }
   },
   "outputs": [
    {
     "name": "stdout",
     "output_type": "stream",
     "text": [
      "\n",
      "Read CSV file ../data/train_df.csv into DataFrame:\n",
      "df.head(): \n"
     ]
    },
    {
     "data": {
      "text/html": [
       "<div>\n",
       "<style scoped>\n",
       "    .dataframe tbody tr th:only-of-type {\n",
       "        vertical-align: middle;\n",
       "    }\n",
       "\n",
       "    .dataframe tbody tr th {\n",
       "        vertical-align: top;\n",
       "    }\n",
       "\n",
       "    .dataframe thead th {\n",
       "        text-align: right;\n",
       "    }\n",
       "</style>\n",
       "<table border=\"1\" class=\"dataframe\">\n",
       "  <thead>\n",
       "    <tr style=\"text-align: right;\">\n",
       "      <th></th>\n",
       "      <th>uid</th>\n",
       "      <th>task_id</th>\n",
       "      <th>adv_id</th>\n",
       "      <th>creat_type_cd</th>\n",
       "      <th>adv_prim_id</th>\n",
       "      <th>dev_id</th>\n",
       "      <th>inter_type_cd</th>\n",
       "      <th>slot_id</th>\n",
       "      <th>spread_app_id</th>\n",
       "      <th>tags</th>\n",
       "      <th>...</th>\n",
       "      <th>device_price</th>\n",
       "      <th>up_life_duration</th>\n",
       "      <th>up_membership_grade</th>\n",
       "      <th>membership_life_duration</th>\n",
       "      <th>consume_purchase</th>\n",
       "      <th>communication_onlinerate</th>\n",
       "      <th>communication_avgonline_30d</th>\n",
       "      <th>indu_name</th>\n",
       "      <th>pt_d</th>\n",
       "      <th>label</th>\n",
       "    </tr>\n",
       "  </thead>\n",
       "  <tbody>\n",
       "    <tr>\n",
       "      <th>0</th>\n",
       "      <td>1920544</td>\n",
       "      <td>3854</td>\n",
       "      <td>3367</td>\n",
       "      <td>7</td>\n",
       "      <td>207</td>\n",
       "      <td>17</td>\n",
       "      <td>5</td>\n",
       "      <td>11</td>\n",
       "      <td>13</td>\n",
       "      <td>37</td>\n",
       "      <td>...</td>\n",
       "      <td>4</td>\n",
       "      <td>20</td>\n",
       "      <td>-1</td>\n",
       "      <td>-1</td>\n",
       "      <td>2</td>\n",
       "      <td>7^8^9^10^11^12^13^14^15^16^17^18^19^20^21^22^23</td>\n",
       "      <td>10</td>\n",
       "      <td>17</td>\n",
       "      <td>6</td>\n",
       "      <td>0</td>\n",
       "    </tr>\n",
       "    <tr>\n",
       "      <th>1</th>\n",
       "      <td>1850503</td>\n",
       "      <td>3903</td>\n",
       "      <td>6370</td>\n",
       "      <td>7</td>\n",
       "      <td>173</td>\n",
       "      <td>52</td>\n",
       "      <td>5</td>\n",
       "      <td>12</td>\n",
       "      <td>69</td>\n",
       "      <td>11</td>\n",
       "      <td>...</td>\n",
       "      <td>2</td>\n",
       "      <td>-1</td>\n",
       "      <td>-1</td>\n",
       "      <td>-1</td>\n",
       "      <td>2</td>\n",
       "      <td>5^6^7^8^9^10^11^12^13^14^15^16^17^18^19^20^21^...</td>\n",
       "      <td>12</td>\n",
       "      <td>50</td>\n",
       "      <td>7</td>\n",
       "      <td>0</td>\n",
       "    </tr>\n",
       "    <tr>\n",
       "      <th>2</th>\n",
       "      <td>2157496</td>\n",
       "      <td>1847</td>\n",
       "      <td>6428</td>\n",
       "      <td>6</td>\n",
       "      <td>178</td>\n",
       "      <td>17</td>\n",
       "      <td>5</td>\n",
       "      <td>18</td>\n",
       "      <td>70</td>\n",
       "      <td>39</td>\n",
       "      <td>...</td>\n",
       "      <td>7</td>\n",
       "      <td>20</td>\n",
       "      <td>1</td>\n",
       "      <td>-1</td>\n",
       "      <td>9</td>\n",
       "      <td>0^1^2^3^4^5^6^7^8^9^10^11^12^13^14^15^16^17^18...</td>\n",
       "      <td>13</td>\n",
       "      <td>36</td>\n",
       "      <td>7</td>\n",
       "      <td>0</td>\n",
       "    </tr>\n",
       "    <tr>\n",
       "      <th>3</th>\n",
       "      <td>2072043</td>\n",
       "      <td>4125</td>\n",
       "      <td>4468</td>\n",
       "      <td>7</td>\n",
       "      <td>168</td>\n",
       "      <td>37</td>\n",
       "      <td>5</td>\n",
       "      <td>12</td>\n",
       "      <td>44</td>\n",
       "      <td>40</td>\n",
       "      <td>...</td>\n",
       "      <td>2</td>\n",
       "      <td>20</td>\n",
       "      <td>-1</td>\n",
       "      <td>-1</td>\n",
       "      <td>2</td>\n",
       "      <td>6^7^8^9^10^11^12^13^14^15^16^17^18^19^20^21^22^23</td>\n",
       "      <td>11</td>\n",
       "      <td>17</td>\n",
       "      <td>6</td>\n",
       "      <td>0</td>\n",
       "    </tr>\n",
       "    <tr>\n",
       "      <th>4</th>\n",
       "      <td>1084626</td>\n",
       "      <td>4811</td>\n",
       "      <td>3326</td>\n",
       "      <td>7</td>\n",
       "      <td>183</td>\n",
       "      <td>29</td>\n",
       "      <td>5</td>\n",
       "      <td>12</td>\n",
       "      <td>86</td>\n",
       "      <td>37</td>\n",
       "      <td>...</td>\n",
       "      <td>3</td>\n",
       "      <td>18</td>\n",
       "      <td>-1</td>\n",
       "      <td>-1</td>\n",
       "      <td>2</td>\n",
       "      <td>7^8^9^10^11^12^13^14^15^16^17^18^19^20^21^22^23</td>\n",
       "      <td>10</td>\n",
       "      <td>17</td>\n",
       "      <td>6</td>\n",
       "      <td>0</td>\n",
       "    </tr>\n",
       "  </tbody>\n",
       "</table>\n",
       "<p>5 rows × 36 columns</p>\n",
       "</div>"
      ],
      "text/plain": [
       "       uid  task_id  adv_id  creat_type_cd  adv_prim_id  dev_id  \\\n",
       "0  1920544     3854    3367              7          207      17   \n",
       "1  1850503     3903    6370              7          173      52   \n",
       "2  2157496     1847    6428              6          178      17   \n",
       "3  2072043     4125    4468              7          168      37   \n",
       "4  1084626     4811    3326              7          183      29   \n",
       "\n",
       "   inter_type_cd  slot_id  spread_app_id  tags  ...  device_price  \\\n",
       "0              5       11             13    37  ...             4   \n",
       "1              5       12             69    11  ...             2   \n",
       "2              5       18             70    39  ...             7   \n",
       "3              5       12             44    40  ...             2   \n",
       "4              5       12             86    37  ...             3   \n",
       "\n",
       "   up_life_duration  up_membership_grade  membership_life_duration  \\\n",
       "0                20                   -1                        -1   \n",
       "1                -1                   -1                        -1   \n",
       "2                20                    1                        -1   \n",
       "3                20                   -1                        -1   \n",
       "4                18                   -1                        -1   \n",
       "\n",
       "   consume_purchase                           communication_onlinerate  \\\n",
       "0                 2    7^8^9^10^11^12^13^14^15^16^17^18^19^20^21^22^23   \n",
       "1                 2  5^6^7^8^9^10^11^12^13^14^15^16^17^18^19^20^21^...   \n",
       "2                 9  0^1^2^3^4^5^6^7^8^9^10^11^12^13^14^15^16^17^18...   \n",
       "3                 2  6^7^8^9^10^11^12^13^14^15^16^17^18^19^20^21^22^23   \n",
       "4                 2    7^8^9^10^11^12^13^14^15^16^17^18^19^20^21^22^23   \n",
       "\n",
       "   communication_avgonline_30d  indu_name  pt_d  label  \n",
       "0                           10         17     6      0  \n",
       "1                           12         50     7      0  \n",
       "2                           13         36     7      0  \n",
       "3                           11         17     6      0  \n",
       "4                           10         17     6      0  \n",
       "\n",
       "[5 rows x 36 columns]"
      ]
     },
     "metadata": {},
     "output_type": "display_data"
    },
    {
     "name": "stdout",
     "output_type": "stream",
     "text": [
      "df.shape: (670513, 36)\n"
     ]
    }
   ],
   "source": [
    "train_df = general_utils.read_csv(TRAIN_FILE_PATH)"
   ]
  },
  {
   "cell_type": "markdown",
   "id": "e1d494c7",
   "metadata": {},
   "source": [
    "#### 2. Sample smaller training sets for fast exploration"
   ]
  },
  {
   "cell_type": "code",
   "execution_count": 5,
   "id": "4ede381d",
   "metadata": {
    "ExecuteTime": {
     "end_time": "2023-12-11T02:13:38.309948Z",
     "start_time": "2023-12-11T02:13:38.183469Z"
    }
   },
   "outputs": [
    {
     "name": "stdout",
     "output_type": "stream",
     "text": [
      "\n",
      "Sample 0.05 fraction from DataFrame:\n",
      "sample_df.shape: (33525, 36)\n"
     ]
    }
   ],
   "source": [
    "train_df_sample = data_prepare_utils.sample_data(train_df, SAMPLE_SIZE, SAMPLE_RANDOM_STATE)\n",
    "del train_df"
   ]
  },
  {
   "cell_type": "markdown",
   "id": "b48b5e04",
   "metadata": {},
   "source": [
    "#### 3. Check attribute types"
   ]
  },
  {
   "cell_type": "code",
   "execution_count": 6,
   "id": "c4f2729d",
   "metadata": {
    "ExecuteTime": {
     "end_time": "2023-12-11T02:13:38.310284Z",
     "start_time": "2023-12-11T02:13:38.295112Z"
    },
    "scrolled": true
   },
   "outputs": [
    {
     "data": {
      "text/plain": [
       "['uid',\n",
       " 'task_id',\n",
       " 'adv_id',\n",
       " 'creat_type_cd',\n",
       " 'adv_prim_id',\n",
       " 'dev_id',\n",
       " 'inter_type_cd',\n",
       " 'slot_id',\n",
       " 'spread_app_id',\n",
       " 'tags',\n",
       " 'app_first_class',\n",
       " 'app_second_class',\n",
       " 'age',\n",
       " 'city',\n",
       " 'city_rank',\n",
       " 'device_name',\n",
       " 'device_size',\n",
       " 'career',\n",
       " 'gender',\n",
       " 'net_type',\n",
       " 'residence',\n",
       " 'his_app_size',\n",
       " 'his_on_shelf_time',\n",
       " 'app_score',\n",
       " 'emui_dev',\n",
       " 'list_time',\n",
       " 'device_price',\n",
       " 'up_life_duration',\n",
       " 'up_membership_grade',\n",
       " 'membership_life_duration',\n",
       " 'consume_purchase',\n",
       " 'communication_onlinerate',\n",
       " 'communication_avgonline_30d',\n",
       " 'indu_name',\n",
       " 'pt_d']"
      ]
     },
     "execution_count": 6,
     "metadata": {},
     "output_type": "execute_result"
    }
   ],
   "source": [
    "numerical_attr_list = []\n",
    "categorical_attr_list = [attr for attr in train_df_sample.columns if attr not in numerical_attr_list and attr != TARGET_ATTR]\n",
    "attr_list = numerical_attr_list + categorical_attr_list\n",
    "attr_list"
   ]
  },
  {
   "cell_type": "markdown",
   "id": "0b53d671",
   "metadata": {},
   "source": [
    "#### 4. Predefined data processing strategy in prep.ipynb"
   ]
  },
  {
   "cell_type": "code",
   "execution_count": 7,
   "id": "294f7f63",
   "metadata": {
    "ExecuteTime": {
     "end_time": "2023-12-11T02:13:38.358637Z",
     "start_time": "2023-12-11T02:13:38.300734Z"
    }
   },
   "outputs": [
    {
     "name": "stdout",
     "output_type": "stream",
     "text": [
      "\n",
      "Drop duplicate observations:\n",
      "df.shape:  (33525, 36)\n",
      "drop_dup_df.shape:  (33519, 36)\n"
     ]
    }
   ],
   "source": [
    "train_df_sample = data_prepare_utils.drop_duplicate_obs(train_df_sample)"
   ]
  },
  {
   "cell_type": "code",
   "execution_count": 8,
   "id": "e6bd091d",
   "metadata": {
    "ExecuteTime": {
     "end_time": "2023-12-11T02:13:38.388690Z",
     "start_time": "2023-12-11T02:13:38.323335Z"
    }
   },
   "outputs": [
    {
     "data": {
      "text/html": [
       "<style>#sk-container-id-1 {color: black;}#sk-container-id-1 pre{padding: 0;}#sk-container-id-1 div.sk-toggleable {background-color: white;}#sk-container-id-1 label.sk-toggleable__label {cursor: pointer;display: block;width: 100%;margin-bottom: 0;padding: 0.3em;box-sizing: border-box;text-align: center;}#sk-container-id-1 label.sk-toggleable__label-arrow:before {content: \"▸\";float: left;margin-right: 0.25em;color: #696969;}#sk-container-id-1 label.sk-toggleable__label-arrow:hover:before {color: black;}#sk-container-id-1 div.sk-estimator:hover label.sk-toggleable__label-arrow:before {color: black;}#sk-container-id-1 div.sk-toggleable__content {max-height: 0;max-width: 0;overflow: hidden;text-align: left;background-color: #f0f8ff;}#sk-container-id-1 div.sk-toggleable__content pre {margin: 0.2em;color: black;border-radius: 0.25em;background-color: #f0f8ff;}#sk-container-id-1 input.sk-toggleable__control:checked~div.sk-toggleable__content {max-height: 200px;max-width: 100%;overflow: auto;}#sk-container-id-1 input.sk-toggleable__control:checked~label.sk-toggleable__label-arrow:before {content: \"▾\";}#sk-container-id-1 div.sk-estimator input.sk-toggleable__control:checked~label.sk-toggleable__label {background-color: #d4ebff;}#sk-container-id-1 div.sk-label input.sk-toggleable__control:checked~label.sk-toggleable__label {background-color: #d4ebff;}#sk-container-id-1 input.sk-hidden--visually {border: 0;clip: rect(1px 1px 1px 1px);clip: rect(1px, 1px, 1px, 1px);height: 1px;margin: -1px;overflow: hidden;padding: 0;position: absolute;width: 1px;}#sk-container-id-1 div.sk-estimator {font-family: monospace;background-color: #f0f8ff;border: 1px dotted black;border-radius: 0.25em;box-sizing: border-box;margin-bottom: 0.5em;}#sk-container-id-1 div.sk-estimator:hover {background-color: #d4ebff;}#sk-container-id-1 div.sk-parallel-item::after {content: \"\";width: 100%;border-bottom: 1px solid gray;flex-grow: 1;}#sk-container-id-1 div.sk-label:hover label.sk-toggleable__label {background-color: #d4ebff;}#sk-container-id-1 div.sk-serial::before {content: \"\";position: absolute;border-left: 1px solid gray;box-sizing: border-box;top: 0;bottom: 0;left: 50%;z-index: 0;}#sk-container-id-1 div.sk-serial {display: flex;flex-direction: column;align-items: center;background-color: white;padding-right: 0.2em;padding-left: 0.2em;position: relative;}#sk-container-id-1 div.sk-item {position: relative;z-index: 1;}#sk-container-id-1 div.sk-parallel {display: flex;align-items: stretch;justify-content: center;background-color: white;position: relative;}#sk-container-id-1 div.sk-item::before, #sk-container-id-1 div.sk-parallel-item::before {content: \"\";position: absolute;border-left: 1px solid gray;box-sizing: border-box;top: 0;bottom: 0;left: 50%;z-index: -1;}#sk-container-id-1 div.sk-parallel-item {display: flex;flex-direction: column;z-index: 1;position: relative;background-color: white;}#sk-container-id-1 div.sk-parallel-item:first-child::after {align-self: flex-end;width: 50%;}#sk-container-id-1 div.sk-parallel-item:last-child::after {align-self: flex-start;width: 50%;}#sk-container-id-1 div.sk-parallel-item:only-child::after {width: 0;}#sk-container-id-1 div.sk-dashed-wrapped {border: 1px dashed gray;margin: 0 0.4em 0.5em 0.4em;box-sizing: border-box;padding-bottom: 0.4em;background-color: white;}#sk-container-id-1 div.sk-label label {font-family: monospace;font-weight: bold;display: inline-block;line-height: 1.2em;}#sk-container-id-1 div.sk-label-container {text-align: center;}#sk-container-id-1 div.sk-container {/* jupyter's `normalize.less` sets `[hidden] { display: none; }` but bootstrap.min.css set `[hidden] { display: none !important; }` so we also need the `!important` here to be able to override the default hidden behavior on the sphinx rendered scikit-learn.org. See: https://github.com/scikit-learn/scikit-learn/issues/21755 */display: inline-block !important;position: relative;}#sk-container-id-1 div.sk-text-repr-fallback {display: none;}</style><div id=\"sk-container-id-1\" class=\"sk-top-container\"><div class=\"sk-text-repr-fallback\"><pre>ColumnTransformer(transformers=[(&#x27;numerical&#x27;,\n",
       "                                 Pipeline(steps=[(&#x27;column_dropper&#x27;,\n",
       "                                                  DropColumnsTransformer(attrs_to_drop=[&#x27;uid&#x27;,\n",
       "                                                                                        &#x27;app_score&#x27;,\n",
       "                                                                                        &#x27;his_on_shelf_time&#x27;,\n",
       "                                                                                        &#x27;task_id&#x27;,\n",
       "                                                                                        &#x27;spread_app_id&#x27;,\n",
       "                                                                                        &#x27;tags&#x27;,\n",
       "                                                                                        &#x27;dev_id&#x27;])),\n",
       "                                                 (&#x27;imputer&#x27;, SimpleImputer()),\n",
       "                                                 (&#x27;scaler&#x27;, StandardScaler())]),\n",
       "                                 []),\n",
       "                                (&#x27;categorical&#x27;,\n",
       "                                 Pipeline(steps=[(&#x27;column_dropper&#x27;,\n",
       "                                                  DropColumnsTransformer(attrs_to_drop=[&#x27;...\n",
       "                                  &#x27;adv_prim_id&#x27;, &#x27;dev_id&#x27;, &#x27;inter_type_cd&#x27;,\n",
       "                                  &#x27;slot_id&#x27;, &#x27;spread_app_id&#x27;, &#x27;tags&#x27;,\n",
       "                                  &#x27;app_first_class&#x27;, &#x27;app_second_class&#x27;, &#x27;age&#x27;,\n",
       "                                  &#x27;city&#x27;, &#x27;city_rank&#x27;, &#x27;device_name&#x27;,\n",
       "                                  &#x27;device_size&#x27;, &#x27;career&#x27;, &#x27;gender&#x27;, &#x27;net_type&#x27;,\n",
       "                                  &#x27;residence&#x27;, &#x27;his_app_size&#x27;,\n",
       "                                  &#x27;his_on_shelf_time&#x27;, &#x27;app_score&#x27;, &#x27;emui_dev&#x27;,\n",
       "                                  &#x27;list_time&#x27;, &#x27;device_price&#x27;,\n",
       "                                  &#x27;up_life_duration&#x27;, &#x27;up_membership_grade&#x27;,\n",
       "                                  &#x27;membership_life_duration&#x27;, ...])])</pre><b>In a Jupyter environment, please rerun this cell to show the HTML representation or trust the notebook. <br />On GitHub, the HTML representation is unable to render, please try loading this page with nbviewer.org.</b></div><div class=\"sk-container\" hidden><div class=\"sk-item sk-dashed-wrapped\"><div class=\"sk-label-container\"><div class=\"sk-label sk-toggleable\"><input class=\"sk-toggleable__control sk-hidden--visually\" id=\"sk-estimator-id-1\" type=\"checkbox\" ><label for=\"sk-estimator-id-1\" class=\"sk-toggleable__label sk-toggleable__label-arrow\">ColumnTransformer</label><div class=\"sk-toggleable__content\"><pre>ColumnTransformer(transformers=[(&#x27;numerical&#x27;,\n",
       "                                 Pipeline(steps=[(&#x27;column_dropper&#x27;,\n",
       "                                                  DropColumnsTransformer(attrs_to_drop=[&#x27;uid&#x27;,\n",
       "                                                                                        &#x27;app_score&#x27;,\n",
       "                                                                                        &#x27;his_on_shelf_time&#x27;,\n",
       "                                                                                        &#x27;task_id&#x27;,\n",
       "                                                                                        &#x27;spread_app_id&#x27;,\n",
       "                                                                                        &#x27;tags&#x27;,\n",
       "                                                                                        &#x27;dev_id&#x27;])),\n",
       "                                                 (&#x27;imputer&#x27;, SimpleImputer()),\n",
       "                                                 (&#x27;scaler&#x27;, StandardScaler())]),\n",
       "                                 []),\n",
       "                                (&#x27;categorical&#x27;,\n",
       "                                 Pipeline(steps=[(&#x27;column_dropper&#x27;,\n",
       "                                                  DropColumnsTransformer(attrs_to_drop=[&#x27;...\n",
       "                                  &#x27;adv_prim_id&#x27;, &#x27;dev_id&#x27;, &#x27;inter_type_cd&#x27;,\n",
       "                                  &#x27;slot_id&#x27;, &#x27;spread_app_id&#x27;, &#x27;tags&#x27;,\n",
       "                                  &#x27;app_first_class&#x27;, &#x27;app_second_class&#x27;, &#x27;age&#x27;,\n",
       "                                  &#x27;city&#x27;, &#x27;city_rank&#x27;, &#x27;device_name&#x27;,\n",
       "                                  &#x27;device_size&#x27;, &#x27;career&#x27;, &#x27;gender&#x27;, &#x27;net_type&#x27;,\n",
       "                                  &#x27;residence&#x27;, &#x27;his_app_size&#x27;,\n",
       "                                  &#x27;his_on_shelf_time&#x27;, &#x27;app_score&#x27;, &#x27;emui_dev&#x27;,\n",
       "                                  &#x27;list_time&#x27;, &#x27;device_price&#x27;,\n",
       "                                  &#x27;up_life_duration&#x27;, &#x27;up_membership_grade&#x27;,\n",
       "                                  &#x27;membership_life_duration&#x27;, ...])])</pre></div></div></div><div class=\"sk-parallel\"><div class=\"sk-parallel-item\"><div class=\"sk-item\"><div class=\"sk-label-container\"><div class=\"sk-label sk-toggleable\"><input class=\"sk-toggleable__control sk-hidden--visually\" id=\"sk-estimator-id-2\" type=\"checkbox\" ><label for=\"sk-estimator-id-2\" class=\"sk-toggleable__label sk-toggleable__label-arrow\">numerical</label><div class=\"sk-toggleable__content\"><pre>[]</pre></div></div></div><div class=\"sk-serial\"><div class=\"sk-item\"><div class=\"sk-serial\"><div class=\"sk-item\"><div class=\"sk-estimator sk-toggleable\"><input class=\"sk-toggleable__control sk-hidden--visually\" id=\"sk-estimator-id-3\" type=\"checkbox\" ><label for=\"sk-estimator-id-3\" class=\"sk-toggleable__label sk-toggleable__label-arrow\">DropColumnsTransformer</label><div class=\"sk-toggleable__content\"><pre>DropColumnsTransformer(attrs_to_drop=[&#x27;uid&#x27;, &#x27;app_score&#x27;, &#x27;his_on_shelf_time&#x27;,\n",
       "                                      &#x27;task_id&#x27;, &#x27;spread_app_id&#x27;, &#x27;tags&#x27;,\n",
       "                                      &#x27;dev_id&#x27;])</pre></div></div></div><div class=\"sk-item\"><div class=\"sk-estimator sk-toggleable\"><input class=\"sk-toggleable__control sk-hidden--visually\" id=\"sk-estimator-id-4\" type=\"checkbox\" ><label for=\"sk-estimator-id-4\" class=\"sk-toggleable__label sk-toggleable__label-arrow\">SimpleImputer</label><div class=\"sk-toggleable__content\"><pre>SimpleImputer()</pre></div></div></div><div class=\"sk-item\"><div class=\"sk-estimator sk-toggleable\"><input class=\"sk-toggleable__control sk-hidden--visually\" id=\"sk-estimator-id-5\" type=\"checkbox\" ><label for=\"sk-estimator-id-5\" class=\"sk-toggleable__label sk-toggleable__label-arrow\">StandardScaler</label><div class=\"sk-toggleable__content\"><pre>StandardScaler()</pre></div></div></div></div></div></div></div></div><div class=\"sk-parallel-item\"><div class=\"sk-item\"><div class=\"sk-label-container\"><div class=\"sk-label sk-toggleable\"><input class=\"sk-toggleable__control sk-hidden--visually\" id=\"sk-estimator-id-6\" type=\"checkbox\" ><label for=\"sk-estimator-id-6\" class=\"sk-toggleable__label sk-toggleable__label-arrow\">categorical</label><div class=\"sk-toggleable__content\"><pre>[&#x27;uid&#x27;, &#x27;task_id&#x27;, &#x27;adv_id&#x27;, &#x27;creat_type_cd&#x27;, &#x27;adv_prim_id&#x27;, &#x27;dev_id&#x27;, &#x27;inter_type_cd&#x27;, &#x27;slot_id&#x27;, &#x27;spread_app_id&#x27;, &#x27;tags&#x27;, &#x27;app_first_class&#x27;, &#x27;app_second_class&#x27;, &#x27;age&#x27;, &#x27;city&#x27;, &#x27;city_rank&#x27;, &#x27;device_name&#x27;, &#x27;device_size&#x27;, &#x27;career&#x27;, &#x27;gender&#x27;, &#x27;net_type&#x27;, &#x27;residence&#x27;, &#x27;his_app_size&#x27;, &#x27;his_on_shelf_time&#x27;, &#x27;app_score&#x27;, &#x27;emui_dev&#x27;, &#x27;list_time&#x27;, &#x27;device_price&#x27;, &#x27;up_life_duration&#x27;, &#x27;up_membership_grade&#x27;, &#x27;membership_life_duration&#x27;, &#x27;consume_purchase&#x27;, &#x27;communication_onlinerate&#x27;, &#x27;communication_avgonline_30d&#x27;, &#x27;indu_name&#x27;, &#x27;pt_d&#x27;]</pre></div></div></div><div class=\"sk-serial\"><div class=\"sk-item\"><div class=\"sk-serial\"><div class=\"sk-item\"><div class=\"sk-estimator sk-toggleable\"><input class=\"sk-toggleable__control sk-hidden--visually\" id=\"sk-estimator-id-7\" type=\"checkbox\" ><label for=\"sk-estimator-id-7\" class=\"sk-toggleable__label sk-toggleable__label-arrow\">DropColumnsTransformer</label><div class=\"sk-toggleable__content\"><pre>DropColumnsTransformer(attrs_to_drop=[&#x27;uid&#x27;, &#x27;app_score&#x27;, &#x27;his_on_shelf_time&#x27;,\n",
       "                                      &#x27;task_id&#x27;, &#x27;spread_app_id&#x27;, &#x27;tags&#x27;,\n",
       "                                      &#x27;dev_id&#x27;])</pre></div></div></div><div class=\"sk-item\"><div class=\"sk-estimator sk-toggleable\"><input class=\"sk-toggleable__control sk-hidden--visually\" id=\"sk-estimator-id-8\" type=\"checkbox\" ><label for=\"sk-estimator-id-8\" class=\"sk-toggleable__label sk-toggleable__label-arrow\">SimpleImputer</label><div class=\"sk-toggleable__content\"><pre>SimpleImputer(strategy=&#x27;most_frequent&#x27;)</pre></div></div></div><div class=\"sk-item\"><div class=\"sk-estimator sk-toggleable\"><input class=\"sk-toggleable__control sk-hidden--visually\" id=\"sk-estimator-id-9\" type=\"checkbox\" ><label for=\"sk-estimator-id-9\" class=\"sk-toggleable__label sk-toggleable__label-arrow\">TargetEncoder</label><div class=\"sk-toggleable__content\"><pre>TargetEncoder(random_state=42, target_type=&#x27;binary&#x27;)</pre></div></div></div><div class=\"sk-item\"><div class=\"sk-estimator sk-toggleable\"><input class=\"sk-toggleable__control sk-hidden--visually\" id=\"sk-estimator-id-10\" type=\"checkbox\" ><label for=\"sk-estimator-id-10\" class=\"sk-toggleable__label sk-toggleable__label-arrow\">StandardScaler</label><div class=\"sk-toggleable__content\"><pre>StandardScaler()</pre></div></div></div></div></div></div></div></div></div></div></div></div>"
      ],
      "text/plain": [
       "ColumnTransformer(transformers=[('numerical',\n",
       "                                 Pipeline(steps=[('column_dropper',\n",
       "                                                  DropColumnsTransformer(attrs_to_drop=['uid',\n",
       "                                                                                        'app_score',\n",
       "                                                                                        'his_on_shelf_time',\n",
       "                                                                                        'task_id',\n",
       "                                                                                        'spread_app_id',\n",
       "                                                                                        'tags',\n",
       "                                                                                        'dev_id'])),\n",
       "                                                 ('imputer', SimpleImputer()),\n",
       "                                                 ('scaler', StandardScaler())]),\n",
       "                                 []),\n",
       "                                ('categorical',\n",
       "                                 Pipeline(steps=[('column_dropper',\n",
       "                                                  DropColumnsTransformer(attrs_to_drop=['...\n",
       "                                  'adv_prim_id', 'dev_id', 'inter_type_cd',\n",
       "                                  'slot_id', 'spread_app_id', 'tags',\n",
       "                                  'app_first_class', 'app_second_class', 'age',\n",
       "                                  'city', 'city_rank', 'device_name',\n",
       "                                  'device_size', 'career', 'gender', 'net_type',\n",
       "                                  'residence', 'his_app_size',\n",
       "                                  'his_on_shelf_time', 'app_score', 'emui_dev',\n",
       "                                  'list_time', 'device_price',\n",
       "                                  'up_life_duration', 'up_membership_grade',\n",
       "                                  'membership_life_duration', ...])])"
      ]
     },
     "execution_count": 8,
     "metadata": {},
     "output_type": "execute_result"
    }
   ],
   "source": [
    "preprocessor = bin_class_utils.build_preprocessing_pipeline(numerical_attr_list, categorical_attr_list, ATTRS_TO_DROP, TARGET_TYPE, TARGET_ENCODING_RANDOM_STATE)\n",
    "preprocessor"
   ]
  },
  {
   "cell_type": "markdown",
   "id": "994ec212",
   "metadata": {},
   "source": [
    "#### 5. Define default model"
   ]
  },
  {
   "cell_type": "code",
   "execution_count": 9,
   "id": "38e8f2ef",
   "metadata": {
    "ExecuteTime": {
     "end_time": "2023-12-11T02:13:38.389014Z",
     "start_time": "2023-12-11T02:13:38.339970Z"
    }
   },
   "outputs": [
    {
     "data": {
      "text/html": [
       "<style>#sk-container-id-2 {color: black;}#sk-container-id-2 pre{padding: 0;}#sk-container-id-2 div.sk-toggleable {background-color: white;}#sk-container-id-2 label.sk-toggleable__label {cursor: pointer;display: block;width: 100%;margin-bottom: 0;padding: 0.3em;box-sizing: border-box;text-align: center;}#sk-container-id-2 label.sk-toggleable__label-arrow:before {content: \"▸\";float: left;margin-right: 0.25em;color: #696969;}#sk-container-id-2 label.sk-toggleable__label-arrow:hover:before {color: black;}#sk-container-id-2 div.sk-estimator:hover label.sk-toggleable__label-arrow:before {color: black;}#sk-container-id-2 div.sk-toggleable__content {max-height: 0;max-width: 0;overflow: hidden;text-align: left;background-color: #f0f8ff;}#sk-container-id-2 div.sk-toggleable__content pre {margin: 0.2em;color: black;border-radius: 0.25em;background-color: #f0f8ff;}#sk-container-id-2 input.sk-toggleable__control:checked~div.sk-toggleable__content {max-height: 200px;max-width: 100%;overflow: auto;}#sk-container-id-2 input.sk-toggleable__control:checked~label.sk-toggleable__label-arrow:before {content: \"▾\";}#sk-container-id-2 div.sk-estimator input.sk-toggleable__control:checked~label.sk-toggleable__label {background-color: #d4ebff;}#sk-container-id-2 div.sk-label input.sk-toggleable__control:checked~label.sk-toggleable__label {background-color: #d4ebff;}#sk-container-id-2 input.sk-hidden--visually {border: 0;clip: rect(1px 1px 1px 1px);clip: rect(1px, 1px, 1px, 1px);height: 1px;margin: -1px;overflow: hidden;padding: 0;position: absolute;width: 1px;}#sk-container-id-2 div.sk-estimator {font-family: monospace;background-color: #f0f8ff;border: 1px dotted black;border-radius: 0.25em;box-sizing: border-box;margin-bottom: 0.5em;}#sk-container-id-2 div.sk-estimator:hover {background-color: #d4ebff;}#sk-container-id-2 div.sk-parallel-item::after {content: \"\";width: 100%;border-bottom: 1px solid gray;flex-grow: 1;}#sk-container-id-2 div.sk-label:hover label.sk-toggleable__label {background-color: #d4ebff;}#sk-container-id-2 div.sk-serial::before {content: \"\";position: absolute;border-left: 1px solid gray;box-sizing: border-box;top: 0;bottom: 0;left: 50%;z-index: 0;}#sk-container-id-2 div.sk-serial {display: flex;flex-direction: column;align-items: center;background-color: white;padding-right: 0.2em;padding-left: 0.2em;position: relative;}#sk-container-id-2 div.sk-item {position: relative;z-index: 1;}#sk-container-id-2 div.sk-parallel {display: flex;align-items: stretch;justify-content: center;background-color: white;position: relative;}#sk-container-id-2 div.sk-item::before, #sk-container-id-2 div.sk-parallel-item::before {content: \"\";position: absolute;border-left: 1px solid gray;box-sizing: border-box;top: 0;bottom: 0;left: 50%;z-index: -1;}#sk-container-id-2 div.sk-parallel-item {display: flex;flex-direction: column;z-index: 1;position: relative;background-color: white;}#sk-container-id-2 div.sk-parallel-item:first-child::after {align-self: flex-end;width: 50%;}#sk-container-id-2 div.sk-parallel-item:last-child::after {align-self: flex-start;width: 50%;}#sk-container-id-2 div.sk-parallel-item:only-child::after {width: 0;}#sk-container-id-2 div.sk-dashed-wrapped {border: 1px dashed gray;margin: 0 0.4em 0.5em 0.4em;box-sizing: border-box;padding-bottom: 0.4em;background-color: white;}#sk-container-id-2 div.sk-label label {font-family: monospace;font-weight: bold;display: inline-block;line-height: 1.2em;}#sk-container-id-2 div.sk-label-container {text-align: center;}#sk-container-id-2 div.sk-container {/* jupyter's `normalize.less` sets `[hidden] { display: none; }` but bootstrap.min.css set `[hidden] { display: none !important; }` so we also need the `!important` here to be able to override the default hidden behavior on the sphinx rendered scikit-learn.org. See: https://github.com/scikit-learn/scikit-learn/issues/21755 */display: inline-block !important;position: relative;}#sk-container-id-2 div.sk-text-repr-fallback {display: none;}</style><div id=\"sk-container-id-2\" class=\"sk-top-container\"><div class=\"sk-text-repr-fallback\"><pre>GradientBoostingClassifier(random_state=42)</pre><b>In a Jupyter environment, please rerun this cell to show the HTML representation or trust the notebook. <br />On GitHub, the HTML representation is unable to render, please try loading this page with nbviewer.org.</b></div><div class=\"sk-container\" hidden><div class=\"sk-item\"><div class=\"sk-estimator sk-toggleable\"><input class=\"sk-toggleable__control sk-hidden--visually\" id=\"sk-estimator-id-11\" type=\"checkbox\" checked><label for=\"sk-estimator-id-11\" class=\"sk-toggleable__label sk-toggleable__label-arrow\">GradientBoostingClassifier</label><div class=\"sk-toggleable__content\"><pre>GradientBoostingClassifier(random_state=42)</pre></div></div></div></div></div>"
      ],
      "text/plain": [
       "GradientBoostingClassifier(random_state=42)"
      ]
     },
     "execution_count": 9,
     "metadata": {},
     "output_type": "execute_result"
    }
   ],
   "source": [
    "estimator = bin_class_utils.get_default_model(ESTIMATOR_NAME, MODEL_RANDOM_STATE)\n",
    "estimator"
   ]
  },
  {
   "cell_type": "markdown",
   "id": "80b77fe8",
   "metadata": {},
   "source": [
    "#### 6. Define composite model"
   ]
  },
  {
   "cell_type": "code",
   "execution_count": 10,
   "id": "478a9413",
   "metadata": {
    "ExecuteTime": {
     "end_time": "2023-12-11T02:13:38.399834Z",
     "start_time": "2023-12-11T02:13:38.361207Z"
    }
   },
   "outputs": [
    {
     "data": {
      "text/html": [
       "<style>#sk-container-id-3 {color: black;}#sk-container-id-3 pre{padding: 0;}#sk-container-id-3 div.sk-toggleable {background-color: white;}#sk-container-id-3 label.sk-toggleable__label {cursor: pointer;display: block;width: 100%;margin-bottom: 0;padding: 0.3em;box-sizing: border-box;text-align: center;}#sk-container-id-3 label.sk-toggleable__label-arrow:before {content: \"▸\";float: left;margin-right: 0.25em;color: #696969;}#sk-container-id-3 label.sk-toggleable__label-arrow:hover:before {color: black;}#sk-container-id-3 div.sk-estimator:hover label.sk-toggleable__label-arrow:before {color: black;}#sk-container-id-3 div.sk-toggleable__content {max-height: 0;max-width: 0;overflow: hidden;text-align: left;background-color: #f0f8ff;}#sk-container-id-3 div.sk-toggleable__content pre {margin: 0.2em;color: black;border-radius: 0.25em;background-color: #f0f8ff;}#sk-container-id-3 input.sk-toggleable__control:checked~div.sk-toggleable__content {max-height: 200px;max-width: 100%;overflow: auto;}#sk-container-id-3 input.sk-toggleable__control:checked~label.sk-toggleable__label-arrow:before {content: \"▾\";}#sk-container-id-3 div.sk-estimator input.sk-toggleable__control:checked~label.sk-toggleable__label {background-color: #d4ebff;}#sk-container-id-3 div.sk-label input.sk-toggleable__control:checked~label.sk-toggleable__label {background-color: #d4ebff;}#sk-container-id-3 input.sk-hidden--visually {border: 0;clip: rect(1px 1px 1px 1px);clip: rect(1px, 1px, 1px, 1px);height: 1px;margin: -1px;overflow: hidden;padding: 0;position: absolute;width: 1px;}#sk-container-id-3 div.sk-estimator {font-family: monospace;background-color: #f0f8ff;border: 1px dotted black;border-radius: 0.25em;box-sizing: border-box;margin-bottom: 0.5em;}#sk-container-id-3 div.sk-estimator:hover {background-color: #d4ebff;}#sk-container-id-3 div.sk-parallel-item::after {content: \"\";width: 100%;border-bottom: 1px solid gray;flex-grow: 1;}#sk-container-id-3 div.sk-label:hover label.sk-toggleable__label {background-color: #d4ebff;}#sk-container-id-3 div.sk-serial::before {content: \"\";position: absolute;border-left: 1px solid gray;box-sizing: border-box;top: 0;bottom: 0;left: 50%;z-index: 0;}#sk-container-id-3 div.sk-serial {display: flex;flex-direction: column;align-items: center;background-color: white;padding-right: 0.2em;padding-left: 0.2em;position: relative;}#sk-container-id-3 div.sk-item {position: relative;z-index: 1;}#sk-container-id-3 div.sk-parallel {display: flex;align-items: stretch;justify-content: center;background-color: white;position: relative;}#sk-container-id-3 div.sk-item::before, #sk-container-id-3 div.sk-parallel-item::before {content: \"\";position: absolute;border-left: 1px solid gray;box-sizing: border-box;top: 0;bottom: 0;left: 50%;z-index: -1;}#sk-container-id-3 div.sk-parallel-item {display: flex;flex-direction: column;z-index: 1;position: relative;background-color: white;}#sk-container-id-3 div.sk-parallel-item:first-child::after {align-self: flex-end;width: 50%;}#sk-container-id-3 div.sk-parallel-item:last-child::after {align-self: flex-start;width: 50%;}#sk-container-id-3 div.sk-parallel-item:only-child::after {width: 0;}#sk-container-id-3 div.sk-dashed-wrapped {border: 1px dashed gray;margin: 0 0.4em 0.5em 0.4em;box-sizing: border-box;padding-bottom: 0.4em;background-color: white;}#sk-container-id-3 div.sk-label label {font-family: monospace;font-weight: bold;display: inline-block;line-height: 1.2em;}#sk-container-id-3 div.sk-label-container {text-align: center;}#sk-container-id-3 div.sk-container {/* jupyter's `normalize.less` sets `[hidden] { display: none; }` but bootstrap.min.css set `[hidden] { display: none !important; }` so we also need the `!important` here to be able to override the default hidden behavior on the sphinx rendered scikit-learn.org. See: https://github.com/scikit-learn/scikit-learn/issues/21755 */display: inline-block !important;position: relative;}#sk-container-id-3 div.sk-text-repr-fallback {display: none;}</style><div id=\"sk-container-id-3\" class=\"sk-top-container\"><div class=\"sk-text-repr-fallback\"><pre>Pipeline(steps=[(&#x27;preprocessor&#x27;,\n",
       "                 ColumnTransformer(transformers=[(&#x27;numerical&#x27;,\n",
       "                                                  Pipeline(steps=[(&#x27;column_dropper&#x27;,\n",
       "                                                                   DropColumnsTransformer(attrs_to_drop=[&#x27;uid&#x27;,\n",
       "                                                                                                         &#x27;app_score&#x27;,\n",
       "                                                                                                         &#x27;his_on_shelf_time&#x27;,\n",
       "                                                                                                         &#x27;task_id&#x27;,\n",
       "                                                                                                         &#x27;spread_app_id&#x27;,\n",
       "                                                                                                         &#x27;tags&#x27;,\n",
       "                                                                                                         &#x27;dev_id&#x27;])),\n",
       "                                                                  (&#x27;imputer&#x27;,\n",
       "                                                                   SimpleImputer()),\n",
       "                                                                  (&#x27;scaler&#x27;,\n",
       "                                                                   StandardScaler())]),\n",
       "                                                  []),\n",
       "                                                 (&#x27;categorical&#x27;,\n",
       "                                                  Pipeline(steps=[(&#x27;column_dropper&#x27;,\n",
       "                                                                   DropCol...\n",
       "                                                   &#x27;app_first_class&#x27;,\n",
       "                                                   &#x27;app_second_class&#x27;, &#x27;age&#x27;,\n",
       "                                                   &#x27;city&#x27;, &#x27;city_rank&#x27;,\n",
       "                                                   &#x27;device_name&#x27;, &#x27;device_size&#x27;,\n",
       "                                                   &#x27;career&#x27;, &#x27;gender&#x27;,\n",
       "                                                   &#x27;net_type&#x27;, &#x27;residence&#x27;,\n",
       "                                                   &#x27;his_app_size&#x27;,\n",
       "                                                   &#x27;his_on_shelf_time&#x27;,\n",
       "                                                   &#x27;app_score&#x27;, &#x27;emui_dev&#x27;,\n",
       "                                                   &#x27;list_time&#x27;, &#x27;device_price&#x27;,\n",
       "                                                   &#x27;up_life_duration&#x27;,\n",
       "                                                   &#x27;up_membership_grade&#x27;,\n",
       "                                                   &#x27;membership_life_duration&#x27;, ...])])),\n",
       "                (&#x27;estimator&#x27;, GradientBoostingClassifier(random_state=42))])</pre><b>In a Jupyter environment, please rerun this cell to show the HTML representation or trust the notebook. <br />On GitHub, the HTML representation is unable to render, please try loading this page with nbviewer.org.</b></div><div class=\"sk-container\" hidden><div class=\"sk-item sk-dashed-wrapped\"><div class=\"sk-label-container\"><div class=\"sk-label sk-toggleable\"><input class=\"sk-toggleable__control sk-hidden--visually\" id=\"sk-estimator-id-12\" type=\"checkbox\" ><label for=\"sk-estimator-id-12\" class=\"sk-toggleable__label sk-toggleable__label-arrow\">Pipeline</label><div class=\"sk-toggleable__content\"><pre>Pipeline(steps=[(&#x27;preprocessor&#x27;,\n",
       "                 ColumnTransformer(transformers=[(&#x27;numerical&#x27;,\n",
       "                                                  Pipeline(steps=[(&#x27;column_dropper&#x27;,\n",
       "                                                                   DropColumnsTransformer(attrs_to_drop=[&#x27;uid&#x27;,\n",
       "                                                                                                         &#x27;app_score&#x27;,\n",
       "                                                                                                         &#x27;his_on_shelf_time&#x27;,\n",
       "                                                                                                         &#x27;task_id&#x27;,\n",
       "                                                                                                         &#x27;spread_app_id&#x27;,\n",
       "                                                                                                         &#x27;tags&#x27;,\n",
       "                                                                                                         &#x27;dev_id&#x27;])),\n",
       "                                                                  (&#x27;imputer&#x27;,\n",
       "                                                                   SimpleImputer()),\n",
       "                                                                  (&#x27;scaler&#x27;,\n",
       "                                                                   StandardScaler())]),\n",
       "                                                  []),\n",
       "                                                 (&#x27;categorical&#x27;,\n",
       "                                                  Pipeline(steps=[(&#x27;column_dropper&#x27;,\n",
       "                                                                   DropCol...\n",
       "                                                   &#x27;app_first_class&#x27;,\n",
       "                                                   &#x27;app_second_class&#x27;, &#x27;age&#x27;,\n",
       "                                                   &#x27;city&#x27;, &#x27;city_rank&#x27;,\n",
       "                                                   &#x27;device_name&#x27;, &#x27;device_size&#x27;,\n",
       "                                                   &#x27;career&#x27;, &#x27;gender&#x27;,\n",
       "                                                   &#x27;net_type&#x27;, &#x27;residence&#x27;,\n",
       "                                                   &#x27;his_app_size&#x27;,\n",
       "                                                   &#x27;his_on_shelf_time&#x27;,\n",
       "                                                   &#x27;app_score&#x27;, &#x27;emui_dev&#x27;,\n",
       "                                                   &#x27;list_time&#x27;, &#x27;device_price&#x27;,\n",
       "                                                   &#x27;up_life_duration&#x27;,\n",
       "                                                   &#x27;up_membership_grade&#x27;,\n",
       "                                                   &#x27;membership_life_duration&#x27;, ...])])),\n",
       "                (&#x27;estimator&#x27;, GradientBoostingClassifier(random_state=42))])</pre></div></div></div><div class=\"sk-serial\"><div class=\"sk-item sk-dashed-wrapped\"><div class=\"sk-label-container\"><div class=\"sk-label sk-toggleable\"><input class=\"sk-toggleable__control sk-hidden--visually\" id=\"sk-estimator-id-13\" type=\"checkbox\" ><label for=\"sk-estimator-id-13\" class=\"sk-toggleable__label sk-toggleable__label-arrow\">preprocessor: ColumnTransformer</label><div class=\"sk-toggleable__content\"><pre>ColumnTransformer(transformers=[(&#x27;numerical&#x27;,\n",
       "                                 Pipeline(steps=[(&#x27;column_dropper&#x27;,\n",
       "                                                  DropColumnsTransformer(attrs_to_drop=[&#x27;uid&#x27;,\n",
       "                                                                                        &#x27;app_score&#x27;,\n",
       "                                                                                        &#x27;his_on_shelf_time&#x27;,\n",
       "                                                                                        &#x27;task_id&#x27;,\n",
       "                                                                                        &#x27;spread_app_id&#x27;,\n",
       "                                                                                        &#x27;tags&#x27;,\n",
       "                                                                                        &#x27;dev_id&#x27;])),\n",
       "                                                 (&#x27;imputer&#x27;, SimpleImputer()),\n",
       "                                                 (&#x27;scaler&#x27;, StandardScaler())]),\n",
       "                                 []),\n",
       "                                (&#x27;categorical&#x27;,\n",
       "                                 Pipeline(steps=[(&#x27;column_dropper&#x27;,\n",
       "                                                  DropColumnsTransformer(attrs_to_drop=[&#x27;...\n",
       "                                  &#x27;adv_prim_id&#x27;, &#x27;dev_id&#x27;, &#x27;inter_type_cd&#x27;,\n",
       "                                  &#x27;slot_id&#x27;, &#x27;spread_app_id&#x27;, &#x27;tags&#x27;,\n",
       "                                  &#x27;app_first_class&#x27;, &#x27;app_second_class&#x27;, &#x27;age&#x27;,\n",
       "                                  &#x27;city&#x27;, &#x27;city_rank&#x27;, &#x27;device_name&#x27;,\n",
       "                                  &#x27;device_size&#x27;, &#x27;career&#x27;, &#x27;gender&#x27;, &#x27;net_type&#x27;,\n",
       "                                  &#x27;residence&#x27;, &#x27;his_app_size&#x27;,\n",
       "                                  &#x27;his_on_shelf_time&#x27;, &#x27;app_score&#x27;, &#x27;emui_dev&#x27;,\n",
       "                                  &#x27;list_time&#x27;, &#x27;device_price&#x27;,\n",
       "                                  &#x27;up_life_duration&#x27;, &#x27;up_membership_grade&#x27;,\n",
       "                                  &#x27;membership_life_duration&#x27;, ...])])</pre></div></div></div><div class=\"sk-parallel\"><div class=\"sk-parallel-item\"><div class=\"sk-item\"><div class=\"sk-label-container\"><div class=\"sk-label sk-toggleable\"><input class=\"sk-toggleable__control sk-hidden--visually\" id=\"sk-estimator-id-14\" type=\"checkbox\" ><label for=\"sk-estimator-id-14\" class=\"sk-toggleable__label sk-toggleable__label-arrow\">numerical</label><div class=\"sk-toggleable__content\"><pre>[]</pre></div></div></div><div class=\"sk-serial\"><div class=\"sk-item\"><div class=\"sk-serial\"><div class=\"sk-item\"><div class=\"sk-estimator sk-toggleable\"><input class=\"sk-toggleable__control sk-hidden--visually\" id=\"sk-estimator-id-15\" type=\"checkbox\" ><label for=\"sk-estimator-id-15\" class=\"sk-toggleable__label sk-toggleable__label-arrow\">DropColumnsTransformer</label><div class=\"sk-toggleable__content\"><pre>DropColumnsTransformer(attrs_to_drop=[&#x27;uid&#x27;, &#x27;app_score&#x27;, &#x27;his_on_shelf_time&#x27;,\n",
       "                                      &#x27;task_id&#x27;, &#x27;spread_app_id&#x27;, &#x27;tags&#x27;,\n",
       "                                      &#x27;dev_id&#x27;])</pre></div></div></div><div class=\"sk-item\"><div class=\"sk-estimator sk-toggleable\"><input class=\"sk-toggleable__control sk-hidden--visually\" id=\"sk-estimator-id-16\" type=\"checkbox\" ><label for=\"sk-estimator-id-16\" class=\"sk-toggleable__label sk-toggleable__label-arrow\">SimpleImputer</label><div class=\"sk-toggleable__content\"><pre>SimpleImputer()</pre></div></div></div><div class=\"sk-item\"><div class=\"sk-estimator sk-toggleable\"><input class=\"sk-toggleable__control sk-hidden--visually\" id=\"sk-estimator-id-17\" type=\"checkbox\" ><label for=\"sk-estimator-id-17\" class=\"sk-toggleable__label sk-toggleable__label-arrow\">StandardScaler</label><div class=\"sk-toggleable__content\"><pre>StandardScaler()</pre></div></div></div></div></div></div></div></div><div class=\"sk-parallel-item\"><div class=\"sk-item\"><div class=\"sk-label-container\"><div class=\"sk-label sk-toggleable\"><input class=\"sk-toggleable__control sk-hidden--visually\" id=\"sk-estimator-id-18\" type=\"checkbox\" ><label for=\"sk-estimator-id-18\" class=\"sk-toggleable__label sk-toggleable__label-arrow\">categorical</label><div class=\"sk-toggleable__content\"><pre>[&#x27;uid&#x27;, &#x27;task_id&#x27;, &#x27;adv_id&#x27;, &#x27;creat_type_cd&#x27;, &#x27;adv_prim_id&#x27;, &#x27;dev_id&#x27;, &#x27;inter_type_cd&#x27;, &#x27;slot_id&#x27;, &#x27;spread_app_id&#x27;, &#x27;tags&#x27;, &#x27;app_first_class&#x27;, &#x27;app_second_class&#x27;, &#x27;age&#x27;, &#x27;city&#x27;, &#x27;city_rank&#x27;, &#x27;device_name&#x27;, &#x27;device_size&#x27;, &#x27;career&#x27;, &#x27;gender&#x27;, &#x27;net_type&#x27;, &#x27;residence&#x27;, &#x27;his_app_size&#x27;, &#x27;his_on_shelf_time&#x27;, &#x27;app_score&#x27;, &#x27;emui_dev&#x27;, &#x27;list_time&#x27;, &#x27;device_price&#x27;, &#x27;up_life_duration&#x27;, &#x27;up_membership_grade&#x27;, &#x27;membership_life_duration&#x27;, &#x27;consume_purchase&#x27;, &#x27;communication_onlinerate&#x27;, &#x27;communication_avgonline_30d&#x27;, &#x27;indu_name&#x27;, &#x27;pt_d&#x27;]</pre></div></div></div><div class=\"sk-serial\"><div class=\"sk-item\"><div class=\"sk-serial\"><div class=\"sk-item\"><div class=\"sk-estimator sk-toggleable\"><input class=\"sk-toggleable__control sk-hidden--visually\" id=\"sk-estimator-id-19\" type=\"checkbox\" ><label for=\"sk-estimator-id-19\" class=\"sk-toggleable__label sk-toggleable__label-arrow\">DropColumnsTransformer</label><div class=\"sk-toggleable__content\"><pre>DropColumnsTransformer(attrs_to_drop=[&#x27;uid&#x27;, &#x27;app_score&#x27;, &#x27;his_on_shelf_time&#x27;,\n",
       "                                      &#x27;task_id&#x27;, &#x27;spread_app_id&#x27;, &#x27;tags&#x27;,\n",
       "                                      &#x27;dev_id&#x27;])</pre></div></div></div><div class=\"sk-item\"><div class=\"sk-estimator sk-toggleable\"><input class=\"sk-toggleable__control sk-hidden--visually\" id=\"sk-estimator-id-20\" type=\"checkbox\" ><label for=\"sk-estimator-id-20\" class=\"sk-toggleable__label sk-toggleable__label-arrow\">SimpleImputer</label><div class=\"sk-toggleable__content\"><pre>SimpleImputer(strategy=&#x27;most_frequent&#x27;)</pre></div></div></div><div class=\"sk-item\"><div class=\"sk-estimator sk-toggleable\"><input class=\"sk-toggleable__control sk-hidden--visually\" id=\"sk-estimator-id-21\" type=\"checkbox\" ><label for=\"sk-estimator-id-21\" class=\"sk-toggleable__label sk-toggleable__label-arrow\">TargetEncoder</label><div class=\"sk-toggleable__content\"><pre>TargetEncoder(random_state=42, target_type=&#x27;binary&#x27;)</pre></div></div></div><div class=\"sk-item\"><div class=\"sk-estimator sk-toggleable\"><input class=\"sk-toggleable__control sk-hidden--visually\" id=\"sk-estimator-id-22\" type=\"checkbox\" ><label for=\"sk-estimator-id-22\" class=\"sk-toggleable__label sk-toggleable__label-arrow\">StandardScaler</label><div class=\"sk-toggleable__content\"><pre>StandardScaler()</pre></div></div></div></div></div></div></div></div></div></div><div class=\"sk-item\"><div class=\"sk-estimator sk-toggleable\"><input class=\"sk-toggleable__control sk-hidden--visually\" id=\"sk-estimator-id-23\" type=\"checkbox\" ><label for=\"sk-estimator-id-23\" class=\"sk-toggleable__label sk-toggleable__label-arrow\">GradientBoostingClassifier</label><div class=\"sk-toggleable__content\"><pre>GradientBoostingClassifier(random_state=42)</pre></div></div></div></div></div></div></div>"
      ],
      "text/plain": [
       "Pipeline(steps=[('preprocessor',\n",
       "                 ColumnTransformer(transformers=[('numerical',\n",
       "                                                  Pipeline(steps=[('column_dropper',\n",
       "                                                                   DropColumnsTransformer(attrs_to_drop=['uid',\n",
       "                                                                                                         'app_score',\n",
       "                                                                                                         'his_on_shelf_time',\n",
       "                                                                                                         'task_id',\n",
       "                                                                                                         'spread_app_id',\n",
       "                                                                                                         'tags',\n",
       "                                                                                                         'dev_id'])),\n",
       "                                                                  ('imputer',\n",
       "                                                                   SimpleImputer()),\n",
       "                                                                  ('scaler',\n",
       "                                                                   StandardScaler())]),\n",
       "                                                  []),\n",
       "                                                 ('categorical',\n",
       "                                                  Pipeline(steps=[('column_dropper',\n",
       "                                                                   DropCol...\n",
       "                                                   'app_first_class',\n",
       "                                                   'app_second_class', 'age',\n",
       "                                                   'city', 'city_rank',\n",
       "                                                   'device_name', 'device_size',\n",
       "                                                   'career', 'gender',\n",
       "                                                   'net_type', 'residence',\n",
       "                                                   'his_app_size',\n",
       "                                                   'his_on_shelf_time',\n",
       "                                                   'app_score', 'emui_dev',\n",
       "                                                   'list_time', 'device_price',\n",
       "                                                   'up_life_duration',\n",
       "                                                   'up_membership_grade',\n",
       "                                                   'membership_life_duration', ...])])),\n",
       "                ('estimator', GradientBoostingClassifier(random_state=42))])"
      ]
     },
     "execution_count": 10,
     "metadata": {},
     "output_type": "execute_result"
    }
   ],
   "source": [
    "composite_estimator = Pipeline(steps=[\n",
    "    ('preprocessor', preprocessor), \n",
    "    ('estimator', estimator)\n",
    "])\n",
    "composite_estimator"
   ]
  },
  {
   "cell_type": "code",
   "execution_count": 11,
   "id": "ddf277b4",
   "metadata": {
    "ExecuteTime": {
     "end_time": "2023-12-11T02:13:38.399963Z",
     "start_time": "2023-12-11T02:13:38.380946Z"
    }
   },
   "outputs": [],
   "source": [
    "train_cap_x_df, train_y_df = train_df_sample.drop(columns=TARGET_ATTR), train_df_sample[[TARGET_ATTR]]\n",
    "del train_df_sample"
   ]
  },
  {
   "cell_type": "code",
   "execution_count": 12,
   "id": "0d52203f-99c0-471c-84f0-92979d969b8d",
   "metadata": {
    "ExecuteTime": {
     "end_time": "2023-12-11T02:13:45.217791Z",
     "start_time": "2023-12-11T02:13:38.388351Z"
    }
   },
   "outputs": [
    {
     "data": {
      "text/html": [
       "<style>#sk-container-id-4 {color: black;}#sk-container-id-4 pre{padding: 0;}#sk-container-id-4 div.sk-toggleable {background-color: white;}#sk-container-id-4 label.sk-toggleable__label {cursor: pointer;display: block;width: 100%;margin-bottom: 0;padding: 0.3em;box-sizing: border-box;text-align: center;}#sk-container-id-4 label.sk-toggleable__label-arrow:before {content: \"▸\";float: left;margin-right: 0.25em;color: #696969;}#sk-container-id-4 label.sk-toggleable__label-arrow:hover:before {color: black;}#sk-container-id-4 div.sk-estimator:hover label.sk-toggleable__label-arrow:before {color: black;}#sk-container-id-4 div.sk-toggleable__content {max-height: 0;max-width: 0;overflow: hidden;text-align: left;background-color: #f0f8ff;}#sk-container-id-4 div.sk-toggleable__content pre {margin: 0.2em;color: black;border-radius: 0.25em;background-color: #f0f8ff;}#sk-container-id-4 input.sk-toggleable__control:checked~div.sk-toggleable__content {max-height: 200px;max-width: 100%;overflow: auto;}#sk-container-id-4 input.sk-toggleable__control:checked~label.sk-toggleable__label-arrow:before {content: \"▾\";}#sk-container-id-4 div.sk-estimator input.sk-toggleable__control:checked~label.sk-toggleable__label {background-color: #d4ebff;}#sk-container-id-4 div.sk-label input.sk-toggleable__control:checked~label.sk-toggleable__label {background-color: #d4ebff;}#sk-container-id-4 input.sk-hidden--visually {border: 0;clip: rect(1px 1px 1px 1px);clip: rect(1px, 1px, 1px, 1px);height: 1px;margin: -1px;overflow: hidden;padding: 0;position: absolute;width: 1px;}#sk-container-id-4 div.sk-estimator {font-family: monospace;background-color: #f0f8ff;border: 1px dotted black;border-radius: 0.25em;box-sizing: border-box;margin-bottom: 0.5em;}#sk-container-id-4 div.sk-estimator:hover {background-color: #d4ebff;}#sk-container-id-4 div.sk-parallel-item::after {content: \"\";width: 100%;border-bottom: 1px solid gray;flex-grow: 1;}#sk-container-id-4 div.sk-label:hover label.sk-toggleable__label {background-color: #d4ebff;}#sk-container-id-4 div.sk-serial::before {content: \"\";position: absolute;border-left: 1px solid gray;box-sizing: border-box;top: 0;bottom: 0;left: 50%;z-index: 0;}#sk-container-id-4 div.sk-serial {display: flex;flex-direction: column;align-items: center;background-color: white;padding-right: 0.2em;padding-left: 0.2em;position: relative;}#sk-container-id-4 div.sk-item {position: relative;z-index: 1;}#sk-container-id-4 div.sk-parallel {display: flex;align-items: stretch;justify-content: center;background-color: white;position: relative;}#sk-container-id-4 div.sk-item::before, #sk-container-id-4 div.sk-parallel-item::before {content: \"\";position: absolute;border-left: 1px solid gray;box-sizing: border-box;top: 0;bottom: 0;left: 50%;z-index: -1;}#sk-container-id-4 div.sk-parallel-item {display: flex;flex-direction: column;z-index: 1;position: relative;background-color: white;}#sk-container-id-4 div.sk-parallel-item:first-child::after {align-self: flex-end;width: 50%;}#sk-container-id-4 div.sk-parallel-item:last-child::after {align-self: flex-start;width: 50%;}#sk-container-id-4 div.sk-parallel-item:only-child::after {width: 0;}#sk-container-id-4 div.sk-dashed-wrapped {border: 1px dashed gray;margin: 0 0.4em 0.5em 0.4em;box-sizing: border-box;padding-bottom: 0.4em;background-color: white;}#sk-container-id-4 div.sk-label label {font-family: monospace;font-weight: bold;display: inline-block;line-height: 1.2em;}#sk-container-id-4 div.sk-label-container {text-align: center;}#sk-container-id-4 div.sk-container {/* jupyter's `normalize.less` sets `[hidden] { display: none; }` but bootstrap.min.css set `[hidden] { display: none !important; }` so we also need the `!important` here to be able to override the default hidden behavior on the sphinx rendered scikit-learn.org. See: https://github.com/scikit-learn/scikit-learn/issues/21755 */display: inline-block !important;position: relative;}#sk-container-id-4 div.sk-text-repr-fallback {display: none;}</style><div id=\"sk-container-id-4\" class=\"sk-top-container\"><div class=\"sk-text-repr-fallback\"><pre>Pipeline(steps=[(&#x27;preprocessor&#x27;,\n",
       "                 ColumnTransformer(transformers=[(&#x27;numerical&#x27;,\n",
       "                                                  Pipeline(steps=[(&#x27;column_dropper&#x27;,\n",
       "                                                                   DropColumnsTransformer(attrs_to_drop=[&#x27;uid&#x27;,\n",
       "                                                                                                         &#x27;app_score&#x27;,\n",
       "                                                                                                         &#x27;his_on_shelf_time&#x27;,\n",
       "                                                                                                         &#x27;task_id&#x27;,\n",
       "                                                                                                         &#x27;spread_app_id&#x27;,\n",
       "                                                                                                         &#x27;tags&#x27;,\n",
       "                                                                                                         &#x27;dev_id&#x27;])),\n",
       "                                                                  (&#x27;imputer&#x27;,\n",
       "                                                                   SimpleImputer()),\n",
       "                                                                  (&#x27;scaler&#x27;,\n",
       "                                                                   StandardScaler())]),\n",
       "                                                  []),\n",
       "                                                 (&#x27;categorical&#x27;,\n",
       "                                                  Pipeline(steps=[(&#x27;column_dropper&#x27;,\n",
       "                                                                   DropCol...\n",
       "                                                   &#x27;app_first_class&#x27;,\n",
       "                                                   &#x27;app_second_class&#x27;, &#x27;age&#x27;,\n",
       "                                                   &#x27;city&#x27;, &#x27;city_rank&#x27;,\n",
       "                                                   &#x27;device_name&#x27;, &#x27;device_size&#x27;,\n",
       "                                                   &#x27;career&#x27;, &#x27;gender&#x27;,\n",
       "                                                   &#x27;net_type&#x27;, &#x27;residence&#x27;,\n",
       "                                                   &#x27;his_app_size&#x27;,\n",
       "                                                   &#x27;his_on_shelf_time&#x27;,\n",
       "                                                   &#x27;app_score&#x27;, &#x27;emui_dev&#x27;,\n",
       "                                                   &#x27;list_time&#x27;, &#x27;device_price&#x27;,\n",
       "                                                   &#x27;up_life_duration&#x27;,\n",
       "                                                   &#x27;up_membership_grade&#x27;,\n",
       "                                                   &#x27;membership_life_duration&#x27;, ...])])),\n",
       "                (&#x27;estimator&#x27;, GradientBoostingClassifier(random_state=42))])</pre><b>In a Jupyter environment, please rerun this cell to show the HTML representation or trust the notebook. <br />On GitHub, the HTML representation is unable to render, please try loading this page with nbviewer.org.</b></div><div class=\"sk-container\" hidden><div class=\"sk-item sk-dashed-wrapped\"><div class=\"sk-label-container\"><div class=\"sk-label sk-toggleable\"><input class=\"sk-toggleable__control sk-hidden--visually\" id=\"sk-estimator-id-24\" type=\"checkbox\" ><label for=\"sk-estimator-id-24\" class=\"sk-toggleable__label sk-toggleable__label-arrow\">Pipeline</label><div class=\"sk-toggleable__content\"><pre>Pipeline(steps=[(&#x27;preprocessor&#x27;,\n",
       "                 ColumnTransformer(transformers=[(&#x27;numerical&#x27;,\n",
       "                                                  Pipeline(steps=[(&#x27;column_dropper&#x27;,\n",
       "                                                                   DropColumnsTransformer(attrs_to_drop=[&#x27;uid&#x27;,\n",
       "                                                                                                         &#x27;app_score&#x27;,\n",
       "                                                                                                         &#x27;his_on_shelf_time&#x27;,\n",
       "                                                                                                         &#x27;task_id&#x27;,\n",
       "                                                                                                         &#x27;spread_app_id&#x27;,\n",
       "                                                                                                         &#x27;tags&#x27;,\n",
       "                                                                                                         &#x27;dev_id&#x27;])),\n",
       "                                                                  (&#x27;imputer&#x27;,\n",
       "                                                                   SimpleImputer()),\n",
       "                                                                  (&#x27;scaler&#x27;,\n",
       "                                                                   StandardScaler())]),\n",
       "                                                  []),\n",
       "                                                 (&#x27;categorical&#x27;,\n",
       "                                                  Pipeline(steps=[(&#x27;column_dropper&#x27;,\n",
       "                                                                   DropCol...\n",
       "                                                   &#x27;app_first_class&#x27;,\n",
       "                                                   &#x27;app_second_class&#x27;, &#x27;age&#x27;,\n",
       "                                                   &#x27;city&#x27;, &#x27;city_rank&#x27;,\n",
       "                                                   &#x27;device_name&#x27;, &#x27;device_size&#x27;,\n",
       "                                                   &#x27;career&#x27;, &#x27;gender&#x27;,\n",
       "                                                   &#x27;net_type&#x27;, &#x27;residence&#x27;,\n",
       "                                                   &#x27;his_app_size&#x27;,\n",
       "                                                   &#x27;his_on_shelf_time&#x27;,\n",
       "                                                   &#x27;app_score&#x27;, &#x27;emui_dev&#x27;,\n",
       "                                                   &#x27;list_time&#x27;, &#x27;device_price&#x27;,\n",
       "                                                   &#x27;up_life_duration&#x27;,\n",
       "                                                   &#x27;up_membership_grade&#x27;,\n",
       "                                                   &#x27;membership_life_duration&#x27;, ...])])),\n",
       "                (&#x27;estimator&#x27;, GradientBoostingClassifier(random_state=42))])</pre></div></div></div><div class=\"sk-serial\"><div class=\"sk-item sk-dashed-wrapped\"><div class=\"sk-label-container\"><div class=\"sk-label sk-toggleable\"><input class=\"sk-toggleable__control sk-hidden--visually\" id=\"sk-estimator-id-25\" type=\"checkbox\" ><label for=\"sk-estimator-id-25\" class=\"sk-toggleable__label sk-toggleable__label-arrow\">preprocessor: ColumnTransformer</label><div class=\"sk-toggleable__content\"><pre>ColumnTransformer(transformers=[(&#x27;numerical&#x27;,\n",
       "                                 Pipeline(steps=[(&#x27;column_dropper&#x27;,\n",
       "                                                  DropColumnsTransformer(attrs_to_drop=[&#x27;uid&#x27;,\n",
       "                                                                                        &#x27;app_score&#x27;,\n",
       "                                                                                        &#x27;his_on_shelf_time&#x27;,\n",
       "                                                                                        &#x27;task_id&#x27;,\n",
       "                                                                                        &#x27;spread_app_id&#x27;,\n",
       "                                                                                        &#x27;tags&#x27;,\n",
       "                                                                                        &#x27;dev_id&#x27;])),\n",
       "                                                 (&#x27;imputer&#x27;, SimpleImputer()),\n",
       "                                                 (&#x27;scaler&#x27;, StandardScaler())]),\n",
       "                                 []),\n",
       "                                (&#x27;categorical&#x27;,\n",
       "                                 Pipeline(steps=[(&#x27;column_dropper&#x27;,\n",
       "                                                  DropColumnsTransformer(attrs_to_drop=[&#x27;...\n",
       "                                  &#x27;adv_prim_id&#x27;, &#x27;dev_id&#x27;, &#x27;inter_type_cd&#x27;,\n",
       "                                  &#x27;slot_id&#x27;, &#x27;spread_app_id&#x27;, &#x27;tags&#x27;,\n",
       "                                  &#x27;app_first_class&#x27;, &#x27;app_second_class&#x27;, &#x27;age&#x27;,\n",
       "                                  &#x27;city&#x27;, &#x27;city_rank&#x27;, &#x27;device_name&#x27;,\n",
       "                                  &#x27;device_size&#x27;, &#x27;career&#x27;, &#x27;gender&#x27;, &#x27;net_type&#x27;,\n",
       "                                  &#x27;residence&#x27;, &#x27;his_app_size&#x27;,\n",
       "                                  &#x27;his_on_shelf_time&#x27;, &#x27;app_score&#x27;, &#x27;emui_dev&#x27;,\n",
       "                                  &#x27;list_time&#x27;, &#x27;device_price&#x27;,\n",
       "                                  &#x27;up_life_duration&#x27;, &#x27;up_membership_grade&#x27;,\n",
       "                                  &#x27;membership_life_duration&#x27;, ...])])</pre></div></div></div><div class=\"sk-parallel\"><div class=\"sk-parallel-item\"><div class=\"sk-item\"><div class=\"sk-label-container\"><div class=\"sk-label sk-toggleable\"><input class=\"sk-toggleable__control sk-hidden--visually\" id=\"sk-estimator-id-26\" type=\"checkbox\" ><label for=\"sk-estimator-id-26\" class=\"sk-toggleable__label sk-toggleable__label-arrow\">numerical</label><div class=\"sk-toggleable__content\"><pre>[]</pre></div></div></div><div class=\"sk-serial\"><div class=\"sk-item\"><div class=\"sk-serial\"><div class=\"sk-item\"><div class=\"sk-estimator sk-toggleable\"><input class=\"sk-toggleable__control sk-hidden--visually\" id=\"sk-estimator-id-27\" type=\"checkbox\" ><label for=\"sk-estimator-id-27\" class=\"sk-toggleable__label sk-toggleable__label-arrow\">DropColumnsTransformer</label><div class=\"sk-toggleable__content\"><pre>DropColumnsTransformer(attrs_to_drop=[&#x27;uid&#x27;, &#x27;app_score&#x27;, &#x27;his_on_shelf_time&#x27;,\n",
       "                                      &#x27;task_id&#x27;, &#x27;spread_app_id&#x27;, &#x27;tags&#x27;,\n",
       "                                      &#x27;dev_id&#x27;])</pre></div></div></div><div class=\"sk-item\"><div class=\"sk-estimator sk-toggleable\"><input class=\"sk-toggleable__control sk-hidden--visually\" id=\"sk-estimator-id-28\" type=\"checkbox\" ><label for=\"sk-estimator-id-28\" class=\"sk-toggleable__label sk-toggleable__label-arrow\">SimpleImputer</label><div class=\"sk-toggleable__content\"><pre>SimpleImputer()</pre></div></div></div><div class=\"sk-item\"><div class=\"sk-estimator sk-toggleable\"><input class=\"sk-toggleable__control sk-hidden--visually\" id=\"sk-estimator-id-29\" type=\"checkbox\" ><label for=\"sk-estimator-id-29\" class=\"sk-toggleable__label sk-toggleable__label-arrow\">StandardScaler</label><div class=\"sk-toggleable__content\"><pre>StandardScaler()</pre></div></div></div></div></div></div></div></div><div class=\"sk-parallel-item\"><div class=\"sk-item\"><div class=\"sk-label-container\"><div class=\"sk-label sk-toggleable\"><input class=\"sk-toggleable__control sk-hidden--visually\" id=\"sk-estimator-id-30\" type=\"checkbox\" ><label for=\"sk-estimator-id-30\" class=\"sk-toggleable__label sk-toggleable__label-arrow\">categorical</label><div class=\"sk-toggleable__content\"><pre>[&#x27;uid&#x27;, &#x27;task_id&#x27;, &#x27;adv_id&#x27;, &#x27;creat_type_cd&#x27;, &#x27;adv_prim_id&#x27;, &#x27;dev_id&#x27;, &#x27;inter_type_cd&#x27;, &#x27;slot_id&#x27;, &#x27;spread_app_id&#x27;, &#x27;tags&#x27;, &#x27;app_first_class&#x27;, &#x27;app_second_class&#x27;, &#x27;age&#x27;, &#x27;city&#x27;, &#x27;city_rank&#x27;, &#x27;device_name&#x27;, &#x27;device_size&#x27;, &#x27;career&#x27;, &#x27;gender&#x27;, &#x27;net_type&#x27;, &#x27;residence&#x27;, &#x27;his_app_size&#x27;, &#x27;his_on_shelf_time&#x27;, &#x27;app_score&#x27;, &#x27;emui_dev&#x27;, &#x27;list_time&#x27;, &#x27;device_price&#x27;, &#x27;up_life_duration&#x27;, &#x27;up_membership_grade&#x27;, &#x27;membership_life_duration&#x27;, &#x27;consume_purchase&#x27;, &#x27;communication_onlinerate&#x27;, &#x27;communication_avgonline_30d&#x27;, &#x27;indu_name&#x27;, &#x27;pt_d&#x27;]</pre></div></div></div><div class=\"sk-serial\"><div class=\"sk-item\"><div class=\"sk-serial\"><div class=\"sk-item\"><div class=\"sk-estimator sk-toggleable\"><input class=\"sk-toggleable__control sk-hidden--visually\" id=\"sk-estimator-id-31\" type=\"checkbox\" ><label for=\"sk-estimator-id-31\" class=\"sk-toggleable__label sk-toggleable__label-arrow\">DropColumnsTransformer</label><div class=\"sk-toggleable__content\"><pre>DropColumnsTransformer(attrs_to_drop=[&#x27;uid&#x27;, &#x27;app_score&#x27;, &#x27;his_on_shelf_time&#x27;,\n",
       "                                      &#x27;task_id&#x27;, &#x27;spread_app_id&#x27;, &#x27;tags&#x27;,\n",
       "                                      &#x27;dev_id&#x27;])</pre></div></div></div><div class=\"sk-item\"><div class=\"sk-estimator sk-toggleable\"><input class=\"sk-toggleable__control sk-hidden--visually\" id=\"sk-estimator-id-32\" type=\"checkbox\" ><label for=\"sk-estimator-id-32\" class=\"sk-toggleable__label sk-toggleable__label-arrow\">SimpleImputer</label><div class=\"sk-toggleable__content\"><pre>SimpleImputer(strategy=&#x27;most_frequent&#x27;)</pre></div></div></div><div class=\"sk-item\"><div class=\"sk-estimator sk-toggleable\"><input class=\"sk-toggleable__control sk-hidden--visually\" id=\"sk-estimator-id-33\" type=\"checkbox\" ><label for=\"sk-estimator-id-33\" class=\"sk-toggleable__label sk-toggleable__label-arrow\">TargetEncoder</label><div class=\"sk-toggleable__content\"><pre>TargetEncoder(random_state=42, target_type=&#x27;binary&#x27;)</pre></div></div></div><div class=\"sk-item\"><div class=\"sk-estimator sk-toggleable\"><input class=\"sk-toggleable__control sk-hidden--visually\" id=\"sk-estimator-id-34\" type=\"checkbox\" ><label for=\"sk-estimator-id-34\" class=\"sk-toggleable__label sk-toggleable__label-arrow\">StandardScaler</label><div class=\"sk-toggleable__content\"><pre>StandardScaler()</pre></div></div></div></div></div></div></div></div></div></div><div class=\"sk-item\"><div class=\"sk-estimator sk-toggleable\"><input class=\"sk-toggleable__control sk-hidden--visually\" id=\"sk-estimator-id-35\" type=\"checkbox\" ><label for=\"sk-estimator-id-35\" class=\"sk-toggleable__label sk-toggleable__label-arrow\">GradientBoostingClassifier</label><div class=\"sk-toggleable__content\"><pre>GradientBoostingClassifier(random_state=42)</pre></div></div></div></div></div></div></div>"
      ],
      "text/plain": [
       "Pipeline(steps=[('preprocessor',\n",
       "                 ColumnTransformer(transformers=[('numerical',\n",
       "                                                  Pipeline(steps=[('column_dropper',\n",
       "                                                                   DropColumnsTransformer(attrs_to_drop=['uid',\n",
       "                                                                                                         'app_score',\n",
       "                                                                                                         'his_on_shelf_time',\n",
       "                                                                                                         'task_id',\n",
       "                                                                                                         'spread_app_id',\n",
       "                                                                                                         'tags',\n",
       "                                                                                                         'dev_id'])),\n",
       "                                                                  ('imputer',\n",
       "                                                                   SimpleImputer()),\n",
       "                                                                  ('scaler',\n",
       "                                                                   StandardScaler())]),\n",
       "                                                  []),\n",
       "                                                 ('categorical',\n",
       "                                                  Pipeline(steps=[('column_dropper',\n",
       "                                                                   DropCol...\n",
       "                                                   'app_first_class',\n",
       "                                                   'app_second_class', 'age',\n",
       "                                                   'city', 'city_rank',\n",
       "                                                   'device_name', 'device_size',\n",
       "                                                   'career', 'gender',\n",
       "                                                   'net_type', 'residence',\n",
       "                                                   'his_app_size',\n",
       "                                                   'his_on_shelf_time',\n",
       "                                                   'app_score', 'emui_dev',\n",
       "                                                   'list_time', 'device_price',\n",
       "                                                   'up_life_duration',\n",
       "                                                   'up_membership_grade',\n",
       "                                                   'membership_life_duration', ...])])),\n",
       "                ('estimator', GradientBoostingClassifier(random_state=42))])"
      ]
     },
     "execution_count": 12,
     "metadata": {},
     "output_type": "execute_result"
    }
   ],
   "source": [
    "composite_estimator.fit(\n",
    "    train_cap_x_df,\n",
    "    train_y_df.values.ravel()\n",
    ")"
   ]
  },
  {
   "cell_type": "markdown",
   "id": "0c755f72",
   "metadata": {},
   "source": [
    "#### 7. Evaluate model performance on train set"
   ]
  },
  {
   "cell_type": "code",
   "execution_count": 13,
   "id": "e1096619",
   "metadata": {
    "ExecuteTime": {
     "end_time": "2023-12-11T02:14:18.149886Z",
     "start_time": "2023-12-11T02:13:45.220062Z"
    }
   },
   "outputs": [
    {
     "name": "stdout",
     "output_type": "stream",
     "text": [
      "Evaluate the trained estimator performance on train sample set\n",
      "Check accuracy score\n",
      "train sample set accuracy score: 0.9654822637906859\n",
      "\n",
      "Check classification report\n",
      "{'0': {'precision': 0.9655944139412748, 'recall': 0.9998764020640856, 'f1-score': 0.9824364326375712, 'support': 32363.0}, '1': {'precision': 0.42857142857142855, 'recall': 0.0025951557093425604, 'f1-score': 0.005159071367153912, 'support': 1156.0}, 'accuracy': 0.9654822637906859, 'macro avg': {'precision': 0.6970829212563516, 'recall': 0.5012357788867141, 'f1-score': 0.49379775200236253, 'support': 33519.0}, 'weighted avg': {'precision': 0.9470736176440242, 'recall': 0.9654822637906859, 'f1-score': 0.948732186400255, 'support': 33519.0}}\n",
      "\n",
      "Check confusion matrix\n",
      "train sample set confusion matrix: \n",
      "[[32359     4]\n",
      " [ 1153     3]]\n",
      "True Positives =  32359\n",
      "True Negatives =  3\n",
      "False Positives(Type I error) =  4\n",
      "False Negatives(Type II error) =  1153\n",
      "\n",
      "Check cross validation score\n",
      "\n",
      "accuracy scores: [0.96524463 0.96554296 0.96554296 0.96509547 0.96553782]\n",
      "np.mean(scores): 0.9654\n",
      "np.std(scores, ddof=1): 0.0002\n"
     ]
    },
    {
     "name": "stderr",
     "output_type": "stream",
     "text": [
      "/Users/leon/miniconda3/envs/ctr_venv/lib/python3.10/site-packages/sklearn/metrics/_classification.py:1469: UndefinedMetricWarning: Precision is ill-defined and being set to 0.0 due to no predicted samples. Use `zero_division` parameter to control this behavior.\n",
      "  _warn_prf(average, modifier, msg_start, len(result))\n",
      "/Users/leon/miniconda3/envs/ctr_venv/lib/python3.10/site-packages/sklearn/metrics/_classification.py:1469: UndefinedMetricWarning: Precision is ill-defined and being set to 0.0 due to no predicted samples. Use `zero_division` parameter to control this behavior.\n",
      "  _warn_prf(average, modifier, msg_start, len(result))\n",
      "/Users/leon/miniconda3/envs/ctr_venv/lib/python3.10/site-packages/sklearn/metrics/_classification.py:1469: UndefinedMetricWarning: Precision is ill-defined and being set to 0.0 due to no predicted samples. Use `zero_division` parameter to control this behavior.\n",
      "  _warn_prf(average, modifier, msg_start, len(result))\n"
     ]
    },
    {
     "name": "stdout",
     "output_type": "stream",
     "text": [
      "\n",
      "precision scores: [0. 0. 0. 0. 0.]\n",
      "np.mean(scores): 0.0000\n",
      "np.std(scores, ddof=1): 0.0000\n",
      "\n",
      "recall scores: [0. 0. 0. 0. 0.]\n",
      "np.mean(scores): 0.0000\n",
      "np.std(scores, ddof=1): 0.0000\n",
      "\n",
      "f1 scores: [0. 0. 0. 0. 0.]\n",
      "np.mean(scores): 0.0000\n",
      "np.std(scores, ddof=1): 0.0000\n",
      "\n",
      "Check the ROC Curve and AUC\n"
     ]
    },
    {
     "data": {
      "image/png": "[encoded data removed]",
      "text/plain": [
       "<Figure size 640x480 with 1 Axes>"
      ]
     },
     "metadata": {},
     "output_type": "display_data"
    },
    {
     "name": "stdout",
     "output_type": "stream",
     "text": [
      "\n",
      "Check Precision-Recall Curve and Average Precision Score\n"
     ]
    },
    {
     "data": {
      "image/png": "[encoded data removed]",
      "text/plain": [
       "<Figure size 640x480 with 1 Axes>"
      ]
     },
     "metadata": {},
     "output_type": "display_data"
    },
    {
     "data": {
      "text/html": [
       "<div>\n",
       "<style scoped>\n",
       "    .dataframe tbody tr th:only-of-type {\n",
       "        vertical-align: middle;\n",
       "    }\n",
       "\n",
       "    .dataframe tbody tr th {\n",
       "        vertical-align: top;\n",
       "    }\n",
       "\n",
       "    .dataframe thead th {\n",
       "        text-align: right;\n",
       "    }\n",
       "</style>\n",
       "<table border=\"1\" class=\"dataframe\">\n",
       "  <thead>\n",
       "    <tr style=\"text-align: right;\">\n",
       "      <th></th>\n",
       "      <th>stage</th>\n",
       "      <th>accuracy</th>\n",
       "      <th>precision</th>\n",
       "      <th>recall</th>\n",
       "      <th>cv_mean_accuracy</th>\n",
       "      <th>cv_mean_precision</th>\n",
       "      <th>cv_mean_recall</th>\n",
       "      <th>cv_mean_f1</th>\n",
       "      <th>roc_auc_score</th>\n",
       "    </tr>\n",
       "  </thead>\n",
       "  <tbody>\n",
       "    <tr>\n",
       "      <th>0</th>\n",
       "      <td>train sample</td>\n",
       "      <td>0.9655</td>\n",
       "      <td>0.428571</td>\n",
       "      <td>0.002595</td>\n",
       "      <td>0.9654</td>\n",
       "      <td>0.0</td>\n",
       "      <td>0.0</td>\n",
       "      <td>0.0</td>\n",
       "      <td>0.5012</td>\n",
       "    </tr>\n",
       "  </tbody>\n",
       "</table>\n",
       "</div>"
      ],
      "text/plain": [
       "          stage  accuracy  precision    recall  cv_mean_accuracy  \\\n",
       "0  train sample    0.9655   0.428571  0.002595            0.9654   \n",
       "\n",
       "   cv_mean_precision  cv_mean_recall  cv_mean_f1  roc_auc_score  \n",
       "0                0.0             0.0         0.0         0.5012  "
      ]
     },
     "execution_count": 13,
     "metadata": {},
     "output_type": "execute_result"
    }
   ],
   "source": [
    "eval_train_results = bin_class_utils.eval_class(train_cap_x_df, train_y_df, composite_estimator, \"train sample\", CVS_SCORING_LIST)\n",
    "eval_train_results"
   ]
  },
  {
   "cell_type": "markdown",
   "id": "aa914c7fa67ad80b",
   "metadata": {},
   "source": [
    "#### 8. Read in and sample validation data set"
   ]
  },
  {
   "cell_type": "code",
   "execution_count": 14,
   "id": "4988653317c3bc55",
   "metadata": {
    "ExecuteTime": {
     "end_time": "2023-12-11T02:14:18.446864Z",
     "start_time": "2023-12-11T02:14:18.150649Z"
    }
   },
   "outputs": [
    {
     "name": "stdout",
     "output_type": "stream",
     "text": [
      "\n",
      "Read CSV file ../data/validation_df.csv into DataFrame:\n",
      "df.head(): \n"
     ]
    },
    {
     "data": {
      "text/html": [
       "<div>\n",
       "<style scoped>\n",
       "    .dataframe tbody tr th:only-of-type {\n",
       "        vertical-align: middle;\n",
       "    }\n",
       "\n",
       "    .dataframe tbody tr th {\n",
       "        vertical-align: top;\n",
       "    }\n",
       "\n",
       "    .dataframe thead th {\n",
       "        text-align: right;\n",
       "    }\n",
       "</style>\n",
       "<table border=\"1\" class=\"dataframe\">\n",
       "  <thead>\n",
       "    <tr style=\"text-align: right;\">\n",
       "      <th></th>\n",
       "      <th>uid</th>\n",
       "      <th>task_id</th>\n",
       "      <th>adv_id</th>\n",
       "      <th>creat_type_cd</th>\n",
       "      <th>adv_prim_id</th>\n",
       "      <th>dev_id</th>\n",
       "      <th>inter_type_cd</th>\n",
       "      <th>slot_id</th>\n",
       "      <th>spread_app_id</th>\n",
       "      <th>tags</th>\n",
       "      <th>...</th>\n",
       "      <th>device_price</th>\n",
       "      <th>up_life_duration</th>\n",
       "      <th>up_membership_grade</th>\n",
       "      <th>membership_life_duration</th>\n",
       "      <th>consume_purchase</th>\n",
       "      <th>communication_onlinerate</th>\n",
       "      <th>communication_avgonline_30d</th>\n",
       "      <th>indu_name</th>\n",
       "      <th>pt_d</th>\n",
       "      <th>label</th>\n",
       "    </tr>\n",
       "  </thead>\n",
       "  <tbody>\n",
       "    <tr>\n",
       "      <th>0</th>\n",
       "      <td>1451378</td>\n",
       "      <td>2082</td>\n",
       "      <td>3033</td>\n",
       "      <td>7</td>\n",
       "      <td>154</td>\n",
       "      <td>56</td>\n",
       "      <td>5</td>\n",
       "      <td>11</td>\n",
       "      <td>31</td>\n",
       "      <td>40</td>\n",
       "      <td>...</td>\n",
       "      <td>4</td>\n",
       "      <td>20</td>\n",
       "      <td>-1</td>\n",
       "      <td>-1</td>\n",
       "      <td>7</td>\n",
       "      <td>0^1^2^3^4^5^6^7^8^9^10^11^12^13^14^15^16^17^18...</td>\n",
       "      <td>13</td>\n",
       "      <td>17</td>\n",
       "      <td>5</td>\n",
       "      <td>0</td>\n",
       "    </tr>\n",
       "    <tr>\n",
       "      <th>1</th>\n",
       "      <td>1619957</td>\n",
       "      <td>1225</td>\n",
       "      <td>4676</td>\n",
       "      <td>7</td>\n",
       "      <td>178</td>\n",
       "      <td>17</td>\n",
       "      <td>5</td>\n",
       "      <td>17</td>\n",
       "      <td>70</td>\n",
       "      <td>39</td>\n",
       "      <td>...</td>\n",
       "      <td>4</td>\n",
       "      <td>20</td>\n",
       "      <td>-1</td>\n",
       "      <td>-1</td>\n",
       "      <td>2</td>\n",
       "      <td>0^1^2^3^4^5^6^7^8^9^10^11^12^13^14^15^16^17^18...</td>\n",
       "      <td>13</td>\n",
       "      <td>36</td>\n",
       "      <td>6</td>\n",
       "      <td>0</td>\n",
       "    </tr>\n",
       "    <tr>\n",
       "      <th>2</th>\n",
       "      <td>1698084</td>\n",
       "      <td>2206</td>\n",
       "      <td>2822</td>\n",
       "      <td>7</td>\n",
       "      <td>177</td>\n",
       "      <td>56</td>\n",
       "      <td>5</td>\n",
       "      <td>14</td>\n",
       "      <td>31</td>\n",
       "      <td>40</td>\n",
       "      <td>...</td>\n",
       "      <td>5</td>\n",
       "      <td>20</td>\n",
       "      <td>1</td>\n",
       "      <td>-1</td>\n",
       "      <td>2</td>\n",
       "      <td>-1</td>\n",
       "      <td>-1</td>\n",
       "      <td>17</td>\n",
       "      <td>3</td>\n",
       "      <td>0</td>\n",
       "    </tr>\n",
       "    <tr>\n",
       "      <th>3</th>\n",
       "      <td>1983802</td>\n",
       "      <td>5103</td>\n",
       "      <td>2564</td>\n",
       "      <td>7</td>\n",
       "      <td>151</td>\n",
       "      <td>60</td>\n",
       "      <td>4</td>\n",
       "      <td>12</td>\n",
       "      <td>23</td>\n",
       "      <td>26</td>\n",
       "      <td>...</td>\n",
       "      <td>4</td>\n",
       "      <td>20</td>\n",
       "      <td>-1</td>\n",
       "      <td>-1</td>\n",
       "      <td>8</td>\n",
       "      <td>7^8^9^10^11^12^13^14^15^16^17^18^19^20^21^22^23</td>\n",
       "      <td>10</td>\n",
       "      <td>39</td>\n",
       "      <td>5</td>\n",
       "      <td>0</td>\n",
       "    </tr>\n",
       "    <tr>\n",
       "      <th>4</th>\n",
       "      <td>1537560</td>\n",
       "      <td>1098</td>\n",
       "      <td>1732</td>\n",
       "      <td>7</td>\n",
       "      <td>134</td>\n",
       "      <td>55</td>\n",
       "      <td>4</td>\n",
       "      <td>17</td>\n",
       "      <td>65</td>\n",
       "      <td>18</td>\n",
       "      <td>...</td>\n",
       "      <td>4</td>\n",
       "      <td>20</td>\n",
       "      <td>-1</td>\n",
       "      <td>-1</td>\n",
       "      <td>2</td>\n",
       "      <td>3^4^5^6^7^8^9^10^11^12^13^14^15^16^17^18^19^20...</td>\n",
       "      <td>12</td>\n",
       "      <td>14</td>\n",
       "      <td>1</td>\n",
       "      <td>0</td>\n",
       "    </tr>\n",
       "  </tbody>\n",
       "</table>\n",
       "<p>5 rows × 36 columns</p>\n",
       "</div>"
      ],
      "text/plain": [
       "       uid  task_id  adv_id  creat_type_cd  adv_prim_id  dev_id  \\\n",
       "0  1451378     2082    3033              7          154      56   \n",
       "1  1619957     1225    4676              7          178      17   \n",
       "2  1698084     2206    2822              7          177      56   \n",
       "3  1983802     5103    2564              7          151      60   \n",
       "4  1537560     1098    1732              7          134      55   \n",
       "\n",
       "   inter_type_cd  slot_id  spread_app_id  tags  ...  device_price  \\\n",
       "0              5       11             31    40  ...             4   \n",
       "1              5       17             70    39  ...             4   \n",
       "2              5       14             31    40  ...             5   \n",
       "3              4       12             23    26  ...             4   \n",
       "4              4       17             65    18  ...             4   \n",
       "\n",
       "   up_life_duration  up_membership_grade  membership_life_duration  \\\n",
       "0                20                   -1                        -1   \n",
       "1                20                   -1                        -1   \n",
       "2                20                    1                        -1   \n",
       "3                20                   -1                        -1   \n",
       "4                20                   -1                        -1   \n",
       "\n",
       "   consume_purchase                           communication_onlinerate  \\\n",
       "0                 7  0^1^2^3^4^5^6^7^8^9^10^11^12^13^14^15^16^17^18...   \n",
       "1                 2  0^1^2^3^4^5^6^7^8^9^10^11^12^13^14^15^16^17^18...   \n",
       "2                 2                                                 -1   \n",
       "3                 8    7^8^9^10^11^12^13^14^15^16^17^18^19^20^21^22^23   \n",
       "4                 2  3^4^5^6^7^8^9^10^11^12^13^14^15^16^17^18^19^20...   \n",
       "\n",
       "   communication_avgonline_30d  indu_name  pt_d  label  \n",
       "0                           13         17     5      0  \n",
       "1                           13         36     6      0  \n",
       "2                           -1         17     3      0  \n",
       "3                           10         39     5      0  \n",
       "4                           12         14     1      0  \n",
       "\n",
       "[5 rows x 36 columns]"
      ]
     },
     "metadata": {},
     "output_type": "display_data"
    },
    {
     "name": "stdout",
     "output_type": "stream",
     "text": [
      "df.shape: (167629, 36)\n"
     ]
    }
   ],
   "source": [
    "validation_df = general_utils.read_csv(VALIDATION_FILE_PATH)"
   ]
  },
  {
   "cell_type": "code",
   "execution_count": 15,
   "id": "5aead9929ce23a1b",
   "metadata": {
    "ExecuteTime": {
     "end_time": "2023-12-11T02:14:18.551339Z",
     "start_time": "2023-12-11T02:14:18.445014Z"
    }
   },
   "outputs": [
    {
     "name": "stdout",
     "output_type": "stream",
     "text": [
      "\n",
      "Sample 0.05 fraction from DataFrame:\n",
      "sample_df.shape: (8381, 36)\n"
     ]
    }
   ],
   "source": [
    "validation_df_sample = data_prepare_utils.sample_data(validation_df, SAMPLE_SIZE, SAMPLE_RANDOM_STATE)\n",
    "del validation_df"
   ]
  },
  {
   "cell_type": "code",
   "execution_count": 16,
   "id": "9ea13d5a3400ed87",
   "metadata": {
    "ExecuteTime": {
     "end_time": "2023-12-11T02:14:18.551561Z",
     "start_time": "2023-12-11T02:14:18.478300Z"
    }
   },
   "outputs": [],
   "source": [
    "validation_cap_x_df, validation_y_df = validation_df_sample.drop(columns=TARGET_ATTR), validation_df_sample[[TARGET_ATTR]]\n",
    "del validation_df_sample"
   ]
  },
  {
   "cell_type": "markdown",
   "id": "e7f0a9db9e64f8ed",
   "metadata": {},
   "source": [
    "#### 9. Evaluate model performance on validation set"
   ]
  },
  {
   "cell_type": "code",
   "execution_count": 17,
   "id": "e711979d88e2d7a6",
   "metadata": {
    "ExecuteTime": {
     "end_time": "2023-12-11T02:14:27.177833Z",
     "start_time": "2023-12-11T02:14:18.487547Z"
    }
   },
   "outputs": [
    {
     "name": "stdout",
     "output_type": "stream",
     "text": [
      "Evaluate the trained estimator performance on validation sample set\n",
      "Check accuracy score\n",
      "validation sample set accuracy score: 0.9649206538599212\n",
      "\n",
      "Check classification report\n",
      "{'0': {'precision': 0.9654966571155683, 'recall': 0.9993821057834898, 'f1-score': 0.982147194559145, 'support': 8092.0}, '1': {'precision': 0.0, 'recall': 0.0, 'f1-score': 0.0, 'support': 289.0}, 'accuracy': 0.9649206538599212, 'macro avg': {'precision': 0.48274832855778416, 'recall': 0.4996910528917449, 'f1-score': 0.4910735972795725, 'support': 8381.0}, 'weighted avg': {'precision': 0.9322036689391694, 'recall': 0.9649206538599212, 'f1-score': 0.9482800499191745, 'support': 8381.0}}\n",
      "\n",
      "Check confusion matrix\n",
      "validation sample set confusion matrix: \n",
      "[[8087    5]\n",
      " [ 289    0]]\n",
      "True Positives =  8087\n",
      "True Negatives =  0\n",
      "False Positives(Type I error) =  5\n",
      "False Negatives(Type II error) =  289\n",
      "\n",
      "Check cross validation score\n",
      "\n",
      "accuracy scores: [0.96422182 0.96479714 0.96539379 0.96539379 0.96539379]\n",
      "np.mean(scores): 0.9650\n",
      "np.std(scores, ddof=1): 0.0005\n"
     ]
    },
    {
     "name": "stderr",
     "output_type": "stream",
     "text": [
      "/Users/leon/miniconda3/envs/ctr_venv/lib/python3.10/site-packages/sklearn/metrics/_classification.py:1469: UndefinedMetricWarning: Precision is ill-defined and being set to 0.0 due to no predicted samples. Use `zero_division` parameter to control this behavior.\n",
      "  _warn_prf(average, modifier, msg_start, len(result))\n",
      "/Users/leon/miniconda3/envs/ctr_venv/lib/python3.10/site-packages/sklearn/metrics/_classification.py:1469: UndefinedMetricWarning: Precision is ill-defined and being set to 0.0 due to no predicted samples. Use `zero_division` parameter to control this behavior.\n",
      "  _warn_prf(average, modifier, msg_start, len(result))\n"
     ]
    },
    {
     "name": "stdout",
     "output_type": "stream",
     "text": [
      "\n",
      "precision scores: [0.  0.  0.5 0.  0. ]\n",
      "np.mean(scores): 0.1000\n",
      "np.std(scores, ddof=1): 0.2236\n",
      "\n",
      "recall scores: [0.         0.         0.01724138 0.         0.        ]\n",
      "np.mean(scores): 0.0034\n",
      "np.std(scores, ddof=1): 0.0077\n",
      "\n",
      "f1 scores: [0.         0.         0.03333333 0.         0.        ]\n",
      "np.mean(scores): 0.0067\n",
      "np.std(scores, ddof=1): 0.0149\n",
      "\n",
      "Check the ROC Curve and AUC\n"
     ]
    },
    {
     "data": {
      "image/png": "[encoded data removed]",
      "text/plain": [
       "<Figure size 640x480 with 1 Axes>"
      ]
     },
     "metadata": {},
     "output_type": "display_data"
    },
    {
     "name": "stdout",
     "output_type": "stream",
     "text": [
      "\n",
      "Check Precision-Recall Curve and Average Precision Score\n"
     ]
    },
    {
     "data": {
      "image/png": "[encoded data removed]",
      "text/plain": [
       "<Figure size 640x480 with 1 Axes>"
      ]
     },
     "metadata": {},
     "output_type": "display_data"
    },
    {
     "data": {
      "text/html": [
       "<div>\n",
       "<style scoped>\n",
       "    .dataframe tbody tr th:only-of-type {\n",
       "        vertical-align: middle;\n",
       "    }\n",
       "\n",
       "    .dataframe tbody tr th {\n",
       "        vertical-align: top;\n",
       "    }\n",
       "\n",
       "    .dataframe thead th {\n",
       "        text-align: right;\n",
       "    }\n",
       "</style>\n",
       "<table border=\"1\" class=\"dataframe\">\n",
       "  <thead>\n",
       "    <tr style=\"text-align: right;\">\n",
       "      <th></th>\n",
       "      <th>stage</th>\n",
       "      <th>accuracy</th>\n",
       "      <th>precision</th>\n",
       "      <th>recall</th>\n",
       "      <th>cv_mean_accuracy</th>\n",
       "      <th>cv_mean_precision</th>\n",
       "      <th>cv_mean_recall</th>\n",
       "      <th>cv_mean_f1</th>\n",
       "      <th>roc_auc_score</th>\n",
       "    </tr>\n",
       "  </thead>\n",
       "  <tbody>\n",
       "    <tr>\n",
       "      <th>0</th>\n",
       "      <td>validation sample</td>\n",
       "      <td>0.9649</td>\n",
       "      <td>0.0</td>\n",
       "      <td>0.0</td>\n",
       "      <td>0.965</td>\n",
       "      <td>0.1</td>\n",
       "      <td>0.0034</td>\n",
       "      <td>0.0067</td>\n",
       "      <td>0.4997</td>\n",
       "    </tr>\n",
       "  </tbody>\n",
       "</table>\n",
       "</div>"
      ],
      "text/plain": [
       "               stage  accuracy  precision  recall  cv_mean_accuracy  \\\n",
       "0  validation sample    0.9649        0.0     0.0             0.965   \n",
       "\n",
       "   cv_mean_precision  cv_mean_recall  cv_mean_f1  roc_auc_score  \n",
       "0                0.1          0.0034      0.0067         0.4997  "
      ]
     },
     "execution_count": 17,
     "metadata": {},
     "output_type": "execute_result"
    }
   ],
   "source": [
    "eval_validation_results = bin_class_utils.eval_class(validation_cap_x_df, validation_y_df, composite_estimator, \"validation sample\", CVS_SCORING_LIST)\n",
    "eval_validation_results"
   ]
  },
  {
   "cell_type": "markdown",
   "id": "6c19fff3",
   "metadata": {},
   "source": [
    "#### 10. Check the most significant attributes"
   ]
  },
  {
   "cell_type": "code",
   "execution_count": 18,
   "id": "fc9b6da7-6377-4f79-aa72-db8b1a13da44",
   "metadata": {
    "ExecuteTime": {
     "end_time": "2023-12-11T02:15:27.874270Z",
     "start_time": "2023-12-11T02:14:27.178314Z"
    }
   },
   "outputs": [
    {
     "name": "stdout",
     "output_type": "stream",
     "text": [
      "\n",
      "Check out permutation importance:\n"
     ]
    },
    {
     "data": {
      "text/html": [
       "<div>\n",
       "<style scoped>\n",
       "    .dataframe tbody tr th:only-of-type {\n",
       "        vertical-align: middle;\n",
       "    }\n",
       "\n",
       "    .dataframe tbody tr th {\n",
       "        vertical-align: top;\n",
       "    }\n",
       "\n",
       "    .dataframe thead th {\n",
       "        text-align: right;\n",
       "    }\n",
       "</style>\n",
       "<table border=\"1\" class=\"dataframe\">\n",
       "  <thead>\n",
       "    <tr style=\"text-align: right;\">\n",
       "      <th></th>\n",
       "      <th>metric_name</th>\n",
       "      <th>feature_name</th>\n",
       "      <th>metric_mean</th>\n",
       "      <th>metric_std_dev</th>\n",
       "    </tr>\n",
       "  </thead>\n",
       "  <tbody>\n",
       "    <tr>\n",
       "      <th>0</th>\n",
       "      <td>average_precision</td>\n",
       "      <td>adv_id</td>\n",
       "      <td>0.053603</td>\n",
       "      <td>0.002183</td>\n",
       "    </tr>\n",
       "    <tr>\n",
       "      <th>1</th>\n",
       "      <td>average_precision</td>\n",
       "      <td>slot_id</td>\n",
       "      <td>0.043309</td>\n",
       "      <td>0.003156</td>\n",
       "    </tr>\n",
       "    <tr>\n",
       "      <th>2</th>\n",
       "      <td>average_precision</td>\n",
       "      <td>city</td>\n",
       "      <td>0.012961</td>\n",
       "      <td>0.001394</td>\n",
       "    </tr>\n",
       "    <tr>\n",
       "      <th>3</th>\n",
       "      <td>average_precision</td>\n",
       "      <td>age</td>\n",
       "      <td>0.012066</td>\n",
       "      <td>0.001944</td>\n",
       "    </tr>\n",
       "    <tr>\n",
       "      <th>4</th>\n",
       "      <td>average_precision</td>\n",
       "      <td>device_size</td>\n",
       "      <td>0.007031</td>\n",
       "      <td>0.001541</td>\n",
       "    </tr>\n",
       "    <tr>\n",
       "      <th>5</th>\n",
       "      <td>average_precision</td>\n",
       "      <td>his_app_size</td>\n",
       "      <td>0.006827</td>\n",
       "      <td>0.001260</td>\n",
       "    </tr>\n",
       "    <tr>\n",
       "      <th>6</th>\n",
       "      <td>average_precision</td>\n",
       "      <td>communication_onlinerate</td>\n",
       "      <td>0.006441</td>\n",
       "      <td>0.001109</td>\n",
       "    </tr>\n",
       "    <tr>\n",
       "      <th>7</th>\n",
       "      <td>average_precision</td>\n",
       "      <td>career</td>\n",
       "      <td>0.006397</td>\n",
       "      <td>0.001760</td>\n",
       "    </tr>\n",
       "    <tr>\n",
       "      <th>8</th>\n",
       "      <td>average_precision</td>\n",
       "      <td>adv_prim_id</td>\n",
       "      <td>0.005482</td>\n",
       "      <td>0.001684</td>\n",
       "    </tr>\n",
       "    <tr>\n",
       "      <th>9</th>\n",
       "      <td>average_precision</td>\n",
       "      <td>device_price</td>\n",
       "      <td>0.002916</td>\n",
       "      <td>0.000559</td>\n",
       "    </tr>\n",
       "    <tr>\n",
       "      <th>10</th>\n",
       "      <td>average_precision</td>\n",
       "      <td>gender</td>\n",
       "      <td>0.002265</td>\n",
       "      <td>0.000400</td>\n",
       "    </tr>\n",
       "    <tr>\n",
       "      <th>11</th>\n",
       "      <td>average_precision</td>\n",
       "      <td>emui_dev</td>\n",
       "      <td>0.001379</td>\n",
       "      <td>0.000559</td>\n",
       "    </tr>\n",
       "    <tr>\n",
       "      <th>12</th>\n",
       "      <td>average_precision</td>\n",
       "      <td>list_time</td>\n",
       "      <td>0.001295</td>\n",
       "      <td>0.000492</td>\n",
       "    </tr>\n",
       "    <tr>\n",
       "      <th>13</th>\n",
       "      <td>average_precision</td>\n",
       "      <td>communication_avgonline_30d</td>\n",
       "      <td>0.001203</td>\n",
       "      <td>0.000596</td>\n",
       "    </tr>\n",
       "    <tr>\n",
       "      <th>14</th>\n",
       "      <td>average_precision</td>\n",
       "      <td>city_rank</td>\n",
       "      <td>0.001095</td>\n",
       "      <td>0.000353</td>\n",
       "    </tr>\n",
       "    <tr>\n",
       "      <th>15</th>\n",
       "      <td>average_precision</td>\n",
       "      <td>up_life_duration</td>\n",
       "      <td>0.000689</td>\n",
       "      <td>0.000287</td>\n",
       "    </tr>\n",
       "    <tr>\n",
       "      <th>16</th>\n",
       "      <td>average_precision</td>\n",
       "      <td>pt_d</td>\n",
       "      <td>0.000561</td>\n",
       "      <td>0.000245</td>\n",
       "    </tr>\n",
       "    <tr>\n",
       "      <th>17</th>\n",
       "      <td>roc_auc</td>\n",
       "      <td>adv_id</td>\n",
       "      <td>0.079517</td>\n",
       "      <td>0.002664</td>\n",
       "    </tr>\n",
       "    <tr>\n",
       "      <th>18</th>\n",
       "      <td>roc_auc</td>\n",
       "      <td>slot_id</td>\n",
       "      <td>0.060020</td>\n",
       "      <td>0.006323</td>\n",
       "    </tr>\n",
       "    <tr>\n",
       "      <th>19</th>\n",
       "      <td>roc_auc</td>\n",
       "      <td>age</td>\n",
       "      <td>0.005321</td>\n",
       "      <td>0.000476</td>\n",
       "    </tr>\n",
       "    <tr>\n",
       "      <th>20</th>\n",
       "      <td>roc_auc</td>\n",
       "      <td>city</td>\n",
       "      <td>0.004122</td>\n",
       "      <td>0.001010</td>\n",
       "    </tr>\n",
       "    <tr>\n",
       "      <th>21</th>\n",
       "      <td>roc_auc</td>\n",
       "      <td>adv_prim_id</td>\n",
       "      <td>0.004120</td>\n",
       "      <td>0.000715</td>\n",
       "    </tr>\n",
       "    <tr>\n",
       "      <th>22</th>\n",
       "      <td>roc_auc</td>\n",
       "      <td>device_size</td>\n",
       "      <td>0.003292</td>\n",
       "      <td>0.001010</td>\n",
       "    </tr>\n",
       "    <tr>\n",
       "      <th>23</th>\n",
       "      <td>roc_auc</td>\n",
       "      <td>career</td>\n",
       "      <td>0.003048</td>\n",
       "      <td>0.000697</td>\n",
       "    </tr>\n",
       "    <tr>\n",
       "      <th>24</th>\n",
       "      <td>roc_auc</td>\n",
       "      <td>list_time</td>\n",
       "      <td>0.002246</td>\n",
       "      <td>0.000286</td>\n",
       "    </tr>\n",
       "    <tr>\n",
       "      <th>25</th>\n",
       "      <td>roc_auc</td>\n",
       "      <td>communication_onlinerate</td>\n",
       "      <td>0.002119</td>\n",
       "      <td>0.000628</td>\n",
       "    </tr>\n",
       "    <tr>\n",
       "      <th>26</th>\n",
       "      <td>roc_auc</td>\n",
       "      <td>device_price</td>\n",
       "      <td>0.001890</td>\n",
       "      <td>0.000895</td>\n",
       "    </tr>\n",
       "    <tr>\n",
       "      <th>27</th>\n",
       "      <td>roc_auc</td>\n",
       "      <td>emui_dev</td>\n",
       "      <td>0.001109</td>\n",
       "      <td>0.000206</td>\n",
       "    </tr>\n",
       "    <tr>\n",
       "      <th>28</th>\n",
       "      <td>roc_auc</td>\n",
       "      <td>net_type</td>\n",
       "      <td>0.001007</td>\n",
       "      <td>0.000210</td>\n",
       "    </tr>\n",
       "    <tr>\n",
       "      <th>29</th>\n",
       "      <td>roc_auc</td>\n",
       "      <td>gender</td>\n",
       "      <td>0.000813</td>\n",
       "      <td>0.000200</td>\n",
       "    </tr>\n",
       "    <tr>\n",
       "      <th>30</th>\n",
       "      <td>roc_auc</td>\n",
       "      <td>communication_avgonline_30d</td>\n",
       "      <td>0.000668</td>\n",
       "      <td>0.000302</td>\n",
       "    </tr>\n",
       "    <tr>\n",
       "      <th>31</th>\n",
       "      <td>roc_auc</td>\n",
       "      <td>city_rank</td>\n",
       "      <td>0.000634</td>\n",
       "      <td>0.000154</td>\n",
       "    </tr>\n",
       "    <tr>\n",
       "      <th>32</th>\n",
       "      <td>roc_auc</td>\n",
       "      <td>pt_d</td>\n",
       "      <td>0.000268</td>\n",
       "      <td>0.000112</td>\n",
       "    </tr>\n",
       "    <tr>\n",
       "      <th>33</th>\n",
       "      <td>roc_auc</td>\n",
       "      <td>consume_purchase</td>\n",
       "      <td>0.000247</td>\n",
       "      <td>0.000089</td>\n",
       "    </tr>\n",
       "    <tr>\n",
       "      <th>34</th>\n",
       "      <td>roc_auc</td>\n",
       "      <td>inter_type_cd</td>\n",
       "      <td>0.000008</td>\n",
       "      <td>0.000003</td>\n",
       "    </tr>\n",
       "  </tbody>\n",
       "</table>\n",
       "</div>"
      ],
      "text/plain": [
       "          metric_name                 feature_name  metric_mean  \\\n",
       "0   average_precision                       adv_id     0.053603   \n",
       "1   average_precision                      slot_id     0.043309   \n",
       "2   average_precision                         city     0.012961   \n",
       "3   average_precision                          age     0.012066   \n",
       "4   average_precision                  device_size     0.007031   \n",
       "5   average_precision                 his_app_size     0.006827   \n",
       "6   average_precision     communication_onlinerate     0.006441   \n",
       "7   average_precision                       career     0.006397   \n",
       "8   average_precision                  adv_prim_id     0.005482   \n",
       "9   average_precision                 device_price     0.002916   \n",
       "10  average_precision                       gender     0.002265   \n",
       "11  average_precision                     emui_dev     0.001379   \n",
       "12  average_precision                    list_time     0.001295   \n",
       "13  average_precision  communication_avgonline_30d     0.001203   \n",
       "14  average_precision                    city_rank     0.001095   \n",
       "15  average_precision             up_life_duration     0.000689   \n",
       "16  average_precision                         pt_d     0.000561   \n",
       "17            roc_auc                       adv_id     0.079517   \n",
       "18            roc_auc                      slot_id     0.060020   \n",
       "19            roc_auc                          age     0.005321   \n",
       "20            roc_auc                         city     0.004122   \n",
       "21            roc_auc                  adv_prim_id     0.004120   \n",
       "22            roc_auc                  device_size     0.003292   \n",
       "23            roc_auc                       career     0.003048   \n",
       "24            roc_auc                    list_time     0.002246   \n",
       "25            roc_auc     communication_onlinerate     0.002119   \n",
       "26            roc_auc                 device_price     0.001890   \n",
       "27            roc_auc                     emui_dev     0.001109   \n",
       "28            roc_auc                     net_type     0.001007   \n",
       "29            roc_auc                       gender     0.000813   \n",
       "30            roc_auc  communication_avgonline_30d     0.000668   \n",
       "31            roc_auc                    city_rank     0.000634   \n",
       "32            roc_auc                         pt_d     0.000268   \n",
       "33            roc_auc             consume_purchase     0.000247   \n",
       "34            roc_auc                inter_type_cd     0.000008   \n",
       "\n",
       "    metric_std_dev  \n",
       "0         0.002183  \n",
       "1         0.003156  \n",
       "2         0.001394  \n",
       "3         0.001944  \n",
       "4         0.001541  \n",
       "5         0.001260  \n",
       "6         0.001109  \n",
       "7         0.001760  \n",
       "8         0.001684  \n",
       "9         0.000559  \n",
       "10        0.000400  \n",
       "11        0.000559  \n",
       "12        0.000492  \n",
       "13        0.000596  \n",
       "14        0.000353  \n",
       "15        0.000287  \n",
       "16        0.000245  \n",
       "17        0.002664  \n",
       "18        0.006323  \n",
       "19        0.000476  \n",
       "20        0.001010  \n",
       "21        0.000715  \n",
       "22        0.001010  \n",
       "23        0.000697  \n",
       "24        0.000286  \n",
       "25        0.000628  \n",
       "26        0.000895  \n",
       "27        0.000206  \n",
       "28        0.000210  \n",
       "29        0.000200  \n",
       "30        0.000302  \n",
       "31        0.000154  \n",
       "32        0.000112  \n",
       "33        0.000089  \n",
       "34        0.000003  "
      ]
     },
     "execution_count": 18,
     "metadata": {},
     "output_type": "execute_result"
    }
   ],
   "source": [
    "perm_results_df = bin_class_utils.check_out_permutation_importance(\n",
    "    composite_estimator, \n",
    "    train_cap_x_df, \n",
    "    train_y_df, \n",
    "    PERMUTATION_IMPORTANCE_RANDOM_STATE,\n",
    "    PERMUTATION_SCORING_LIST\n",
    ")\n",
    "perm_results_df"
   ]
  },
  {
   "cell_type": "markdown",
   "id": "1ecdfa7e",
   "metadata": {},
   "source": [
    "#### 11. Feature selection and engineering"
   ]
  },
  {
   "cell_type": "code",
   "execution_count": 19,
   "id": "91869a26",
   "metadata": {
    "ExecuteTime": {
     "end_time": "2023-12-11T02:15:27.878246Z",
     "start_time": "2023-12-11T02:15:27.873094Z"
    }
   },
   "outputs": [
    {
     "data": {
      "text/plain": [
       "['device_size',\n",
       " 'pt_d',\n",
       " 'career',\n",
       " 'emui_dev',\n",
       " 'communication_avgonline_30d',\n",
       " 'adv_prim_id',\n",
       " 'gender',\n",
       " 'list_time',\n",
       " 'city_rank',\n",
       " 'communication_onlinerate',\n",
       " 'device_price']"
      ]
     },
     "execution_count": 19,
     "metadata": {},
     "output_type": "execute_result"
    }
   ],
   "source": [
    "common_least_important_attrs = bin_class_utils.drop_least_important_attrs(perm_results_df, PERM_DROP_THRESHOLD_PERCENT)\n",
    "common_least_important_attrs"
   ]
  },
  {
   "cell_type": "markdown",
   "id": "d1e081c7",
   "metadata": {},
   "source": [
    "#### 12. Fit and evaluate again"
   ]
  },
  {
   "cell_type": "code",
   "execution_count": 20,
   "id": "f42004838d70c87c",
   "metadata": {
    "ExecuteTime": {
     "end_time": "2023-12-11T02:15:27.882056Z",
     "start_time": "2023-12-11T02:15:27.877672Z"
    }
   },
   "outputs": [
    {
     "data": {
      "text/plain": [
       "['device_size',\n",
       " 'pt_d',\n",
       " 'spread_app_id',\n",
       " 'career',\n",
       " 'emui_dev',\n",
       " 'app_score',\n",
       " 'communication_avgonline_30d',\n",
       " 'adv_prim_id',\n",
       " 'gender',\n",
       " 'list_time',\n",
       " 'uid',\n",
       " 'task_id',\n",
       " 'tags',\n",
       " 'dev_id',\n",
       " 'city_rank',\n",
       " 'his_on_shelf_time',\n",
       " 'communication_onlinerate',\n",
       " 'device_price']"
      ]
     },
     "execution_count": 20,
     "metadata": {},
     "output_type": "execute_result"
    }
   ],
   "source": [
    "attrs_to_drop_exp = list(set(ATTRS_TO_DROP + common_least_important_attrs))\n",
    "attrs_to_drop_exp"
   ]
  },
  {
   "cell_type": "code",
   "execution_count": 21,
   "id": "396030d359468bbd",
   "metadata": {
    "ExecuteTime": {
     "end_time": "2023-12-11T02:15:27.893106Z",
     "start_time": "2023-12-11T02:15:27.881353Z"
    }
   },
   "outputs": [],
   "source": [
    "preprocessor_exp = bin_class_utils.build_preprocessing_pipeline(numerical_attr_list, categorical_attr_list, attrs_to_drop_exp, TARGET_TYPE, TARGET_ENCODING_RANDOM_STATE)\n",
    "\n",
    "estimator_exp = bin_class_utils.get_default_model(ESTIMATOR_NAME, MODEL_RANDOM_STATE)\n",
    "\n",
    "composite_estimator_exp = Pipeline(steps=[\n",
    "    ('preprocessor', preprocessor_exp), \n",
    "    ('estimator', estimator_exp)\n",
    "])"
   ]
  },
  {
   "cell_type": "code",
   "execution_count": 22,
   "id": "e3f3fcbb071e47f7",
   "metadata": {
    "ExecuteTime": {
     "end_time": "2023-12-11T02:15:32.035834Z",
     "start_time": "2023-12-11T02:15:27.888776Z"
    }
   },
   "outputs": [
    {
     "data": {
      "text/html": [
       "<style>#sk-container-id-5 {color: black;}#sk-container-id-5 pre{padding: 0;}#sk-container-id-5 div.sk-toggleable {background-color: white;}#sk-container-id-5 label.sk-toggleable__label {cursor: pointer;display: block;width: 100%;margin-bottom: 0;padding: 0.3em;box-sizing: border-box;text-align: center;}#sk-container-id-5 label.sk-toggleable__label-arrow:before {content: \"▸\";float: left;margin-right: 0.25em;color: #696969;}#sk-container-id-5 label.sk-toggleable__label-arrow:hover:before {color: black;}#sk-container-id-5 div.sk-estimator:hover label.sk-toggleable__label-arrow:before {color: black;}#sk-container-id-5 div.sk-toggleable__content {max-height: 0;max-width: 0;overflow: hidden;text-align: left;background-color: #f0f8ff;}#sk-container-id-5 div.sk-toggleable__content pre {margin: 0.2em;color: black;border-radius: 0.25em;background-color: #f0f8ff;}#sk-container-id-5 input.sk-toggleable__control:checked~div.sk-toggleable__content {max-height: 200px;max-width: 100%;overflow: auto;}#sk-container-id-5 input.sk-toggleable__control:checked~label.sk-toggleable__label-arrow:before {content: \"▾\";}#sk-container-id-5 div.sk-estimator input.sk-toggleable__control:checked~label.sk-toggleable__label {background-color: #d4ebff;}#sk-container-id-5 div.sk-label input.sk-toggleable__control:checked~label.sk-toggleable__label {background-color: #d4ebff;}#sk-container-id-5 input.sk-hidden--visually {border: 0;clip: rect(1px 1px 1px 1px);clip: rect(1px, 1px, 1px, 1px);height: 1px;margin: -1px;overflow: hidden;padding: 0;position: absolute;width: 1px;}#sk-container-id-5 div.sk-estimator {font-family: monospace;background-color: #f0f8ff;border: 1px dotted black;border-radius: 0.25em;box-sizing: border-box;margin-bottom: 0.5em;}#sk-container-id-5 div.sk-estimator:hover {background-color: #d4ebff;}#sk-container-id-5 div.sk-parallel-item::after {content: \"\";width: 100%;border-bottom: 1px solid gray;flex-grow: 1;}#sk-container-id-5 div.sk-label:hover label.sk-toggleable__label {background-color: #d4ebff;}#sk-container-id-5 div.sk-serial::before {content: \"\";position: absolute;border-left: 1px solid gray;box-sizing: border-box;top: 0;bottom: 0;left: 50%;z-index: 0;}#sk-container-id-5 div.sk-serial {display: flex;flex-direction: column;align-items: center;background-color: white;padding-right: 0.2em;padding-left: 0.2em;position: relative;}#sk-container-id-5 div.sk-item {position: relative;z-index: 1;}#sk-container-id-5 div.sk-parallel {display: flex;align-items: stretch;justify-content: center;background-color: white;position: relative;}#sk-container-id-5 div.sk-item::before, #sk-container-id-5 div.sk-parallel-item::before {content: \"\";position: absolute;border-left: 1px solid gray;box-sizing: border-box;top: 0;bottom: 0;left: 50%;z-index: -1;}#sk-container-id-5 div.sk-parallel-item {display: flex;flex-direction: column;z-index: 1;position: relative;background-color: white;}#sk-container-id-5 div.sk-parallel-item:first-child::after {align-self: flex-end;width: 50%;}#sk-container-id-5 div.sk-parallel-item:last-child::after {align-self: flex-start;width: 50%;}#sk-container-id-5 div.sk-parallel-item:only-child::after {width: 0;}#sk-container-id-5 div.sk-dashed-wrapped {border: 1px dashed gray;margin: 0 0.4em 0.5em 0.4em;box-sizing: border-box;padding-bottom: 0.4em;background-color: white;}#sk-container-id-5 div.sk-label label {font-family: monospace;font-weight: bold;display: inline-block;line-height: 1.2em;}#sk-container-id-5 div.sk-label-container {text-align: center;}#sk-container-id-5 div.sk-container {/* jupyter's `normalize.less` sets `[hidden] { display: none; }` but bootstrap.min.css set `[hidden] { display: none !important; }` so we also need the `!important` here to be able to override the default hidden behavior on the sphinx rendered scikit-learn.org. See: https://github.com/scikit-learn/scikit-learn/issues/21755 */display: inline-block !important;position: relative;}#sk-container-id-5 div.sk-text-repr-fallback {display: none;}</style><div id=\"sk-container-id-5\" class=\"sk-top-container\"><div class=\"sk-text-repr-fallback\"><pre>Pipeline(steps=[(&#x27;preprocessor&#x27;,\n",
       "                 ColumnTransformer(transformers=[(&#x27;numerical&#x27;,\n",
       "                                                  Pipeline(steps=[(&#x27;column_dropper&#x27;,\n",
       "                                                                   DropColumnsTransformer(attrs_to_drop=[&#x27;device_size&#x27;,\n",
       "                                                                                                         &#x27;pt_d&#x27;,\n",
       "                                                                                                         &#x27;spread_app_id&#x27;,\n",
       "                                                                                                         &#x27;career&#x27;,\n",
       "                                                                                                         &#x27;emui_dev&#x27;,\n",
       "                                                                                                         &#x27;app_score&#x27;,\n",
       "                                                                                                         &#x27;communication_avgonline_30d&#x27;,\n",
       "                                                                                                         &#x27;adv_prim_id&#x27;,\n",
       "                                                                                                         &#x27;gender&#x27;,\n",
       "                                                                                                         &#x27;list_time&#x27;,\n",
       "                                                                                                         &#x27;uid&#x27;,\n",
       "                                                                                                         &#x27;task_id&#x27;,\n",
       "                                                                                                         &#x27;tags&#x27;,\n",
       "                                                                                                         &#x27;dev_id&#x27;,\n",
       "                                                                                                         &#x27;city_rank&#x27;,\n",
       "                                                                                                         &#x27;his_on_shelf_time&#x27;,\n",
       "                                                                                                         &#x27;co...\n",
       "                                                   &#x27;app_first_class&#x27;,\n",
       "                                                   &#x27;app_second_class&#x27;, &#x27;age&#x27;,\n",
       "                                                   &#x27;city&#x27;, &#x27;city_rank&#x27;,\n",
       "                                                   &#x27;device_name&#x27;, &#x27;device_size&#x27;,\n",
       "                                                   &#x27;career&#x27;, &#x27;gender&#x27;,\n",
       "                                                   &#x27;net_type&#x27;, &#x27;residence&#x27;,\n",
       "                                                   &#x27;his_app_size&#x27;,\n",
       "                                                   &#x27;his_on_shelf_time&#x27;,\n",
       "                                                   &#x27;app_score&#x27;, &#x27;emui_dev&#x27;,\n",
       "                                                   &#x27;list_time&#x27;, &#x27;device_price&#x27;,\n",
       "                                                   &#x27;up_life_duration&#x27;,\n",
       "                                                   &#x27;up_membership_grade&#x27;,\n",
       "                                                   &#x27;membership_life_duration&#x27;, ...])])),\n",
       "                (&#x27;estimator&#x27;, GradientBoostingClassifier(random_state=42))])</pre><b>In a Jupyter environment, please rerun this cell to show the HTML representation or trust the notebook. <br />On GitHub, the HTML representation is unable to render, please try loading this page with nbviewer.org.</b></div><div class=\"sk-container\" hidden><div class=\"sk-item sk-dashed-wrapped\"><div class=\"sk-label-container\"><div class=\"sk-label sk-toggleable\"><input class=\"sk-toggleable__control sk-hidden--visually\" id=\"sk-estimator-id-36\" type=\"checkbox\" ><label for=\"sk-estimator-id-36\" class=\"sk-toggleable__label sk-toggleable__label-arrow\">Pipeline</label><div class=\"sk-toggleable__content\"><pre>Pipeline(steps=[(&#x27;preprocessor&#x27;,\n",
       "                 ColumnTransformer(transformers=[(&#x27;numerical&#x27;,\n",
       "                                                  Pipeline(steps=[(&#x27;column_dropper&#x27;,\n",
       "                                                                   DropColumnsTransformer(attrs_to_drop=[&#x27;device_size&#x27;,\n",
       "                                                                                                         &#x27;pt_d&#x27;,\n",
       "                                                                                                         &#x27;spread_app_id&#x27;,\n",
       "                                                                                                         &#x27;career&#x27;,\n",
       "                                                                                                         &#x27;emui_dev&#x27;,\n",
       "                                                                                                         &#x27;app_score&#x27;,\n",
       "                                                                                                         &#x27;communication_avgonline_30d&#x27;,\n",
       "                                                                                                         &#x27;adv_prim_id&#x27;,\n",
       "                                                                                                         &#x27;gender&#x27;,\n",
       "                                                                                                         &#x27;list_time&#x27;,\n",
       "                                                                                                         &#x27;uid&#x27;,\n",
       "                                                                                                         &#x27;task_id&#x27;,\n",
       "                                                                                                         &#x27;tags&#x27;,\n",
       "                                                                                                         &#x27;dev_id&#x27;,\n",
       "                                                                                                         &#x27;city_rank&#x27;,\n",
       "                                                                                                         &#x27;his_on_shelf_time&#x27;,\n",
       "                                                                                                         &#x27;co...\n",
       "                                                   &#x27;app_first_class&#x27;,\n",
       "                                                   &#x27;app_second_class&#x27;, &#x27;age&#x27;,\n",
       "                                                   &#x27;city&#x27;, &#x27;city_rank&#x27;,\n",
       "                                                   &#x27;device_name&#x27;, &#x27;device_size&#x27;,\n",
       "                                                   &#x27;career&#x27;, &#x27;gender&#x27;,\n",
       "                                                   &#x27;net_type&#x27;, &#x27;residence&#x27;,\n",
       "                                                   &#x27;his_app_size&#x27;,\n",
       "                                                   &#x27;his_on_shelf_time&#x27;,\n",
       "                                                   &#x27;app_score&#x27;, &#x27;emui_dev&#x27;,\n",
       "                                                   &#x27;list_time&#x27;, &#x27;device_price&#x27;,\n",
       "                                                   &#x27;up_life_duration&#x27;,\n",
       "                                                   &#x27;up_membership_grade&#x27;,\n",
       "                                                   &#x27;membership_life_duration&#x27;, ...])])),\n",
       "                (&#x27;estimator&#x27;, GradientBoostingClassifier(random_state=42))])</pre></div></div></div><div class=\"sk-serial\"><div class=\"sk-item sk-dashed-wrapped\"><div class=\"sk-label-container\"><div class=\"sk-label sk-toggleable\"><input class=\"sk-toggleable__control sk-hidden--visually\" id=\"sk-estimator-id-37\" type=\"checkbox\" ><label for=\"sk-estimator-id-37\" class=\"sk-toggleable__label sk-toggleable__label-arrow\">preprocessor: ColumnTransformer</label><div class=\"sk-toggleable__content\"><pre>ColumnTransformer(transformers=[(&#x27;numerical&#x27;,\n",
       "                                 Pipeline(steps=[(&#x27;column_dropper&#x27;,\n",
       "                                                  DropColumnsTransformer(attrs_to_drop=[&#x27;device_size&#x27;,\n",
       "                                                                                        &#x27;pt_d&#x27;,\n",
       "                                                                                        &#x27;spread_app_id&#x27;,\n",
       "                                                                                        &#x27;career&#x27;,\n",
       "                                                                                        &#x27;emui_dev&#x27;,\n",
       "                                                                                        &#x27;app_score&#x27;,\n",
       "                                                                                        &#x27;communication_avgonline_30d&#x27;,\n",
       "                                                                                        &#x27;adv_prim_id&#x27;,\n",
       "                                                                                        &#x27;gender&#x27;,\n",
       "                                                                                        &#x27;list_time&#x27;,\n",
       "                                                                                        &#x27;uid&#x27;,\n",
       "                                                                                        &#x27;task_id&#x27;,\n",
       "                                                                                        &#x27;tags&#x27;,\n",
       "                                                                                        &#x27;dev_id&#x27;,\n",
       "                                                                                        &#x27;city_rank&#x27;,\n",
       "                                                                                        &#x27;his_on_shelf_time&#x27;,\n",
       "                                                                                        &#x27;communication_onlinerate&#x27;,\n",
       "                                                                                        &#x27;device_...\n",
       "                                  &#x27;adv_prim_id&#x27;, &#x27;dev_id&#x27;, &#x27;inter_type_cd&#x27;,\n",
       "                                  &#x27;slot_id&#x27;, &#x27;spread_app_id&#x27;, &#x27;tags&#x27;,\n",
       "                                  &#x27;app_first_class&#x27;, &#x27;app_second_class&#x27;, &#x27;age&#x27;,\n",
       "                                  &#x27;city&#x27;, &#x27;city_rank&#x27;, &#x27;device_name&#x27;,\n",
       "                                  &#x27;device_size&#x27;, &#x27;career&#x27;, &#x27;gender&#x27;, &#x27;net_type&#x27;,\n",
       "                                  &#x27;residence&#x27;, &#x27;his_app_size&#x27;,\n",
       "                                  &#x27;his_on_shelf_time&#x27;, &#x27;app_score&#x27;, &#x27;emui_dev&#x27;,\n",
       "                                  &#x27;list_time&#x27;, &#x27;device_price&#x27;,\n",
       "                                  &#x27;up_life_duration&#x27;, &#x27;up_membership_grade&#x27;,\n",
       "                                  &#x27;membership_life_duration&#x27;, ...])])</pre></div></div></div><div class=\"sk-parallel\"><div class=\"sk-parallel-item\"><div class=\"sk-item\"><div class=\"sk-label-container\"><div class=\"sk-label sk-toggleable\"><input class=\"sk-toggleable__control sk-hidden--visually\" id=\"sk-estimator-id-38\" type=\"checkbox\" ><label for=\"sk-estimator-id-38\" class=\"sk-toggleable__label sk-toggleable__label-arrow\">numerical</label><div class=\"sk-toggleable__content\"><pre>[]</pre></div></div></div><div class=\"sk-serial\"><div class=\"sk-item\"><div class=\"sk-serial\"><div class=\"sk-item\"><div class=\"sk-estimator sk-toggleable\"><input class=\"sk-toggleable__control sk-hidden--visually\" id=\"sk-estimator-id-39\" type=\"checkbox\" ><label for=\"sk-estimator-id-39\" class=\"sk-toggleable__label sk-toggleable__label-arrow\">DropColumnsTransformer</label><div class=\"sk-toggleable__content\"><pre>DropColumnsTransformer(attrs_to_drop=[&#x27;device_size&#x27;, &#x27;pt_d&#x27;, &#x27;spread_app_id&#x27;,\n",
       "                                      &#x27;career&#x27;, &#x27;emui_dev&#x27;, &#x27;app_score&#x27;,\n",
       "                                      &#x27;communication_avgonline_30d&#x27;,\n",
       "                                      &#x27;adv_prim_id&#x27;, &#x27;gender&#x27;, &#x27;list_time&#x27;,\n",
       "                                      &#x27;uid&#x27;, &#x27;task_id&#x27;, &#x27;tags&#x27;, &#x27;dev_id&#x27;,\n",
       "                                      &#x27;city_rank&#x27;, &#x27;his_on_shelf_time&#x27;,\n",
       "                                      &#x27;communication_onlinerate&#x27;,\n",
       "                                      &#x27;device_price&#x27;])</pre></div></div></div><div class=\"sk-item\"><div class=\"sk-estimator sk-toggleable\"><input class=\"sk-toggleable__control sk-hidden--visually\" id=\"sk-estimator-id-40\" type=\"checkbox\" ><label for=\"sk-estimator-id-40\" class=\"sk-toggleable__label sk-toggleable__label-arrow\">SimpleImputer</label><div class=\"sk-toggleable__content\"><pre>SimpleImputer()</pre></div></div></div><div class=\"sk-item\"><div class=\"sk-estimator sk-toggleable\"><input class=\"sk-toggleable__control sk-hidden--visually\" id=\"sk-estimator-id-41\" type=\"checkbox\" ><label for=\"sk-estimator-id-41\" class=\"sk-toggleable__label sk-toggleable__label-arrow\">StandardScaler</label><div class=\"sk-toggleable__content\"><pre>StandardScaler()</pre></div></div></div></div></div></div></div></div><div class=\"sk-parallel-item\"><div class=\"sk-item\"><div class=\"sk-label-container\"><div class=\"sk-label sk-toggleable\"><input class=\"sk-toggleable__control sk-hidden--visually\" id=\"sk-estimator-id-42\" type=\"checkbox\" ><label for=\"sk-estimator-id-42\" class=\"sk-toggleable__label sk-toggleable__label-arrow\">categorical</label><div class=\"sk-toggleable__content\"><pre>[&#x27;uid&#x27;, &#x27;task_id&#x27;, &#x27;adv_id&#x27;, &#x27;creat_type_cd&#x27;, &#x27;adv_prim_id&#x27;, &#x27;dev_id&#x27;, &#x27;inter_type_cd&#x27;, &#x27;slot_id&#x27;, &#x27;spread_app_id&#x27;, &#x27;tags&#x27;, &#x27;app_first_class&#x27;, &#x27;app_second_class&#x27;, &#x27;age&#x27;, &#x27;city&#x27;, &#x27;city_rank&#x27;, &#x27;device_name&#x27;, &#x27;device_size&#x27;, &#x27;career&#x27;, &#x27;gender&#x27;, &#x27;net_type&#x27;, &#x27;residence&#x27;, &#x27;his_app_size&#x27;, &#x27;his_on_shelf_time&#x27;, &#x27;app_score&#x27;, &#x27;emui_dev&#x27;, &#x27;list_time&#x27;, &#x27;device_price&#x27;, &#x27;up_life_duration&#x27;, &#x27;up_membership_grade&#x27;, &#x27;membership_life_duration&#x27;, &#x27;consume_purchase&#x27;, &#x27;communication_onlinerate&#x27;, &#x27;communication_avgonline_30d&#x27;, &#x27;indu_name&#x27;, &#x27;pt_d&#x27;]</pre></div></div></div><div class=\"sk-serial\"><div class=\"sk-item\"><div class=\"sk-serial\"><div class=\"sk-item\"><div class=\"sk-estimator sk-toggleable\"><input class=\"sk-toggleable__control sk-hidden--visually\" id=\"sk-estimator-id-43\" type=\"checkbox\" ><label for=\"sk-estimator-id-43\" class=\"sk-toggleable__label sk-toggleable__label-arrow\">DropColumnsTransformer</label><div class=\"sk-toggleable__content\"><pre>DropColumnsTransformer(attrs_to_drop=[&#x27;device_size&#x27;, &#x27;pt_d&#x27;, &#x27;spread_app_id&#x27;,\n",
       "                                      &#x27;career&#x27;, &#x27;emui_dev&#x27;, &#x27;app_score&#x27;,\n",
       "                                      &#x27;communication_avgonline_30d&#x27;,\n",
       "                                      &#x27;adv_prim_id&#x27;, &#x27;gender&#x27;, &#x27;list_time&#x27;,\n",
       "                                      &#x27;uid&#x27;, &#x27;task_id&#x27;, &#x27;tags&#x27;, &#x27;dev_id&#x27;,\n",
       "                                      &#x27;city_rank&#x27;, &#x27;his_on_shelf_time&#x27;,\n",
       "                                      &#x27;communication_onlinerate&#x27;,\n",
       "                                      &#x27;device_price&#x27;])</pre></div></div></div><div class=\"sk-item\"><div class=\"sk-estimator sk-toggleable\"><input class=\"sk-toggleable__control sk-hidden--visually\" id=\"sk-estimator-id-44\" type=\"checkbox\" ><label for=\"sk-estimator-id-44\" class=\"sk-toggleable__label sk-toggleable__label-arrow\">SimpleImputer</label><div class=\"sk-toggleable__content\"><pre>SimpleImputer(strategy=&#x27;most_frequent&#x27;)</pre></div></div></div><div class=\"sk-item\"><div class=\"sk-estimator sk-toggleable\"><input class=\"sk-toggleable__control sk-hidden--visually\" id=\"sk-estimator-id-45\" type=\"checkbox\" ><label for=\"sk-estimator-id-45\" class=\"sk-toggleable__label sk-toggleable__label-arrow\">TargetEncoder</label><div class=\"sk-toggleable__content\"><pre>TargetEncoder(random_state=42, target_type=&#x27;binary&#x27;)</pre></div></div></div><div class=\"sk-item\"><div class=\"sk-estimator sk-toggleable\"><input class=\"sk-toggleable__control sk-hidden--visually\" id=\"sk-estimator-id-46\" type=\"checkbox\" ><label for=\"sk-estimator-id-46\" class=\"sk-toggleable__label sk-toggleable__label-arrow\">StandardScaler</label><div class=\"sk-toggleable__content\"><pre>StandardScaler()</pre></div></div></div></div></div></div></div></div></div></div><div class=\"sk-item\"><div class=\"sk-estimator sk-toggleable\"><input class=\"sk-toggleable__control sk-hidden--visually\" id=\"sk-estimator-id-47\" type=\"checkbox\" ><label for=\"sk-estimator-id-47\" class=\"sk-toggleable__label sk-toggleable__label-arrow\">GradientBoostingClassifier</label><div class=\"sk-toggleable__content\"><pre>GradientBoostingClassifier(random_state=42)</pre></div></div></div></div></div></div></div>"
      ],
      "text/plain": [
       "Pipeline(steps=[('preprocessor',\n",
       "                 ColumnTransformer(transformers=[('numerical',\n",
       "                                                  Pipeline(steps=[('column_dropper',\n",
       "                                                                   DropColumnsTransformer(attrs_to_drop=['device_size',\n",
       "                                                                                                         'pt_d',\n",
       "                                                                                                         'spread_app_id',\n",
       "                                                                                                         'career',\n",
       "                                                                                                         'emui_dev',\n",
       "                                                                                                         'app_score',\n",
       "                                                                                                         'communication_avgonline_30d',\n",
       "                                                                                                         'adv_prim_id',\n",
       "                                                                                                         'gender',\n",
       "                                                                                                         'list_time',\n",
       "                                                                                                         'uid',\n",
       "                                                                                                         'task_id',\n",
       "                                                                                                         'tags',\n",
       "                                                                                                         'dev_id',\n",
       "                                                                                                         'city_rank',\n",
       "                                                                                                         'his_on_shelf_time',\n",
       "                                                                                                         'co...\n",
       "                                                   'app_first_class',\n",
       "                                                   'app_second_class', 'age',\n",
       "                                                   'city', 'city_rank',\n",
       "                                                   'device_name', 'device_size',\n",
       "                                                   'career', 'gender',\n",
       "                                                   'net_type', 'residence',\n",
       "                                                   'his_app_size',\n",
       "                                                   'his_on_shelf_time',\n",
       "                                                   'app_score', 'emui_dev',\n",
       "                                                   'list_time', 'device_price',\n",
       "                                                   'up_life_duration',\n",
       "                                                   'up_membership_grade',\n",
       "                                                   'membership_life_duration', ...])])),\n",
       "                ('estimator', GradientBoostingClassifier(random_state=42))])"
      ]
     },
     "execution_count": 22,
     "metadata": {},
     "output_type": "execute_result"
    }
   ],
   "source": [
    "composite_estimator_exp.fit(\n",
    "    train_cap_x_df,\n",
    "    train_y_df.values.ravel()\n",
    ")"
   ]
  },
  {
   "cell_type": "code",
   "execution_count": 23,
   "id": "c73ce0e6d5389143",
   "metadata": {
    "ExecuteTime": {
     "end_time": "2023-12-11T02:15:51.215995Z",
     "start_time": "2023-12-11T02:15:32.034559Z"
    }
   },
   "outputs": [
    {
     "name": "stdout",
     "output_type": "stream",
     "text": [
      "Evaluate the trained estimator performance on train sample exp set\n",
      "Check accuracy score\n",
      "train sample exp set accuracy score: 0.9655419314418688\n",
      "\n",
      "Check classification report\n",
      "{'0': {'precision': 0.9655964671480576, 'recall': 0.9999382010320428, 'f1-score': 0.9824673254701944, 'support': 32363.0}, '1': {'precision': 0.6, 'recall': 0.0025951557093425604, 'f1-score': 0.005167958656330749, 'support': 1156.0}, 'accuracy': 0.9655419314418688, 'macro avg': {'precision': 0.7827982335740288, 'recall': 0.5012666783706927, 'f1-score': 0.4938176420632626, 'support': 33519.0}, 'weighted avg': {'precision': 0.9529878118772215, 'recall': 0.9655419314418688, 'f1-score': 0.948762320307844, 'support': 33519.0}}\n",
      "\n",
      "Check confusion matrix\n",
      "train sample exp set confusion matrix: \n",
      "[[32361     2]\n",
      " [ 1153     3]]\n",
      "True Positives =  32361\n",
      "True Negatives =  3\n",
      "False Positives(Type I error) =  2\n",
      "False Negatives(Type II error) =  1153\n",
      "\n",
      "Check cross validation score\n",
      "\n",
      "accuracy scores: [0.96539379 0.96449881 0.96524463 0.96524463 0.96553782]\n",
      "np.mean(scores): 0.9652\n",
      "np.std(scores, ddof=1): 0.0004\n"
     ]
    },
    {
     "name": "stderr",
     "output_type": "stream",
     "text": [
      "/Users/leon/miniconda3/envs/ctr_venv/lib/python3.10/site-packages/sklearn/metrics/_classification.py:1469: UndefinedMetricWarning: Precision is ill-defined and being set to 0.0 due to no predicted samples. Use `zero_division` parameter to control this behavior.\n",
      "  _warn_prf(average, modifier, msg_start, len(result))\n"
     ]
    },
    {
     "name": "stdout",
     "output_type": "stream",
     "text": [
      "\n",
      "precision scores: [0.   0.   0.25 0.   0.  ]\n",
      "np.mean(scores): 0.0500\n",
      "np.std(scores, ddof=1): 0.1118\n",
      "\n",
      "recall scores: [0.       0.       0.004329 0.       0.      ]\n",
      "np.mean(scores): 0.0009\n",
      "np.std(scores, ddof=1): 0.0019\n",
      "\n",
      "f1 scores: [0.         0.         0.00851064 0.         0.        ]\n",
      "np.mean(scores): 0.0017\n",
      "np.std(scores, ddof=1): 0.0038\n",
      "\n",
      "Check the ROC Curve and AUC\n"
     ]
    },
    {
     "data": {
      "image/png": "[encoded data removed]",
      "text/plain": [
       "<Figure size 640x480 with 1 Axes>"
      ]
     },
     "metadata": {},
     "output_type": "display_data"
    },
    {
     "name": "stdout",
     "output_type": "stream",
     "text": [
      "\n",
      "Check Precision-Recall Curve and Average Precision Score\n"
     ]
    },
    {
     "data": {
      "image/png": "[encoded data removed]",
      "text/plain": [
       "<Figure size 640x480 with 1 Axes>"
      ]
     },
     "metadata": {},
     "output_type": "display_data"
    },
    {
     "data": {
      "text/html": [
       "<div>\n",
       "<style scoped>\n",
       "    .dataframe tbody tr th:only-of-type {\n",
       "        vertical-align: middle;\n",
       "    }\n",
       "\n",
       "    .dataframe tbody tr th {\n",
       "        vertical-align: top;\n",
       "    }\n",
       "\n",
       "    .dataframe thead th {\n",
       "        text-align: right;\n",
       "    }\n",
       "</style>\n",
       "<table border=\"1\" class=\"dataframe\">\n",
       "  <thead>\n",
       "    <tr style=\"text-align: right;\">\n",
       "      <th></th>\n",
       "      <th>stage</th>\n",
       "      <th>accuracy</th>\n",
       "      <th>precision</th>\n",
       "      <th>recall</th>\n",
       "      <th>cv_mean_accuracy</th>\n",
       "      <th>cv_mean_precision</th>\n",
       "      <th>cv_mean_recall</th>\n",
       "      <th>cv_mean_f1</th>\n",
       "      <th>roc_auc_score</th>\n",
       "    </tr>\n",
       "  </thead>\n",
       "  <tbody>\n",
       "    <tr>\n",
       "      <th>0</th>\n",
       "      <td>train sample exp</td>\n",
       "      <td>0.9655</td>\n",
       "      <td>0.6</td>\n",
       "      <td>0.002595</td>\n",
       "      <td>0.9652</td>\n",
       "      <td>0.05</td>\n",
       "      <td>0.0009</td>\n",
       "      <td>0.0017</td>\n",
       "      <td>0.5013</td>\n",
       "    </tr>\n",
       "  </tbody>\n",
       "</table>\n",
       "</div>"
      ],
      "text/plain": [
       "              stage  accuracy  precision    recall  cv_mean_accuracy  \\\n",
       "0  train sample exp    0.9655        0.6  0.002595            0.9652   \n",
       "\n",
       "   cv_mean_precision  cv_mean_recall  cv_mean_f1  roc_auc_score  \n",
       "0               0.05          0.0009      0.0017         0.5013  "
      ]
     },
     "execution_count": 23,
     "metadata": {},
     "output_type": "execute_result"
    }
   ],
   "source": [
    "eval_train_exp_results = bin_class_utils.eval_class(train_cap_x_df, train_y_df, composite_estimator_exp, \"train sample exp\", CVS_SCORING_LIST)\n",
    "eval_train_exp_results"
   ]
  },
  {
   "cell_type": "code",
   "execution_count": 24,
   "id": "bb948bb538d24b7",
   "metadata": {
    "ExecuteTime": {
     "end_time": "2023-12-11T02:15:56.864654Z",
     "start_time": "2023-12-11T02:15:51.214683Z"
    }
   },
   "outputs": [
    {
     "name": "stdout",
     "output_type": "stream",
     "text": [
      "Evaluate the trained estimator performance on validation sample exp set\n",
      "Check accuracy score\n",
      "validation sample exp set accuracy score: 0.9653979238754326\n",
      "\n",
      "Check classification report\n",
      "{'0': {'precision': 0.9656242539985677, 'recall': 0.9997528423133959, 'f1-score': 0.9823922282938676, 'support': 8092.0}, '1': {'precision': 0.3333333333333333, 'recall': 0.0034602076124567475, 'f1-score': 0.006849315068493151, 'support': 289.0}, 'accuracy': 0.9653979238754326, 'macro avg': {'precision': 0.6494787936659505, 'recall': 0.5016065249629263, 'f1-score': 0.4946207716811804, 'support': 8381.0}, 'weighted avg': {'precision': 0.9438211188032147, 'recall': 0.9653979238754326, 'f1-score': 0.9487528174929927, 'support': 8381.0}}\n",
      "\n",
      "Check confusion matrix\n",
      "validation sample exp set confusion matrix: \n",
      "[[8090    2]\n",
      " [ 288    1]]\n",
      "True Positives =  8090\n",
      "True Negatives =  1\n",
      "False Positives(Type I error) =  2\n",
      "False Negatives(Type II error) =  288\n",
      "\n",
      "Check cross validation score\n",
      "\n",
      "accuracy scores: [0.96302922 0.96479714 0.96420048 0.96599045 0.96420048]\n",
      "np.mean(scores): 0.9644\n",
      "np.std(scores, ddof=1): 0.0011\n",
      "\n",
      "precision scores: [0.   0.25 0.   1.   0.  ]\n",
      "np.mean(scores): 0.2500\n",
      "np.std(scores, ddof=1): 0.4330\n",
      "\n",
      "recall scores: [0.         0.01754386 0.         0.01724138 0.        ]\n",
      "np.mean(scores): 0.0070\n",
      "np.std(scores, ddof=1): 0.0095\n",
      "\n",
      "f1 scores: [0.         0.03278689 0.         0.03389831 0.        ]\n",
      "np.mean(scores): 0.0133\n",
      "np.std(scores, ddof=1): 0.0183\n",
      "\n",
      "Check the ROC Curve and AUC\n"
     ]
    },
    {
     "data": {
      "image/png": "[encoded data removed]",
      "text/plain": [
       "<Figure size 640x480 with 1 Axes>"
      ]
     },
     "metadata": {},
     "output_type": "display_data"
    },
    {
     "name": "stdout",
     "output_type": "stream",
     "text": [
      "\n",
      "Check Precision-Recall Curve and Average Precision Score\n"
     ]
    },
    {
     "data": {
      "image/png": "[encoded data removed]",
      "text/plain": [
       "<Figure size 640x480 with 1 Axes>"
      ]
     },
     "metadata": {},
     "output_type": "display_data"
    },
    {
     "data": {
      "text/html": [
       "<div>\n",
       "<style scoped>\n",
       "    .dataframe tbody tr th:only-of-type {\n",
       "        vertical-align: middle;\n",
       "    }\n",
       "\n",
       "    .dataframe tbody tr th {\n",
       "        vertical-align: top;\n",
       "    }\n",
       "\n",
       "    .dataframe thead th {\n",
       "        text-align: right;\n",
       "    }\n",
       "</style>\n",
       "<table border=\"1\" class=\"dataframe\">\n",
       "  <thead>\n",
       "    <tr style=\"text-align: right;\">\n",
       "      <th></th>\n",
       "      <th>stage</th>\n",
       "      <th>accuracy</th>\n",
       "      <th>precision</th>\n",
       "      <th>recall</th>\n",
       "      <th>cv_mean_accuracy</th>\n",
       "      <th>cv_mean_precision</th>\n",
       "      <th>cv_mean_recall</th>\n",
       "      <th>cv_mean_f1</th>\n",
       "      <th>roc_auc_score</th>\n",
       "    </tr>\n",
       "  </thead>\n",
       "  <tbody>\n",
       "    <tr>\n",
       "      <th>0</th>\n",
       "      <td>validation sample exp</td>\n",
       "      <td>0.9654</td>\n",
       "      <td>0.333333</td>\n",
       "      <td>0.00346</td>\n",
       "      <td>0.9644</td>\n",
       "      <td>0.25</td>\n",
       "      <td>0.007</td>\n",
       "      <td>0.0133</td>\n",
       "      <td>0.5016</td>\n",
       "    </tr>\n",
       "  </tbody>\n",
       "</table>\n",
       "</div>"
      ],
      "text/plain": [
       "                   stage  accuracy  precision   recall  cv_mean_accuracy  \\\n",
       "0  validation sample exp    0.9654   0.333333  0.00346            0.9644   \n",
       "\n",
       "   cv_mean_precision  cv_mean_recall  cv_mean_f1  roc_auc_score  \n",
       "0               0.25           0.007      0.0133         0.5016  "
      ]
     },
     "execution_count": 24,
     "metadata": {},
     "output_type": "execute_result"
    }
   ],
   "source": [
    "eval_validation_exp_results = bin_class_utils.eval_class(validation_cap_x_df, validation_y_df, composite_estimator_exp, \"validation sample exp\", CVS_SCORING_LIST)\n",
    "eval_validation_exp_results"
   ]
  },
  {
   "cell_type": "markdown",
   "id": "beac711f7490a6f8",
   "metadata": {
    "collapsed": false,
    "jupyter": {
     "outputs_hidden": false
    }
   },
   "source": [
    "#### 13. Decide attrs to drop for fine-tuning"
   ]
  },
  {
   "cell_type": "code",
   "execution_count": 25,
   "id": "40086b9f99f06441",
   "metadata": {
    "ExecuteTime": {
     "end_time": "2023-12-11T02:15:56.871849Z",
     "start_time": "2023-12-11T02:15:56.867819Z"
    },
    "collapsed": false,
    "jupyter": {
     "outputs_hidden": false
    }
   },
   "outputs": [
    {
     "data": {
      "text/html": [
       "<div>\n",
       "<style scoped>\n",
       "    .dataframe tbody tr th:only-of-type {\n",
       "        vertical-align: middle;\n",
       "    }\n",
       "\n",
       "    .dataframe tbody tr th {\n",
       "        vertical-align: top;\n",
       "    }\n",
       "\n",
       "    .dataframe thead th {\n",
       "        text-align: right;\n",
       "    }\n",
       "</style>\n",
       "<table border=\"1\" class=\"dataframe\">\n",
       "  <thead>\n",
       "    <tr style=\"text-align: right;\">\n",
       "      <th></th>\n",
       "      <th>stage</th>\n",
       "      <th>accuracy</th>\n",
       "      <th>precision</th>\n",
       "      <th>recall</th>\n",
       "      <th>cv_mean_accuracy</th>\n",
       "      <th>cv_mean_precision</th>\n",
       "      <th>cv_mean_recall</th>\n",
       "      <th>cv_mean_f1</th>\n",
       "      <th>roc_auc_score</th>\n",
       "    </tr>\n",
       "  </thead>\n",
       "  <tbody>\n",
       "    <tr>\n",
       "      <th>0</th>\n",
       "      <td>train sample</td>\n",
       "      <td>0.9655</td>\n",
       "      <td>0.428571</td>\n",
       "      <td>0.002595</td>\n",
       "      <td>0.9654</td>\n",
       "      <td>0.00</td>\n",
       "      <td>0.0000</td>\n",
       "      <td>0.0000</td>\n",
       "      <td>0.5012</td>\n",
       "    </tr>\n",
       "    <tr>\n",
       "      <th>0</th>\n",
       "      <td>validation sample</td>\n",
       "      <td>0.9649</td>\n",
       "      <td>0.000000</td>\n",
       "      <td>0.000000</td>\n",
       "      <td>0.9650</td>\n",
       "      <td>0.10</td>\n",
       "      <td>0.0034</td>\n",
       "      <td>0.0067</td>\n",
       "      <td>0.4997</td>\n",
       "    </tr>\n",
       "    <tr>\n",
       "      <th>0</th>\n",
       "      <td>train sample exp</td>\n",
       "      <td>0.9655</td>\n",
       "      <td>0.600000</td>\n",
       "      <td>0.002595</td>\n",
       "      <td>0.9652</td>\n",
       "      <td>0.05</td>\n",
       "      <td>0.0009</td>\n",
       "      <td>0.0017</td>\n",
       "      <td>0.5013</td>\n",
       "    </tr>\n",
       "    <tr>\n",
       "      <th>0</th>\n",
       "      <td>validation sample exp</td>\n",
       "      <td>0.9654</td>\n",
       "      <td>0.333333</td>\n",
       "      <td>0.003460</td>\n",
       "      <td>0.9644</td>\n",
       "      <td>0.25</td>\n",
       "      <td>0.0070</td>\n",
       "      <td>0.0133</td>\n",
       "      <td>0.5016</td>\n",
       "    </tr>\n",
       "  </tbody>\n",
       "</table>\n",
       "</div>"
      ],
      "text/plain": [
       "                   stage  accuracy  precision    recall  cv_mean_accuracy  \\\n",
       "0           train sample    0.9655   0.428571  0.002595            0.9654   \n",
       "0      validation sample    0.9649   0.000000  0.000000            0.9650   \n",
       "0       train sample exp    0.9655   0.600000  0.002595            0.9652   \n",
       "0  validation sample exp    0.9654   0.333333  0.003460            0.9644   \n",
       "\n",
       "   cv_mean_precision  cv_mean_recall  cv_mean_f1  roc_auc_score  \n",
       "0               0.00          0.0000      0.0000         0.5012  \n",
       "0               0.10          0.0034      0.0067         0.4997  \n",
       "0               0.05          0.0009      0.0017         0.5013  \n",
       "0               0.25          0.0070      0.0133         0.5016  "
      ]
     },
     "execution_count": 25,
     "metadata": {},
     "output_type": "execute_result"
    }
   ],
   "source": [
    "compare_df = pd.concat([eval_train_results, eval_validation_results, eval_train_exp_results, eval_validation_exp_results], axis=0)\n",
    "compare_df"
   ]
  },
  {
   "cell_type": "markdown",
   "id": "222daed7",
   "metadata": {},
   "source": [
    "- The model performances before and after dropping some common least important features in permutation importance test are similar. \n",
    "- `accuracy scores` are very close and high. \n",
    "- `recall score` for class 1 doesn't change but `precision score` show some improvements.\n",
    "- `false positives (Type I error)` are very close and low.\n",
    "- `roc_auc_score` and the mean of `precision scores` in cross validation don't show much differences. \n",
    "- Because dropping attributes doesn't significantly decrease the performance, we would apply the new drop list in the fine-tuning stage."
   ]
  },
  {
   "cell_type": "code",
   "execution_count": 26,
   "id": "3251eb40",
   "metadata": {
    "ExecuteTime": {
     "end_time": "2023-12-11T02:15:56.879142Z",
     "start_time": "2023-12-11T02:15:56.871280Z"
    }
   },
   "outputs": [
    {
     "data": {
      "text/plain": [
       "['device_size',\n",
       " 'pt_d',\n",
       " 'spread_app_id',\n",
       " 'career',\n",
       " 'emui_dev',\n",
       " 'app_score',\n",
       " 'communication_avgonline_30d',\n",
       " 'adv_prim_id',\n",
       " 'gender',\n",
       " 'list_time',\n",
       " 'uid',\n",
       " 'task_id',\n",
       " 'tags',\n",
       " 'dev_id',\n",
       " 'city_rank',\n",
       " 'his_on_shelf_time',\n",
       " 'communication_onlinerate',\n",
       " 'device_price']"
      ]
     },
     "execution_count": 26,
     "metadata": {},
     "output_type": "execute_result"
    }
   ],
   "source": [
    "attrs_to_drop_for_fine_tuning = attrs_to_drop_exp\n",
    "\n",
    "attrs_to_drop_for_fine_tuning"
   ]
  },
  {
   "cell_type": "code",
   "execution_count": 27,
   "id": "4ba72c937565bf4d",
   "metadata": {
    "ExecuteTime": {
     "end_time": "2023-12-11T02:15:56.881239Z",
     "start_time": "2023-12-11T02:15:56.874598Z"
    }
   },
   "outputs": [
    {
     "name": "stdout",
     "output_type": "stream",
     "text": [
      "Script run time: 2.3261616150538127 minutes\n"
     ]
    }
   ],
   "source": [
    "end = time.time()\n",
    "print(f'Script run time: {(end - start)/60} minutes')"
   ]
  }
 ],
 "metadata": {
  "kernelspec": {
   "display_name": "Python 3 (ipykernel)",
   "language": "python",
   "name": "python3"
  },
  "language_info": {
   "codemirror_mode": {
    "name": "ipython",
    "version": 3
   },
   "file_extension": ".py",
   "mimetype": "text/x-python",
   "name": "python",
   "nbconvert_exporter": "python",
   "pygments_lexer": "ipython3",
   "version": "3.10.13"
  }
 },
 "nbformat": 4,
 "nbformat_minor": 5
}
