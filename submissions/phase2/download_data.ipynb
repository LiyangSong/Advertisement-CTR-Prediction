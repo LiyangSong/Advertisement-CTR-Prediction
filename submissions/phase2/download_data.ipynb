{
 "cells": [
  {
   "cell_type": "markdown",
   "id": "1b8b5fcc21ab1c57",
   "metadata": {
    "collapsed": false
   },
   "source": [
    "## Download data from S3"
   ]
  },
  {
   "cell_type": "code",
   "execution_count": 6,
   "id": "initial_id",
   "metadata": {
    "collapsed": false,
    "ExecuteTime": {
     "end_time": "2023-10-29T07:45:36.595731800Z",
     "start_time": "2023-10-29T07:45:36.533730200Z"
    }
   },
   "outputs": [],
   "source": [
    "import general_utils\n",
    "import os"
   ]
  },
  {
   "cell_type": "markdown",
   "id": "ec60df34c2d53cfc",
   "metadata": {
    "collapsed": false
   },
   "source": [
    "\n",
    "- All data is stored on an AWS s3 public bucket:\n"
   ]
  },
  {
   "cell_type": "code",
   "execution_count": 7,
   "id": "99b685241aa49d8a",
   "metadata": {
    "collapsed": false,
    "ExecuteTime": {
     "end_time": "2023-10-29T07:45:36.596728400Z",
     "start_time": "2023-10-29T07:45:36.548730Z"
    }
   },
   "outputs": [],
   "source": [
    "RAW_DATA_URL = \"https://ds5220.s3.us-east-2.amazonaws.com/data/raw_data.zip\"\n",
    "RAW_DATA_RESAMPLED_URL = \"https://ds5220.s3.us-east-2.amazonaws.com/data/raw_data_resampled.zip\"\n",
    "\n",
    "raw_zip_path = \"./data/raw_data.zip\"\n",
    "raw_resampled_zip_path = \"./data/raw_data_resampled.zip\"\n",
    "\n",
    "csv_folder = \"./data\"\n",
    "if not os.path.exists(csv_folder):\n",
    "    os.makedirs(csv_folder)\n",
    "raw_csv_path = csv_folder + \"/raw_data.csv\"\n",
    "raw_resampled_csv_path = csv_folder + \"/raw_data_resampled.csv\""
   ]
  },
  {
   "cell_type": "markdown",
   "id": "7cb09cfd90abdb86",
   "metadata": {
    "collapsed": false
   },
   "source": [
    "\n",
    "- As the original dataset contains over `40 million` observations, it could be expensive to run a `GridSearch` or complex modeling (e.g. `random forest`) in the afterward modeling phase.\n",
    "- After communicating with the professor, we would only randomly resample `2.5` of all observations (around `1 million`) from the original set for our project.\n",
    "-  As the target `label` is highly imbalanced, we have applied measures to make sure the same distribution of target values in both the original and resampled set.\n",
    "- Considering the size of the original data, this step is only optional: download and unzip the zip-format raw data:\n"
   ]
  },
  {
   "cell_type": "code",
   "execution_count": 8,
   "id": "d865a370ac5468be",
   "metadata": {
    "collapsed": false,
    "ExecuteTime": {
     "end_time": "2023-10-29T07:45:36.596728400Z",
     "start_time": "2023-10-29T07:45:36.560731Z"
    }
   },
   "outputs": [],
   "source": [
    "# general_utils.download_file(RAW_DATA_URL, raw_zip_path)\n",
    "# general_utils.unzip_file(raw_zip_path, csv_folder)"
   ]
  },
  {
   "cell_type": "markdown",
   "id": "528c6ff5a5c98a74",
   "metadata": {
    "collapsed": false
   },
   "source": [
    "\n",
    "- This step is also optional: read the raw data and resample from it:\n"
   ]
  },
  {
   "cell_type": "code",
   "execution_count": 9,
   "id": "f4649506067171d9",
   "metadata": {
    "collapsed": false,
    "ExecuteTime": {
     "end_time": "2023-10-29T07:45:36.597730100Z",
     "start_time": "2023-10-29T07:45:36.575731300Z"
    }
   },
   "outputs": [],
   "source": [
    "# df = general_utils.read_csv(raw_csv_path, sep=\"|\")\n",
    "# resampled_df = data_prepare_utils.sample_data(df, fraction=0.025)\n",
    "# general_utils.save_to_csv(resampled_df, raw_resampled_csv_path)"
   ]
  },
  {
   "cell_type": "markdown",
   "id": "babbaf995749e90d",
   "metadata": {
    "collapsed": false
   },
   "source": [
    "\n",
    "- For the consideration of time saving, we would recommend to download and unzip the resampled data:\n"
   ]
  },
  {
   "cell_type": "code",
   "execution_count": 10,
   "id": "7d623f0445f0c34e",
   "metadata": {
    "collapsed": false,
    "ExecuteTime": {
     "end_time": "2023-10-29T07:45:49.276729300Z",
     "start_time": "2023-10-29T07:45:36.595731800Z"
    }
   },
   "outputs": [
    {
     "name": "stdout",
     "output_type": "stream",
     "text": [
      "\n",
      "Download file from https://ds5220.s3.us-east-2.amazonaws.com/data/raw_data_resampled.zip:\n"
     ]
    },
    {
     "name": "stderr",
     "output_type": "stream",
     "text": [
      "./data/raw_data_resampled.zip: 3278KB [00:11, 288.28KB/s]                          \n"
     ]
    },
    {
     "name": "stdout",
     "output_type": "stream",
     "text": [
      "Succeed to download and save file: ./data/raw_data_resampled.zip\n",
      "\n",
      "Unzip file from ./data/raw_data_resampled.zip to ./data:\n",
      "Succeed to unzip file: ./data/raw_data_resampled.zip\n"
     ]
    }
   ],
   "source": [
    "general_utils.download_file(RAW_DATA_RESAMPLED_URL, raw_resampled_zip_path)\n",
    "general_utils.unzip_file(raw_resampled_zip_path, csv_folder)"
   ]
  },
  {
   "cell_type": "code",
   "execution_count": 10,
   "id": "3a522c2654b24e22",
   "metadata": {
    "collapsed": false,
    "ExecuteTime": {
     "end_time": "2023-10-29T07:45:49.287730Z",
     "start_time": "2023-10-29T07:45:49.274728400Z"
    }
   },
   "outputs": [],
   "source": []
  }
 ],
 "metadata": {
  "kernelspec": {
   "display_name": "Python 3 (ipykernel)",
   "language": "python",
   "name": "python3"
  },
  "language_info": {
   "codemirror_mode": {
    "name": "ipython",
    "version": 3
   },
   "file_extension": ".py",
   "mimetype": "text/x-python",
   "name": "python",
   "nbconvert_exporter": "python",
   "pygments_lexer": "ipython3",
   "version": "3.10.12"
  }
 },
 "nbformat": 4,
 "nbformat_minor": 5
}
