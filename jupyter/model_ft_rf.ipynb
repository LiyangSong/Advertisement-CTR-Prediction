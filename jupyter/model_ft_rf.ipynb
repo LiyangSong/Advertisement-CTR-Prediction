{
 "cells": [
  {
   "cell_type": "markdown",
   "source": [
    "## Fine-tune the System - Random Forest Classifier"
   ],
   "metadata": {
    "collapsed": false
   },
   "id": "d9c3e4d57310d3c2"
  },
  {
   "cell_type": "markdown",
   "source": [
    "#### 0. Import modules and define parameters "
   ],
   "metadata": {
    "collapsed": false
   },
   "id": "82951387fc723add"
  },
  {
   "cell_type": "code",
   "execution_count": null,
   "outputs": [],
   "source": [],
   "metadata": {
    "collapsed": false
   },
   "id": "7b6e8bbfae57b4f4"
  },
  {
   "cell_type": "markdown",
   "source": [
    "#### 1. Design hyperparameter tuning exp"
   ],
   "metadata": {
    "collapsed": false
   },
   "id": "cf50e2b858bc646c"
  },
  {
   "cell_type": "code",
   "execution_count": null,
   "outputs": [],
   "source": [],
   "metadata": {
    "collapsed": false
   },
   "id": "6eb12751f4f55eff"
  },
  {
   "cell_type": "markdown",
   "source": [
    "#### 2. Perform a random search to tune hyperparameters"
   ],
   "metadata": {
    "collapsed": false
   },
   "id": "a3613b89d30aabbd"
  },
  {
   "cell_type": "code",
   "execution_count": null,
   "outputs": [],
   "source": [],
   "metadata": {
    "collapsed": false
   },
   "id": "1f0498fef8420757"
  },
  {
   "cell_type": "markdown",
   "source": [
    "#### 3. Get the best model hyperparameters"
   ],
   "metadata": {
    "collapsed": false
   },
   "id": "f527dccffe8b11e0"
  },
  {
   "cell_type": "code",
   "execution_count": null,
   "outputs": [],
   "source": [],
   "metadata": {
    "collapsed": false
   },
   "id": "9c2d850f69f999f4"
  },
  {
   "cell_type": "markdown",
   "source": [
    "#### 4. Tune classification threshold on the best model"
   ],
   "metadata": {
    "collapsed": false
   },
   "id": "138e2f122742837d"
  },
  {
   "cell_type": "code",
   "execution_count": null,
   "outputs": [],
   "source": [],
   "metadata": {
    "collapsed": false
   },
   "id": "6d5efc737e3f5d3b"
  }
 ],
 "metadata": {
  "kernelspec": {
   "display_name": "Python 3",
   "language": "python",
   "name": "python3"
  },
  "language_info": {
   "codemirror_mode": {
    "name": "ipython",
    "version": 2
   },
   "file_extension": ".py",
   "mimetype": "text/x-python",
   "name": "python",
   "nbconvert_exporter": "python",
   "pygments_lexer": "ipython2",
   "version": "2.7.6"
  }
 },
 "nbformat": 4,
 "nbformat_minor": 5
}
