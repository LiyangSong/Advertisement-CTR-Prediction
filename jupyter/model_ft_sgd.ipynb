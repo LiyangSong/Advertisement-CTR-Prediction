{
 "cells": [
  {
   "cell_type": "markdown",
   "id": "2e44bd93-e761-4b52-9d28-96cfe0b638c7",
   "metadata": {},
   "source": [
    "## Fune-tune the System -SGD Classifier"
   ]
  },
  {
   "cell_type": "code",
   "execution_count": 1,
   "id": "c4d40d2c-ebff-4c1f-aed6-cc9a20ab31f9",
   "metadata": {},
   "outputs": [],
   "source": [
    "# setting\n",
    "\n",
    "import sys\n",
    "sys.path.append(\"..\")\n",
    "\n",
    "from module.utils import general_utils\n",
    "from module.utils import data_prepare_utils\n",
    "from module.utils import model_performance_utils\n",
    "import module.utils.bin_class_utils as bin_class_utils\n",
    "\n",
    "from sklearn.linear_model import SGDClassifier\n",
    "\n",
    "from sklearn.pipeline import Pipeline\n",
    "\n",
    "import numpy as np\n",
    "import pandas as pd\n",
    "import matplotlib.pyplot as plt"
   ]
  },
  {
   "cell_type": "code",
   "execution_count": 2,
   "id": "7c09c16d-978f-43d8-8176-14ea803b5ef0",
   "metadata": {},
   "outputs": [],
   "source": [
    "target_attr = \"label\"\n",
    "target_type = \"binary\"\n",
    "\n",
    "estimator_name = \"SGDClassifier\"\n",
    "\n",
    "sample_random_state = 24\n",
    "target_encoding_random_state = 42\n",
    "loss = 'log_loss'\n",
    "model_random_state = 42\n",
    "permutation_importance_random_state = 0"
   ]
  },
  {
   "cell_type": "code",
   "execution_count": 3,
   "id": "9b37fa47-1f54-4d1f-a278-38e6fca13737",
   "metadata": {},
   "outputs": [],
   "source": [
    "train_df = pd.read_csv('train_df_exp.csv')\n",
    "train_cap_x_df, train_y_df = train_df.drop(columns=target_attr), train_df[[target_attr]]\n",
    "\n",
    "balanced = train_y_df.shape[0] / (train_y_df[target_attr].nunique()*np.bincount(train_y_df[target_attr]))\n",
    "balanced_and_normalized_dict = \\\n",
    "    dict(\n",
    "        zip(\n",
    "            train_y_df[target_attr].unique(),\n",
    "            balanced/sum(balanced)\n",
    "            )\n",
    "        )"
   ]
  },
  {
   "cell_type": "code",
   "execution_count": 4,
   "id": "ca8d17d9-0570-4fd0-a3c0-7f2aef2c9248",
   "metadata": {},
   "outputs": [],
   "source": [
    "numerical_attr_list = []\n",
    "categorical_attr_list = [attr for attr in train_cap_x_df.columns if attr not in numerical_attr_list and attr != target_attr]\n",
    "attr_list = numerical_attr_list + categorical_attr_list"
   ]
  },
  {
   "cell_type": "code",
   "execution_count": 5,
   "id": "262e5587-e2d2-4e13-9530-90354993c3dd",
   "metadata": {},
   "outputs": [],
   "source": [
    "attrs_to_drop = ['app_score', 'his_on_shelf_time', 'task_id', 'spread_app_id', 'tags', 'dev_id', 'app_second_class', 'adv_prim_id', 'device_price']\n",
    "preprocessor = bin_class_utils.build_preprocessing_pipeline(numerical_attr_list, categorical_attr_list, attrs_to_drop, target_type, target_encoding_random_state)\n",
    "estimator = SGDClassifier(loss=loss, random_state=model_random_state, class_weight=balanced_and_normalized_dict)\n",
    "dt_pipe = Pipeline([('preprocessor', preprocessor), ('estimator', estimator)])"
   ]
  },
  {
   "cell_type": "markdown",
   "id": "64dcd217-67f0-4599-ab94-4d0a7bfc4530",
   "metadata": {},
   "source": [
    "#### 0. Tune Hyperparameters of Composite Estimator - Ranking Metrics"
   ]
  },
  {
   "cell_type": "code",
   "execution_count": 6,
   "id": "b8c60239-764c-4319-86a9-aa383f1d7374",
   "metadata": {},
   "outputs": [
    {
     "name": "stdout",
     "output_type": "stream",
     "text": [
      "Best estimator: {'estimator__alpha': 0.001, 'estimator__loss': 'log_loss', 'estimator__max_iter': 1000, 'estimator__penalty': 'l1', 'preprocessor__categorical__target_encoder__smooth': 'auto', 'preprocessor__numerical__imputer__strategy': 'mean'}\n",
      "accuracy: 0.6943615751789977\n",
      "ave_precision_score: 0.054408123414260476\n",
      "roc_curve_auc: 0.6538739338832031\n"
     ]
    }
   ],
   "source": [
    "best_model = bin_class_utils.tune_hyperparameters_sgd(train_cap_x_df, train_y_df, dt_pipe)"
   ]
  },
  {
   "cell_type": "markdown",
   "id": "97f38346-66ee-4ac0-ba89-a2da8e4f12ad",
   "metadata": {},
   "source": [
    "#### 1. Evaluate Tuned Composite Estimators"
   ]
  },
  {
   "cell_type": "markdown",
   "id": "4aae9407-9e0c-4898-bf1e-c174a533494c",
   "metadata": {},
   "source": [
    "#### 2. Calibrate Composite Estimator If Required"
   ]
  },
  {
   "cell_type": "markdown",
   "id": "a65db803-2aa6-4640-917d-3f3f489917c2",
   "metadata": {},
   "source": [
    "#### 3. Check for False Discoveries"
   ]
  },
  {
   "cell_type": "markdown",
   "id": "00b0f4b3-7ec7-4068-bcf5-31f40551f136",
   "metadata": {},
   "source": [
    "#### 4. Selection a Model"
   ]
  },
  {
   "cell_type": "markdown",
   "id": "0d1bbd1c-d9fd-4211-91da-d30c60d46c64",
   "metadata": {},
   "source": [
    "#### 5. Permutation Feature Importance"
   ]
  },
  {
   "cell_type": "markdown",
   "id": "a0bcce3e-c4e7-45e7-9662-115a6a387397",
   "metadata": {},
   "source": [
    "#### 6. Tune Classification Threshold for Classification - Classification Metrics"
   ]
  },
  {
   "cell_type": "markdown",
   "id": "3a6ab721-f9d3-45d5-8e31-bb2adc2a06a7",
   "metadata": {},
   "source": [
    "#### 7. Serialize Model and Classification Threshold"
   ]
  },
  {
   "cell_type": "markdown",
   "id": "f0d5601a-b2f5-4303-89cb-1acd9ceb7f9f",
   "metadata": {},
   "source": [
    "#### 8. Evaluate Model on the Test Set"
   ]
  },
  {
   "cell_type": "code",
   "execution_count": null,
   "id": "9f99bb2a-7456-42e6-b322-3c75a4ae653a",
   "metadata": {},
   "outputs": [],
   "source": []
  }
 ],
 "metadata": {
  "kernelspec": {
   "display_name": "Python (base_dsv5)",
   "language": "python",
   "name": "base_dsv5"
  },
  "language_info": {
   "codemirror_mode": {
    "name": "ipython",
    "version": 3
   },
   "file_extension": ".py",
   "mimetype": "text/x-python",
   "name": "python",
   "nbconvert_exporter": "python",
   "pygments_lexer": "ipython3",
   "version": "3.10.13"
  }
 },
 "nbformat": 4,
 "nbformat_minor": 5
}
