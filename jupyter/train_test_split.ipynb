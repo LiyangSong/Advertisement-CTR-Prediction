{
 "cells": [
  {
   "cell_type": "markdown",
   "id": "c906afa8e05075f9",
   "metadata": {
    "collapsed": false,
    "jupyter": {
     "outputs_hidden": false
    }
   },
   "source": [
    "## Train test split of raw data"
   ]
  },
  {
   "cell_type": "markdown",
   "id": "b3e393a495e798c9",
   "metadata": {
    "collapsed": false,
    "jupyter": {
     "outputs_hidden": false
    }
   },
   "source": [
    "This file executes the split of train and test data set. It can be rerun to reproduce the split process from the raw data. Notice the random seed has been used to ensure reproducibility.\n",
    "\n",
    "As the data set is large, we will recommend downloading the split train and test data sets using download_data.ipynb for better performance."
   ]
  },
  {
   "cell_type": "code",
   "execution_count": 1,
   "id": "initial_id",
   "metadata": {
    "ExecuteTime": {
     "end_time": "2023-10-21T02:26:46.937203600Z",
     "start_time": "2023-10-21T02:26:46.928203600Z"
    },
    "collapsed": false,
    "jupyter": {
     "outputs_hidden": false
    }
   },
   "outputs": [],
   "source": [
    "import sys\n",
    "sys.path.append(\"..\")\n",
    "\n",
    "import module.utils.general_utils as general_utils\n",
    "import module.utils.data_prepare_utils as data_prepare_utils"
   ]
  },
  {
   "cell_type": "code",
   "execution_count": 2,
   "id": "5aa24a4d-98f3-42c8-9c48-53a0dbd8a0f2",
   "metadata": {},
   "outputs": [],
   "source": [
    "target = \"label\""
   ]
  },
  {
   "cell_type": "code",
   "execution_count": 3,
   "id": "1f4300d8a17e1b11",
   "metadata": {
    "ExecuteTime": {
     "end_time": "2023-10-21T02:26:48.661635600Z",
     "start_time": "2023-10-21T02:26:46.938205700Z"
    },
    "collapsed": false,
    "jupyter": {
     "outputs_hidden": false
    }
   },
   "outputs": [
    {
     "name": "stdout",
     "output_type": "stream",
     "text": [
      "\n",
      "Read CSV file ../data/raw_data.csv into DataFrame:\n",
      "df.head(): \n"
     ]
    },
    {
     "data": {
      "text/html": [
       "<div>\n",
       "<style scoped>\n",
       "    .dataframe tbody tr th:only-of-type {\n",
       "        vertical-align: middle;\n",
       "    }\n",
       "\n",
       "    .dataframe tbody tr th {\n",
       "        vertical-align: top;\n",
       "    }\n",
       "\n",
       "    .dataframe thead th {\n",
       "        text-align: right;\n",
       "    }\n",
       "</style>\n",
       "<table border=\"1\" class=\"dataframe\">\n",
       "  <thead>\n",
       "    <tr style=\"text-align: right;\">\n",
       "      <th></th>\n",
       "      <th>label</th>\n",
       "      <th>uid</th>\n",
       "      <th>task_id</th>\n",
       "      <th>adv_id</th>\n",
       "      <th>creat_type_cd</th>\n",
       "      <th>adv_prim_id</th>\n",
       "      <th>dev_id</th>\n",
       "      <th>inter_type_cd</th>\n",
       "      <th>slot_id</th>\n",
       "      <th>spread_app_id</th>\n",
       "      <th>...</th>\n",
       "      <th>list_time</th>\n",
       "      <th>device_price</th>\n",
       "      <th>up_life_duration</th>\n",
       "      <th>up_membership_grade</th>\n",
       "      <th>membership_life_duration</th>\n",
       "      <th>consume_purchase</th>\n",
       "      <th>communication_onlinerate</th>\n",
       "      <th>communication_avgonline_30d</th>\n",
       "      <th>indu_name</th>\n",
       "      <th>pt_d</th>\n",
       "    </tr>\n",
       "  </thead>\n",
       "  <tbody>\n",
       "    <tr>\n",
       "      <th>0</th>\n",
       "      <td>0</td>\n",
       "      <td>1638254</td>\n",
       "      <td>2112</td>\n",
       "      <td>6869</td>\n",
       "      <td>7</td>\n",
       "      <td>207</td>\n",
       "      <td>17</td>\n",
       "      <td>5</td>\n",
       "      <td>11</td>\n",
       "      <td>13</td>\n",
       "      <td>...</td>\n",
       "      <td>4</td>\n",
       "      <td>4</td>\n",
       "      <td>20</td>\n",
       "      <td>-1</td>\n",
       "      <td>-1</td>\n",
       "      <td>2</td>\n",
       "      <td>0^1^2^3^4^5^6^7^8^9^10^11^12^13^14^15^16^17^18...</td>\n",
       "      <td>12</td>\n",
       "      <td>17</td>\n",
       "      <td>1</td>\n",
       "    </tr>\n",
       "    <tr>\n",
       "      <th>1</th>\n",
       "      <td>0</td>\n",
       "      <td>1161786</td>\n",
       "      <td>3104</td>\n",
       "      <td>3247</td>\n",
       "      <td>7</td>\n",
       "      <td>183</td>\n",
       "      <td>29</td>\n",
       "      <td>5</td>\n",
       "      <td>17</td>\n",
       "      <td>86</td>\n",
       "      <td>...</td>\n",
       "      <td>4</td>\n",
       "      <td>4</td>\n",
       "      <td>18</td>\n",
       "      <td>-1</td>\n",
       "      <td>-1</td>\n",
       "      <td>2</td>\n",
       "      <td>3^4^5^6^7^8^9^10^11^12^13^14^15^16^17^18^19^20...</td>\n",
       "      <td>12</td>\n",
       "      <td>17</td>\n",
       "      <td>1</td>\n",
       "    </tr>\n",
       "    <tr>\n",
       "      <th>2</th>\n",
       "      <td>0</td>\n",
       "      <td>1814783</td>\n",
       "      <td>5890</td>\n",
       "      <td>4183</td>\n",
       "      <td>7</td>\n",
       "      <td>178</td>\n",
       "      <td>17</td>\n",
       "      <td>5</td>\n",
       "      <td>11</td>\n",
       "      <td>70</td>\n",
       "      <td>...</td>\n",
       "      <td>4</td>\n",
       "      <td>5</td>\n",
       "      <td>20</td>\n",
       "      <td>-1</td>\n",
       "      <td>-1</td>\n",
       "      <td>2</td>\n",
       "      <td>0^1^2^3^4^5^6^7^8^9^10^11^12^13^14^15^16^17^18...</td>\n",
       "      <td>11</td>\n",
       "      <td>36</td>\n",
       "      <td>1</td>\n",
       "    </tr>\n",
       "    <tr>\n",
       "      <th>3</th>\n",
       "      <td>0</td>\n",
       "      <td>1468996</td>\n",
       "      <td>1993</td>\n",
       "      <td>5405</td>\n",
       "      <td>7</td>\n",
       "      <td>207</td>\n",
       "      <td>17</td>\n",
       "      <td>5</td>\n",
       "      <td>21</td>\n",
       "      <td>13</td>\n",
       "      <td>...</td>\n",
       "      <td>7</td>\n",
       "      <td>3</td>\n",
       "      <td>-1</td>\n",
       "      <td>-1</td>\n",
       "      <td>-1</td>\n",
       "      <td>2</td>\n",
       "      <td>5^6^7^8^9^10^11^12^13^14^15^16^17^18^19^20^21^...</td>\n",
       "      <td>11</td>\n",
       "      <td>17</td>\n",
       "      <td>1</td>\n",
       "    </tr>\n",
       "    <tr>\n",
       "      <th>4</th>\n",
       "      <td>0</td>\n",
       "      <td>2164010</td>\n",
       "      <td>5439</td>\n",
       "      <td>4677</td>\n",
       "      <td>2</td>\n",
       "      <td>138</td>\n",
       "      <td>24</td>\n",
       "      <td>5</td>\n",
       "      <td>12</td>\n",
       "      <td>33</td>\n",
       "      <td>...</td>\n",
       "      <td>7</td>\n",
       "      <td>3</td>\n",
       "      <td>-1</td>\n",
       "      <td>-1</td>\n",
       "      <td>-1</td>\n",
       "      <td>2</td>\n",
       "      <td>2^3^4^5^6^7^8^9^10^11^12^13^14^15^16^17^18^19^...</td>\n",
       "      <td>11</td>\n",
       "      <td>20</td>\n",
       "      <td>1</td>\n",
       "    </tr>\n",
       "  </tbody>\n",
       "</table>\n",
       "<p>5 rows × 36 columns</p>\n",
       "</div>"
      ],
      "text/plain": [
       "   label      uid  task_id  adv_id  creat_type_cd  adv_prim_id  dev_id  \\\n",
       "0      0  1638254     2112    6869              7          207      17   \n",
       "1      0  1161786     3104    3247              7          183      29   \n",
       "2      0  1814783     5890    4183              7          178      17   \n",
       "3      0  1468996     1993    5405              7          207      17   \n",
       "4      0  2164010     5439    4677              2          138      24   \n",
       "\n",
       "   inter_type_cd  slot_id  spread_app_id  ...  list_time  device_price  \\\n",
       "0              5       11             13  ...          4             4   \n",
       "1              5       17             86  ...          4             4   \n",
       "2              5       11             70  ...          4             5   \n",
       "3              5       21             13  ...          7             3   \n",
       "4              5       12             33  ...          7             3   \n",
       "\n",
       "   up_life_duration  up_membership_grade  membership_life_duration  \\\n",
       "0                20                   -1                        -1   \n",
       "1                18                   -1                        -1   \n",
       "2                20                   -1                        -1   \n",
       "3                -1                   -1                        -1   \n",
       "4                -1                   -1                        -1   \n",
       "\n",
       "   consume_purchase                           communication_onlinerate  \\\n",
       "0                 2  0^1^2^3^4^5^6^7^8^9^10^11^12^13^14^15^16^17^18...   \n",
       "1                 2  3^4^5^6^7^8^9^10^11^12^13^14^15^16^17^18^19^20...   \n",
       "2                 2  0^1^2^3^4^5^6^7^8^9^10^11^12^13^14^15^16^17^18...   \n",
       "3                 2  5^6^7^8^9^10^11^12^13^14^15^16^17^18^19^20^21^...   \n",
       "4                 2  2^3^4^5^6^7^8^9^10^11^12^13^14^15^16^17^18^19^...   \n",
       "\n",
       "   communication_avgonline_30d  indu_name  pt_d  \n",
       "0                           12         17     1  \n",
       "1                           12         17     1  \n",
       "2                           11         36     1  \n",
       "3                           11         17     1  \n",
       "4                           11         20     1  \n",
       "\n",
       "[5 rows x 36 columns]"
      ]
     },
     "metadata": {},
     "output_type": "display_data"
    },
    {
     "name": "stdout",
     "output_type": "stream",
     "text": [
      "df.shape: (41907133, 36)\n"
     ]
    }
   ],
   "source": [
    "df = general_utils.read_csv(\"../data/raw_data.csv\", sep=\"|\")"
   ]
  },
  {
   "cell_type": "code",
   "execution_count": 4,
   "id": "a9943eeef7c84775",
   "metadata": {
    "ExecuteTime": {
     "end_time": "2023-10-21T02:28:50.190597200Z",
     "start_time": "2023-10-21T02:26:48.677943800Z"
    },
    "collapsed": false,
    "jupyter": {
     "outputs_hidden": false
    }
   },
   "outputs": [
    {
     "data": {
      "text/plain": [
       "0    0.965507\n",
       "1    0.034493\n",
       "Name: label, dtype: float64"
      ]
     },
     "execution_count": 4,
     "metadata": {},
     "output_type": "execute_result"
    }
   ],
   "source": [
    "df[target].value_counts(normalize=True)"
   ]
  },
  {
   "cell_type": "markdown",
   "id": "9dc3e28ffe3ca251",
   "metadata": {
    "ExecuteTime": {
     "end_time": "2023-10-21T02:28:50.711025400Z",
     "start_time": "2023-10-21T02:28:50.341821700Z"
    },
    "collapsed": false,
    "jupyter": {
     "outputs_hidden": false
    }
   },
   "source": [
    "The dataset is heavily imbalanced with over 95% zero values in `'label'` column, this will introduce a risk that the minority class might not be adequately represented in either the training set or the test set (or both). This can lead to models that are poorly generalized or validated.\n",
    "\n",
    "To counteract this, **stratified sampling** is applied, which can ensure that both training and test sets have approximately the same percentage of samples of each target class as the raw data set."
   ]
  },
  {
   "cell_type": "code",
   "execution_count": 5,
   "id": "eb4b65b6a6b0f986",
   "metadata": {
    "collapsed": false,
    "jupyter": {
     "outputs_hidden": false
    }
   },
   "outputs": [
    {
     "name": "stdout",
     "output_type": "stream",
     "text": [
      "\n",
      "Split DataFrame into train and test set:\n",
      "train set:\n",
      "(33525706, 35) (33525706, 1)\n",
      "test set:\n",
      "(8381427, 35) (8381427, 1)\n",
      "target distribution in train set: \n",
      " label\n",
      "0        0.965507\n",
      "1        0.034493\n",
      "dtype: float64\n",
      "target distribution in test set: \n",
      " label\n",
      "0        0.965507\n",
      "1        0.034493\n",
      "dtype: float64\n"
     ]
    }
   ],
   "source": [
    "train_cap_x_df, train_y_df, test_cap_x_df, test_y_df = data_prepare_utils.split_train_test_df(df, target=target, stratify=True)\n",
    "del df"
   ]
  },
  {
   "cell_type": "code",
   "execution_count": 6,
   "id": "35aee84d82bb8ecb",
   "metadata": {
    "ExecuteTime": {
     "end_time": "2023-10-21T02:38:52.984211900Z",
     "start_time": "2023-10-21T02:30:33.113533100Z"
    },
    "collapsed": false,
    "jupyter": {
     "outputs_hidden": false
    }
   },
   "outputs": [
    {
     "name": "stdout",
     "output_type": "stream",
     "text": [
      "\n",
      "Save DataFrame into csv file:\n",
      "File saved: ../data/train_df.csv\n",
      "\n",
      "Save DataFrame into csv file:\n",
      "File saved: ../data/test_df.csv\n"
     ]
    }
   ],
   "source": [
    "general_utils.save_to_csv(train_cap_x_df, train_y_df, \"../data/train_df.csv\")\n",
    "del train_cap_x_df, train_y_df\n",
    "general_utils.save_to_csv(test_cap_x_df, test_y_df, \"../data/test_df.csv\")\n",
    "del test_cap_x_df, test_y_df"
   ]
  },
  {
   "cell_type": "code",
   "execution_count": null,
   "id": "820b7931d73d3320",
   "metadata": {
    "ExecuteTime": {
     "end_time": "2023-10-21T02:38:58.351336700Z",
     "start_time": "2023-10-21T02:38:58.311328800Z"
    },
    "collapsed": false,
    "jupyter": {
     "outputs_hidden": false
    }
   },
   "outputs": [],
   "source": []
  }
 ],
 "metadata": {
  "kernelspec": {
   "display_name": "Python 3 (ipykernel)",
   "language": "python",
   "name": "python3"
  },
  "language_info": {
   "codemirror_mode": {
    "name": "ipython",
    "version": 3
   },
   "file_extension": ".py",
   "mimetype": "text/x-python",
   "name": "python",
   "nbconvert_exporter": "python",
   "pygments_lexer": "ipython3",
   "version": "3.10.12"
  }
 },
 "nbformat": 4,
 "nbformat_minor": 5
}
