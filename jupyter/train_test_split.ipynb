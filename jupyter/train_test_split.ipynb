{
 "cells": [
  {
   "cell_type": "markdown",
   "source": [
    "## Train test split of raw data"
   ],
   "metadata": {
    "collapsed": false
   },
   "id": "c906afa8e05075f9"
  },
  {
   "cell_type": "markdown",
   "source": [
    "This file executes the split of train and test data set. It can be rerun to reproduce the split process from the raw data. Notice the random seed has been used to ensure reproducibility.\n",
    "\n",
    "As the data set is large, we will recommend downloading the split train and test data sets using download_data.ipynb for better performance."
   ],
   "metadata": {
    "collapsed": false
   },
   "id": "b3e393a495e798c9"
  },
  {
   "cell_type": "code",
   "execution_count": 1,
   "outputs": [],
   "source": [
    "from sklearn.model_selection import train_test_split\n",
    "import pandas as pd"
   ],
   "metadata": {
    "collapsed": false,
    "ExecuteTime": {
     "end_time": "2023-10-21T02:26:46.937203600Z",
     "start_time": "2023-10-21T02:26:46.928203600Z"
    }
   },
   "id": "initial_id"
  },
  {
   "cell_type": "code",
   "execution_count": 2,
   "outputs": [],
   "source": [
    "df = pd.read_csv(\"../data/raw_data.csv\", sep=\"|\")\n",
    "df.head()"
   ],
   "metadata": {
    "collapsed": false,
    "ExecuteTime": {
     "end_time": "2023-10-21T02:26:48.661635600Z",
     "start_time": "2023-10-21T02:26:46.938205700Z"
    }
   },
   "id": "1f4300d8a17e1b11"
  },
  {
   "cell_type": "code",
   "execution_count": 3,
   "outputs": [],
   "source": [
    "df.shape"
   ],
   "metadata": {
    "collapsed": false,
    "ExecuteTime": {
     "end_time": "2023-10-21T02:26:48.676940Z",
     "start_time": "2023-10-21T02:26:48.662635100Z"
    }
   },
   "id": "a4d355f3082d9ce5"
  },
  {
   "cell_type": "code",
   "execution_count": 4,
   "outputs": [
    {
     "name": "stdout",
     "output_type": "stream",
     "text": [
      "Read CSV file ../data/raw_data.csv into DataFrame: \n",
      "df.head: \n",
      "<bound method NDFrame.head of           label      uid  task_id  adv_id  creat_type_cd  adv_prim_id  dev_id  \\\n",
      "0             0  1638254     2112    6869              7          207      17   \n",
      "1             0  1161786     3104    3247              7          183      29   \n",
      "2             0  1814783     5890    4183              7          178      17   \n",
      "3             0  1468996     1993    5405              7          207      17   \n",
      "4             0  2164010     5439    4677              2          138      24   \n",
      "...         ...      ...      ...     ...            ...          ...     ...   \n",
      "41907128      0  2154906     5275    5473              7          156      56   \n",
      "41907129      0  1466996     5952    4158              7          207      17   \n",
      "41907130      0  1930657     2178    1860              2          142      60   \n",
      "41907131      0  1550398     1976    6739              7          154      56   \n",
      "41907132      0  1400807     3869    6751              7          130      30   \n",
      "\n",
      "          inter_type_cd  slot_id  spread_app_id  ...  list_time  device_price  \\\n",
      "0                     5       11             13  ...          4             4   \n",
      "1                     5       17             86  ...          4             4   \n",
      "2                     5       11             70  ...          4             5   \n",
      "3                     5       21             13  ...          7             3   \n",
      "4                     5       12             33  ...          7             3   \n",
      "...                 ...      ...            ...  ...        ...           ...   \n",
      "41907128              5       13             58  ...          5             4   \n",
      "41907129              5       17             13  ...          8             5   \n",
      "41907130              5       12             80  ...          9             3   \n",
      "41907131              5       11             31  ...          4             4   \n",
      "41907132              5       13             28  ...         10             2   \n",
      "\n",
      "          up_life_duration  up_membership_grade  membership_life_duration  \\\n",
      "0                       20                   -1                        -1   \n",
      "1                       18                   -1                        -1   \n",
      "2                       20                   -1                        -1   \n",
      "3                       -1                   -1                        -1   \n",
      "4                       -1                   -1                        -1   \n",
      "...                    ...                  ...                       ...   \n",
      "41907128                18                   -1                        -1   \n",
      "41907129                18                   -1                        -1   \n",
      "41907130                -1                   -1                        -1   \n",
      "41907131                20                    1                        -1   \n",
      "41907132                20                   -1                        -1   \n",
      "\n",
      "          consume_purchase                           communication_onlinerate  \\\n",
      "0                        2  0^1^2^3^4^5^6^7^8^9^10^11^12^13^14^15^16^17^18...   \n",
      "1                        2  3^4^5^6^7^8^9^10^11^12^13^14^15^16^17^18^19^20...   \n",
      "2                        2  0^1^2^3^4^5^6^7^8^9^10^11^12^13^14^15^16^17^18...   \n",
      "3                        2  5^6^7^8^9^10^11^12^13^14^15^16^17^18^19^20^21^...   \n",
      "4                        2  2^3^4^5^6^7^8^9^10^11^12^13^14^15^16^17^18^19^...   \n",
      "...                    ...                                                ...   \n",
      "41907128                 2  1^2^3^4^5^6^7^8^9^10^11^12^13^14^15^16^17^18^1...   \n",
      "41907129                 2  0^1^2^3^4^5^6^7^8^9^10^11^12^13^14^15^16^17^18...   \n",
      "41907130                 2  6^7^8^9^10^11^12^13^14^15^16^17^18^19^20^21^22^23   \n",
      "41907131                 2  3^4^5^6^7^8^9^10^11^12^13^14^15^16^17^18^19^20...   \n",
      "41907132                 2    7^8^9^10^11^12^13^14^15^16^17^18^19^20^21^22^23   \n",
      "\n",
      "          communication_avgonline_30d  indu_name  pt_d  \n",
      "0                                  12         17     1  \n",
      "1                                  12         17     1  \n",
      "2                                  11         36     1  \n",
      "3                                  11         17     1  \n",
      "4                                  11         20     1  \n",
      "...                               ...        ...   ...  \n",
      "41907128                           13         17     7  \n",
      "41907129                           12         17     7  \n",
      "41907130                           11         24     7  \n",
      "41907131                           11         17     7  \n",
      "41907132                           10         36     7  \n",
      "\n",
      "[41907133 rows x 36 columns]>\n",
      "df.shape: (41907133, 36)\n"
     ]
    }
   ],
   "source": [
    "df['label'].value_counts(normalize=True)"
   ],
   "metadata": {
    "collapsed": false,
    "ExecuteTime": {
     "end_time": "2023-10-21T02:28:50.190597200Z",
     "start_time": "2023-10-21T02:26:48.677943800Z"
    }
   },
   "id": "a9943eeef7c84775"
  },
  {
   "cell_type": "markdown",
   "source": [
    "The dataset is heavily imbalanced with over 95% zero values in `'label'` column, this will introduce a risk that the minority class might not be adequately represented in either the training set or the test set (or both). This can lead to models that are poorly generalized or validated.\n",
    "\n",
    "To counteract this, **stratified sampling** is applied, which can ensure that both training and test sets have approximately the same percentage of samples of each target class as the raw data set."
   ],
   "metadata": {
    "collapsed": false,
    "ExecuteTime": {
     "end_time": "2023-10-21T02:28:50.711025400Z",
     "start_time": "2023-10-21T02:28:50.341821700Z"
    }
   },
   "id": "9dc3e28ffe3ca251"
  },
  {
   "cell_type": "code",
   "execution_count": null,
   "outputs": [],
   "source": [
    "train_df, test_df = train_test_split(df, test_size=0.2, random_state=42, stratify=df['label'])\n",
    "del df\n",
    "print(train_df.shape)\n",
    "print(test_df.shape)"
   ],
   "metadata": {
    "collapsed": false
   },
   "id": "eb4b65b6a6b0f986"
  },
  {
   "cell_type": "code",
   "execution_count": 6,
   "outputs": [
    {
     "name": "stdout",
     "output_type": "stream",
     "text": [
      "Split DataFrame into train and test set:\n",
      "train set:\n",
      "(33525706, 35) (33525706, 1)\n",
      "test set:\n",
      "(8381427, 35) (8381427, 1)\n",
      "target distribution in train set: \n",
      " label\n",
      "0        0.965507\n",
      "1        0.034493\n",
      "dtype: float64\n",
      "target distribution in test set: \n",
      " label\n",
      "0        0.965507\n",
      "1        0.034493\n",
      "dtype: float64\n"
     ]
    }
   ],
   "source": [
    "print(train_df['label'].value_counts(normalize=True))\n",
    "print(test_df['label'].value_counts(normalize=True))"
   ],
   "metadata": {
    "collapsed": false,
    "ExecuteTime": {
     "end_time": "2023-10-21T02:30:33.096197900Z",
     "start_time": "2023-10-21T02:28:50.373784600Z"
    }
   },
   "id": "fa96f552d6d8ebd5"
  },
  {
   "cell_type": "code",
   "execution_count": 7,
   "outputs": [
    {
     "name": "stdout",
     "output_type": "stream",
     "text": [
      "Save DataFrame into csv file: \n",
      "File saved: ../data/train_df.csv\n",
      "Save DataFrame into csv file: \n",
      "File saved: ../data/test_df.csv\n"
     ]
    }
   ],
   "source": [
    "train_df.to_csv('../data/train_df.csv', index=True, index_label='index')\n",
    "test_df.to_csv('../data/test_df.csv', index=True, index_label='index')\n",
    "del train_df\n",
    "del test_df"
   ],
   "metadata": {
    "collapsed": false,
    "ExecuteTime": {
     "end_time": "2023-10-21T02:38:52.984211900Z",
     "start_time": "2023-10-21T02:30:33.113533100Z"
    }
   },
   "id": "35aee84d82bb8ecb"
  },
  {
   "cell_type": "code",
   "execution_count": 8,
   "outputs": [],
   "source": [],
   "metadata": {
    "collapsed": false,
    "ExecuteTime": {
     "end_time": "2023-10-21T02:38:58.351336700Z",
     "start_time": "2023-10-21T02:38:58.311328800Z"
    }
   },
   "id": "820b7931d73d3320"
  }
 ],
 "metadata": {
  "kernelspec": {
   "display_name": "Python 3",
   "language": "python",
   "name": "python3"
  },
  "language_info": {
   "codemirror_mode": {
    "name": "ipython",
    "version": 2
   },
   "file_extension": ".py",
   "mimetype": "text/x-python",
   "name": "python",
   "nbconvert_exporter": "python",
   "pygments_lexer": "ipython2",
   "version": "2.7.6"
  }
 },
 "nbformat": 4,
 "nbformat_minor": 5
}
