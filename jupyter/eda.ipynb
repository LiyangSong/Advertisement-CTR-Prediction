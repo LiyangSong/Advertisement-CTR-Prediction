{
 "cells": [
  {
   "cell_type": "markdown",
   "source": [
    "## Exploratory Data Analysis (EDA)"
   ],
   "metadata": {
    "collapsed": false
   },
   "id": "1ac4df4d49638924"
  },
  {
   "cell_type": "code",
   "execution_count": null,
   "outputs": [],
   "source": [
    "from module.utils import general_utils, data_prepare_utils"
   ],
   "metadata": {
    "collapsed": false
   },
   "id": "5cdf18673f95612d"
  },
  {
   "cell_type": "markdown",
   "source": [
    "#### Sample a fraction of train dataset for exploration"
   ],
   "metadata": {
    "collapsed": false
   },
   "id": "cf336d45a8d049a4"
  },
  {
   "cell_type": "code",
   "execution_count": null,
   "outputs": [],
   "source": [
    "target = \"label\""
   ],
   "metadata": {
    "collapsed": false
   },
   "id": "1c824c4a9836b98f"
  },
  {
   "cell_type": "code",
   "execution_count": null,
   "outputs": [],
   "source": [
    "train_df = general_utils.read_csv(\"train_df.csv\")"
   ],
   "metadata": {
    "collapsed": false
   },
   "id": "df464314509a8c11"
  },
  {
   "cell_type": "code",
   "execution_count": null,
   "outputs": [],
   "source": [
    "train_df_eda = data_prepare_utils.sample_data(train_df, fraction=0.01)\n",
    "del train_df"
   ],
   "metadata": {
    "collapsed": false
   },
   "id": "3a7db8bd8c99ee41"
  },
  {
   "cell_type": "markdown",
   "source": [
    "#### Describe basic information of attributes "
   ],
   "metadata": {
    "collapsed": false
   },
   "id": "510a4fb4ae457fb5"
  },
  {
   "cell_type": "code",
   "execution_count": null,
   "outputs": [],
   "source": [],
   "metadata": {
    "collapsed": false
   },
   "id": "4a449e62e2442269"
  },
  {
   "cell_type": "markdown",
   "source": [
    "#### Identify numerical and categorical attibutes"
   ],
   "metadata": {
    "collapsed": false
   },
   "id": "deefacff527d8fc6"
  },
  {
   "cell_type": "code",
   "execution_count": null,
   "outputs": [],
   "source": [],
   "metadata": {
    "collapsed": false
   },
   "id": "9872a8b220638cb2"
  },
  {
   "cell_type": "markdown",
   "source": [
    "#### Checkout missingness"
   ],
   "metadata": {
    "collapsed": false
   },
   "id": "90f70ce0857992c1"
  },
  {
   "cell_type": "code",
   "execution_count": null,
   "outputs": [],
   "source": [],
   "metadata": {
    "collapsed": false
   },
   "id": "bc4afca201b7b4ac"
  },
  {
   "cell_type": "markdown",
   "source": [
    "#### Checkout outliers"
   ],
   "metadata": {
    "collapsed": false
   },
   "id": "c9766959cc278420"
  },
  {
   "cell_type": "code",
   "execution_count": null,
   "outputs": [],
   "source": [],
   "metadata": {
    "collapsed": false
   },
   "id": "a50d8f34d3f9638b"
  },
  {
   "cell_type": "markdown",
   "source": [
    "#### Usefulness of attributes for the task"
   ],
   "metadata": {
    "collapsed": false
   },
   "id": "fb62a50ea21961d8"
  },
  {
   "cell_type": "code",
   "execution_count": null,
   "outputs": [],
   "source": [],
   "metadata": {
    "collapsed": false
   },
   "id": "f752ebdb7aadff94"
  },
  {
   "cell_type": "markdown",
   "source": [
    "#### Histogram and basic stats(mean, median, variance, max, min) for numerical attributes"
   ],
   "metadata": {
    "collapsed": false
   },
   "id": "e672023f5fcad0e1"
  },
  {
   "cell_type": "code",
   "execution_count": null,
   "outputs": [],
   "source": [],
   "metadata": {
    "collapsed": false
   },
   "id": "709ce7e89ef0e58d"
  },
  {
   "cell_type": "markdown",
   "source": [
    "#### Cardinality and value counts for categorical attribtues "
   ],
   "metadata": {
    "collapsed": false
   },
   "id": "b38cef4a9f1396d1"
  },
  {
   "cell_type": "code",
   "execution_count": null,
   "outputs": [],
   "source": [],
   "metadata": {
    "collapsed": false
   },
   "id": "965be459b7012946"
  },
  {
   "cell_type": "markdown",
   "source": [
    "#### Correlations and associations between attributes."
   ],
   "metadata": {
    "collapsed": false
   },
   "id": "b698c9a8aaa241d7"
  },
  {
   "cell_type": "code",
   "execution_count": null,
   "outputs": [],
   "source": [],
   "metadata": {
    "collapsed": false
   },
   "id": "3cbc72380edd640a"
  },
  {
   "cell_type": "markdown",
   "source": [
    "#### Identify the promising transformations"
   ],
   "metadata": {
    "collapsed": false
   },
   "id": "5e5d9e88a24ccb68"
  },
  {
   "cell_type": "code",
   "execution_count": null,
   "outputs": [],
   "source": [],
   "metadata": {
    "collapsed": false
   },
   "id": "ea05d6fdbd686fb5"
  }
 ],
 "metadata": {
  "kernelspec": {
   "display_name": "Python 3",
   "language": "python",
   "name": "python3"
  },
  "language_info": {
   "codemirror_mode": {
    "name": "ipython",
    "version": 2
   },
   "file_extension": ".py",
   "mimetype": "text/x-python",
   "name": "python",
   "nbconvert_exporter": "python",
   "pygments_lexer": "ipython2",
   "version": "2.7.6"
  }
 },
 "nbformat": 4,
 "nbformat_minor": 5
}
