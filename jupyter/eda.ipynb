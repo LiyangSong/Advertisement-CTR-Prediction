{
 "cells": [
  {
   "cell_type": "markdown",
   "id": "1ac4df4d49638924",
   "metadata": {
    "collapsed": false,
    "jupyter": {
     "outputs_hidden": false
    }
   },
   "source": [
    "## Exploratory Data Analysis (EDA)"
   ]
  },
  {
   "cell_type": "code",
   "execution_count": 1,
   "id": "5cdf18673f95612d",
   "metadata": {
    "collapsed": false,
    "jupyter": {
     "outputs_hidden": false
    }
   },
   "outputs": [],
   "source": [
    "import sys\n",
    "sys.path.append(\"..\")\n",
    "\n",
    "import module.utils.general_utils as general_utils\n",
    "import module.utils.data_prepare_utils as data_prepare_utils\n",
    "import module.utils.eda_utils as eda_utils"
   ]
  },
  {
   "cell_type": "markdown",
   "id": "cf336d45a8d049a4",
   "metadata": {
    "collapsed": false,
    "jupyter": {
     "outputs_hidden": false
    }
   },
   "source": [
    "#### Sample a fraction of train dataset for exploration"
   ]
  },
  {
   "cell_type": "code",
   "execution_count": 2,
   "id": "1c824c4a9836b98f",
   "metadata": {
    "collapsed": false,
    "jupyter": {
     "outputs_hidden": false
    }
   },
   "outputs": [],
   "source": [
    "target = \"label\""
   ]
  },
  {
   "cell_type": "code",
   "execution_count": 3,
   "id": "df464314509a8c11",
   "metadata": {
    "collapsed": false,
    "jupyter": {
     "outputs_hidden": false
    }
   },
   "outputs": [
    {
     "name": "stdout",
     "output_type": "stream",
     "text": [
      "\n",
      "Read CSV file ../data/train_df.csv into DataFrame:\n",
      "df.head(): \n"
     ]
    },
    {
     "data": {
      "text/html": [
       "<div>\n",
       "<style scoped>\n",
       "    .dataframe tbody tr th:only-of-type {\n",
       "        vertical-align: middle;\n",
       "    }\n",
       "\n",
       "    .dataframe tbody tr th {\n",
       "        vertical-align: top;\n",
       "    }\n",
       "\n",
       "    .dataframe thead th {\n",
       "        text-align: right;\n",
       "    }\n",
       "</style>\n",
       "<table border=\"1\" class=\"dataframe\">\n",
       "  <thead>\n",
       "    <tr style=\"text-align: right;\">\n",
       "      <th></th>\n",
       "      <th>uid</th>\n",
       "      <th>task_id</th>\n",
       "      <th>adv_id</th>\n",
       "      <th>creat_type_cd</th>\n",
       "      <th>adv_prim_id</th>\n",
       "      <th>dev_id</th>\n",
       "      <th>inter_type_cd</th>\n",
       "      <th>slot_id</th>\n",
       "      <th>spread_app_id</th>\n",
       "      <th>tags</th>\n",
       "      <th>...</th>\n",
       "      <th>device_price</th>\n",
       "      <th>up_life_duration</th>\n",
       "      <th>up_membership_grade</th>\n",
       "      <th>membership_life_duration</th>\n",
       "      <th>consume_purchase</th>\n",
       "      <th>communication_onlinerate</th>\n",
       "      <th>communication_avgonline_30d</th>\n",
       "      <th>indu_name</th>\n",
       "      <th>pt_d</th>\n",
       "      <th>label</th>\n",
       "    </tr>\n",
       "  </thead>\n",
       "  <tbody>\n",
       "    <tr>\n",
       "      <th>0</th>\n",
       "      <td>1678291</td>\n",
       "      <td>2267</td>\n",
       "      <td>4548</td>\n",
       "      <td>3</td>\n",
       "      <td>160</td>\n",
       "      <td>58</td>\n",
       "      <td>5</td>\n",
       "      <td>14</td>\n",
       "      <td>79</td>\n",
       "      <td>41</td>\n",
       "      <td>...</td>\n",
       "      <td>4</td>\n",
       "      <td>20</td>\n",
       "      <td>1</td>\n",
       "      <td>-1</td>\n",
       "      <td>2</td>\n",
       "      <td>6^7^8^9^10^11^12^13^14^15^16^17^18^19^20^21^22^23</td>\n",
       "      <td>10</td>\n",
       "      <td>42</td>\n",
       "      <td>4</td>\n",
       "      <td>0</td>\n",
       "    </tr>\n",
       "    <tr>\n",
       "      <th>1</th>\n",
       "      <td>1528768</td>\n",
       "      <td>2325</td>\n",
       "      <td>4456</td>\n",
       "      <td>6</td>\n",
       "      <td>139</td>\n",
       "      <td>60</td>\n",
       "      <td>3</td>\n",
       "      <td>17</td>\n",
       "      <td>78</td>\n",
       "      <td>23</td>\n",
       "      <td>...</td>\n",
       "      <td>5</td>\n",
       "      <td>20</td>\n",
       "      <td>-1</td>\n",
       "      <td>-1</td>\n",
       "      <td>2</td>\n",
       "      <td>2^3^4^5^6^7^8^9^10^11^12^13^14^15^16^17^18^19^...</td>\n",
       "      <td>12</td>\n",
       "      <td>38</td>\n",
       "      <td>6</td>\n",
       "      <td>0</td>\n",
       "    </tr>\n",
       "    <tr>\n",
       "      <th>2</th>\n",
       "      <td>1348183</td>\n",
       "      <td>5666</td>\n",
       "      <td>6738</td>\n",
       "      <td>7</td>\n",
       "      <td>175</td>\n",
       "      <td>60</td>\n",
       "      <td>4</td>\n",
       "      <td>12</td>\n",
       "      <td>34</td>\n",
       "      <td>13</td>\n",
       "      <td>...</td>\n",
       "      <td>3</td>\n",
       "      <td>-1</td>\n",
       "      <td>-1</td>\n",
       "      <td>-1</td>\n",
       "      <td>2</td>\n",
       "      <td>3^4^5^6^7^8^9^10^11^12^13^14^15^16^17^18^19^20...</td>\n",
       "      <td>12</td>\n",
       "      <td>24</td>\n",
       "      <td>5</td>\n",
       "      <td>0</td>\n",
       "    </tr>\n",
       "    <tr>\n",
       "      <th>3</th>\n",
       "      <td>1044095</td>\n",
       "      <td>4005</td>\n",
       "      <td>3013</td>\n",
       "      <td>7</td>\n",
       "      <td>150</td>\n",
       "      <td>17</td>\n",
       "      <td>5</td>\n",
       "      <td>11</td>\n",
       "      <td>11</td>\n",
       "      <td>39</td>\n",
       "      <td>...</td>\n",
       "      <td>5</td>\n",
       "      <td>-1</td>\n",
       "      <td>-1</td>\n",
       "      <td>-1</td>\n",
       "      <td>2</td>\n",
       "      <td>6^7^8^9^10^11^12^13^14^15^16^17^18^19^20^21^22^23</td>\n",
       "      <td>10</td>\n",
       "      <td>36</td>\n",
       "      <td>7</td>\n",
       "      <td>0</td>\n",
       "    </tr>\n",
       "    <tr>\n",
       "      <th>4</th>\n",
       "      <td>1772654</td>\n",
       "      <td>2877</td>\n",
       "      <td>3520</td>\n",
       "      <td>7</td>\n",
       "      <td>147</td>\n",
       "      <td>29</td>\n",
       "      <td>5</td>\n",
       "      <td>16</td>\n",
       "      <td>86</td>\n",
       "      <td>37</td>\n",
       "      <td>...</td>\n",
       "      <td>5</td>\n",
       "      <td>-1</td>\n",
       "      <td>-1</td>\n",
       "      <td>-1</td>\n",
       "      <td>2</td>\n",
       "      <td>2^3^4^5^6^7^8^9^10^11^12^13^14^15^16^17^18^19^...</td>\n",
       "      <td>12</td>\n",
       "      <td>17</td>\n",
       "      <td>3</td>\n",
       "      <td>0</td>\n",
       "    </tr>\n",
       "  </tbody>\n",
       "</table>\n",
       "<p>5 rows × 36 columns</p>\n",
       "</div>"
      ],
      "text/plain": [
       "       uid  task_id  adv_id  creat_type_cd  adv_prim_id  dev_id  \\\n",
       "0  1678291     2267    4548              3          160      58   \n",
       "1  1528768     2325    4456              6          139      60   \n",
       "2  1348183     5666    6738              7          175      60   \n",
       "3  1044095     4005    3013              7          150      17   \n",
       "4  1772654     2877    3520              7          147      29   \n",
       "\n",
       "   inter_type_cd  slot_id  spread_app_id  tags  ...  device_price  \\\n",
       "0              5       14             79    41  ...             4   \n",
       "1              3       17             78    23  ...             5   \n",
       "2              4       12             34    13  ...             3   \n",
       "3              5       11             11    39  ...             5   \n",
       "4              5       16             86    37  ...             5   \n",
       "\n",
       "   up_life_duration  up_membership_grade  membership_life_duration  \\\n",
       "0                20                    1                        -1   \n",
       "1                20                   -1                        -1   \n",
       "2                -1                   -1                        -1   \n",
       "3                -1                   -1                        -1   \n",
       "4                -1                   -1                        -1   \n",
       "\n",
       "   consume_purchase                           communication_onlinerate  \\\n",
       "0                 2  6^7^8^9^10^11^12^13^14^15^16^17^18^19^20^21^22^23   \n",
       "1                 2  2^3^4^5^6^7^8^9^10^11^12^13^14^15^16^17^18^19^...   \n",
       "2                 2  3^4^5^6^7^8^9^10^11^12^13^14^15^16^17^18^19^20...   \n",
       "3                 2  6^7^8^9^10^11^12^13^14^15^16^17^18^19^20^21^22^23   \n",
       "4                 2  2^3^4^5^6^7^8^9^10^11^12^13^14^15^16^17^18^19^...   \n",
       "\n",
       "   communication_avgonline_30d  indu_name  pt_d  label  \n",
       "0                           10         42     4      0  \n",
       "1                           12         38     6      0  \n",
       "2                           12         24     5      0  \n",
       "3                           10         36     7      0  \n",
       "4                           12         17     3      0  \n",
       "\n",
       "[5 rows x 36 columns]"
      ]
     },
     "metadata": {},
     "output_type": "display_data"
    },
    {
     "name": "stdout",
     "output_type": "stream",
     "text": [
      "df.shape: (33525706, 36)\n"
     ]
    }
   ],
   "source": [
    "train_df = general_utils.read_csv(\"../data/train_df.csv\")"
   ]
  },
  {
   "cell_type": "code",
   "execution_count": 4,
   "id": "3a7db8bd8c99ee41",
   "metadata": {
    "collapsed": false,
    "jupyter": {
     "outputs_hidden": false
    }
   },
   "outputs": [
    {
     "name": "stdout",
     "output_type": "stream",
     "text": [
      "\n",
      "Sample 0.01 fraction from DataFrame:\n",
      "sample_df.shape: (335257, 36)\n"
     ]
    }
   ],
   "source": [
    "train_df_eda = data_prepare_utils.sample_data(train_df, fraction=0.01)\n",
    "del train_df"
   ]
  },
  {
   "cell_type": "markdown",
   "id": "510a4fb4ae457fb5",
   "metadata": {
    "collapsed": false,
    "jupyter": {
     "outputs_hidden": false
    }
   },
   "source": [
    "#### Describe basic information of attributes "
   ]
  },
  {
   "cell_type": "code",
   "execution_count": 5,
   "id": "8f4f00fc-fd02-4dd2-ab60-55f5120226ad",
   "metadata": {},
   "outputs": [
    {
     "name": "stdout",
     "output_type": "stream",
     "text": [
      "\n",
      "General information of DataFrame:\n",
      "df.shape:\n",
      "(335257, 36)\n",
      "df.head():\n"
     ]
    },
    {
     "data": {
      "text/html": [
       "<div>\n",
       "<style scoped>\n",
       "    .dataframe tbody tr th:only-of-type {\n",
       "        vertical-align: middle;\n",
       "    }\n",
       "\n",
       "    .dataframe tbody tr th {\n",
       "        vertical-align: top;\n",
       "    }\n",
       "\n",
       "    .dataframe thead th {\n",
       "        text-align: right;\n",
       "    }\n",
       "</style>\n",
       "<table border=\"1\" class=\"dataframe\">\n",
       "  <thead>\n",
       "    <tr style=\"text-align: right;\">\n",
       "      <th></th>\n",
       "      <th></th>\n",
       "      <th>uid</th>\n",
       "      <th>task_id</th>\n",
       "      <th>adv_id</th>\n",
       "      <th>creat_type_cd</th>\n",
       "      <th>adv_prim_id</th>\n",
       "      <th>dev_id</th>\n",
       "      <th>inter_type_cd</th>\n",
       "      <th>slot_id</th>\n",
       "      <th>spread_app_id</th>\n",
       "      <th>tags</th>\n",
       "      <th>...</th>\n",
       "      <th>device_price</th>\n",
       "      <th>up_life_duration</th>\n",
       "      <th>up_membership_grade</th>\n",
       "      <th>membership_life_duration</th>\n",
       "      <th>consume_purchase</th>\n",
       "      <th>communication_onlinerate</th>\n",
       "      <th>communication_avgonline_30d</th>\n",
       "      <th>indu_name</th>\n",
       "      <th>pt_d</th>\n",
       "      <th>label</th>\n",
       "    </tr>\n",
       "    <tr>\n",
       "      <th>label</th>\n",
       "      <th></th>\n",
       "      <th></th>\n",
       "      <th></th>\n",
       "      <th></th>\n",
       "      <th></th>\n",
       "      <th></th>\n",
       "      <th></th>\n",
       "      <th></th>\n",
       "      <th></th>\n",
       "      <th></th>\n",
       "      <th></th>\n",
       "      <th></th>\n",
       "      <th></th>\n",
       "      <th></th>\n",
       "      <th></th>\n",
       "      <th></th>\n",
       "      <th></th>\n",
       "      <th></th>\n",
       "      <th></th>\n",
       "      <th></th>\n",
       "      <th></th>\n",
       "      <th></th>\n",
       "    </tr>\n",
       "  </thead>\n",
       "  <tbody>\n",
       "    <tr>\n",
       "      <th rowspan=\"5\" valign=\"top\">0</th>\n",
       "      <th>10891243</th>\n",
       "      <td>1515750</td>\n",
       "      <td>5602</td>\n",
       "      <td>6503</td>\n",
       "      <td>7</td>\n",
       "      <td>207</td>\n",
       "      <td>17</td>\n",
       "      <td>5</td>\n",
       "      <td>12</td>\n",
       "      <td>13</td>\n",
       "      <td>37</td>\n",
       "      <td>...</td>\n",
       "      <td>3</td>\n",
       "      <td>2</td>\n",
       "      <td>-1</td>\n",
       "      <td>-1</td>\n",
       "      <td>2</td>\n",
       "      <td>14^15^16^17^18^19^20^21^22^23</td>\n",
       "      <td>9</td>\n",
       "      <td>17</td>\n",
       "      <td>1</td>\n",
       "      <td>0</td>\n",
       "    </tr>\n",
       "    <tr>\n",
       "      <th>29833678</th>\n",
       "      <td>2054132</td>\n",
       "      <td>5404</td>\n",
       "      <td>1303</td>\n",
       "      <td>6</td>\n",
       "      <td>170</td>\n",
       "      <td>60</td>\n",
       "      <td>3</td>\n",
       "      <td>17</td>\n",
       "      <td>29</td>\n",
       "      <td>23</td>\n",
       "      <td>...</td>\n",
       "      <td>4</td>\n",
       "      <td>18</td>\n",
       "      <td>-1</td>\n",
       "      <td>-1</td>\n",
       "      <td>10</td>\n",
       "      <td>1^2^3^4^5^6^7^8^9^10^11^12^13^14^15^16^17^18^1...</td>\n",
       "      <td>12</td>\n",
       "      <td>40</td>\n",
       "      <td>2</td>\n",
       "      <td>0</td>\n",
       "    </tr>\n",
       "    <tr>\n",
       "      <th>15726933</th>\n",
       "      <td>1818477</td>\n",
       "      <td>2325</td>\n",
       "      <td>4456</td>\n",
       "      <td>6</td>\n",
       "      <td>139</td>\n",
       "      <td>60</td>\n",
       "      <td>3</td>\n",
       "      <td>16</td>\n",
       "      <td>78</td>\n",
       "      <td>23</td>\n",
       "      <td>...</td>\n",
       "      <td>5</td>\n",
       "      <td>20</td>\n",
       "      <td>-1</td>\n",
       "      <td>-1</td>\n",
       "      <td>10</td>\n",
       "      <td>2^3^4^5^6^7^8^9^10^11^12^13^14^15^16^17^18^19^...</td>\n",
       "      <td>12</td>\n",
       "      <td>38</td>\n",
       "      <td>5</td>\n",
       "      <td>0</td>\n",
       "    </tr>\n",
       "    <tr>\n",
       "      <th>18249101</th>\n",
       "      <td>1551507</td>\n",
       "      <td>5557</td>\n",
       "      <td>3110</td>\n",
       "      <td>7</td>\n",
       "      <td>214</td>\n",
       "      <td>36</td>\n",
       "      <td>5</td>\n",
       "      <td>12</td>\n",
       "      <td>80</td>\n",
       "      <td>41</td>\n",
       "      <td>...</td>\n",
       "      <td>4</td>\n",
       "      <td>-1</td>\n",
       "      <td>-1</td>\n",
       "      <td>-1</td>\n",
       "      <td>2</td>\n",
       "      <td>4^5^6^7^8^9^10^11^12^13^14^15^16^17^18^19^20^2...</td>\n",
       "      <td>11</td>\n",
       "      <td>42</td>\n",
       "      <td>4</td>\n",
       "      <td>0</td>\n",
       "    </tr>\n",
       "    <tr>\n",
       "      <th>13480351</th>\n",
       "      <td>1327033</td>\n",
       "      <td>1813</td>\n",
       "      <td>5657</td>\n",
       "      <td>6</td>\n",
       "      <td>118</td>\n",
       "      <td>60</td>\n",
       "      <td>3</td>\n",
       "      <td>18</td>\n",
       "      <td>67</td>\n",
       "      <td>19</td>\n",
       "      <td>...</td>\n",
       "      <td>2</td>\n",
       "      <td>20</td>\n",
       "      <td>-1</td>\n",
       "      <td>-1</td>\n",
       "      <td>5</td>\n",
       "      <td>6^7^8^9^10^11^12^13^14^15^16^17^18^19^20^21^22^23</td>\n",
       "      <td>10</td>\n",
       "      <td>34</td>\n",
       "      <td>7</td>\n",
       "      <td>0</td>\n",
       "    </tr>\n",
       "  </tbody>\n",
       "</table>\n",
       "<p>5 rows × 36 columns</p>\n",
       "</div>"
      ],
      "text/plain": [
       "                    uid  task_id  adv_id  creat_type_cd  adv_prim_id  dev_id  \\\n",
       "label                                                                          \n",
       "0     10891243  1515750     5602    6503              7          207      17   \n",
       "      29833678  2054132     5404    1303              6          170      60   \n",
       "      15726933  1818477     2325    4456              6          139      60   \n",
       "      18249101  1551507     5557    3110              7          214      36   \n",
       "      13480351  1327033     1813    5657              6          118      60   \n",
       "\n",
       "                inter_type_cd  slot_id  spread_app_id  tags  ...  \\\n",
       "label                                                        ...   \n",
       "0     10891243              5       12             13    37  ...   \n",
       "      29833678              3       17             29    23  ...   \n",
       "      15726933              3       16             78    23  ...   \n",
       "      18249101              5       12             80    41  ...   \n",
       "      13480351              3       18             67    19  ...   \n",
       "\n",
       "                device_price  up_life_duration  up_membership_grade  \\\n",
       "label                                                                 \n",
       "0     10891243             3                 2                   -1   \n",
       "      29833678             4                18                   -1   \n",
       "      15726933             5                20                   -1   \n",
       "      18249101             4                -1                   -1   \n",
       "      13480351             2                20                   -1   \n",
       "\n",
       "                membership_life_duration  consume_purchase  \\\n",
       "label                                                        \n",
       "0     10891243                        -1                 2   \n",
       "      29833678                        -1                10   \n",
       "      15726933                        -1                10   \n",
       "      18249101                        -1                 2   \n",
       "      13480351                        -1                 5   \n",
       "\n",
       "                                         communication_onlinerate  \\\n",
       "label                                                               \n",
       "0     10891243                      14^15^16^17^18^19^20^21^22^23   \n",
       "      29833678  1^2^3^4^5^6^7^8^9^10^11^12^13^14^15^16^17^18^1...   \n",
       "      15726933  2^3^4^5^6^7^8^9^10^11^12^13^14^15^16^17^18^19^...   \n",
       "      18249101  4^5^6^7^8^9^10^11^12^13^14^15^16^17^18^19^20^2...   \n",
       "      13480351  6^7^8^9^10^11^12^13^14^15^16^17^18^19^20^21^22^23   \n",
       "\n",
       "                communication_avgonline_30d  indu_name  pt_d  label  \n",
       "label                                                                \n",
       "0     10891243                            9         17     1      0  \n",
       "      29833678                           12         40     2      0  \n",
       "      15726933                           12         38     5      0  \n",
       "      18249101                           11         42     4      0  \n",
       "      13480351                           10         34     7      0  \n",
       "\n",
       "[5 rows x 36 columns]"
      ]
     },
     "metadata": {},
     "output_type": "display_data"
    },
    {
     "name": "stdout",
     "output_type": "stream",
     "text": [
      "df.info:\n",
      "<class 'pandas.core.frame.DataFrame'>\n",
      "MultiIndex: 335257 entries, (0, 10891243) to (1, 18843641)\n",
      "Data columns (total 36 columns):\n",
      " #   Column                       Non-Null Count   Dtype \n",
      "---  ------                       --------------   ----- \n",
      " 0   uid                          335257 non-null  int64 \n",
      " 1   task_id                      335257 non-null  int64 \n",
      " 2   adv_id                       335257 non-null  int64 \n",
      " 3   creat_type_cd                335257 non-null  int64 \n",
      " 4   adv_prim_id                  335257 non-null  int64 \n",
      " 5   dev_id                       335257 non-null  int64 \n",
      " 6   inter_type_cd                335257 non-null  int64 \n",
      " 7   slot_id                      335257 non-null  int64 \n",
      " 8   spread_app_id                335257 non-null  int64 \n",
      " 9   tags                         335257 non-null  int64 \n",
      " 10  app_first_class              335257 non-null  int64 \n",
      " 11  app_second_class             335257 non-null  int64 \n",
      " 12  age                          335257 non-null  int64 \n",
      " 13  city                         335257 non-null  int64 \n",
      " 14  city_rank                    335257 non-null  int64 \n",
      " 15  device_name                  335257 non-null  int64 \n",
      " 16  device_size                  335257 non-null  int64 \n",
      " 17  career                       335257 non-null  int64 \n",
      " 18  gender                       335257 non-null  int64 \n",
      " 19  net_type                     335257 non-null  int64 \n",
      " 20  residence                    335257 non-null  int64 \n",
      " 21  his_app_size                 335257 non-null  int64 \n",
      " 22  his_on_shelf_time            335257 non-null  int64 \n",
      " 23  app_score                    335257 non-null  int64 \n",
      " 24  emui_dev                     335257 non-null  int64 \n",
      " 25  list_time                    335257 non-null  int64 \n",
      " 26  device_price                 335257 non-null  int64 \n",
      " 27  up_life_duration             335257 non-null  int64 \n",
      " 28  up_membership_grade          335257 non-null  int64 \n",
      " 29  membership_life_duration     335257 non-null  int64 \n",
      " 30  consume_purchase             335257 non-null  int64 \n",
      " 31  communication_onlinerate     335257 non-null  object\n",
      " 32  communication_avgonline_30d  335257 non-null  int64 \n",
      " 33  indu_name                    335257 non-null  int64 \n",
      " 34  pt_d                         335257 non-null  int64 \n",
      " 35  label                        335257 non-null  int64 \n",
      "dtypes: int64(35), object(1)\n",
      "memory usage: 104.3+ MB\n"
     ]
    },
    {
     "data": {
      "text/plain": [
       "None"
      ]
     },
     "metadata": {},
     "output_type": "display_data"
    },
    {
     "name": "stdout",
     "output_type": "stream",
     "text": [
      "df.describe: \n"
     ]
    },
    {
     "data": {
      "text/html": [
       "<div>\n",
       "<style scoped>\n",
       "    .dataframe tbody tr th:only-of-type {\n",
       "        vertical-align: middle;\n",
       "    }\n",
       "\n",
       "    .dataframe tbody tr th {\n",
       "        vertical-align: top;\n",
       "    }\n",
       "\n",
       "    .dataframe thead th {\n",
       "        text-align: right;\n",
       "    }\n",
       "</style>\n",
       "<table border=\"1\" class=\"dataframe\">\n",
       "  <thead>\n",
       "    <tr style=\"text-align: right;\">\n",
       "      <th></th>\n",
       "      <th>uid</th>\n",
       "      <th>task_id</th>\n",
       "      <th>adv_id</th>\n",
       "      <th>creat_type_cd</th>\n",
       "      <th>adv_prim_id</th>\n",
       "      <th>dev_id</th>\n",
       "      <th>inter_type_cd</th>\n",
       "      <th>slot_id</th>\n",
       "      <th>spread_app_id</th>\n",
       "      <th>tags</th>\n",
       "      <th>...</th>\n",
       "      <th>list_time</th>\n",
       "      <th>device_price</th>\n",
       "      <th>up_life_duration</th>\n",
       "      <th>up_membership_grade</th>\n",
       "      <th>membership_life_duration</th>\n",
       "      <th>consume_purchase</th>\n",
       "      <th>communication_avgonline_30d</th>\n",
       "      <th>indu_name</th>\n",
       "      <th>pt_d</th>\n",
       "      <th>label</th>\n",
       "    </tr>\n",
       "  </thead>\n",
       "  <tbody>\n",
       "    <tr>\n",
       "      <th>count</th>\n",
       "      <td>3.352570e+05</td>\n",
       "      <td>335257.000000</td>\n",
       "      <td>335257.000000</td>\n",
       "      <td>335257.000000</td>\n",
       "      <td>335257.000000</td>\n",
       "      <td>335257.000000</td>\n",
       "      <td>335257.000000</td>\n",
       "      <td>335257.000000</td>\n",
       "      <td>335257.000000</td>\n",
       "      <td>335257.000000</td>\n",
       "      <td>...</td>\n",
       "      <td>335257.000000</td>\n",
       "      <td>335257.000000</td>\n",
       "      <td>335257.000000</td>\n",
       "      <td>335257.000000</td>\n",
       "      <td>335257.000000</td>\n",
       "      <td>335257.000000</td>\n",
       "      <td>335257.000000</td>\n",
       "      <td>335257.000000</td>\n",
       "      <td>335257.000000</td>\n",
       "      <td>335257.000000</td>\n",
       "    </tr>\n",
       "    <tr>\n",
       "      <th>mean</th>\n",
       "      <td>1.617830e+06</td>\n",
       "      <td>3439.112898</td>\n",
       "      <td>3966.592062</td>\n",
       "      <td>6.490603</td>\n",
       "      <td>159.359694</td>\n",
       "      <td>41.532052</td>\n",
       "      <td>4.648168</td>\n",
       "      <td>15.256982</td>\n",
       "      <td>51.956189</td>\n",
       "      <td>34.368529</td>\n",
       "      <td>...</td>\n",
       "      <td>9.211336</td>\n",
       "      <td>3.474746</td>\n",
       "      <td>12.707371</td>\n",
       "      <td>-0.754994</td>\n",
       "      <td>-0.968806</td>\n",
       "      <td>2.583072</td>\n",
       "      <td>11.144480</td>\n",
       "      <td>26.542285</td>\n",
       "      <td>3.993119</td>\n",
       "      <td>0.034493</td>\n",
       "    </tr>\n",
       "    <tr>\n",
       "      <th>std</th>\n",
       "      <td>3.579909e+05</td>\n",
       "      <td>1428.367433</td>\n",
       "      <td>1719.194141</td>\n",
       "      <td>1.230572</td>\n",
       "      <td>30.930926</td>\n",
       "      <td>17.424438</td>\n",
       "      <td>0.708969</td>\n",
       "      <td>3.169083</td>\n",
       "      <td>25.125787</td>\n",
       "      <td>8.148608</td>\n",
       "      <td>...</td>\n",
       "      <td>3.638066</td>\n",
       "      <td>1.159128</td>\n",
       "      <td>9.020866</td>\n",
       "      <td>0.659497</td>\n",
       "      <td>0.764871</td>\n",
       "      <td>1.760222</td>\n",
       "      <td>1.646342</td>\n",
       "      <td>11.053214</td>\n",
       "      <td>2.011216</td>\n",
       "      <td>0.182492</td>\n",
       "    </tr>\n",
       "    <tr>\n",
       "      <th>min</th>\n",
       "      <td>1.000003e+06</td>\n",
       "      <td>1001.000000</td>\n",
       "      <td>1004.000000</td>\n",
       "      <td>2.000000</td>\n",
       "      <td>101.000000</td>\n",
       "      <td>11.000000</td>\n",
       "      <td>2.000000</td>\n",
       "      <td>11.000000</td>\n",
       "      <td>11.000000</td>\n",
       "      <td>11.000000</td>\n",
       "      <td>...</td>\n",
       "      <td>-2.000000</td>\n",
       "      <td>-1.000000</td>\n",
       "      <td>-1.000000</td>\n",
       "      <td>-1.000000</td>\n",
       "      <td>-1.000000</td>\n",
       "      <td>2.000000</td>\n",
       "      <td>-1.000000</td>\n",
       "      <td>11.000000</td>\n",
       "      <td>1.000000</td>\n",
       "      <td>0.000000</td>\n",
       "    </tr>\n",
       "    <tr>\n",
       "      <th>25%</th>\n",
       "      <td>1.305945e+06</td>\n",
       "      <td>2229.000000</td>\n",
       "      <td>2504.000000</td>\n",
       "      <td>6.000000</td>\n",
       "      <td>134.000000</td>\n",
       "      <td>29.000000</td>\n",
       "      <td>5.000000</td>\n",
       "      <td>12.000000</td>\n",
       "      <td>31.000000</td>\n",
       "      <td>34.000000</td>\n",
       "      <td>...</td>\n",
       "      <td>7.000000</td>\n",
       "      <td>3.000000</td>\n",
       "      <td>-1.000000</td>\n",
       "      <td>-1.000000</td>\n",
       "      <td>-1.000000</td>\n",
       "      <td>2.000000</td>\n",
       "      <td>10.000000</td>\n",
       "      <td>17.000000</td>\n",
       "      <td>2.000000</td>\n",
       "      <td>0.000000</td>\n",
       "    </tr>\n",
       "    <tr>\n",
       "      <th>50%</th>\n",
       "      <td>1.617848e+06</td>\n",
       "      <td>3370.000000</td>\n",
       "      <td>4054.000000</td>\n",
       "      <td>7.000000</td>\n",
       "      <td>156.000000</td>\n",
       "      <td>37.000000</td>\n",
       "      <td>5.000000</td>\n",
       "      <td>16.000000</td>\n",
       "      <td>53.000000</td>\n",
       "      <td>37.000000</td>\n",
       "      <td>...</td>\n",
       "      <td>9.000000</td>\n",
       "      <td>4.000000</td>\n",
       "      <td>18.000000</td>\n",
       "      <td>-1.000000</td>\n",
       "      <td>-1.000000</td>\n",
       "      <td>2.000000</td>\n",
       "      <td>11.000000</td>\n",
       "      <td>24.000000</td>\n",
       "      <td>4.000000</td>\n",
       "      <td>0.000000</td>\n",
       "    </tr>\n",
       "    <tr>\n",
       "      <th>75%</th>\n",
       "      <td>1.927908e+06</td>\n",
       "      <td>4595.000000</td>\n",
       "      <td>5463.000000</td>\n",
       "      <td>7.000000</td>\n",
       "      <td>182.000000</td>\n",
       "      <td>60.000000</td>\n",
       "      <td>5.000000</td>\n",
       "      <td>17.000000</td>\n",
       "      <td>78.000000</td>\n",
       "      <td>40.000000</td>\n",
       "      <td>...</td>\n",
       "      <td>12.000000</td>\n",
       "      <td>4.000000</td>\n",
       "      <td>20.000000</td>\n",
       "      <td>-1.000000</td>\n",
       "      <td>-1.000000</td>\n",
       "      <td>2.000000</td>\n",
       "      <td>12.000000</td>\n",
       "      <td>36.000000</td>\n",
       "      <td>6.000000</td>\n",
       "      <td>0.000000</td>\n",
       "    </tr>\n",
       "    <tr>\n",
       "      <th>max</th>\n",
       "      <td>2.237666e+06</td>\n",
       "      <td>5992.000000</td>\n",
       "      <td>7020.000000</td>\n",
       "      <td>9.000000</td>\n",
       "      <td>214.000000</td>\n",
       "      <td>72.000000</td>\n",
       "      <td>5.000000</td>\n",
       "      <td>22.000000</td>\n",
       "      <td>89.000000</td>\n",
       "      <td>42.000000</td>\n",
       "      <td>...</td>\n",
       "      <td>17.000000</td>\n",
       "      <td>7.000000</td>\n",
       "      <td>20.000000</td>\n",
       "      <td>3.000000</td>\n",
       "      <td>20.000000</td>\n",
       "      <td>10.000000</td>\n",
       "      <td>13.000000</td>\n",
       "      <td>52.000000</td>\n",
       "      <td>7.000000</td>\n",
       "      <td>1.000000</td>\n",
       "    </tr>\n",
       "  </tbody>\n",
       "</table>\n",
       "<p>8 rows × 35 columns</p>\n",
       "</div>"
      ],
      "text/plain": [
       "                uid        task_id         adv_id  creat_type_cd  \\\n",
       "count  3.352570e+05  335257.000000  335257.000000  335257.000000   \n",
       "mean   1.617830e+06    3439.112898    3966.592062       6.490603   \n",
       "std    3.579909e+05    1428.367433    1719.194141       1.230572   \n",
       "min    1.000003e+06    1001.000000    1004.000000       2.000000   \n",
       "25%    1.305945e+06    2229.000000    2504.000000       6.000000   \n",
       "50%    1.617848e+06    3370.000000    4054.000000       7.000000   \n",
       "75%    1.927908e+06    4595.000000    5463.000000       7.000000   \n",
       "max    2.237666e+06    5992.000000    7020.000000       9.000000   \n",
       "\n",
       "         adv_prim_id         dev_id  inter_type_cd        slot_id  \\\n",
       "count  335257.000000  335257.000000  335257.000000  335257.000000   \n",
       "mean      159.359694      41.532052       4.648168      15.256982   \n",
       "std        30.930926      17.424438       0.708969       3.169083   \n",
       "min       101.000000      11.000000       2.000000      11.000000   \n",
       "25%       134.000000      29.000000       5.000000      12.000000   \n",
       "50%       156.000000      37.000000       5.000000      16.000000   \n",
       "75%       182.000000      60.000000       5.000000      17.000000   \n",
       "max       214.000000      72.000000       5.000000      22.000000   \n",
       "\n",
       "       spread_app_id           tags  ...      list_time   device_price  \\\n",
       "count  335257.000000  335257.000000  ...  335257.000000  335257.000000   \n",
       "mean       51.956189      34.368529  ...       9.211336       3.474746   \n",
       "std        25.125787       8.148608  ...       3.638066       1.159128   \n",
       "min        11.000000      11.000000  ...      -2.000000      -1.000000   \n",
       "25%        31.000000      34.000000  ...       7.000000       3.000000   \n",
       "50%        53.000000      37.000000  ...       9.000000       4.000000   \n",
       "75%        78.000000      40.000000  ...      12.000000       4.000000   \n",
       "max        89.000000      42.000000  ...      17.000000       7.000000   \n",
       "\n",
       "       up_life_duration  up_membership_grade  membership_life_duration  \\\n",
       "count     335257.000000        335257.000000             335257.000000   \n",
       "mean          12.707371            -0.754994                 -0.968806   \n",
       "std            9.020866             0.659497                  0.764871   \n",
       "min           -1.000000            -1.000000                 -1.000000   \n",
       "25%           -1.000000            -1.000000                 -1.000000   \n",
       "50%           18.000000            -1.000000                 -1.000000   \n",
       "75%           20.000000            -1.000000                 -1.000000   \n",
       "max           20.000000             3.000000                 20.000000   \n",
       "\n",
       "       consume_purchase  communication_avgonline_30d      indu_name  \\\n",
       "count     335257.000000                335257.000000  335257.000000   \n",
       "mean           2.583072                    11.144480      26.542285   \n",
       "std            1.760222                     1.646342      11.053214   \n",
       "min            2.000000                    -1.000000      11.000000   \n",
       "25%            2.000000                    10.000000      17.000000   \n",
       "50%            2.000000                    11.000000      24.000000   \n",
       "75%            2.000000                    12.000000      36.000000   \n",
       "max           10.000000                    13.000000      52.000000   \n",
       "\n",
       "                pt_d          label  \n",
       "count  335257.000000  335257.000000  \n",
       "mean        3.993119       0.034493  \n",
       "std         2.011216       0.182492  \n",
       "min         1.000000       0.000000  \n",
       "25%         2.000000       0.000000  \n",
       "50%         4.000000       0.000000  \n",
       "75%         6.000000       0.000000  \n",
       "max         7.000000       1.000000  \n",
       "\n",
       "[8 rows x 35 columns]"
      ]
     },
     "metadata": {},
     "output_type": "display_data"
    }
   ],
   "source": [
    "eda_utils.check_out_general_info(train_df_eda)"
   ]
  },
  {
   "cell_type": "markdown",
   "id": "b1a6c1ba-5b61-4e25-84c2-30624795d36d",
   "metadata": {},
   "source": [
    "#### Checkout duplicate observations"
   ]
  },
  {
   "cell_type": "code",
   "execution_count": 6,
   "id": "15a6ccdb-1241-4dba-b2f3-73ea7f085892",
   "metadata": {},
   "outputs": [
    {
     "name": "stdout",
     "output_type": "stream",
     "text": [
      "\n",
      "Check out observations with missing target:\n",
      "df.shape:  (335257, 36)\n",
      "drop_miss_tar_df.shape:  (335257, 36)\n",
      "No missing-target observations observed in data set.\n"
     ]
    }
   ],
   "source": [
    "eda_utils.check_out_missing_target(train_df_eda, target)"
   ]
  },
  {
   "cell_type": "markdown",
   "id": "5112a1da-bfdc-4ea8-8b05-a7ff6c5a1a9e",
   "metadata": {},
   "source": [
    "#### Checkout missing targets"
   ]
  },
  {
   "cell_type": "code",
   "execution_count": 7,
   "id": "3eee0abe-7687-45b6-b631-1162afbf26ac",
   "metadata": {},
   "outputs": [
    {
     "name": "stdout",
     "output_type": "stream",
     "text": [
      "\n",
      "Check out duplicate observations:\n",
      "df.shape:  (335257, 36)\n",
      "drop_dup_df.shape:  (334590, 36)\n",
      "Caution: data set contains duplicate observations!!!\n"
     ]
    }
   ],
   "source": [
    "eda_utils.check_out_duplicate_obs(train_df_eda)"
   ]
  },
  {
   "cell_type": "markdown",
   "id": "90f70ce0857992c1",
   "metadata": {
    "collapsed": false,
    "jupyter": {
     "outputs_hidden": false
    }
   },
   "source": [
    "#### Checkout missingness"
   ]
  },
  {
   "cell_type": "code",
   "execution_count": null,
   "id": "bc4afca201b7b4ac",
   "metadata": {
    "collapsed": false,
    "jupyter": {
     "outputs_hidden": false
    }
   },
   "outputs": [],
   "source": []
  },
  {
   "cell_type": "markdown",
   "id": "c9766959cc278420",
   "metadata": {
    "collapsed": false,
    "jupyter": {
     "outputs_hidden": false
    }
   },
   "source": [
    "#### Checkout outliers"
   ]
  },
  {
   "cell_type": "code",
   "execution_count": null,
   "id": "a50d8f34d3f9638b",
   "metadata": {
    "collapsed": false,
    "jupyter": {
     "outputs_hidden": false
    }
   },
   "outputs": [],
   "source": []
  },
  {
   "cell_type": "markdown",
   "id": "deefacff527d8fc6",
   "metadata": {
    "collapsed": false,
    "jupyter": {
     "outputs_hidden": false
    }
   },
   "source": [
    "#### Identify numerical and categorical attibutes"
   ]
  },
  {
   "cell_type": "code",
   "execution_count": 9,
   "id": "9872a8b220638cb2",
   "metadata": {
    "collapsed": false,
    "jupyter": {
     "outputs_hidden": false
    }
   },
   "outputs": [
    {
     "name": "stdout",
     "output_type": "stream",
     "text": [
      "\n",
      "Split nominal and numerical attr:\n",
      "numerical_attr_list: \n",
      "['uid', 'task_id', 'adv_id', 'creat_type_cd', 'adv_prim_id', 'dev_id', 'inter_type_cd', 'slot_id', 'spread_app_id', 'tags', 'app_first_class', 'app_second_class', 'age', 'city', 'city_rank', 'device_name', 'device_size', 'career', 'gender', 'net_type', 'residence', 'his_app_size', 'his_on_shelf_time', 'app_score', 'emui_dev', 'list_time', 'device_price', 'up_life_duration', 'up_membership_grade', 'membership_life_duration', 'consume_purchase', 'communication_avgonline_30d', 'indu_name', 'pt_d']\n",
      "nominal_attr_list: \n",
      "['communication_onlinerate']\n"
     ]
    }
   ],
   "source": [
    "numerical_attr_list, nominal_attr_list = eda_utils.split_numerical_nominal_attr(train_df_eda, target)"
   ]
  },
  {
   "cell_type": "markdown",
   "id": "fb62a50ea21961d8",
   "metadata": {
    "collapsed": false,
    "jupyter": {
     "outputs_hidden": false
    }
   },
   "source": [
    "#### Usefulness of attributes for the task"
   ]
  },
  {
   "cell_type": "code",
   "execution_count": null,
   "id": "f752ebdb7aadff94",
   "metadata": {
    "collapsed": false,
    "jupyter": {
     "outputs_hidden": false
    }
   },
   "outputs": [],
   "source": []
  },
  {
   "cell_type": "markdown",
   "id": "e672023f5fcad0e1",
   "metadata": {
    "collapsed": false,
    "jupyter": {
     "outputs_hidden": false
    }
   },
   "source": [
    "#### Histogram and basic stats(mean, median, variance, max, min) for numerical attributes"
   ]
  },
  {
   "cell_type": "code",
   "execution_count": null,
   "id": "709ce7e89ef0e58d",
   "metadata": {
    "collapsed": false,
    "jupyter": {
     "outputs_hidden": false
    }
   },
   "outputs": [],
   "source": []
  },
  {
   "cell_type": "markdown",
   "id": "b38cef4a9f1396d1",
   "metadata": {
    "collapsed": false,
    "jupyter": {
     "outputs_hidden": false
    }
   },
   "source": [
    "#### Cardinality and value counts for categorical attribtues "
   ]
  },
  {
   "cell_type": "code",
   "execution_count": null,
   "id": "965be459b7012946",
   "metadata": {
    "collapsed": false,
    "jupyter": {
     "outputs_hidden": false
    }
   },
   "outputs": [],
   "source": []
  },
  {
   "cell_type": "markdown",
   "id": "b698c9a8aaa241d7",
   "metadata": {
    "collapsed": false,
    "jupyter": {
     "outputs_hidden": false
    }
   },
   "source": [
    "#### Correlations and associations between attributes."
   ]
  },
  {
   "cell_type": "code",
   "execution_count": null,
   "id": "3cbc72380edd640a",
   "metadata": {
    "collapsed": false,
    "jupyter": {
     "outputs_hidden": false
    }
   },
   "outputs": [],
   "source": []
  },
  {
   "cell_type": "markdown",
   "id": "5e5d9e88a24ccb68",
   "metadata": {
    "collapsed": false,
    "jupyter": {
     "outputs_hidden": false
    }
   },
   "source": [
    "#### Identify the promising transformations"
   ]
  },
  {
   "cell_type": "code",
   "execution_count": null,
   "id": "ea05d6fdbd686fb5",
   "metadata": {
    "collapsed": false,
    "jupyter": {
     "outputs_hidden": false
    }
   },
   "outputs": [],
   "source": []
  }
 ],
 "metadata": {
  "kernelspec": {
   "display_name": "Python 3 (ipykernel)",
   "language": "python",
   "name": "python3"
  },
  "language_info": {
   "codemirror_mode": {
    "name": "ipython",
    "version": 3
   },
   "file_extension": ".py",
   "mimetype": "text/x-python",
   "name": "python",
   "nbconvert_exporter": "python",
   "pygments_lexer": "ipython3",
   "version": "3.10.12"
  }
 },
 "nbformat": 4,
 "nbformat_minor": 5
}
