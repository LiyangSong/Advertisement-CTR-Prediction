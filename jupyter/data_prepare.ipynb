{
 "cells": [
  {
   "cell_type": "markdown",
   "id": "4309d210",
   "metadata": {
    "collapsed": true
   },
   "source": [
    "# Data Preparation"
   ]
  },
  {
   "cell_type": "markdown",
   "id": "1b4547c3",
   "metadata": {},
   "source": [
    "## Identify required transformation\n",
    "In this section, we check if any data transformation is needed based on the exploratory data analysis. "
   ]
  },
  {
   "cell_type": "markdown",
   "id": "b40330a3",
   "metadata": {},
   "source": [
    "**1. Drop attributes - possibly included?**<br>"
   ]
  },
  {
   "cell_type": "markdown",
   "id": "119e3baa",
   "metadata": {},
   "source": [
    "**2. Feature scaling - included**<br>\n",
    "standardize or normalize features"
   ]
  },
  {
   "cell_type": "markdown",
   "id": "1c710e34",
   "metadata": {},
   "source": [
    "**3. Drop outliers - not included** <br>\n",
    "Some of the data points are significantly different from the rest of dataset. However, considering them as outliers is not feasible.<br>\n",
    "All attributes in this data set are pre-encoded and categorical, preventing us from understanding the context and investigating abnormal observations. \n",
    "Therefore, the process of dropping outliers is not included in this project"
   ]
  },
  {
   "cell_type": "markdown",
   "id": "752f5bdf",
   "metadata": {},
   "source": [
    "**4. Fill/drop missingness - not included**<br>\n",
    "No missing value is found in the data set. Therefore, this process is ignored."
   ]
  },
  {
   "cell_type": "markdown",
   "id": "4820e935",
   "metadata": {},
   "source": [
    "**5. Discretize continuous features - not included**<br>\n",
    "Data discretization is used to group continuous values into contiguous intevals. Many of the attributes in the original data set seem to be discretized already. "
   ]
  },
  {
   "cell_type": "markdown",
   "id": "224df4b1",
   "metadata": {},
   "source": [
    "**6. Decompose features - not included**<br>\n",
    "No data set documentation is found when getting the data set and all attributes are pre-encoded. Therefore, decomposing these transformed features is unnecessary. "
   ]
  },
  {
   "cell_type": "markdown",
   "id": "a5d8ee8b",
   "metadata": {},
   "source": [
    "**7. Transform features - not included**<br>\n",
    "Based on the fact that all features are categorical, only target encoding is implement. Log transformation or square root transformation is unnecessary."
   ]
  },
  {
   "cell_type": "markdown",
   "id": "51b60693",
   "metadata": {},
   "source": [
    "**8. Aggregate features into new features - not included**<br>\n",
    "Because the original data set has be preprocessed already (probably for privacy consideration), the actual meanings of numerous values are unclear. It constrains our capacity to construct meaningful and useful features.<br>\n",
    "For example, the feature **gender** has three groups of values - 2, 4, 3. We lack information to identify the actual gender."
   ]
  },
  {
   "cell_type": "code",
   "execution_count": null,
   "id": "7592679e",
   "metadata": {},
   "outputs": [],
   "source": []
  }
 ],
 "metadata": {
  "kernelspec": {
   "display_name": "Python 3 (ipykernel)",
   "language": "python",
   "name": "python3"
  },
  "language_info": {
   "codemirror_mode": {
    "name": "ipython",
    "version": 3
   },
   "file_extension": ".py",
   "mimetype": "text/x-python",
   "name": "python",
   "nbconvert_exporter": "python",
   "pygments_lexer": "ipython3",
   "version": "3.10.13"
  }
 },
 "nbformat": 4,
 "nbformat_minor": 5
}
