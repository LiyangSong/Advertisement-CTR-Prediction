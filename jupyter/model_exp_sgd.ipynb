{
 "cells": [
  {
   "cell_type": "markdown",
   "id": "1bfc48d1",
   "metadata": {},
   "source": [
    "## Shortlist Promising Models - SGD Classifier"
   ]
  },
  {
   "cell_type": "markdown",
   "id": "b5d912d1",
   "metadata": {},
   "source": [
    "#### 0. Import modules and define parameters"
   ]
  },
  {
   "cell_type": "code",
   "execution_count": 1,
   "id": "f05e1a08",
   "metadata": {
    "ExecuteTime": {
     "end_time": "2023-12-10T05:14:41.327383Z",
     "start_time": "2023-12-10T05:14:39.982491Z"
    }
   },
   "outputs": [],
   "source": [
    "import sys\n",
    "sys.path.append(\"..\")\n",
    "\n",
    "from module.utils import general_utils\n",
    "from module.utils import data_prepare_utils\n",
    "import module.utils.bin_class_utils as bin_class_utils\n",
    "from sklearn.pipeline import Pipeline\n",
    "import time"
   ]
  },
  {
   "cell_type": "code",
   "execution_count": 2,
   "id": "609f28df527047a2",
   "metadata": {
    "ExecuteTime": {
     "end_time": "2023-12-10T05:14:41.333983Z",
     "start_time": "2023-12-10T05:14:41.328224Z"
    }
   },
   "outputs": [],
   "source": [
    "start = time.time()"
   ]
  },
  {
   "cell_type": "code",
   "execution_count": 3,
   "id": "f53a94db",
   "metadata": {
    "ExecuteTime": {
     "end_time": "2023-12-10T05:14:41.334415Z",
     "start_time": "2023-12-10T05:14:41.331545Z"
    }
   },
   "outputs": [],
   "source": [
    "TRAIN_FILE_PATH = \"../data/train_df.csv\"\n",
    "VALIDATION_FILE_PATH = \"../data/validation_df.csv\"\n",
    "\n",
    "TARGET_ATTR = \"label\"\n",
    "TARGET_TYPE = \"binary\"\n",
    "\n",
    "ESTIMATOR_NAME = \"SGDClassifier\"\n",
    "\n",
    "SAMPLE_SIZE = 0.05\n",
    "SAMPLE_RANDOM_STATE = 24\n",
    "TARGET_ENCODING_RANDOM_STATE = 42\n",
    "MODEL_RANDOM_STATE = 42\n",
    "PERMUTATION_IMPORTANCE_RANDOM_STATE = 0\n",
    "\n",
    "ATTRS_TO_DROP = ['uid', 'app_score', 'his_on_shelf_time', 'task_id', 'spread_app_id', 'tags', 'dev_id']\n",
    "\n",
    "CVS_SCORING_LIST = ['accuracy', 'precision', 'recall', 'recall', 'f1']\n",
    "PERMUTATION_SCORING_LIST = ['average_precision', 'roc_auc']\n",
    "PERM_DROP_THRESHOLD_PERCENT = 0.2"
   ]
  },
  {
   "cell_type": "markdown",
   "id": "b8218d94",
   "metadata": {},
   "source": [
    "#### 1. Import Data"
   ]
  },
  {
   "cell_type": "code",
   "execution_count": 4,
   "id": "7041c859",
   "metadata": {
    "ExecuteTime": {
     "end_time": "2023-12-10T05:14:42.181455Z",
     "start_time": "2023-12-10T05:14:41.335934Z"
    }
   },
   "outputs": [
    {
     "name": "stdout",
     "output_type": "stream",
     "text": [
      "\n",
      "Read CSV file ../data/train_df.csv into DataFrame:\n",
      "df.head(): \n"
     ]
    },
    {
     "data": {
      "text/html": [
       "<div>\n",
       "<style scoped>\n",
       "    .dataframe tbody tr th:only-of-type {\n",
       "        vertical-align: middle;\n",
       "    }\n",
       "\n",
       "    .dataframe tbody tr th {\n",
       "        vertical-align: top;\n",
       "    }\n",
       "\n",
       "    .dataframe thead th {\n",
       "        text-align: right;\n",
       "    }\n",
       "</style>\n",
       "<table border=\"1\" class=\"dataframe\">\n",
       "  <thead>\n",
       "    <tr style=\"text-align: right;\">\n",
       "      <th></th>\n",
       "      <th>uid</th>\n",
       "      <th>task_id</th>\n",
       "      <th>adv_id</th>\n",
       "      <th>creat_type_cd</th>\n",
       "      <th>adv_prim_id</th>\n",
       "      <th>dev_id</th>\n",
       "      <th>inter_type_cd</th>\n",
       "      <th>slot_id</th>\n",
       "      <th>spread_app_id</th>\n",
       "      <th>tags</th>\n",
       "      <th>...</th>\n",
       "      <th>device_price</th>\n",
       "      <th>up_life_duration</th>\n",
       "      <th>up_membership_grade</th>\n",
       "      <th>membership_life_duration</th>\n",
       "      <th>consume_purchase</th>\n",
       "      <th>communication_onlinerate</th>\n",
       "      <th>communication_avgonline_30d</th>\n",
       "      <th>indu_name</th>\n",
       "      <th>pt_d</th>\n",
       "      <th>label</th>\n",
       "    </tr>\n",
       "  </thead>\n",
       "  <tbody>\n",
       "    <tr>\n",
       "      <th>0</th>\n",
       "      <td>1920544</td>\n",
       "      <td>3854</td>\n",
       "      <td>3367</td>\n",
       "      <td>7</td>\n",
       "      <td>207</td>\n",
       "      <td>17</td>\n",
       "      <td>5</td>\n",
       "      <td>11</td>\n",
       "      <td>13</td>\n",
       "      <td>37</td>\n",
       "      <td>...</td>\n",
       "      <td>4</td>\n",
       "      <td>20</td>\n",
       "      <td>-1</td>\n",
       "      <td>-1</td>\n",
       "      <td>2</td>\n",
       "      <td>7^8^9^10^11^12^13^14^15^16^17^18^19^20^21^22^23</td>\n",
       "      <td>10</td>\n",
       "      <td>17</td>\n",
       "      <td>6</td>\n",
       "      <td>0</td>\n",
       "    </tr>\n",
       "    <tr>\n",
       "      <th>1</th>\n",
       "      <td>1850503</td>\n",
       "      <td>3903</td>\n",
       "      <td>6370</td>\n",
       "      <td>7</td>\n",
       "      <td>173</td>\n",
       "      <td>52</td>\n",
       "      <td>5</td>\n",
       "      <td>12</td>\n",
       "      <td>69</td>\n",
       "      <td>11</td>\n",
       "      <td>...</td>\n",
       "      <td>2</td>\n",
       "      <td>-1</td>\n",
       "      <td>-1</td>\n",
       "      <td>-1</td>\n",
       "      <td>2</td>\n",
       "      <td>5^6^7^8^9^10^11^12^13^14^15^16^17^18^19^20^21^...</td>\n",
       "      <td>12</td>\n",
       "      <td>50</td>\n",
       "      <td>7</td>\n",
       "      <td>0</td>\n",
       "    </tr>\n",
       "    <tr>\n",
       "      <th>2</th>\n",
       "      <td>2157496</td>\n",
       "      <td>1847</td>\n",
       "      <td>6428</td>\n",
       "      <td>6</td>\n",
       "      <td>178</td>\n",
       "      <td>17</td>\n",
       "      <td>5</td>\n",
       "      <td>18</td>\n",
       "      <td>70</td>\n",
       "      <td>39</td>\n",
       "      <td>...</td>\n",
       "      <td>7</td>\n",
       "      <td>20</td>\n",
       "      <td>1</td>\n",
       "      <td>-1</td>\n",
       "      <td>9</td>\n",
       "      <td>0^1^2^3^4^5^6^7^8^9^10^11^12^13^14^15^16^17^18...</td>\n",
       "      <td>13</td>\n",
       "      <td>36</td>\n",
       "      <td>7</td>\n",
       "      <td>0</td>\n",
       "    </tr>\n",
       "    <tr>\n",
       "      <th>3</th>\n",
       "      <td>2072043</td>\n",
       "      <td>4125</td>\n",
       "      <td>4468</td>\n",
       "      <td>7</td>\n",
       "      <td>168</td>\n",
       "      <td>37</td>\n",
       "      <td>5</td>\n",
       "      <td>12</td>\n",
       "      <td>44</td>\n",
       "      <td>40</td>\n",
       "      <td>...</td>\n",
       "      <td>2</td>\n",
       "      <td>20</td>\n",
       "      <td>-1</td>\n",
       "      <td>-1</td>\n",
       "      <td>2</td>\n",
       "      <td>6^7^8^9^10^11^12^13^14^15^16^17^18^19^20^21^22^23</td>\n",
       "      <td>11</td>\n",
       "      <td>17</td>\n",
       "      <td>6</td>\n",
       "      <td>0</td>\n",
       "    </tr>\n",
       "    <tr>\n",
       "      <th>4</th>\n",
       "      <td>1084626</td>\n",
       "      <td>4811</td>\n",
       "      <td>3326</td>\n",
       "      <td>7</td>\n",
       "      <td>183</td>\n",
       "      <td>29</td>\n",
       "      <td>5</td>\n",
       "      <td>12</td>\n",
       "      <td>86</td>\n",
       "      <td>37</td>\n",
       "      <td>...</td>\n",
       "      <td>3</td>\n",
       "      <td>18</td>\n",
       "      <td>-1</td>\n",
       "      <td>-1</td>\n",
       "      <td>2</td>\n",
       "      <td>7^8^9^10^11^12^13^14^15^16^17^18^19^20^21^22^23</td>\n",
       "      <td>10</td>\n",
       "      <td>17</td>\n",
       "      <td>6</td>\n",
       "      <td>0</td>\n",
       "    </tr>\n",
       "  </tbody>\n",
       "</table>\n",
       "<p>5 rows × 36 columns</p>\n",
       "</div>"
      ],
      "text/plain": [
       "       uid  task_id  adv_id  creat_type_cd  adv_prim_id  dev_id  \\\n",
       "0  1920544     3854    3367              7          207      17   \n",
       "1  1850503     3903    6370              7          173      52   \n",
       "2  2157496     1847    6428              6          178      17   \n",
       "3  2072043     4125    4468              7          168      37   \n",
       "4  1084626     4811    3326              7          183      29   \n",
       "\n",
       "   inter_type_cd  slot_id  spread_app_id  tags  ...  device_price  \\\n",
       "0              5       11             13    37  ...             4   \n",
       "1              5       12             69    11  ...             2   \n",
       "2              5       18             70    39  ...             7   \n",
       "3              5       12             44    40  ...             2   \n",
       "4              5       12             86    37  ...             3   \n",
       "\n",
       "   up_life_duration  up_membership_grade  membership_life_duration  \\\n",
       "0                20                   -1                        -1   \n",
       "1                -1                   -1                        -1   \n",
       "2                20                    1                        -1   \n",
       "3                20                   -1                        -1   \n",
       "4                18                   -1                        -1   \n",
       "\n",
       "   consume_purchase                           communication_onlinerate  \\\n",
       "0                 2    7^8^9^10^11^12^13^14^15^16^17^18^19^20^21^22^23   \n",
       "1                 2  5^6^7^8^9^10^11^12^13^14^15^16^17^18^19^20^21^...   \n",
       "2                 9  0^1^2^3^4^5^6^7^8^9^10^11^12^13^14^15^16^17^18...   \n",
       "3                 2  6^7^8^9^10^11^12^13^14^15^16^17^18^19^20^21^22^23   \n",
       "4                 2    7^8^9^10^11^12^13^14^15^16^17^18^19^20^21^22^23   \n",
       "\n",
       "   communication_avgonline_30d  indu_name  pt_d  label  \n",
       "0                           10         17     6      0  \n",
       "1                           12         50     7      0  \n",
       "2                           13         36     7      0  \n",
       "3                           11         17     6      0  \n",
       "4                           10         17     6      0  \n",
       "\n",
       "[5 rows x 36 columns]"
      ]
     },
     "metadata": {},
     "output_type": "display_data"
    },
    {
     "name": "stdout",
     "output_type": "stream",
     "text": [
      "df.shape: (670513, 36)\n"
     ]
    }
   ],
   "source": [
    "train_df = general_utils.read_csv(TRAIN_FILE_PATH)"
   ]
  },
  {
   "cell_type": "markdown",
   "id": "e1d494c7",
   "metadata": {},
   "source": [
    "#### 2. Sample smaller training sets for fast exploration"
   ]
  },
  {
   "cell_type": "code",
   "execution_count": 5,
   "id": "4ede381d",
   "metadata": {
    "ExecuteTime": {
     "end_time": "2023-12-10T05:14:42.305740Z",
     "start_time": "2023-12-10T05:14:42.182789Z"
    }
   },
   "outputs": [
    {
     "name": "stdout",
     "output_type": "stream",
     "text": [
      "\n",
      "Sample 0.05 fraction from DataFrame:\n",
      "sample_df.shape: (33525, 36)\n"
     ]
    }
   ],
   "source": [
    "train_df_sample = data_prepare_utils.sample_data(train_df, SAMPLE_SIZE, SAMPLE_RANDOM_STATE)\n",
    "del train_df"
   ]
  },
  {
   "cell_type": "markdown",
   "id": "b48b5e04",
   "metadata": {},
   "source": [
    "#### 3. Check attribute types"
   ]
  },
  {
   "cell_type": "code",
   "execution_count": 6,
   "id": "c4f2729d",
   "metadata": {
    "ExecuteTime": {
     "end_time": "2023-12-10T05:14:42.312197Z",
     "start_time": "2023-12-10T05:14:42.303811Z"
    },
    "scrolled": true
   },
   "outputs": [
    {
     "data": {
      "text/plain": [
       "['uid',\n",
       " 'task_id',\n",
       " 'adv_id',\n",
       " 'creat_type_cd',\n",
       " 'adv_prim_id',\n",
       " 'dev_id',\n",
       " 'inter_type_cd',\n",
       " 'slot_id',\n",
       " 'spread_app_id',\n",
       " 'tags',\n",
       " 'app_first_class',\n",
       " 'app_second_class',\n",
       " 'age',\n",
       " 'city',\n",
       " 'city_rank',\n",
       " 'device_name',\n",
       " 'device_size',\n",
       " 'career',\n",
       " 'gender',\n",
       " 'net_type',\n",
       " 'residence',\n",
       " 'his_app_size',\n",
       " 'his_on_shelf_time',\n",
       " 'app_score',\n",
       " 'emui_dev',\n",
       " 'list_time',\n",
       " 'device_price',\n",
       " 'up_life_duration',\n",
       " 'up_membership_grade',\n",
       " 'membership_life_duration',\n",
       " 'consume_purchase',\n",
       " 'communication_onlinerate',\n",
       " 'communication_avgonline_30d',\n",
       " 'indu_name',\n",
       " 'pt_d']"
      ]
     },
     "execution_count": 6,
     "metadata": {},
     "output_type": "execute_result"
    }
   ],
   "source": [
    "numerical_attr_list = []\n",
    "categorical_attr_list = [attr for attr in train_df_sample.columns if attr not in numerical_attr_list and attr != TARGET_ATTR]\n",
    "attr_list = numerical_attr_list + categorical_attr_list\n",
    "attr_list"
   ]
  },
  {
   "cell_type": "markdown",
   "id": "0b53d671",
   "metadata": {},
   "source": [
    "#### 4. Predefined data processing strategy in prep.ipynb"
   ]
  },
  {
   "cell_type": "code",
   "execution_count": 7,
   "id": "294f7f63",
   "metadata": {
    "ExecuteTime": {
     "end_time": "2023-12-10T05:14:42.385468Z",
     "start_time": "2023-12-10T05:14:42.310261Z"
    }
   },
   "outputs": [
    {
     "name": "stdout",
     "output_type": "stream",
     "text": [
      "\n",
      "Drop duplicate observations:\n",
      "df.shape:  (33525, 36)\n",
      "drop_dup_df.shape:  (33519, 36)\n"
     ]
    }
   ],
   "source": [
    "train_df_sample = data_prepare_utils.drop_duplicate_obs(train_df_sample)"
   ]
  },
  {
   "cell_type": "code",
   "execution_count": 8,
   "id": "e6bd091d",
   "metadata": {
    "ExecuteTime": {
     "end_time": "2023-12-10T05:14:42.389622Z",
     "start_time": "2023-12-10T05:14:42.341504Z"
    }
   },
   "outputs": [
    {
     "data": {
      "text/html": [
       "<style>#sk-container-id-1 {color: black;}#sk-container-id-1 pre{padding: 0;}#sk-container-id-1 div.sk-toggleable {background-color: white;}#sk-container-id-1 label.sk-toggleable__label {cursor: pointer;display: block;width: 100%;margin-bottom: 0;padding: 0.3em;box-sizing: border-box;text-align: center;}#sk-container-id-1 label.sk-toggleable__label-arrow:before {content: \"▸\";float: left;margin-right: 0.25em;color: #696969;}#sk-container-id-1 label.sk-toggleable__label-arrow:hover:before {color: black;}#sk-container-id-1 div.sk-estimator:hover label.sk-toggleable__label-arrow:before {color: black;}#sk-container-id-1 div.sk-toggleable__content {max-height: 0;max-width: 0;overflow: hidden;text-align: left;background-color: #f0f8ff;}#sk-container-id-1 div.sk-toggleable__content pre {margin: 0.2em;color: black;border-radius: 0.25em;background-color: #f0f8ff;}#sk-container-id-1 input.sk-toggleable__control:checked~div.sk-toggleable__content {max-height: 200px;max-width: 100%;overflow: auto;}#sk-container-id-1 input.sk-toggleable__control:checked~label.sk-toggleable__label-arrow:before {content: \"▾\";}#sk-container-id-1 div.sk-estimator input.sk-toggleable__control:checked~label.sk-toggleable__label {background-color: #d4ebff;}#sk-container-id-1 div.sk-label input.sk-toggleable__control:checked~label.sk-toggleable__label {background-color: #d4ebff;}#sk-container-id-1 input.sk-hidden--visually {border: 0;clip: rect(1px 1px 1px 1px);clip: rect(1px, 1px, 1px, 1px);height: 1px;margin: -1px;overflow: hidden;padding: 0;position: absolute;width: 1px;}#sk-container-id-1 div.sk-estimator {font-family: monospace;background-color: #f0f8ff;border: 1px dotted black;border-radius: 0.25em;box-sizing: border-box;margin-bottom: 0.5em;}#sk-container-id-1 div.sk-estimator:hover {background-color: #d4ebff;}#sk-container-id-1 div.sk-parallel-item::after {content: \"\";width: 100%;border-bottom: 1px solid gray;flex-grow: 1;}#sk-container-id-1 div.sk-label:hover label.sk-toggleable__label {background-color: #d4ebff;}#sk-container-id-1 div.sk-serial::before {content: \"\";position: absolute;border-left: 1px solid gray;box-sizing: border-box;top: 0;bottom: 0;left: 50%;z-index: 0;}#sk-container-id-1 div.sk-serial {display: flex;flex-direction: column;align-items: center;background-color: white;padding-right: 0.2em;padding-left: 0.2em;position: relative;}#sk-container-id-1 div.sk-item {position: relative;z-index: 1;}#sk-container-id-1 div.sk-parallel {display: flex;align-items: stretch;justify-content: center;background-color: white;position: relative;}#sk-container-id-1 div.sk-item::before, #sk-container-id-1 div.sk-parallel-item::before {content: \"\";position: absolute;border-left: 1px solid gray;box-sizing: border-box;top: 0;bottom: 0;left: 50%;z-index: -1;}#sk-container-id-1 div.sk-parallel-item {display: flex;flex-direction: column;z-index: 1;position: relative;background-color: white;}#sk-container-id-1 div.sk-parallel-item:first-child::after {align-self: flex-end;width: 50%;}#sk-container-id-1 div.sk-parallel-item:last-child::after {align-self: flex-start;width: 50%;}#sk-container-id-1 div.sk-parallel-item:only-child::after {width: 0;}#sk-container-id-1 div.sk-dashed-wrapped {border: 1px dashed gray;margin: 0 0.4em 0.5em 0.4em;box-sizing: border-box;padding-bottom: 0.4em;background-color: white;}#sk-container-id-1 div.sk-label label {font-family: monospace;font-weight: bold;display: inline-block;line-height: 1.2em;}#sk-container-id-1 div.sk-label-container {text-align: center;}#sk-container-id-1 div.sk-container {/* jupyter's `normalize.less` sets `[hidden] { display: none; }` but bootstrap.min.css set `[hidden] { display: none !important; }` so we also need the `!important` here to be able to override the default hidden behavior on the sphinx rendered scikit-learn.org. See: https://github.com/scikit-learn/scikit-learn/issues/21755 */display: inline-block !important;position: relative;}#sk-container-id-1 div.sk-text-repr-fallback {display: none;}</style><div id=\"sk-container-id-1\" class=\"sk-top-container\"><div class=\"sk-text-repr-fallback\"><pre>ColumnTransformer(transformers=[(&#x27;numerical&#x27;,\n",
       "                                 Pipeline(steps=[(&#x27;column_dropper&#x27;,\n",
       "                                                  DropColumnsTransformer(attrs_to_drop=[&#x27;uid&#x27;,\n",
       "                                                                                        &#x27;app_score&#x27;,\n",
       "                                                                                        &#x27;his_on_shelf_time&#x27;,\n",
       "                                                                                        &#x27;task_id&#x27;,\n",
       "                                                                                        &#x27;spread_app_id&#x27;,\n",
       "                                                                                        &#x27;tags&#x27;,\n",
       "                                                                                        &#x27;dev_id&#x27;])),\n",
       "                                                 (&#x27;imputer&#x27;, SimpleImputer()),\n",
       "                                                 (&#x27;scaler&#x27;, StandardScaler())]),\n",
       "                                 []),\n",
       "                                (&#x27;categorical&#x27;,\n",
       "                                 Pipeline(steps=[(&#x27;column_dropper&#x27;,\n",
       "                                                  DropColumnsTransformer(attrs_to_drop=[&#x27;...\n",
       "                                  &#x27;adv_prim_id&#x27;, &#x27;dev_id&#x27;, &#x27;inter_type_cd&#x27;,\n",
       "                                  &#x27;slot_id&#x27;, &#x27;spread_app_id&#x27;, &#x27;tags&#x27;,\n",
       "                                  &#x27;app_first_class&#x27;, &#x27;app_second_class&#x27;, &#x27;age&#x27;,\n",
       "                                  &#x27;city&#x27;, &#x27;city_rank&#x27;, &#x27;device_name&#x27;,\n",
       "                                  &#x27;device_size&#x27;, &#x27;career&#x27;, &#x27;gender&#x27;, &#x27;net_type&#x27;,\n",
       "                                  &#x27;residence&#x27;, &#x27;his_app_size&#x27;,\n",
       "                                  &#x27;his_on_shelf_time&#x27;, &#x27;app_score&#x27;, &#x27;emui_dev&#x27;,\n",
       "                                  &#x27;list_time&#x27;, &#x27;device_price&#x27;,\n",
       "                                  &#x27;up_life_duration&#x27;, &#x27;up_membership_grade&#x27;,\n",
       "                                  &#x27;membership_life_duration&#x27;, ...])])</pre><b>In a Jupyter environment, please rerun this cell to show the HTML representation or trust the notebook. <br />On GitHub, the HTML representation is unable to render, please try loading this page with nbviewer.org.</b></div><div class=\"sk-container\" hidden><div class=\"sk-item sk-dashed-wrapped\"><div class=\"sk-label-container\"><div class=\"sk-label sk-toggleable\"><input class=\"sk-toggleable__control sk-hidden--visually\" id=\"sk-estimator-id-1\" type=\"checkbox\" ><label for=\"sk-estimator-id-1\" class=\"sk-toggleable__label sk-toggleable__label-arrow\">ColumnTransformer</label><div class=\"sk-toggleable__content\"><pre>ColumnTransformer(transformers=[(&#x27;numerical&#x27;,\n",
       "                                 Pipeline(steps=[(&#x27;column_dropper&#x27;,\n",
       "                                                  DropColumnsTransformer(attrs_to_drop=[&#x27;uid&#x27;,\n",
       "                                                                                        &#x27;app_score&#x27;,\n",
       "                                                                                        &#x27;his_on_shelf_time&#x27;,\n",
       "                                                                                        &#x27;task_id&#x27;,\n",
       "                                                                                        &#x27;spread_app_id&#x27;,\n",
       "                                                                                        &#x27;tags&#x27;,\n",
       "                                                                                        &#x27;dev_id&#x27;])),\n",
       "                                                 (&#x27;imputer&#x27;, SimpleImputer()),\n",
       "                                                 (&#x27;scaler&#x27;, StandardScaler())]),\n",
       "                                 []),\n",
       "                                (&#x27;categorical&#x27;,\n",
       "                                 Pipeline(steps=[(&#x27;column_dropper&#x27;,\n",
       "                                                  DropColumnsTransformer(attrs_to_drop=[&#x27;...\n",
       "                                  &#x27;adv_prim_id&#x27;, &#x27;dev_id&#x27;, &#x27;inter_type_cd&#x27;,\n",
       "                                  &#x27;slot_id&#x27;, &#x27;spread_app_id&#x27;, &#x27;tags&#x27;,\n",
       "                                  &#x27;app_first_class&#x27;, &#x27;app_second_class&#x27;, &#x27;age&#x27;,\n",
       "                                  &#x27;city&#x27;, &#x27;city_rank&#x27;, &#x27;device_name&#x27;,\n",
       "                                  &#x27;device_size&#x27;, &#x27;career&#x27;, &#x27;gender&#x27;, &#x27;net_type&#x27;,\n",
       "                                  &#x27;residence&#x27;, &#x27;his_app_size&#x27;,\n",
       "                                  &#x27;his_on_shelf_time&#x27;, &#x27;app_score&#x27;, &#x27;emui_dev&#x27;,\n",
       "                                  &#x27;list_time&#x27;, &#x27;device_price&#x27;,\n",
       "                                  &#x27;up_life_duration&#x27;, &#x27;up_membership_grade&#x27;,\n",
       "                                  &#x27;membership_life_duration&#x27;, ...])])</pre></div></div></div><div class=\"sk-parallel\"><div class=\"sk-parallel-item\"><div class=\"sk-item\"><div class=\"sk-label-container\"><div class=\"sk-label sk-toggleable\"><input class=\"sk-toggleable__control sk-hidden--visually\" id=\"sk-estimator-id-2\" type=\"checkbox\" ><label for=\"sk-estimator-id-2\" class=\"sk-toggleable__label sk-toggleable__label-arrow\">numerical</label><div class=\"sk-toggleable__content\"><pre>[]</pre></div></div></div><div class=\"sk-serial\"><div class=\"sk-item\"><div class=\"sk-serial\"><div class=\"sk-item\"><div class=\"sk-estimator sk-toggleable\"><input class=\"sk-toggleable__control sk-hidden--visually\" id=\"sk-estimator-id-3\" type=\"checkbox\" ><label for=\"sk-estimator-id-3\" class=\"sk-toggleable__label sk-toggleable__label-arrow\">DropColumnsTransformer</label><div class=\"sk-toggleable__content\"><pre>DropColumnsTransformer(attrs_to_drop=[&#x27;uid&#x27;, &#x27;app_score&#x27;, &#x27;his_on_shelf_time&#x27;,\n",
       "                                      &#x27;task_id&#x27;, &#x27;spread_app_id&#x27;, &#x27;tags&#x27;,\n",
       "                                      &#x27;dev_id&#x27;])</pre></div></div></div><div class=\"sk-item\"><div class=\"sk-estimator sk-toggleable\"><input class=\"sk-toggleable__control sk-hidden--visually\" id=\"sk-estimator-id-4\" type=\"checkbox\" ><label for=\"sk-estimator-id-4\" class=\"sk-toggleable__label sk-toggleable__label-arrow\">SimpleImputer</label><div class=\"sk-toggleable__content\"><pre>SimpleImputer()</pre></div></div></div><div class=\"sk-item\"><div class=\"sk-estimator sk-toggleable\"><input class=\"sk-toggleable__control sk-hidden--visually\" id=\"sk-estimator-id-5\" type=\"checkbox\" ><label for=\"sk-estimator-id-5\" class=\"sk-toggleable__label sk-toggleable__label-arrow\">StandardScaler</label><div class=\"sk-toggleable__content\"><pre>StandardScaler()</pre></div></div></div></div></div></div></div></div><div class=\"sk-parallel-item\"><div class=\"sk-item\"><div class=\"sk-label-container\"><div class=\"sk-label sk-toggleable\"><input class=\"sk-toggleable__control sk-hidden--visually\" id=\"sk-estimator-id-6\" type=\"checkbox\" ><label for=\"sk-estimator-id-6\" class=\"sk-toggleable__label sk-toggleable__label-arrow\">categorical</label><div class=\"sk-toggleable__content\"><pre>[&#x27;uid&#x27;, &#x27;task_id&#x27;, &#x27;adv_id&#x27;, &#x27;creat_type_cd&#x27;, &#x27;adv_prim_id&#x27;, &#x27;dev_id&#x27;, &#x27;inter_type_cd&#x27;, &#x27;slot_id&#x27;, &#x27;spread_app_id&#x27;, &#x27;tags&#x27;, &#x27;app_first_class&#x27;, &#x27;app_second_class&#x27;, &#x27;age&#x27;, &#x27;city&#x27;, &#x27;city_rank&#x27;, &#x27;device_name&#x27;, &#x27;device_size&#x27;, &#x27;career&#x27;, &#x27;gender&#x27;, &#x27;net_type&#x27;, &#x27;residence&#x27;, &#x27;his_app_size&#x27;, &#x27;his_on_shelf_time&#x27;, &#x27;app_score&#x27;, &#x27;emui_dev&#x27;, &#x27;list_time&#x27;, &#x27;device_price&#x27;, &#x27;up_life_duration&#x27;, &#x27;up_membership_grade&#x27;, &#x27;membership_life_duration&#x27;, &#x27;consume_purchase&#x27;, &#x27;communication_onlinerate&#x27;, &#x27;communication_avgonline_30d&#x27;, &#x27;indu_name&#x27;, &#x27;pt_d&#x27;]</pre></div></div></div><div class=\"sk-serial\"><div class=\"sk-item\"><div class=\"sk-serial\"><div class=\"sk-item\"><div class=\"sk-estimator sk-toggleable\"><input class=\"sk-toggleable__control sk-hidden--visually\" id=\"sk-estimator-id-7\" type=\"checkbox\" ><label for=\"sk-estimator-id-7\" class=\"sk-toggleable__label sk-toggleable__label-arrow\">DropColumnsTransformer</label><div class=\"sk-toggleable__content\"><pre>DropColumnsTransformer(attrs_to_drop=[&#x27;uid&#x27;, &#x27;app_score&#x27;, &#x27;his_on_shelf_time&#x27;,\n",
       "                                      &#x27;task_id&#x27;, &#x27;spread_app_id&#x27;, &#x27;tags&#x27;,\n",
       "                                      &#x27;dev_id&#x27;])</pre></div></div></div><div class=\"sk-item\"><div class=\"sk-estimator sk-toggleable\"><input class=\"sk-toggleable__control sk-hidden--visually\" id=\"sk-estimator-id-8\" type=\"checkbox\" ><label for=\"sk-estimator-id-8\" class=\"sk-toggleable__label sk-toggleable__label-arrow\">SimpleImputer</label><div class=\"sk-toggleable__content\"><pre>SimpleImputer(strategy=&#x27;most_frequent&#x27;)</pre></div></div></div><div class=\"sk-item\"><div class=\"sk-estimator sk-toggleable\"><input class=\"sk-toggleable__control sk-hidden--visually\" id=\"sk-estimator-id-9\" type=\"checkbox\" ><label for=\"sk-estimator-id-9\" class=\"sk-toggleable__label sk-toggleable__label-arrow\">TargetEncoder</label><div class=\"sk-toggleable__content\"><pre>TargetEncoder(random_state=42, target_type=&#x27;binary&#x27;)</pre></div></div></div><div class=\"sk-item\"><div class=\"sk-estimator sk-toggleable\"><input class=\"sk-toggleable__control sk-hidden--visually\" id=\"sk-estimator-id-10\" type=\"checkbox\" ><label for=\"sk-estimator-id-10\" class=\"sk-toggleable__label sk-toggleable__label-arrow\">StandardScaler</label><div class=\"sk-toggleable__content\"><pre>StandardScaler()</pre></div></div></div></div></div></div></div></div></div></div></div></div>"
      ],
      "text/plain": [
       "ColumnTransformer(transformers=[('numerical',\n",
       "                                 Pipeline(steps=[('column_dropper',\n",
       "                                                  DropColumnsTransformer(attrs_to_drop=['uid',\n",
       "                                                                                        'app_score',\n",
       "                                                                                        'his_on_shelf_time',\n",
       "                                                                                        'task_id',\n",
       "                                                                                        'spread_app_id',\n",
       "                                                                                        'tags',\n",
       "                                                                                        'dev_id'])),\n",
       "                                                 ('imputer', SimpleImputer()),\n",
       "                                                 ('scaler', StandardScaler())]),\n",
       "                                 []),\n",
       "                                ('categorical',\n",
       "                                 Pipeline(steps=[('column_dropper',\n",
       "                                                  DropColumnsTransformer(attrs_to_drop=['...\n",
       "                                  'adv_prim_id', 'dev_id', 'inter_type_cd',\n",
       "                                  'slot_id', 'spread_app_id', 'tags',\n",
       "                                  'app_first_class', 'app_second_class', 'age',\n",
       "                                  'city', 'city_rank', 'device_name',\n",
       "                                  'device_size', 'career', 'gender', 'net_type',\n",
       "                                  'residence', 'his_app_size',\n",
       "                                  'his_on_shelf_time', 'app_score', 'emui_dev',\n",
       "                                  'list_time', 'device_price',\n",
       "                                  'up_life_duration', 'up_membership_grade',\n",
       "                                  'membership_life_duration', ...])])"
      ]
     },
     "execution_count": 8,
     "metadata": {},
     "output_type": "execute_result"
    }
   ],
   "source": [
    "preprocessor = bin_class_utils.build_preprocessing_pipeline(numerical_attr_list, categorical_attr_list, ATTRS_TO_DROP, TARGET_TYPE, TARGET_ENCODING_RANDOM_STATE)\n",
    "preprocessor"
   ]
  },
  {
   "cell_type": "markdown",
   "id": "994ec212",
   "metadata": {},
   "source": [
    "#### 5. Define default model"
   ]
  },
  {
   "cell_type": "code",
   "execution_count": 9,
   "id": "38e8f2ef",
   "metadata": {
    "ExecuteTime": {
     "end_time": "2023-12-10T05:14:42.390373Z",
     "start_time": "2023-12-10T05:14:42.361179Z"
    }
   },
   "outputs": [
    {
     "data": {
      "text/html": [
       "<style>#sk-container-id-2 {color: black;}#sk-container-id-2 pre{padding: 0;}#sk-container-id-2 div.sk-toggleable {background-color: white;}#sk-container-id-2 label.sk-toggleable__label {cursor: pointer;display: block;width: 100%;margin-bottom: 0;padding: 0.3em;box-sizing: border-box;text-align: center;}#sk-container-id-2 label.sk-toggleable__label-arrow:before {content: \"▸\";float: left;margin-right: 0.25em;color: #696969;}#sk-container-id-2 label.sk-toggleable__label-arrow:hover:before {color: black;}#sk-container-id-2 div.sk-estimator:hover label.sk-toggleable__label-arrow:before {color: black;}#sk-container-id-2 div.sk-toggleable__content {max-height: 0;max-width: 0;overflow: hidden;text-align: left;background-color: #f0f8ff;}#sk-container-id-2 div.sk-toggleable__content pre {margin: 0.2em;color: black;border-radius: 0.25em;background-color: #f0f8ff;}#sk-container-id-2 input.sk-toggleable__control:checked~div.sk-toggleable__content {max-height: 200px;max-width: 100%;overflow: auto;}#sk-container-id-2 input.sk-toggleable__control:checked~label.sk-toggleable__label-arrow:before {content: \"▾\";}#sk-container-id-2 div.sk-estimator input.sk-toggleable__control:checked~label.sk-toggleable__label {background-color: #d4ebff;}#sk-container-id-2 div.sk-label input.sk-toggleable__control:checked~label.sk-toggleable__label {background-color: #d4ebff;}#sk-container-id-2 input.sk-hidden--visually {border: 0;clip: rect(1px 1px 1px 1px);clip: rect(1px, 1px, 1px, 1px);height: 1px;margin: -1px;overflow: hidden;padding: 0;position: absolute;width: 1px;}#sk-container-id-2 div.sk-estimator {font-family: monospace;background-color: #f0f8ff;border: 1px dotted black;border-radius: 0.25em;box-sizing: border-box;margin-bottom: 0.5em;}#sk-container-id-2 div.sk-estimator:hover {background-color: #d4ebff;}#sk-container-id-2 div.sk-parallel-item::after {content: \"\";width: 100%;border-bottom: 1px solid gray;flex-grow: 1;}#sk-container-id-2 div.sk-label:hover label.sk-toggleable__label {background-color: #d4ebff;}#sk-container-id-2 div.sk-serial::before {content: \"\";position: absolute;border-left: 1px solid gray;box-sizing: border-box;top: 0;bottom: 0;left: 50%;z-index: 0;}#sk-container-id-2 div.sk-serial {display: flex;flex-direction: column;align-items: center;background-color: white;padding-right: 0.2em;padding-left: 0.2em;position: relative;}#sk-container-id-2 div.sk-item {position: relative;z-index: 1;}#sk-container-id-2 div.sk-parallel {display: flex;align-items: stretch;justify-content: center;background-color: white;position: relative;}#sk-container-id-2 div.sk-item::before, #sk-container-id-2 div.sk-parallel-item::before {content: \"\";position: absolute;border-left: 1px solid gray;box-sizing: border-box;top: 0;bottom: 0;left: 50%;z-index: -1;}#sk-container-id-2 div.sk-parallel-item {display: flex;flex-direction: column;z-index: 1;position: relative;background-color: white;}#sk-container-id-2 div.sk-parallel-item:first-child::after {align-self: flex-end;width: 50%;}#sk-container-id-2 div.sk-parallel-item:last-child::after {align-self: flex-start;width: 50%;}#sk-container-id-2 div.sk-parallel-item:only-child::after {width: 0;}#sk-container-id-2 div.sk-dashed-wrapped {border: 1px dashed gray;margin: 0 0.4em 0.5em 0.4em;box-sizing: border-box;padding-bottom: 0.4em;background-color: white;}#sk-container-id-2 div.sk-label label {font-family: monospace;font-weight: bold;display: inline-block;line-height: 1.2em;}#sk-container-id-2 div.sk-label-container {text-align: center;}#sk-container-id-2 div.sk-container {/* jupyter's `normalize.less` sets `[hidden] { display: none; }` but bootstrap.min.css set `[hidden] { display: none !important; }` so we also need the `!important` here to be able to override the default hidden behavior on the sphinx rendered scikit-learn.org. See: https://github.com/scikit-learn/scikit-learn/issues/21755 */display: inline-block !important;position: relative;}#sk-container-id-2 div.sk-text-repr-fallback {display: none;}</style><div id=\"sk-container-id-2\" class=\"sk-top-container\"><div class=\"sk-text-repr-fallback\"><pre>SGDClassifier(class_weight=&#x27;balanced&#x27;, loss=&#x27;log_loss&#x27;, max_iter=10000,\n",
       "              random_state=42)</pre><b>In a Jupyter environment, please rerun this cell to show the HTML representation or trust the notebook. <br />On GitHub, the HTML representation is unable to render, please try loading this page with nbviewer.org.</b></div><div class=\"sk-container\" hidden><div class=\"sk-item\"><div class=\"sk-estimator sk-toggleable\"><input class=\"sk-toggleable__control sk-hidden--visually\" id=\"sk-estimator-id-11\" type=\"checkbox\" checked><label for=\"sk-estimator-id-11\" class=\"sk-toggleable__label sk-toggleable__label-arrow\">SGDClassifier</label><div class=\"sk-toggleable__content\"><pre>SGDClassifier(class_weight=&#x27;balanced&#x27;, loss=&#x27;log_loss&#x27;, max_iter=10000,\n",
       "              random_state=42)</pre></div></div></div></div></div>"
      ],
      "text/plain": [
       "SGDClassifier(class_weight='balanced', loss='log_loss', max_iter=10000,\n",
       "              random_state=42)"
      ]
     },
     "execution_count": 9,
     "metadata": {},
     "output_type": "execute_result"
    }
   ],
   "source": [
    "estimator = bin_class_utils.get_default_model(ESTIMATOR_NAME, MODEL_RANDOM_STATE)\n",
    "estimator"
   ]
  },
  {
   "cell_type": "markdown",
   "id": "80b77fe8",
   "metadata": {},
   "source": [
    "#### 6. Define composite model"
   ]
  },
  {
   "cell_type": "code",
   "execution_count": 10,
   "id": "478a9413",
   "metadata": {
    "ExecuteTime": {
     "end_time": "2023-12-10T05:14:42.438683Z",
     "start_time": "2023-12-10T05:14:42.376669Z"
    }
   },
   "outputs": [
    {
     "data": {
      "text/html": [
       "<style>#sk-container-id-3 {color: black;}#sk-container-id-3 pre{padding: 0;}#sk-container-id-3 div.sk-toggleable {background-color: white;}#sk-container-id-3 label.sk-toggleable__label {cursor: pointer;display: block;width: 100%;margin-bottom: 0;padding: 0.3em;box-sizing: border-box;text-align: center;}#sk-container-id-3 label.sk-toggleable__label-arrow:before {content: \"▸\";float: left;margin-right: 0.25em;color: #696969;}#sk-container-id-3 label.sk-toggleable__label-arrow:hover:before {color: black;}#sk-container-id-3 div.sk-estimator:hover label.sk-toggleable__label-arrow:before {color: black;}#sk-container-id-3 div.sk-toggleable__content {max-height: 0;max-width: 0;overflow: hidden;text-align: left;background-color: #f0f8ff;}#sk-container-id-3 div.sk-toggleable__content pre {margin: 0.2em;color: black;border-radius: 0.25em;background-color: #f0f8ff;}#sk-container-id-3 input.sk-toggleable__control:checked~div.sk-toggleable__content {max-height: 200px;max-width: 100%;overflow: auto;}#sk-container-id-3 input.sk-toggleable__control:checked~label.sk-toggleable__label-arrow:before {content: \"▾\";}#sk-container-id-3 div.sk-estimator input.sk-toggleable__control:checked~label.sk-toggleable__label {background-color: #d4ebff;}#sk-container-id-3 div.sk-label input.sk-toggleable__control:checked~label.sk-toggleable__label {background-color: #d4ebff;}#sk-container-id-3 input.sk-hidden--visually {border: 0;clip: rect(1px 1px 1px 1px);clip: rect(1px, 1px, 1px, 1px);height: 1px;margin: -1px;overflow: hidden;padding: 0;position: absolute;width: 1px;}#sk-container-id-3 div.sk-estimator {font-family: monospace;background-color: #f0f8ff;border: 1px dotted black;border-radius: 0.25em;box-sizing: border-box;margin-bottom: 0.5em;}#sk-container-id-3 div.sk-estimator:hover {background-color: #d4ebff;}#sk-container-id-3 div.sk-parallel-item::after {content: \"\";width: 100%;border-bottom: 1px solid gray;flex-grow: 1;}#sk-container-id-3 div.sk-label:hover label.sk-toggleable__label {background-color: #d4ebff;}#sk-container-id-3 div.sk-serial::before {content: \"\";position: absolute;border-left: 1px solid gray;box-sizing: border-box;top: 0;bottom: 0;left: 50%;z-index: 0;}#sk-container-id-3 div.sk-serial {display: flex;flex-direction: column;align-items: center;background-color: white;padding-right: 0.2em;padding-left: 0.2em;position: relative;}#sk-container-id-3 div.sk-item {position: relative;z-index: 1;}#sk-container-id-3 div.sk-parallel {display: flex;align-items: stretch;justify-content: center;background-color: white;position: relative;}#sk-container-id-3 div.sk-item::before, #sk-container-id-3 div.sk-parallel-item::before {content: \"\";position: absolute;border-left: 1px solid gray;box-sizing: border-box;top: 0;bottom: 0;left: 50%;z-index: -1;}#sk-container-id-3 div.sk-parallel-item {display: flex;flex-direction: column;z-index: 1;position: relative;background-color: white;}#sk-container-id-3 div.sk-parallel-item:first-child::after {align-self: flex-end;width: 50%;}#sk-container-id-3 div.sk-parallel-item:last-child::after {align-self: flex-start;width: 50%;}#sk-container-id-3 div.sk-parallel-item:only-child::after {width: 0;}#sk-container-id-3 div.sk-dashed-wrapped {border: 1px dashed gray;margin: 0 0.4em 0.5em 0.4em;box-sizing: border-box;padding-bottom: 0.4em;background-color: white;}#sk-container-id-3 div.sk-label label {font-family: monospace;font-weight: bold;display: inline-block;line-height: 1.2em;}#sk-container-id-3 div.sk-label-container {text-align: center;}#sk-container-id-3 div.sk-container {/* jupyter's `normalize.less` sets `[hidden] { display: none; }` but bootstrap.min.css set `[hidden] { display: none !important; }` so we also need the `!important` here to be able to override the default hidden behavior on the sphinx rendered scikit-learn.org. See: https://github.com/scikit-learn/scikit-learn/issues/21755 */display: inline-block !important;position: relative;}#sk-container-id-3 div.sk-text-repr-fallback {display: none;}</style><div id=\"sk-container-id-3\" class=\"sk-top-container\"><div class=\"sk-text-repr-fallback\"><pre>Pipeline(steps=[(&#x27;preprocessor&#x27;,\n",
       "                 ColumnTransformer(transformers=[(&#x27;numerical&#x27;,\n",
       "                                                  Pipeline(steps=[(&#x27;column_dropper&#x27;,\n",
       "                                                                   DropColumnsTransformer(attrs_to_drop=[&#x27;uid&#x27;,\n",
       "                                                                                                         &#x27;app_score&#x27;,\n",
       "                                                                                                         &#x27;his_on_shelf_time&#x27;,\n",
       "                                                                                                         &#x27;task_id&#x27;,\n",
       "                                                                                                         &#x27;spread_app_id&#x27;,\n",
       "                                                                                                         &#x27;tags&#x27;,\n",
       "                                                                                                         &#x27;dev_id&#x27;])),\n",
       "                                                                  (&#x27;imputer&#x27;,\n",
       "                                                                   SimpleImputer()),\n",
       "                                                                  (&#x27;scaler&#x27;,\n",
       "                                                                   StandardScaler())]),\n",
       "                                                  []),\n",
       "                                                 (&#x27;categorical&#x27;,\n",
       "                                                  Pipeline(steps=[(&#x27;column_dropper&#x27;,\n",
       "                                                                   DropCol...\n",
       "                                                   &#x27;city&#x27;, &#x27;city_rank&#x27;,\n",
       "                                                   &#x27;device_name&#x27;, &#x27;device_size&#x27;,\n",
       "                                                   &#x27;career&#x27;, &#x27;gender&#x27;,\n",
       "                                                   &#x27;net_type&#x27;, &#x27;residence&#x27;,\n",
       "                                                   &#x27;his_app_size&#x27;,\n",
       "                                                   &#x27;his_on_shelf_time&#x27;,\n",
       "                                                   &#x27;app_score&#x27;, &#x27;emui_dev&#x27;,\n",
       "                                                   &#x27;list_time&#x27;, &#x27;device_price&#x27;,\n",
       "                                                   &#x27;up_life_duration&#x27;,\n",
       "                                                   &#x27;up_membership_grade&#x27;,\n",
       "                                                   &#x27;membership_life_duration&#x27;, ...])])),\n",
       "                (&#x27;estimator&#x27;,\n",
       "                 SGDClassifier(class_weight=&#x27;balanced&#x27;, loss=&#x27;log_loss&#x27;,\n",
       "                               max_iter=10000, random_state=42))])</pre><b>In a Jupyter environment, please rerun this cell to show the HTML representation or trust the notebook. <br />On GitHub, the HTML representation is unable to render, please try loading this page with nbviewer.org.</b></div><div class=\"sk-container\" hidden><div class=\"sk-item sk-dashed-wrapped\"><div class=\"sk-label-container\"><div class=\"sk-label sk-toggleable\"><input class=\"sk-toggleable__control sk-hidden--visually\" id=\"sk-estimator-id-12\" type=\"checkbox\" ><label for=\"sk-estimator-id-12\" class=\"sk-toggleable__label sk-toggleable__label-arrow\">Pipeline</label><div class=\"sk-toggleable__content\"><pre>Pipeline(steps=[(&#x27;preprocessor&#x27;,\n",
       "                 ColumnTransformer(transformers=[(&#x27;numerical&#x27;,\n",
       "                                                  Pipeline(steps=[(&#x27;column_dropper&#x27;,\n",
       "                                                                   DropColumnsTransformer(attrs_to_drop=[&#x27;uid&#x27;,\n",
       "                                                                                                         &#x27;app_score&#x27;,\n",
       "                                                                                                         &#x27;his_on_shelf_time&#x27;,\n",
       "                                                                                                         &#x27;task_id&#x27;,\n",
       "                                                                                                         &#x27;spread_app_id&#x27;,\n",
       "                                                                                                         &#x27;tags&#x27;,\n",
       "                                                                                                         &#x27;dev_id&#x27;])),\n",
       "                                                                  (&#x27;imputer&#x27;,\n",
       "                                                                   SimpleImputer()),\n",
       "                                                                  (&#x27;scaler&#x27;,\n",
       "                                                                   StandardScaler())]),\n",
       "                                                  []),\n",
       "                                                 (&#x27;categorical&#x27;,\n",
       "                                                  Pipeline(steps=[(&#x27;column_dropper&#x27;,\n",
       "                                                                   DropCol...\n",
       "                                                   &#x27;city&#x27;, &#x27;city_rank&#x27;,\n",
       "                                                   &#x27;device_name&#x27;, &#x27;device_size&#x27;,\n",
       "                                                   &#x27;career&#x27;, &#x27;gender&#x27;,\n",
       "                                                   &#x27;net_type&#x27;, &#x27;residence&#x27;,\n",
       "                                                   &#x27;his_app_size&#x27;,\n",
       "                                                   &#x27;his_on_shelf_time&#x27;,\n",
       "                                                   &#x27;app_score&#x27;, &#x27;emui_dev&#x27;,\n",
       "                                                   &#x27;list_time&#x27;, &#x27;device_price&#x27;,\n",
       "                                                   &#x27;up_life_duration&#x27;,\n",
       "                                                   &#x27;up_membership_grade&#x27;,\n",
       "                                                   &#x27;membership_life_duration&#x27;, ...])])),\n",
       "                (&#x27;estimator&#x27;,\n",
       "                 SGDClassifier(class_weight=&#x27;balanced&#x27;, loss=&#x27;log_loss&#x27;,\n",
       "                               max_iter=10000, random_state=42))])</pre></div></div></div><div class=\"sk-serial\"><div class=\"sk-item sk-dashed-wrapped\"><div class=\"sk-label-container\"><div class=\"sk-label sk-toggleable\"><input class=\"sk-toggleable__control sk-hidden--visually\" id=\"sk-estimator-id-13\" type=\"checkbox\" ><label for=\"sk-estimator-id-13\" class=\"sk-toggleable__label sk-toggleable__label-arrow\">preprocessor: ColumnTransformer</label><div class=\"sk-toggleable__content\"><pre>ColumnTransformer(transformers=[(&#x27;numerical&#x27;,\n",
       "                                 Pipeline(steps=[(&#x27;column_dropper&#x27;,\n",
       "                                                  DropColumnsTransformer(attrs_to_drop=[&#x27;uid&#x27;,\n",
       "                                                                                        &#x27;app_score&#x27;,\n",
       "                                                                                        &#x27;his_on_shelf_time&#x27;,\n",
       "                                                                                        &#x27;task_id&#x27;,\n",
       "                                                                                        &#x27;spread_app_id&#x27;,\n",
       "                                                                                        &#x27;tags&#x27;,\n",
       "                                                                                        &#x27;dev_id&#x27;])),\n",
       "                                                 (&#x27;imputer&#x27;, SimpleImputer()),\n",
       "                                                 (&#x27;scaler&#x27;, StandardScaler())]),\n",
       "                                 []),\n",
       "                                (&#x27;categorical&#x27;,\n",
       "                                 Pipeline(steps=[(&#x27;column_dropper&#x27;,\n",
       "                                                  DropColumnsTransformer(attrs_to_drop=[&#x27;...\n",
       "                                  &#x27;adv_prim_id&#x27;, &#x27;dev_id&#x27;, &#x27;inter_type_cd&#x27;,\n",
       "                                  &#x27;slot_id&#x27;, &#x27;spread_app_id&#x27;, &#x27;tags&#x27;,\n",
       "                                  &#x27;app_first_class&#x27;, &#x27;app_second_class&#x27;, &#x27;age&#x27;,\n",
       "                                  &#x27;city&#x27;, &#x27;city_rank&#x27;, &#x27;device_name&#x27;,\n",
       "                                  &#x27;device_size&#x27;, &#x27;career&#x27;, &#x27;gender&#x27;, &#x27;net_type&#x27;,\n",
       "                                  &#x27;residence&#x27;, &#x27;his_app_size&#x27;,\n",
       "                                  &#x27;his_on_shelf_time&#x27;, &#x27;app_score&#x27;, &#x27;emui_dev&#x27;,\n",
       "                                  &#x27;list_time&#x27;, &#x27;device_price&#x27;,\n",
       "                                  &#x27;up_life_duration&#x27;, &#x27;up_membership_grade&#x27;,\n",
       "                                  &#x27;membership_life_duration&#x27;, ...])])</pre></div></div></div><div class=\"sk-parallel\"><div class=\"sk-parallel-item\"><div class=\"sk-item\"><div class=\"sk-label-container\"><div class=\"sk-label sk-toggleable\"><input class=\"sk-toggleable__control sk-hidden--visually\" id=\"sk-estimator-id-14\" type=\"checkbox\" ><label for=\"sk-estimator-id-14\" class=\"sk-toggleable__label sk-toggleable__label-arrow\">numerical</label><div class=\"sk-toggleable__content\"><pre>[]</pre></div></div></div><div class=\"sk-serial\"><div class=\"sk-item\"><div class=\"sk-serial\"><div class=\"sk-item\"><div class=\"sk-estimator sk-toggleable\"><input class=\"sk-toggleable__control sk-hidden--visually\" id=\"sk-estimator-id-15\" type=\"checkbox\" ><label for=\"sk-estimator-id-15\" class=\"sk-toggleable__label sk-toggleable__label-arrow\">DropColumnsTransformer</label><div class=\"sk-toggleable__content\"><pre>DropColumnsTransformer(attrs_to_drop=[&#x27;uid&#x27;, &#x27;app_score&#x27;, &#x27;his_on_shelf_time&#x27;,\n",
       "                                      &#x27;task_id&#x27;, &#x27;spread_app_id&#x27;, &#x27;tags&#x27;,\n",
       "                                      &#x27;dev_id&#x27;])</pre></div></div></div><div class=\"sk-item\"><div class=\"sk-estimator sk-toggleable\"><input class=\"sk-toggleable__control sk-hidden--visually\" id=\"sk-estimator-id-16\" type=\"checkbox\" ><label for=\"sk-estimator-id-16\" class=\"sk-toggleable__label sk-toggleable__label-arrow\">SimpleImputer</label><div class=\"sk-toggleable__content\"><pre>SimpleImputer()</pre></div></div></div><div class=\"sk-item\"><div class=\"sk-estimator sk-toggleable\"><input class=\"sk-toggleable__control sk-hidden--visually\" id=\"sk-estimator-id-17\" type=\"checkbox\" ><label for=\"sk-estimator-id-17\" class=\"sk-toggleable__label sk-toggleable__label-arrow\">StandardScaler</label><div class=\"sk-toggleable__content\"><pre>StandardScaler()</pre></div></div></div></div></div></div></div></div><div class=\"sk-parallel-item\"><div class=\"sk-item\"><div class=\"sk-label-container\"><div class=\"sk-label sk-toggleable\"><input class=\"sk-toggleable__control sk-hidden--visually\" id=\"sk-estimator-id-18\" type=\"checkbox\" ><label for=\"sk-estimator-id-18\" class=\"sk-toggleable__label sk-toggleable__label-arrow\">categorical</label><div class=\"sk-toggleable__content\"><pre>[&#x27;uid&#x27;, &#x27;task_id&#x27;, &#x27;adv_id&#x27;, &#x27;creat_type_cd&#x27;, &#x27;adv_prim_id&#x27;, &#x27;dev_id&#x27;, &#x27;inter_type_cd&#x27;, &#x27;slot_id&#x27;, &#x27;spread_app_id&#x27;, &#x27;tags&#x27;, &#x27;app_first_class&#x27;, &#x27;app_second_class&#x27;, &#x27;age&#x27;, &#x27;city&#x27;, &#x27;city_rank&#x27;, &#x27;device_name&#x27;, &#x27;device_size&#x27;, &#x27;career&#x27;, &#x27;gender&#x27;, &#x27;net_type&#x27;, &#x27;residence&#x27;, &#x27;his_app_size&#x27;, &#x27;his_on_shelf_time&#x27;, &#x27;app_score&#x27;, &#x27;emui_dev&#x27;, &#x27;list_time&#x27;, &#x27;device_price&#x27;, &#x27;up_life_duration&#x27;, &#x27;up_membership_grade&#x27;, &#x27;membership_life_duration&#x27;, &#x27;consume_purchase&#x27;, &#x27;communication_onlinerate&#x27;, &#x27;communication_avgonline_30d&#x27;, &#x27;indu_name&#x27;, &#x27;pt_d&#x27;]</pre></div></div></div><div class=\"sk-serial\"><div class=\"sk-item\"><div class=\"sk-serial\"><div class=\"sk-item\"><div class=\"sk-estimator sk-toggleable\"><input class=\"sk-toggleable__control sk-hidden--visually\" id=\"sk-estimator-id-19\" type=\"checkbox\" ><label for=\"sk-estimator-id-19\" class=\"sk-toggleable__label sk-toggleable__label-arrow\">DropColumnsTransformer</label><div class=\"sk-toggleable__content\"><pre>DropColumnsTransformer(attrs_to_drop=[&#x27;uid&#x27;, &#x27;app_score&#x27;, &#x27;his_on_shelf_time&#x27;,\n",
       "                                      &#x27;task_id&#x27;, &#x27;spread_app_id&#x27;, &#x27;tags&#x27;,\n",
       "                                      &#x27;dev_id&#x27;])</pre></div></div></div><div class=\"sk-item\"><div class=\"sk-estimator sk-toggleable\"><input class=\"sk-toggleable__control sk-hidden--visually\" id=\"sk-estimator-id-20\" type=\"checkbox\" ><label for=\"sk-estimator-id-20\" class=\"sk-toggleable__label sk-toggleable__label-arrow\">SimpleImputer</label><div class=\"sk-toggleable__content\"><pre>SimpleImputer(strategy=&#x27;most_frequent&#x27;)</pre></div></div></div><div class=\"sk-item\"><div class=\"sk-estimator sk-toggleable\"><input class=\"sk-toggleable__control sk-hidden--visually\" id=\"sk-estimator-id-21\" type=\"checkbox\" ><label for=\"sk-estimator-id-21\" class=\"sk-toggleable__label sk-toggleable__label-arrow\">TargetEncoder</label><div class=\"sk-toggleable__content\"><pre>TargetEncoder(random_state=42, target_type=&#x27;binary&#x27;)</pre></div></div></div><div class=\"sk-item\"><div class=\"sk-estimator sk-toggleable\"><input class=\"sk-toggleable__control sk-hidden--visually\" id=\"sk-estimator-id-22\" type=\"checkbox\" ><label for=\"sk-estimator-id-22\" class=\"sk-toggleable__label sk-toggleable__label-arrow\">StandardScaler</label><div class=\"sk-toggleable__content\"><pre>StandardScaler()</pre></div></div></div></div></div></div></div></div></div></div><div class=\"sk-item\"><div class=\"sk-estimator sk-toggleable\"><input class=\"sk-toggleable__control sk-hidden--visually\" id=\"sk-estimator-id-23\" type=\"checkbox\" ><label for=\"sk-estimator-id-23\" class=\"sk-toggleable__label sk-toggleable__label-arrow\">SGDClassifier</label><div class=\"sk-toggleable__content\"><pre>SGDClassifier(class_weight=&#x27;balanced&#x27;, loss=&#x27;log_loss&#x27;, max_iter=10000,\n",
       "              random_state=42)</pre></div></div></div></div></div></div></div>"
      ],
      "text/plain": [
       "Pipeline(steps=[('preprocessor',\n",
       "                 ColumnTransformer(transformers=[('numerical',\n",
       "                                                  Pipeline(steps=[('column_dropper',\n",
       "                                                                   DropColumnsTransformer(attrs_to_drop=['uid',\n",
       "                                                                                                         'app_score',\n",
       "                                                                                                         'his_on_shelf_time',\n",
       "                                                                                                         'task_id',\n",
       "                                                                                                         'spread_app_id',\n",
       "                                                                                                         'tags',\n",
       "                                                                                                         'dev_id'])),\n",
       "                                                                  ('imputer',\n",
       "                                                                   SimpleImputer()),\n",
       "                                                                  ('scaler',\n",
       "                                                                   StandardScaler())]),\n",
       "                                                  []),\n",
       "                                                 ('categorical',\n",
       "                                                  Pipeline(steps=[('column_dropper',\n",
       "                                                                   DropCol...\n",
       "                                                   'city', 'city_rank',\n",
       "                                                   'device_name', 'device_size',\n",
       "                                                   'career', 'gender',\n",
       "                                                   'net_type', 'residence',\n",
       "                                                   'his_app_size',\n",
       "                                                   'his_on_shelf_time',\n",
       "                                                   'app_score', 'emui_dev',\n",
       "                                                   'list_time', 'device_price',\n",
       "                                                   'up_life_duration',\n",
       "                                                   'up_membership_grade',\n",
       "                                                   'membership_life_duration', ...])])),\n",
       "                ('estimator',\n",
       "                 SGDClassifier(class_weight='balanced', loss='log_loss',\n",
       "                               max_iter=10000, random_state=42))])"
      ]
     },
     "execution_count": 10,
     "metadata": {},
     "output_type": "execute_result"
    }
   ],
   "source": [
    "composite_estimator = Pipeline(steps=[\n",
    "    ('preprocessor', preprocessor), \n",
    "    ('estimator', estimator)\n",
    "])\n",
    "composite_estimator"
   ]
  },
  {
   "cell_type": "code",
   "execution_count": 11,
   "id": "ddf277b4",
   "metadata": {
    "ExecuteTime": {
     "end_time": "2023-12-10T05:14:42.439812Z",
     "start_time": "2023-12-10T05:14:42.404640Z"
    }
   },
   "outputs": [],
   "source": [
    "train_cap_x_df, train_y_df = train_df_sample.drop(columns=TARGET_ATTR), train_df_sample[[TARGET_ATTR]]\n",
    "del train_df_sample"
   ]
  },
  {
   "cell_type": "code",
   "execution_count": 12,
   "id": "0d52203f-99c0-471c-84f0-92979d969b8d",
   "metadata": {
    "ExecuteTime": {
     "end_time": "2023-12-10T05:14:43.145554Z",
     "start_time": "2023-12-10T05:14:42.411790Z"
    }
   },
   "outputs": [
    {
     "data": {
      "text/html": [
       "<style>#sk-container-id-4 {color: black;}#sk-container-id-4 pre{padding: 0;}#sk-container-id-4 div.sk-toggleable {background-color: white;}#sk-container-id-4 label.sk-toggleable__label {cursor: pointer;display: block;width: 100%;margin-bottom: 0;padding: 0.3em;box-sizing: border-box;text-align: center;}#sk-container-id-4 label.sk-toggleable__label-arrow:before {content: \"▸\";float: left;margin-right: 0.25em;color: #696969;}#sk-container-id-4 label.sk-toggleable__label-arrow:hover:before {color: black;}#sk-container-id-4 div.sk-estimator:hover label.sk-toggleable__label-arrow:before {color: black;}#sk-container-id-4 div.sk-toggleable__content {max-height: 0;max-width: 0;overflow: hidden;text-align: left;background-color: #f0f8ff;}#sk-container-id-4 div.sk-toggleable__content pre {margin: 0.2em;color: black;border-radius: 0.25em;background-color: #f0f8ff;}#sk-container-id-4 input.sk-toggleable__control:checked~div.sk-toggleable__content {max-height: 200px;max-width: 100%;overflow: auto;}#sk-container-id-4 input.sk-toggleable__control:checked~label.sk-toggleable__label-arrow:before {content: \"▾\";}#sk-container-id-4 div.sk-estimator input.sk-toggleable__control:checked~label.sk-toggleable__label {background-color: #d4ebff;}#sk-container-id-4 div.sk-label input.sk-toggleable__control:checked~label.sk-toggleable__label {background-color: #d4ebff;}#sk-container-id-4 input.sk-hidden--visually {border: 0;clip: rect(1px 1px 1px 1px);clip: rect(1px, 1px, 1px, 1px);height: 1px;margin: -1px;overflow: hidden;padding: 0;position: absolute;width: 1px;}#sk-container-id-4 div.sk-estimator {font-family: monospace;background-color: #f0f8ff;border: 1px dotted black;border-radius: 0.25em;box-sizing: border-box;margin-bottom: 0.5em;}#sk-container-id-4 div.sk-estimator:hover {background-color: #d4ebff;}#sk-container-id-4 div.sk-parallel-item::after {content: \"\";width: 100%;border-bottom: 1px solid gray;flex-grow: 1;}#sk-container-id-4 div.sk-label:hover label.sk-toggleable__label {background-color: #d4ebff;}#sk-container-id-4 div.sk-serial::before {content: \"\";position: absolute;border-left: 1px solid gray;box-sizing: border-box;top: 0;bottom: 0;left: 50%;z-index: 0;}#sk-container-id-4 div.sk-serial {display: flex;flex-direction: column;align-items: center;background-color: white;padding-right: 0.2em;padding-left: 0.2em;position: relative;}#sk-container-id-4 div.sk-item {position: relative;z-index: 1;}#sk-container-id-4 div.sk-parallel {display: flex;align-items: stretch;justify-content: center;background-color: white;position: relative;}#sk-container-id-4 div.sk-item::before, #sk-container-id-4 div.sk-parallel-item::before {content: \"\";position: absolute;border-left: 1px solid gray;box-sizing: border-box;top: 0;bottom: 0;left: 50%;z-index: -1;}#sk-container-id-4 div.sk-parallel-item {display: flex;flex-direction: column;z-index: 1;position: relative;background-color: white;}#sk-container-id-4 div.sk-parallel-item:first-child::after {align-self: flex-end;width: 50%;}#sk-container-id-4 div.sk-parallel-item:last-child::after {align-self: flex-start;width: 50%;}#sk-container-id-4 div.sk-parallel-item:only-child::after {width: 0;}#sk-container-id-4 div.sk-dashed-wrapped {border: 1px dashed gray;margin: 0 0.4em 0.5em 0.4em;box-sizing: border-box;padding-bottom: 0.4em;background-color: white;}#sk-container-id-4 div.sk-label label {font-family: monospace;font-weight: bold;display: inline-block;line-height: 1.2em;}#sk-container-id-4 div.sk-label-container {text-align: center;}#sk-container-id-4 div.sk-container {/* jupyter's `normalize.less` sets `[hidden] { display: none; }` but bootstrap.min.css set `[hidden] { display: none !important; }` so we also need the `!important` here to be able to override the default hidden behavior on the sphinx rendered scikit-learn.org. See: https://github.com/scikit-learn/scikit-learn/issues/21755 */display: inline-block !important;position: relative;}#sk-container-id-4 div.sk-text-repr-fallback {display: none;}</style><div id=\"sk-container-id-4\" class=\"sk-top-container\"><div class=\"sk-text-repr-fallback\"><pre>Pipeline(steps=[(&#x27;preprocessor&#x27;,\n",
       "                 ColumnTransformer(transformers=[(&#x27;numerical&#x27;,\n",
       "                                                  Pipeline(steps=[(&#x27;column_dropper&#x27;,\n",
       "                                                                   DropColumnsTransformer(attrs_to_drop=[&#x27;uid&#x27;,\n",
       "                                                                                                         &#x27;app_score&#x27;,\n",
       "                                                                                                         &#x27;his_on_shelf_time&#x27;,\n",
       "                                                                                                         &#x27;task_id&#x27;,\n",
       "                                                                                                         &#x27;spread_app_id&#x27;,\n",
       "                                                                                                         &#x27;tags&#x27;,\n",
       "                                                                                                         &#x27;dev_id&#x27;])),\n",
       "                                                                  (&#x27;imputer&#x27;,\n",
       "                                                                   SimpleImputer()),\n",
       "                                                                  (&#x27;scaler&#x27;,\n",
       "                                                                   StandardScaler())]),\n",
       "                                                  []),\n",
       "                                                 (&#x27;categorical&#x27;,\n",
       "                                                  Pipeline(steps=[(&#x27;column_dropper&#x27;,\n",
       "                                                                   DropCol...\n",
       "                                                   &#x27;city&#x27;, &#x27;city_rank&#x27;,\n",
       "                                                   &#x27;device_name&#x27;, &#x27;device_size&#x27;,\n",
       "                                                   &#x27;career&#x27;, &#x27;gender&#x27;,\n",
       "                                                   &#x27;net_type&#x27;, &#x27;residence&#x27;,\n",
       "                                                   &#x27;his_app_size&#x27;,\n",
       "                                                   &#x27;his_on_shelf_time&#x27;,\n",
       "                                                   &#x27;app_score&#x27;, &#x27;emui_dev&#x27;,\n",
       "                                                   &#x27;list_time&#x27;, &#x27;device_price&#x27;,\n",
       "                                                   &#x27;up_life_duration&#x27;,\n",
       "                                                   &#x27;up_membership_grade&#x27;,\n",
       "                                                   &#x27;membership_life_duration&#x27;, ...])])),\n",
       "                (&#x27;estimator&#x27;,\n",
       "                 SGDClassifier(class_weight=&#x27;balanced&#x27;, loss=&#x27;log_loss&#x27;,\n",
       "                               max_iter=10000, random_state=42))])</pre><b>In a Jupyter environment, please rerun this cell to show the HTML representation or trust the notebook. <br />On GitHub, the HTML representation is unable to render, please try loading this page with nbviewer.org.</b></div><div class=\"sk-container\" hidden><div class=\"sk-item sk-dashed-wrapped\"><div class=\"sk-label-container\"><div class=\"sk-label sk-toggleable\"><input class=\"sk-toggleable__control sk-hidden--visually\" id=\"sk-estimator-id-24\" type=\"checkbox\" ><label for=\"sk-estimator-id-24\" class=\"sk-toggleable__label sk-toggleable__label-arrow\">Pipeline</label><div class=\"sk-toggleable__content\"><pre>Pipeline(steps=[(&#x27;preprocessor&#x27;,\n",
       "                 ColumnTransformer(transformers=[(&#x27;numerical&#x27;,\n",
       "                                                  Pipeline(steps=[(&#x27;column_dropper&#x27;,\n",
       "                                                                   DropColumnsTransformer(attrs_to_drop=[&#x27;uid&#x27;,\n",
       "                                                                                                         &#x27;app_score&#x27;,\n",
       "                                                                                                         &#x27;his_on_shelf_time&#x27;,\n",
       "                                                                                                         &#x27;task_id&#x27;,\n",
       "                                                                                                         &#x27;spread_app_id&#x27;,\n",
       "                                                                                                         &#x27;tags&#x27;,\n",
       "                                                                                                         &#x27;dev_id&#x27;])),\n",
       "                                                                  (&#x27;imputer&#x27;,\n",
       "                                                                   SimpleImputer()),\n",
       "                                                                  (&#x27;scaler&#x27;,\n",
       "                                                                   StandardScaler())]),\n",
       "                                                  []),\n",
       "                                                 (&#x27;categorical&#x27;,\n",
       "                                                  Pipeline(steps=[(&#x27;column_dropper&#x27;,\n",
       "                                                                   DropCol...\n",
       "                                                   &#x27;city&#x27;, &#x27;city_rank&#x27;,\n",
       "                                                   &#x27;device_name&#x27;, &#x27;device_size&#x27;,\n",
       "                                                   &#x27;career&#x27;, &#x27;gender&#x27;,\n",
       "                                                   &#x27;net_type&#x27;, &#x27;residence&#x27;,\n",
       "                                                   &#x27;his_app_size&#x27;,\n",
       "                                                   &#x27;his_on_shelf_time&#x27;,\n",
       "                                                   &#x27;app_score&#x27;, &#x27;emui_dev&#x27;,\n",
       "                                                   &#x27;list_time&#x27;, &#x27;device_price&#x27;,\n",
       "                                                   &#x27;up_life_duration&#x27;,\n",
       "                                                   &#x27;up_membership_grade&#x27;,\n",
       "                                                   &#x27;membership_life_duration&#x27;, ...])])),\n",
       "                (&#x27;estimator&#x27;,\n",
       "                 SGDClassifier(class_weight=&#x27;balanced&#x27;, loss=&#x27;log_loss&#x27;,\n",
       "                               max_iter=10000, random_state=42))])</pre></div></div></div><div class=\"sk-serial\"><div class=\"sk-item sk-dashed-wrapped\"><div class=\"sk-label-container\"><div class=\"sk-label sk-toggleable\"><input class=\"sk-toggleable__control sk-hidden--visually\" id=\"sk-estimator-id-25\" type=\"checkbox\" ><label for=\"sk-estimator-id-25\" class=\"sk-toggleable__label sk-toggleable__label-arrow\">preprocessor: ColumnTransformer</label><div class=\"sk-toggleable__content\"><pre>ColumnTransformer(transformers=[(&#x27;numerical&#x27;,\n",
       "                                 Pipeline(steps=[(&#x27;column_dropper&#x27;,\n",
       "                                                  DropColumnsTransformer(attrs_to_drop=[&#x27;uid&#x27;,\n",
       "                                                                                        &#x27;app_score&#x27;,\n",
       "                                                                                        &#x27;his_on_shelf_time&#x27;,\n",
       "                                                                                        &#x27;task_id&#x27;,\n",
       "                                                                                        &#x27;spread_app_id&#x27;,\n",
       "                                                                                        &#x27;tags&#x27;,\n",
       "                                                                                        &#x27;dev_id&#x27;])),\n",
       "                                                 (&#x27;imputer&#x27;, SimpleImputer()),\n",
       "                                                 (&#x27;scaler&#x27;, StandardScaler())]),\n",
       "                                 []),\n",
       "                                (&#x27;categorical&#x27;,\n",
       "                                 Pipeline(steps=[(&#x27;column_dropper&#x27;,\n",
       "                                                  DropColumnsTransformer(attrs_to_drop=[&#x27;...\n",
       "                                  &#x27;adv_prim_id&#x27;, &#x27;dev_id&#x27;, &#x27;inter_type_cd&#x27;,\n",
       "                                  &#x27;slot_id&#x27;, &#x27;spread_app_id&#x27;, &#x27;tags&#x27;,\n",
       "                                  &#x27;app_first_class&#x27;, &#x27;app_second_class&#x27;, &#x27;age&#x27;,\n",
       "                                  &#x27;city&#x27;, &#x27;city_rank&#x27;, &#x27;device_name&#x27;,\n",
       "                                  &#x27;device_size&#x27;, &#x27;career&#x27;, &#x27;gender&#x27;, &#x27;net_type&#x27;,\n",
       "                                  &#x27;residence&#x27;, &#x27;his_app_size&#x27;,\n",
       "                                  &#x27;his_on_shelf_time&#x27;, &#x27;app_score&#x27;, &#x27;emui_dev&#x27;,\n",
       "                                  &#x27;list_time&#x27;, &#x27;device_price&#x27;,\n",
       "                                  &#x27;up_life_duration&#x27;, &#x27;up_membership_grade&#x27;,\n",
       "                                  &#x27;membership_life_duration&#x27;, ...])])</pre></div></div></div><div class=\"sk-parallel\"><div class=\"sk-parallel-item\"><div class=\"sk-item\"><div class=\"sk-label-container\"><div class=\"sk-label sk-toggleable\"><input class=\"sk-toggleable__control sk-hidden--visually\" id=\"sk-estimator-id-26\" type=\"checkbox\" ><label for=\"sk-estimator-id-26\" class=\"sk-toggleable__label sk-toggleable__label-arrow\">numerical</label><div class=\"sk-toggleable__content\"><pre>[]</pre></div></div></div><div class=\"sk-serial\"><div class=\"sk-item\"><div class=\"sk-serial\"><div class=\"sk-item\"><div class=\"sk-estimator sk-toggleable\"><input class=\"sk-toggleable__control sk-hidden--visually\" id=\"sk-estimator-id-27\" type=\"checkbox\" ><label for=\"sk-estimator-id-27\" class=\"sk-toggleable__label sk-toggleable__label-arrow\">DropColumnsTransformer</label><div class=\"sk-toggleable__content\"><pre>DropColumnsTransformer(attrs_to_drop=[&#x27;uid&#x27;, &#x27;app_score&#x27;, &#x27;his_on_shelf_time&#x27;,\n",
       "                                      &#x27;task_id&#x27;, &#x27;spread_app_id&#x27;, &#x27;tags&#x27;,\n",
       "                                      &#x27;dev_id&#x27;])</pre></div></div></div><div class=\"sk-item\"><div class=\"sk-estimator sk-toggleable\"><input class=\"sk-toggleable__control sk-hidden--visually\" id=\"sk-estimator-id-28\" type=\"checkbox\" ><label for=\"sk-estimator-id-28\" class=\"sk-toggleable__label sk-toggleable__label-arrow\">SimpleImputer</label><div class=\"sk-toggleable__content\"><pre>SimpleImputer()</pre></div></div></div><div class=\"sk-item\"><div class=\"sk-estimator sk-toggleable\"><input class=\"sk-toggleable__control sk-hidden--visually\" id=\"sk-estimator-id-29\" type=\"checkbox\" ><label for=\"sk-estimator-id-29\" class=\"sk-toggleable__label sk-toggleable__label-arrow\">StandardScaler</label><div class=\"sk-toggleable__content\"><pre>StandardScaler()</pre></div></div></div></div></div></div></div></div><div class=\"sk-parallel-item\"><div class=\"sk-item\"><div class=\"sk-label-container\"><div class=\"sk-label sk-toggleable\"><input class=\"sk-toggleable__control sk-hidden--visually\" id=\"sk-estimator-id-30\" type=\"checkbox\" ><label for=\"sk-estimator-id-30\" class=\"sk-toggleable__label sk-toggleable__label-arrow\">categorical</label><div class=\"sk-toggleable__content\"><pre>[&#x27;uid&#x27;, &#x27;task_id&#x27;, &#x27;adv_id&#x27;, &#x27;creat_type_cd&#x27;, &#x27;adv_prim_id&#x27;, &#x27;dev_id&#x27;, &#x27;inter_type_cd&#x27;, &#x27;slot_id&#x27;, &#x27;spread_app_id&#x27;, &#x27;tags&#x27;, &#x27;app_first_class&#x27;, &#x27;app_second_class&#x27;, &#x27;age&#x27;, &#x27;city&#x27;, &#x27;city_rank&#x27;, &#x27;device_name&#x27;, &#x27;device_size&#x27;, &#x27;career&#x27;, &#x27;gender&#x27;, &#x27;net_type&#x27;, &#x27;residence&#x27;, &#x27;his_app_size&#x27;, &#x27;his_on_shelf_time&#x27;, &#x27;app_score&#x27;, &#x27;emui_dev&#x27;, &#x27;list_time&#x27;, &#x27;device_price&#x27;, &#x27;up_life_duration&#x27;, &#x27;up_membership_grade&#x27;, &#x27;membership_life_duration&#x27;, &#x27;consume_purchase&#x27;, &#x27;communication_onlinerate&#x27;, &#x27;communication_avgonline_30d&#x27;, &#x27;indu_name&#x27;, &#x27;pt_d&#x27;]</pre></div></div></div><div class=\"sk-serial\"><div class=\"sk-item\"><div class=\"sk-serial\"><div class=\"sk-item\"><div class=\"sk-estimator sk-toggleable\"><input class=\"sk-toggleable__control sk-hidden--visually\" id=\"sk-estimator-id-31\" type=\"checkbox\" ><label for=\"sk-estimator-id-31\" class=\"sk-toggleable__label sk-toggleable__label-arrow\">DropColumnsTransformer</label><div class=\"sk-toggleable__content\"><pre>DropColumnsTransformer(attrs_to_drop=[&#x27;uid&#x27;, &#x27;app_score&#x27;, &#x27;his_on_shelf_time&#x27;,\n",
       "                                      &#x27;task_id&#x27;, &#x27;spread_app_id&#x27;, &#x27;tags&#x27;,\n",
       "                                      &#x27;dev_id&#x27;])</pre></div></div></div><div class=\"sk-item\"><div class=\"sk-estimator sk-toggleable\"><input class=\"sk-toggleable__control sk-hidden--visually\" id=\"sk-estimator-id-32\" type=\"checkbox\" ><label for=\"sk-estimator-id-32\" class=\"sk-toggleable__label sk-toggleable__label-arrow\">SimpleImputer</label><div class=\"sk-toggleable__content\"><pre>SimpleImputer(strategy=&#x27;most_frequent&#x27;)</pre></div></div></div><div class=\"sk-item\"><div class=\"sk-estimator sk-toggleable\"><input class=\"sk-toggleable__control sk-hidden--visually\" id=\"sk-estimator-id-33\" type=\"checkbox\" ><label for=\"sk-estimator-id-33\" class=\"sk-toggleable__label sk-toggleable__label-arrow\">TargetEncoder</label><div class=\"sk-toggleable__content\"><pre>TargetEncoder(random_state=42, target_type=&#x27;binary&#x27;)</pre></div></div></div><div class=\"sk-item\"><div class=\"sk-estimator sk-toggleable\"><input class=\"sk-toggleable__control sk-hidden--visually\" id=\"sk-estimator-id-34\" type=\"checkbox\" ><label for=\"sk-estimator-id-34\" class=\"sk-toggleable__label sk-toggleable__label-arrow\">StandardScaler</label><div class=\"sk-toggleable__content\"><pre>StandardScaler()</pre></div></div></div></div></div></div></div></div></div></div><div class=\"sk-item\"><div class=\"sk-estimator sk-toggleable\"><input class=\"sk-toggleable__control sk-hidden--visually\" id=\"sk-estimator-id-35\" type=\"checkbox\" ><label for=\"sk-estimator-id-35\" class=\"sk-toggleable__label sk-toggleable__label-arrow\">SGDClassifier</label><div class=\"sk-toggleable__content\"><pre>SGDClassifier(class_weight=&#x27;balanced&#x27;, loss=&#x27;log_loss&#x27;, max_iter=10000,\n",
       "              random_state=42)</pre></div></div></div></div></div></div></div>"
      ],
      "text/plain": [
       "Pipeline(steps=[('preprocessor',\n",
       "                 ColumnTransformer(transformers=[('numerical',\n",
       "                                                  Pipeline(steps=[('column_dropper',\n",
       "                                                                   DropColumnsTransformer(attrs_to_drop=['uid',\n",
       "                                                                                                         'app_score',\n",
       "                                                                                                         'his_on_shelf_time',\n",
       "                                                                                                         'task_id',\n",
       "                                                                                                         'spread_app_id',\n",
       "                                                                                                         'tags',\n",
       "                                                                                                         'dev_id'])),\n",
       "                                                                  ('imputer',\n",
       "                                                                   SimpleImputer()),\n",
       "                                                                  ('scaler',\n",
       "                                                                   StandardScaler())]),\n",
       "                                                  []),\n",
       "                                                 ('categorical',\n",
       "                                                  Pipeline(steps=[('column_dropper',\n",
       "                                                                   DropCol...\n",
       "                                                   'city', 'city_rank',\n",
       "                                                   'device_name', 'device_size',\n",
       "                                                   'career', 'gender',\n",
       "                                                   'net_type', 'residence',\n",
       "                                                   'his_app_size',\n",
       "                                                   'his_on_shelf_time',\n",
       "                                                   'app_score', 'emui_dev',\n",
       "                                                   'list_time', 'device_price',\n",
       "                                                   'up_life_duration',\n",
       "                                                   'up_membership_grade',\n",
       "                                                   'membership_life_duration', ...])])),\n",
       "                ('estimator',\n",
       "                 SGDClassifier(class_weight='balanced', loss='log_loss',\n",
       "                               max_iter=10000, random_state=42))])"
      ]
     },
     "execution_count": 12,
     "metadata": {},
     "output_type": "execute_result"
    }
   ],
   "source": [
    "composite_estimator.fit(\n",
    "    train_cap_x_df,\n",
    "    train_y_df.values.ravel()\n",
    ")"
   ]
  },
  {
   "cell_type": "markdown",
   "id": "0c755f72",
   "metadata": {},
   "source": [
    "#### 7. Evaluate model performance on train set"
   ]
  },
  {
   "cell_type": "code",
   "execution_count": 13,
   "id": "e1096619",
   "metadata": {
    "ExecuteTime": {
     "end_time": "2023-12-10T05:14:49.920956Z",
     "start_time": "2023-12-10T05:14:43.142781Z"
    }
   },
   "outputs": [
    {
     "name": "stdout",
     "output_type": "stream",
     "text": [
      "Evaluate the trained estimator performance on train sample set\n",
      "Check accuracy score\n",
      "train sample set accuracy score: 0.5329812941913542\n",
      "\n",
      "Check classification report\n",
      "              precision    recall  f1-score   support\n",
      "\n",
      "           0       0.98      0.52      0.68     32363\n",
      "           1       0.05      0.76      0.10      1156\n",
      "\n",
      "    accuracy                           0.53     33519\n",
      "   macro avg       0.52      0.64      0.39     33519\n",
      "weighted avg       0.95      0.53      0.66     33519\n",
      "\n",
      "\n",
      "Check confusion matrix\n",
      "train sample set confusion matrix: \n",
      "[[16981 15382]\n",
      " [  272   884]]\n",
      "True Positives =  16981\n",
      "True Negatives =  884\n",
      "False Positives(Type I error) =  15382\n",
      "False Negatives(Type II error) =  272\n",
      "\n",
      "Check cross validation score\n",
      "\n",
      "accuracy scores: [0.57965394 0.47434368 0.54609189 0.58755967 0.54617336]\n",
      "np.mean(scores): 0.5467645039783775\n",
      "np.std(scores, ddof=1): 0.04469770235325973\n",
      "\n",
      "precision scores: [0.04977376 0.04123711 0.04790997 0.04880656 0.04053612]\n",
      "np.mean(scores): 0.045652702972156844\n",
      "np.std(scores, ddof=1): 0.004407434784762702\n",
      "\n",
      "recall scores: [0.61904762 0.64069264 0.64502165 0.59051724 0.53679654]\n",
      "np.mean(scores): 0.6064151365875504\n",
      "np.std(scores, ddof=1): 0.04450977955226171\n",
      "\n",
      "recall scores: [0.61904762 0.64069264 0.64502165 0.59051724 0.53679654]\n",
      "np.mean(scores): 0.6064151365875504\n",
      "np.std(scores, ddof=1): 0.04450977955226171\n",
      "\n",
      "f1 scores: [0.09213918 0.07748691 0.08919485 0.09016124 0.07537994]\n",
      "np.mean(scores): 0.08487242291041683\n",
      "np.std(scores, ddof=1): 0.007812068735428809\n",
      "\n",
      "Check the ROC Curve and AUC\n"
     ]
    },
    {
     "data": {
      "image/png": "[encoded data removed]",
      "text/plain": [
       "<Figure size 640x480 with 1 Axes>"
      ]
     },
     "metadata": {},
     "output_type": "display_data"
    },
    {
     "name": "stdout",
     "output_type": "stream",
     "text": [
      "\n",
      "Check Precision-Recall Curve and Average Precision Score\n"
     ]
    },
    {
     "data": {
      "image/png": "[encoded data removed]",
      "text/plain": [
       "<Figure size 640x480 with 1 Axes>"
      ]
     },
     "metadata": {},
     "output_type": "display_data"
    }
   ],
   "source": [
    "bin_class_utils.eval_class(train_cap_x_df, train_y_df, composite_estimator, \"train sample\", CVS_SCORING_LIST)"
   ]
  },
  {
   "cell_type": "markdown",
   "id": "aa914c7fa67ad80b",
   "metadata": {},
   "source": [
    "#### 8. Read in and sample validation data set"
   ]
  },
  {
   "cell_type": "code",
   "execution_count": 14,
   "id": "4988653317c3bc55",
   "metadata": {
    "ExecuteTime": {
     "end_time": "2023-12-10T05:14:50.148157Z",
     "start_time": "2023-12-10T05:14:49.924087Z"
    }
   },
   "outputs": [
    {
     "name": "stdout",
     "output_type": "stream",
     "text": [
      "\n",
      "Read CSV file ../data/validation_df.csv into DataFrame:\n",
      "df.head(): \n"
     ]
    },
    {
     "data": {
      "text/html": [
       "<div>\n",
       "<style scoped>\n",
       "    .dataframe tbody tr th:only-of-type {\n",
       "        vertical-align: middle;\n",
       "    }\n",
       "\n",
       "    .dataframe tbody tr th {\n",
       "        vertical-align: top;\n",
       "    }\n",
       "\n",
       "    .dataframe thead th {\n",
       "        text-align: right;\n",
       "    }\n",
       "</style>\n",
       "<table border=\"1\" class=\"dataframe\">\n",
       "  <thead>\n",
       "    <tr style=\"text-align: right;\">\n",
       "      <th></th>\n",
       "      <th>uid</th>\n",
       "      <th>task_id</th>\n",
       "      <th>adv_id</th>\n",
       "      <th>creat_type_cd</th>\n",
       "      <th>adv_prim_id</th>\n",
       "      <th>dev_id</th>\n",
       "      <th>inter_type_cd</th>\n",
       "      <th>slot_id</th>\n",
       "      <th>spread_app_id</th>\n",
       "      <th>tags</th>\n",
       "      <th>...</th>\n",
       "      <th>device_price</th>\n",
       "      <th>up_life_duration</th>\n",
       "      <th>up_membership_grade</th>\n",
       "      <th>membership_life_duration</th>\n",
       "      <th>consume_purchase</th>\n",
       "      <th>communication_onlinerate</th>\n",
       "      <th>communication_avgonline_30d</th>\n",
       "      <th>indu_name</th>\n",
       "      <th>pt_d</th>\n",
       "      <th>label</th>\n",
       "    </tr>\n",
       "  </thead>\n",
       "  <tbody>\n",
       "    <tr>\n",
       "      <th>0</th>\n",
       "      <td>1451378</td>\n",
       "      <td>2082</td>\n",
       "      <td>3033</td>\n",
       "      <td>7</td>\n",
       "      <td>154</td>\n",
       "      <td>56</td>\n",
       "      <td>5</td>\n",
       "      <td>11</td>\n",
       "      <td>31</td>\n",
       "      <td>40</td>\n",
       "      <td>...</td>\n",
       "      <td>4</td>\n",
       "      <td>20</td>\n",
       "      <td>-1</td>\n",
       "      <td>-1</td>\n",
       "      <td>7</td>\n",
       "      <td>0^1^2^3^4^5^6^7^8^9^10^11^12^13^14^15^16^17^18...</td>\n",
       "      <td>13</td>\n",
       "      <td>17</td>\n",
       "      <td>5</td>\n",
       "      <td>0</td>\n",
       "    </tr>\n",
       "    <tr>\n",
       "      <th>1</th>\n",
       "      <td>1619957</td>\n",
       "      <td>1225</td>\n",
       "      <td>4676</td>\n",
       "      <td>7</td>\n",
       "      <td>178</td>\n",
       "      <td>17</td>\n",
       "      <td>5</td>\n",
       "      <td>17</td>\n",
       "      <td>70</td>\n",
       "      <td>39</td>\n",
       "      <td>...</td>\n",
       "      <td>4</td>\n",
       "      <td>20</td>\n",
       "      <td>-1</td>\n",
       "      <td>-1</td>\n",
       "      <td>2</td>\n",
       "      <td>0^1^2^3^4^5^6^7^8^9^10^11^12^13^14^15^16^17^18...</td>\n",
       "      <td>13</td>\n",
       "      <td>36</td>\n",
       "      <td>6</td>\n",
       "      <td>0</td>\n",
       "    </tr>\n",
       "    <tr>\n",
       "      <th>2</th>\n",
       "      <td>1698084</td>\n",
       "      <td>2206</td>\n",
       "      <td>2822</td>\n",
       "      <td>7</td>\n",
       "      <td>177</td>\n",
       "      <td>56</td>\n",
       "      <td>5</td>\n",
       "      <td>14</td>\n",
       "      <td>31</td>\n",
       "      <td>40</td>\n",
       "      <td>...</td>\n",
       "      <td>5</td>\n",
       "      <td>20</td>\n",
       "      <td>1</td>\n",
       "      <td>-1</td>\n",
       "      <td>2</td>\n",
       "      <td>-1</td>\n",
       "      <td>-1</td>\n",
       "      <td>17</td>\n",
       "      <td>3</td>\n",
       "      <td>0</td>\n",
       "    </tr>\n",
       "    <tr>\n",
       "      <th>3</th>\n",
       "      <td>1983802</td>\n",
       "      <td>5103</td>\n",
       "      <td>2564</td>\n",
       "      <td>7</td>\n",
       "      <td>151</td>\n",
       "      <td>60</td>\n",
       "      <td>4</td>\n",
       "      <td>12</td>\n",
       "      <td>23</td>\n",
       "      <td>26</td>\n",
       "      <td>...</td>\n",
       "      <td>4</td>\n",
       "      <td>20</td>\n",
       "      <td>-1</td>\n",
       "      <td>-1</td>\n",
       "      <td>8</td>\n",
       "      <td>7^8^9^10^11^12^13^14^15^16^17^18^19^20^21^22^23</td>\n",
       "      <td>10</td>\n",
       "      <td>39</td>\n",
       "      <td>5</td>\n",
       "      <td>0</td>\n",
       "    </tr>\n",
       "    <tr>\n",
       "      <th>4</th>\n",
       "      <td>1537560</td>\n",
       "      <td>1098</td>\n",
       "      <td>1732</td>\n",
       "      <td>7</td>\n",
       "      <td>134</td>\n",
       "      <td>55</td>\n",
       "      <td>4</td>\n",
       "      <td>17</td>\n",
       "      <td>65</td>\n",
       "      <td>18</td>\n",
       "      <td>...</td>\n",
       "      <td>4</td>\n",
       "      <td>20</td>\n",
       "      <td>-1</td>\n",
       "      <td>-1</td>\n",
       "      <td>2</td>\n",
       "      <td>3^4^5^6^7^8^9^10^11^12^13^14^15^16^17^18^19^20...</td>\n",
       "      <td>12</td>\n",
       "      <td>14</td>\n",
       "      <td>1</td>\n",
       "      <td>0</td>\n",
       "    </tr>\n",
       "  </tbody>\n",
       "</table>\n",
       "<p>5 rows × 36 columns</p>\n",
       "</div>"
      ],
      "text/plain": [
       "       uid  task_id  adv_id  creat_type_cd  adv_prim_id  dev_id  \\\n",
       "0  1451378     2082    3033              7          154      56   \n",
       "1  1619957     1225    4676              7          178      17   \n",
       "2  1698084     2206    2822              7          177      56   \n",
       "3  1983802     5103    2564              7          151      60   \n",
       "4  1537560     1098    1732              7          134      55   \n",
       "\n",
       "   inter_type_cd  slot_id  spread_app_id  tags  ...  device_price  \\\n",
       "0              5       11             31    40  ...             4   \n",
       "1              5       17             70    39  ...             4   \n",
       "2              5       14             31    40  ...             5   \n",
       "3              4       12             23    26  ...             4   \n",
       "4              4       17             65    18  ...             4   \n",
       "\n",
       "   up_life_duration  up_membership_grade  membership_life_duration  \\\n",
       "0                20                   -1                        -1   \n",
       "1                20                   -1                        -1   \n",
       "2                20                    1                        -1   \n",
       "3                20                   -1                        -1   \n",
       "4                20                   -1                        -1   \n",
       "\n",
       "   consume_purchase                           communication_onlinerate  \\\n",
       "0                 7  0^1^2^3^4^5^6^7^8^9^10^11^12^13^14^15^16^17^18...   \n",
       "1                 2  0^1^2^3^4^5^6^7^8^9^10^11^12^13^14^15^16^17^18...   \n",
       "2                 2                                                 -1   \n",
       "3                 8    7^8^9^10^11^12^13^14^15^16^17^18^19^20^21^22^23   \n",
       "4                 2  3^4^5^6^7^8^9^10^11^12^13^14^15^16^17^18^19^20...   \n",
       "\n",
       "   communication_avgonline_30d  indu_name  pt_d  label  \n",
       "0                           13         17     5      0  \n",
       "1                           13         36     6      0  \n",
       "2                           -1         17     3      0  \n",
       "3                           10         39     5      0  \n",
       "4                           12         14     1      0  \n",
       "\n",
       "[5 rows x 36 columns]"
      ]
     },
     "metadata": {},
     "output_type": "display_data"
    },
    {
     "name": "stdout",
     "output_type": "stream",
     "text": [
      "df.shape: (167629, 36)\n"
     ]
    }
   ],
   "source": [
    "validation_df = general_utils.read_csv(VALIDATION_FILE_PATH)"
   ]
  },
  {
   "cell_type": "code",
   "execution_count": 15,
   "id": "5aead9929ce23a1b",
   "metadata": {
    "ExecuteTime": {
     "end_time": "2023-12-10T05:14:50.192369Z",
     "start_time": "2023-12-10T05:14:50.148086Z"
    }
   },
   "outputs": [
    {
     "name": "stdout",
     "output_type": "stream",
     "text": [
      "\n",
      "Sample 0.05 fraction from DataFrame:\n",
      "sample_df.shape: (8381, 36)\n"
     ]
    }
   ],
   "source": [
    "validation_df_sample = data_prepare_utils.sample_data(validation_df, SAMPLE_SIZE, SAMPLE_RANDOM_STATE)\n",
    "del validation_df"
   ]
  },
  {
   "cell_type": "code",
   "execution_count": 16,
   "id": "9ea13d5a3400ed87",
   "metadata": {
    "ExecuteTime": {
     "end_time": "2023-12-10T05:14:50.211605Z",
     "start_time": "2023-12-10T05:14:50.173822Z"
    }
   },
   "outputs": [],
   "source": [
    "validation_cap_x_df, validation_y_df = validation_df_sample.drop(columns=TARGET_ATTR), validation_df_sample[[TARGET_ATTR]]\n",
    "del validation_df_sample"
   ]
  },
  {
   "cell_type": "markdown",
   "id": "e7f0a9db9e64f8ed",
   "metadata": {},
   "source": [
    "#### 9. Evaluate model performance on validation set"
   ]
  },
  {
   "cell_type": "code",
   "execution_count": 17,
   "id": "e711979d88e2d7a6",
   "metadata": {
    "ExecuteTime": {
     "end_time": "2023-12-10T05:14:51.928157Z",
     "start_time": "2023-12-10T05:14:50.181157Z"
    }
   },
   "outputs": [
    {
     "name": "stdout",
     "output_type": "stream",
     "text": [
      "Evaluate the trained estimator performance on validation sample set\n",
      "Check accuracy score\n",
      "validation sample set accuracy score: 0.5308435747524162\n",
      "\n",
      "Check classification report\n",
      "              precision    recall  f1-score   support\n",
      "\n",
      "           0       0.98      0.53      0.68      8092\n",
      "           1       0.05      0.68      0.09       289\n",
      "\n",
      "    accuracy                           0.53      8381\n",
      "   macro avg       0.51      0.60      0.39      8381\n",
      "weighted avg       0.95      0.53      0.66      8381\n",
      "\n",
      "\n",
      "Check confusion matrix\n",
      "validation sample set confusion matrix: \n",
      "[[4253 3839]\n",
      " [  93  196]]\n",
      "True Positives =  4253\n",
      "True Negatives =  196\n",
      "False Positives(Type I error) =  3839\n",
      "False Negatives(Type II error) =  93\n",
      "\n",
      "Check cross validation score\n",
      "\n",
      "accuracy scores: [0.61001789 0.55310263 0.45584726 0.65393795 0.4928401 ]\n",
      "np.mean(scores): 0.5531491625430685\n",
      "np.std(scores, ddof=1): 0.0813899227603147\n",
      "\n",
      "precision scores: [0.04294479 0.04712042 0.03887689 0.05154639 0.04166667]\n",
      "np.mean(scores): 0.04443103047845945\n",
      "np.std(scores, ddof=1): 0.004963876662544138\n",
      "\n",
      "recall scores: [0.48275862 0.63157895 0.62068966 0.51724138 0.62068966]\n",
      "np.mean(scores): 0.5745916515426497\n",
      "np.std(scores, ddof=1): 0.06931804065970125\n",
      "\n",
      "recall scores: [0.48275862 0.63157895 0.62068966 0.51724138 0.62068966]\n",
      "np.mean(scores): 0.5745916515426497\n",
      "np.std(scores, ddof=1): 0.06931804065970125\n",
      "\n",
      "f1 scores: [0.07887324 0.08769793 0.07317073 0.09375    0.07809111]\n",
      "np.mean(scores): 0.082316601357811\n",
      "np.std(scores, ddof=1): 0.008261957653382205\n",
      "\n",
      "Check the ROC Curve and AUC\n"
     ]
    },
    {
     "data": {
      "image/png": "[encoded data removed]",
      "text/plain": [
       "<Figure size 640x480 with 1 Axes>"
      ]
     },
     "metadata": {},
     "output_type": "display_data"
    },
    {
     "name": "stdout",
     "output_type": "stream",
     "text": [
      "\n",
      "Check Precision-Recall Curve and Average Precision Score\n"
     ]
    },
    {
     "data": {
      "image/png": "[encoded data removed]",
      "text/plain": [
       "<Figure size 640x480 with 1 Axes>"
      ]
     },
     "metadata": {},
     "output_type": "display_data"
    }
   ],
   "source": [
    "bin_class_utils.eval_class(validation_cap_x_df, validation_y_df, composite_estimator, \"validation sample\", CVS_SCORING_LIST)"
   ]
  },
  {
   "cell_type": "markdown",
   "id": "6c19fff3",
   "metadata": {},
   "source": [
    "#### 10. Check the most significant attributes"
   ]
  },
  {
   "cell_type": "code",
   "execution_count": null,
   "id": "fc9b6da7-6377-4f79-aa72-db8b1a13da44",
   "metadata": {
    "ExecuteTime": {
     "end_time": "2023-12-10T05:15:43.727712Z",
     "start_time": "2023-12-10T05:14:51.929463Z"
    }
   },
   "outputs": [
    {
     "name": "stdout",
     "output_type": "stream",
     "text": [
      "\n",
      "Check out permutation importance:\n"
     ]
    }
   ],
   "source": [
    "perm_results_df = bin_class_utils.check_out_permutation_importance(\n",
    "    composite_estimator, \n",
    "    train_cap_x_df, \n",
    "    train_y_df, \n",
    "    PERMUTATION_IMPORTANCE_RANDOM_STATE,\n",
    "    PERMUTATION_SCORING_LIST\n",
    ")\n",
    "perm_results_df"
   ]
  },
  {
   "cell_type": "markdown",
   "id": "1ecdfa7e",
   "metadata": {},
   "source": [
    "#### 11. Feature selection and engineering"
   ]
  },
  {
   "cell_type": "code",
   "execution_count": null,
   "id": "91869a26",
   "metadata": {
    "ExecuteTime": {
     "end_time": "2023-12-10T05:15:43.733611Z",
     "start_time": "2023-12-10T05:15:43.728794Z"
    }
   },
   "outputs": [],
   "source": [
    "common_least_important_attrs = bin_class_utils.drop_least_important_attrs(perm_results_df, PERM_DROP_THRESHOLD_PERCENT)\n",
    "common_least_important_attrs"
   ]
  },
  {
   "cell_type": "markdown",
   "id": "d1e081c7",
   "metadata": {},
   "source": [
    "#### 12. Fit and evaluate again"
   ]
  },
  {
   "cell_type": "code",
   "execution_count": null,
   "id": "f42004838d70c87c",
   "metadata": {
    "ExecuteTime": {
     "end_time": "2023-12-10T05:15:43.737506Z",
     "start_time": "2023-12-10T05:15:43.732395Z"
    }
   },
   "outputs": [],
   "source": [
    "attrs_to_drop_exp = list(set(ATTRS_TO_DROP + common_least_important_attrs))\n",
    "attrs_to_drop_exp"
   ]
  },
  {
   "cell_type": "code",
   "execution_count": null,
   "id": "396030d359468bbd",
   "metadata": {
    "ExecuteTime": {
     "end_time": "2023-12-10T05:15:43.739401Z",
     "start_time": "2023-12-10T05:15:43.737324Z"
    }
   },
   "outputs": [],
   "source": [
    "preprocessor_exp = bin_class_utils.build_preprocessing_pipeline(numerical_attr_list, categorical_attr_list, attrs_to_drop_exp, TARGET_TYPE, TARGET_ENCODING_RANDOM_STATE)\n",
    "\n",
    "estimator_exp = bin_class_utils.get_default_model(ESTIMATOR_NAME, MODEL_RANDOM_STATE)\n",
    "\n",
    "composite_estimator_exp = Pipeline(steps=[\n",
    "    ('preprocessor', preprocessor_exp), \n",
    "    ('estimator', estimator_exp)\n",
    "])"
   ]
  },
  {
   "cell_type": "code",
   "execution_count": null,
   "id": "e3f3fcbb071e47f7",
   "metadata": {
    "ExecuteTime": {
     "end_time": "2023-12-10T05:15:43.994606Z",
     "start_time": "2023-12-10T05:15:43.743335Z"
    }
   },
   "outputs": [],
   "source": [
    "composite_estimator_exp.fit(\n",
    "    train_cap_x_df,\n",
    "    train_y_df.values.ravel()\n",
    ")"
   ]
  },
  {
   "cell_type": "code",
   "execution_count": null,
   "id": "c73ce0e6d5389143",
   "metadata": {
    "ExecuteTime": {
     "end_time": "2023-12-10T05:15:46.902925Z",
     "start_time": "2023-12-10T05:15:43.997126Z"
    }
   },
   "outputs": [],
   "source": [
    "bin_class_utils.eval_class(train_cap_x_df, train_y_df, composite_estimator_exp, \"train sample exp\", CVS_SCORING_LIST)"
   ]
  },
  {
   "cell_type": "code",
   "execution_count": null,
   "id": "bb948bb538d24b7",
   "metadata": {
    "ExecuteTime": {
     "end_time": "2023-12-10T05:15:48.146985Z",
     "start_time": "2023-12-10T05:15:46.902619Z"
    },
    "scrolled": false
   },
   "outputs": [],
   "source": [
    "bin_class_utils.eval_class(validation_cap_x_df, validation_y_df, composite_estimator_exp, \"validation sample exp\", CVS_SCORING_LIST)"
   ]
  },
  {
   "cell_type": "markdown",
   "id": "0ff9c82b",
   "metadata": {},
   "source": [
    "- The model performance after dropping some common least important features in permutation importance test show improvements in specific performance metrics. On validation data set, the new model has a slightly higher `recall score` and mean of `precision scores`. However, `accuracy score` has decreased. It indicates that the new model performs better in correcty identifying positive instances on average but sacrifices accuracy (a higher number of misclassifications overall). \n",
    "- `false positives` increases after dropping some features, indicating a higher Type I errors.\n",
    "- Because minimizing `false positives` is crucial, we would **not** apply the new drop list in the fine-tuning stage."
   ]
  },
  {
   "cell_type": "code",
   "execution_count": null,
   "id": "479f2117",
   "metadata": {},
   "outputs": [],
   "source": [
    "attrs_to_drop_for_fine_tuning = ATTRS_TO_DROP\n",
    "\n",
    "attrs_to_drop_for_fine_tuning"
   ]
  },
  {
   "cell_type": "code",
   "execution_count": null,
   "id": "4ba72c937565bf4d",
   "metadata": {
    "ExecuteTime": {
     "end_time": "2023-12-10T05:15:48.150571Z",
     "start_time": "2023-12-10T05:15:48.146900Z"
    }
   },
   "outputs": [],
   "source": [
    "end = time.time()\n",
    "print(f'Script run time: {(end - start)/60} minutes')"
   ]
  }
 ],
 "metadata": {
  "kernelspec": {
   "display_name": "Python 3 (ipykernel)",
   "language": "python",
   "name": "python3"
  },
  "language_info": {
   "codemirror_mode": {
    "name": "ipython",
    "version": 3
   },
   "file_extension": ".py",
   "mimetype": "text/x-python",
   "name": "python",
   "nbconvert_exporter": "python",
   "pygments_lexer": "ipython3",
   "version": "3.11.4"
  }
 },
 "nbformat": 4,
 "nbformat_minor": 5
}
