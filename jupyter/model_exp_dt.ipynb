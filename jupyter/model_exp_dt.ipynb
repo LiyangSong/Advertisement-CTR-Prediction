{
 "cells": [
  {
   "cell_type": "markdown",
   "id": "1bfc48d1",
   "metadata": {},
   "source": [
    "## Shortlist Promising Models - Decision Tree Classifier"
   ]
  },
  {
   "cell_type": "markdown",
   "id": "b5d912d1",
   "metadata": {},
   "source": [
    "#### 0. Import modules and define parameters"
   ]
  },
  {
   "cell_type": "code",
   "execution_count": 1,
   "id": "f05e1a08",
   "metadata": {},
   "outputs": [],
   "source": [
    "import sys\n",
    "sys.path.append(\"..\")\n",
    "\n",
    "from module.utils import general_utils\n",
    "from module.utils import data_prepare_utils\n",
    "from module.utils import model_performance_utils\n",
    "import module.utils.bin_class_utils as bin_class_utils\n",
    "\n",
    "from sklearn.tree import DecisionTreeClassifier\n",
    "\n",
    "from sklearn.pipeline import Pipeline\n",
    "\n",
    "import numpy as np\n",
    "import pandas as pd\n",
    "import matplotlib.pyplot as plt"
   ]
  },
  {
   "cell_type": "code",
   "execution_count": 2,
   "id": "f53a94db",
   "metadata": {},
   "outputs": [],
   "source": [
    "train_df_file = \"../data/train_df.csv\"\n",
    "\n",
    "target_attr = \"label\"\n",
    "target_type = \"binary\"\n",
    "\n",
    "estimator_name = \"DecisionTreeClassifier\"\n",
    "\n",
    "sample_random_state = 24\n",
    "target_encoding_random_state = 42\n",
    "model_random_state = 42\n",
    "permutation_importance_random_state = 0"
   ]
  },
  {
   "cell_type": "markdown",
   "id": "b8218d94",
   "metadata": {},
   "source": [
    "#### 1. Import Data"
   ]
  },
  {
   "cell_type": "code",
   "execution_count": 3,
   "id": "7041c859",
   "metadata": {},
   "outputs": [
    {
     "name": "stdout",
     "output_type": "stream",
     "text": [
      "\n",
      "Read CSV file ../data/train_df.csv into DataFrame:\n",
      "df.head(): \n"
     ]
    },
    {
     "data": {
      "text/html": [
       "<div>\n",
       "<style scoped>\n",
       "    .dataframe tbody tr th:only-of-type {\n",
       "        vertical-align: middle;\n",
       "    }\n",
       "\n",
       "    .dataframe tbody tr th {\n",
       "        vertical-align: top;\n",
       "    }\n",
       "\n",
       "    .dataframe thead th {\n",
       "        text-align: right;\n",
       "    }\n",
       "</style>\n",
       "<table border=\"1\" class=\"dataframe\">\n",
       "  <thead>\n",
       "    <tr style=\"text-align: right;\">\n",
       "      <th></th>\n",
       "      <th>uid</th>\n",
       "      <th>task_id</th>\n",
       "      <th>adv_id</th>\n",
       "      <th>creat_type_cd</th>\n",
       "      <th>adv_prim_id</th>\n",
       "      <th>dev_id</th>\n",
       "      <th>inter_type_cd</th>\n",
       "      <th>slot_id</th>\n",
       "      <th>spread_app_id</th>\n",
       "      <th>tags</th>\n",
       "      <th>...</th>\n",
       "      <th>device_price</th>\n",
       "      <th>up_life_duration</th>\n",
       "      <th>up_membership_grade</th>\n",
       "      <th>membership_life_duration</th>\n",
       "      <th>consume_purchase</th>\n",
       "      <th>communication_onlinerate</th>\n",
       "      <th>communication_avgonline_30d</th>\n",
       "      <th>indu_name</th>\n",
       "      <th>pt_d</th>\n",
       "      <th>label</th>\n",
       "    </tr>\n",
       "  </thead>\n",
       "  <tbody>\n",
       "    <tr>\n",
       "      <th>0</th>\n",
       "      <td>1641431</td>\n",
       "      <td>5177</td>\n",
       "      <td>1998</td>\n",
       "      <td>7</td>\n",
       "      <td>191</td>\n",
       "      <td>60</td>\n",
       "      <td>5</td>\n",
       "      <td>21</td>\n",
       "      <td>82</td>\n",
       "      <td>14</td>\n",
       "      <td>...</td>\n",
       "      <td>2</td>\n",
       "      <td>-1</td>\n",
       "      <td>-1</td>\n",
       "      <td>-1</td>\n",
       "      <td>2</td>\n",
       "      <td>-1</td>\n",
       "      <td>6</td>\n",
       "      <td>24</td>\n",
       "      <td>3</td>\n",
       "      <td>0</td>\n",
       "    </tr>\n",
       "    <tr>\n",
       "      <th>1</th>\n",
       "      <td>2021896</td>\n",
       "      <td>4628</td>\n",
       "      <td>4530</td>\n",
       "      <td>7</td>\n",
       "      <td>177</td>\n",
       "      <td>56</td>\n",
       "      <td>5</td>\n",
       "      <td>17</td>\n",
       "      <td>31</td>\n",
       "      <td>40</td>\n",
       "      <td>...</td>\n",
       "      <td>3</td>\n",
       "      <td>18</td>\n",
       "      <td>-1</td>\n",
       "      <td>-1</td>\n",
       "      <td>2</td>\n",
       "      <td>10^11^12^13^14^15^16^17^18^19^20^21^22^23</td>\n",
       "      <td>7</td>\n",
       "      <td>17</td>\n",
       "      <td>3</td>\n",
       "      <td>0</td>\n",
       "    </tr>\n",
       "    <tr>\n",
       "      <th>2</th>\n",
       "      <td>1790795</td>\n",
       "      <td>2709</td>\n",
       "      <td>1413</td>\n",
       "      <td>7</td>\n",
       "      <td>134</td>\n",
       "      <td>55</td>\n",
       "      <td>4</td>\n",
       "      <td>17</td>\n",
       "      <td>65</td>\n",
       "      <td>18</td>\n",
       "      <td>...</td>\n",
       "      <td>5</td>\n",
       "      <td>20</td>\n",
       "      <td>-1</td>\n",
       "      <td>-1</td>\n",
       "      <td>5</td>\n",
       "      <td>0^1^2^3^4^5^6^7^8^9^10^11^12^13^14^15^16^17^18...</td>\n",
       "      <td>13</td>\n",
       "      <td>14</td>\n",
       "      <td>1</td>\n",
       "      <td>0</td>\n",
       "    </tr>\n",
       "    <tr>\n",
       "      <th>3</th>\n",
       "      <td>1216709</td>\n",
       "      <td>1949</td>\n",
       "      <td>6143</td>\n",
       "      <td>7</td>\n",
       "      <td>150</td>\n",
       "      <td>17</td>\n",
       "      <td>5</td>\n",
       "      <td>21</td>\n",
       "      <td>11</td>\n",
       "      <td>39</td>\n",
       "      <td>...</td>\n",
       "      <td>2</td>\n",
       "      <td>16</td>\n",
       "      <td>-1</td>\n",
       "      <td>-1</td>\n",
       "      <td>2</td>\n",
       "      <td>8^9^10^11^12^13^14^15^16^17^18^19^20^21^22^23</td>\n",
       "      <td>10</td>\n",
       "      <td>36</td>\n",
       "      <td>3</td>\n",
       "      <td>0</td>\n",
       "    </tr>\n",
       "    <tr>\n",
       "      <th>4</th>\n",
       "      <td>1635521</td>\n",
       "      <td>4806</td>\n",
       "      <td>2176</td>\n",
       "      <td>7</td>\n",
       "      <td>206</td>\n",
       "      <td>64</td>\n",
       "      <td>5</td>\n",
       "      <td>15</td>\n",
       "      <td>22</td>\n",
       "      <td>39</td>\n",
       "      <td>...</td>\n",
       "      <td>4</td>\n",
       "      <td>20</td>\n",
       "      <td>-1</td>\n",
       "      <td>-1</td>\n",
       "      <td>2</td>\n",
       "      <td>6^7^8^9^10^11^12^13^14^15^16^17^18^19^20^21^22^23</td>\n",
       "      <td>10</td>\n",
       "      <td>36</td>\n",
       "      <td>1</td>\n",
       "      <td>0</td>\n",
       "    </tr>\n",
       "  </tbody>\n",
       "</table>\n",
       "<p>5 rows × 36 columns</p>\n",
       "</div>"
      ],
      "text/plain": [
       "       uid  task_id  adv_id  creat_type_cd  adv_prim_id  dev_id  \\\n",
       "0  1641431     5177    1998              7          191      60   \n",
       "1  2021896     4628    4530              7          177      56   \n",
       "2  1790795     2709    1413              7          134      55   \n",
       "3  1216709     1949    6143              7          150      17   \n",
       "4  1635521     4806    2176              7          206      64   \n",
       "\n",
       "   inter_type_cd  slot_id  spread_app_id  tags  ...  device_price  \\\n",
       "0              5       21             82    14  ...             2   \n",
       "1              5       17             31    40  ...             3   \n",
       "2              4       17             65    18  ...             5   \n",
       "3              5       21             11    39  ...             2   \n",
       "4              5       15             22    39  ...             4   \n",
       "\n",
       "   up_life_duration  up_membership_grade  membership_life_duration  \\\n",
       "0                -1                   -1                        -1   \n",
       "1                18                   -1                        -1   \n",
       "2                20                   -1                        -1   \n",
       "3                16                   -1                        -1   \n",
       "4                20                   -1                        -1   \n",
       "\n",
       "   consume_purchase                           communication_onlinerate  \\\n",
       "0                 2                                                 -1   \n",
       "1                 2          10^11^12^13^14^15^16^17^18^19^20^21^22^23   \n",
       "2                 5  0^1^2^3^4^5^6^7^8^9^10^11^12^13^14^15^16^17^18...   \n",
       "3                 2      8^9^10^11^12^13^14^15^16^17^18^19^20^21^22^23   \n",
       "4                 2  6^7^8^9^10^11^12^13^14^15^16^17^18^19^20^21^22^23   \n",
       "\n",
       "   communication_avgonline_30d  indu_name  pt_d  label  \n",
       "0                            6         24     3      0  \n",
       "1                            7         17     3      0  \n",
       "2                           13         14     1      0  \n",
       "3                           10         36     3      0  \n",
       "4                           10         36     1      0  \n",
       "\n",
       "[5 rows x 36 columns]"
      ]
     },
     "metadata": {},
     "output_type": "display_data"
    },
    {
     "name": "stdout",
     "output_type": "stream",
     "text": [
      "df.shape: (838142, 36)\n"
     ]
    }
   ],
   "source": [
    "train_df = general_utils.read_csv(train_df_file)"
   ]
  },
  {
   "cell_type": "markdown",
   "id": "e1d494c7",
   "metadata": {},
   "source": [
    "#### 2. Sample smaller training sets for fast exploration"
   ]
  },
  {
   "cell_type": "code",
   "execution_count": 4,
   "id": "4ede381d",
   "metadata": {},
   "outputs": [
    {
     "name": "stdout",
     "output_type": "stream",
     "text": [
      "\n",
      "Sample 0.01 fraction from DataFrame:\n",
      "sample_df.shape: (8381, 36)\n"
     ]
    }
   ],
   "source": [
    "train_df_sample = data_prepare_utils.sample_data(train_df, 0.01, random_state=sample_random_state)"
   ]
  },
  {
   "cell_type": "markdown",
   "id": "b48b5e04",
   "metadata": {},
   "source": [
    "#### 3. Check attribute types"
   ]
  },
  {
   "cell_type": "code",
   "execution_count": 5,
   "id": "c4f2729d",
   "metadata": {
    "scrolled": true
   },
   "outputs": [
    {
     "data": {
      "text/plain": [
       "['uid',\n",
       " 'task_id',\n",
       " 'adv_id',\n",
       " 'creat_type_cd',\n",
       " 'adv_prim_id',\n",
       " 'dev_id',\n",
       " 'inter_type_cd',\n",
       " 'slot_id',\n",
       " 'spread_app_id',\n",
       " 'tags',\n",
       " 'app_first_class',\n",
       " 'app_second_class',\n",
       " 'age',\n",
       " 'city',\n",
       " 'city_rank',\n",
       " 'device_name',\n",
       " 'device_size',\n",
       " 'career',\n",
       " 'gender',\n",
       " 'net_type',\n",
       " 'residence',\n",
       " 'his_app_size',\n",
       " 'his_on_shelf_time',\n",
       " 'app_score',\n",
       " 'emui_dev',\n",
       " 'list_time',\n",
       " 'device_price',\n",
       " 'up_life_duration',\n",
       " 'up_membership_grade',\n",
       " 'membership_life_duration',\n",
       " 'consume_purchase',\n",
       " 'communication_onlinerate',\n",
       " 'communication_avgonline_30d',\n",
       " 'indu_name',\n",
       " 'pt_d']"
      ]
     },
     "execution_count": 5,
     "metadata": {},
     "output_type": "execute_result"
    }
   ],
   "source": [
    "numerical_attr_list = []\n",
    "categorical_attr_list = [attr for attr in train_df_sample.columns if attr not in numerical_attr_list and attr != target_attr]\n",
    "attr_list = numerical_attr_list + categorical_attr_list\n",
    "attr_list"
   ]
  },
  {
   "cell_type": "markdown",
   "id": "0b53d671",
   "metadata": {},
   "source": [
    "#### 4. Predefined data processing strategy in prep.ipynb"
   ]
  },
  {
   "cell_type": "code",
   "execution_count": 6,
   "id": "294f7f63",
   "metadata": {},
   "outputs": [
    {
     "name": "stdout",
     "output_type": "stream",
     "text": [
      "\n",
      "Drop duplicate observations:\n",
      "df.shape:  (8381, 36)\n",
      "drop_dup_df.shape:  (8380, 36)\n"
     ]
    }
   ],
   "source": [
    "train_df_sample = data_prepare_utils.drop_duplicate_obs(train_df_sample)"
   ]
  },
  {
   "cell_type": "code",
   "execution_count": 7,
   "id": "e6bd091d",
   "metadata": {},
   "outputs": [],
   "source": [
    "attrs_to_drop = ['app_score', 'his_on_shelf_time', 'task_id', 'spread_app_id', 'tags', 'dev_id', 'app_second_class', 'adv_prim_id', 'device_price']\n",
    "\n",
    "\n",
    "preprocessor = bin_class_utils.build_preprocessing_pipeline(numerical_attr_list, categorical_attr_list, attrs_to_drop, target_type, target_encoding_random_state)"
   ]
  },
  {
   "cell_type": "markdown",
   "id": "994ec212",
   "metadata": {},
   "source": [
    "#### 5. Define default model"
   ]
  },
  {
   "cell_type": "code",
   "execution_count": 8,
   "id": "38e8f2ef",
   "metadata": {},
   "outputs": [],
   "source": [
    "estimator = DecisionTreeClassifier(random_state=model_random_state)"
   ]
  },
  {
   "cell_type": "markdown",
   "id": "80b77fe8",
   "metadata": {},
   "source": [
    "#### 6. Define composite model"
   ]
  },
  {
   "cell_type": "code",
   "execution_count": 9,
   "id": "478a9413",
   "metadata": {},
   "outputs": [],
   "source": [
    "composite_estimator = Pipeline(steps=[('preprocessor', preprocessor), ('estimator', estimator)])"
   ]
  },
  {
   "cell_type": "code",
   "execution_count": 10,
   "id": "ddf277b4",
   "metadata": {},
   "outputs": [],
   "source": [
    "cap_x_df, y_df = train_df_sample.drop(columns=target_attr), train_df_sample[[target_attr]]\n",
    "del train_df_sample"
   ]
  },
  {
   "cell_type": "code",
   "execution_count": 11,
   "id": "0d52203f-99c0-471c-84f0-92979d969b8d",
   "metadata": {},
   "outputs": [
    {
     "data": {
      "text/html": [
       "<style>#sk-container-id-1 {color: black;}#sk-container-id-1 pre{padding: 0;}#sk-container-id-1 div.sk-toggleable {background-color: white;}#sk-container-id-1 label.sk-toggleable__label {cursor: pointer;display: block;width: 100%;margin-bottom: 0;padding: 0.3em;box-sizing: border-box;text-align: center;}#sk-container-id-1 label.sk-toggleable__label-arrow:before {content: \"▸\";float: left;margin-right: 0.25em;color: #696969;}#sk-container-id-1 label.sk-toggleable__label-arrow:hover:before {color: black;}#sk-container-id-1 div.sk-estimator:hover label.sk-toggleable__label-arrow:before {color: black;}#sk-container-id-1 div.sk-toggleable__content {max-height: 0;max-width: 0;overflow: hidden;text-align: left;background-color: #f0f8ff;}#sk-container-id-1 div.sk-toggleable__content pre {margin: 0.2em;color: black;border-radius: 0.25em;background-color: #f0f8ff;}#sk-container-id-1 input.sk-toggleable__control:checked~div.sk-toggleable__content {max-height: 200px;max-width: 100%;overflow: auto;}#sk-container-id-1 input.sk-toggleable__control:checked~label.sk-toggleable__label-arrow:before {content: \"▾\";}#sk-container-id-1 div.sk-estimator input.sk-toggleable__control:checked~label.sk-toggleable__label {background-color: #d4ebff;}#sk-container-id-1 div.sk-label input.sk-toggleable__control:checked~label.sk-toggleable__label {background-color: #d4ebff;}#sk-container-id-1 input.sk-hidden--visually {border: 0;clip: rect(1px 1px 1px 1px);clip: rect(1px, 1px, 1px, 1px);height: 1px;margin: -1px;overflow: hidden;padding: 0;position: absolute;width: 1px;}#sk-container-id-1 div.sk-estimator {font-family: monospace;background-color: #f0f8ff;border: 1px dotted black;border-radius: 0.25em;box-sizing: border-box;margin-bottom: 0.5em;}#sk-container-id-1 div.sk-estimator:hover {background-color: #d4ebff;}#sk-container-id-1 div.sk-parallel-item::after {content: \"\";width: 100%;border-bottom: 1px solid gray;flex-grow: 1;}#sk-container-id-1 div.sk-label:hover label.sk-toggleable__label {background-color: #d4ebff;}#sk-container-id-1 div.sk-serial::before {content: \"\";position: absolute;border-left: 1px solid gray;box-sizing: border-box;top: 0;bottom: 0;left: 50%;z-index: 0;}#sk-container-id-1 div.sk-serial {display: flex;flex-direction: column;align-items: center;background-color: white;padding-right: 0.2em;padding-left: 0.2em;position: relative;}#sk-container-id-1 div.sk-item {position: relative;z-index: 1;}#sk-container-id-1 div.sk-parallel {display: flex;align-items: stretch;justify-content: center;background-color: white;position: relative;}#sk-container-id-1 div.sk-item::before, #sk-container-id-1 div.sk-parallel-item::before {content: \"\";position: absolute;border-left: 1px solid gray;box-sizing: border-box;top: 0;bottom: 0;left: 50%;z-index: -1;}#sk-container-id-1 div.sk-parallel-item {display: flex;flex-direction: column;z-index: 1;position: relative;background-color: white;}#sk-container-id-1 div.sk-parallel-item:first-child::after {align-self: flex-end;width: 50%;}#sk-container-id-1 div.sk-parallel-item:last-child::after {align-self: flex-start;width: 50%;}#sk-container-id-1 div.sk-parallel-item:only-child::after {width: 0;}#sk-container-id-1 div.sk-dashed-wrapped {border: 1px dashed gray;margin: 0 0.4em 0.5em 0.4em;box-sizing: border-box;padding-bottom: 0.4em;background-color: white;}#sk-container-id-1 div.sk-label label {font-family: monospace;font-weight: bold;display: inline-block;line-height: 1.2em;}#sk-container-id-1 div.sk-label-container {text-align: center;}#sk-container-id-1 div.sk-container {/* jupyter's `normalize.less` sets `[hidden] { display: none; }` but bootstrap.min.css set `[hidden] { display: none !important; }` so we also need the `!important` here to be able to override the default hidden behavior on the sphinx rendered scikit-learn.org. See: https://github.com/scikit-learn/scikit-learn/issues/21755 */display: inline-block !important;position: relative;}#sk-container-id-1 div.sk-text-repr-fallback {display: none;}</style><div id=\"sk-container-id-1\" class=\"sk-top-container\"><div class=\"sk-text-repr-fallback\"><pre>Pipeline(steps=[(&#x27;preprocessor&#x27;,\n",
       "                 ColumnTransformer(transformers=[(&#x27;numerical&#x27;,\n",
       "                                                  Pipeline(steps=[(&#x27;column_dropper&#x27;,\n",
       "                                                                   DropColumnsTransformer(attrs_to_drop=[&#x27;app_score&#x27;,\n",
       "                                                                                                         &#x27;his_on_shelf_time&#x27;,\n",
       "                                                                                                         &#x27;task_id&#x27;,\n",
       "                                                                                                         &#x27;spread_app_id&#x27;,\n",
       "                                                                                                         &#x27;tags&#x27;,\n",
       "                                                                                                         &#x27;dev_id&#x27;,\n",
       "                                                                                                         &#x27;app_second_class&#x27;,\n",
       "                                                                                                         &#x27;adv_prim_id&#x27;,\n",
       "                                                                                                         &#x27;device_price&#x27;])),\n",
       "                                                                  (&#x27;imputer&#x27;,\n",
       "                                                                   SimpleImputer()),\n",
       "                                                                  (&#x27;scaler&#x27;,\n",
       "                                                                   StandardScaler())]),\n",
       "                                                  []),\n",
       "                                                 (&#x27;categorical&#x27;...\n",
       "                                                   &#x27;spread_app_id&#x27;, &#x27;tags&#x27;,\n",
       "                                                   &#x27;app_first_class&#x27;,\n",
       "                                                   &#x27;app_second_class&#x27;, &#x27;age&#x27;,\n",
       "                                                   &#x27;city&#x27;, &#x27;city_rank&#x27;,\n",
       "                                                   &#x27;device_name&#x27;, &#x27;device_size&#x27;,\n",
       "                                                   &#x27;career&#x27;, &#x27;gender&#x27;,\n",
       "                                                   &#x27;net_type&#x27;, &#x27;residence&#x27;,\n",
       "                                                   &#x27;his_app_size&#x27;,\n",
       "                                                   &#x27;his_on_shelf_time&#x27;,\n",
       "                                                   &#x27;app_score&#x27;, &#x27;emui_dev&#x27;,\n",
       "                                                   &#x27;list_time&#x27;, &#x27;device_price&#x27;,\n",
       "                                                   &#x27;up_life_duration&#x27;,\n",
       "                                                   &#x27;up_membership_grade&#x27;,\n",
       "                                                   &#x27;membership_life_duration&#x27;, ...])])),\n",
       "                (&#x27;estimator&#x27;, DecisionTreeClassifier(random_state=42))])</pre><b>In a Jupyter environment, please rerun this cell to show the HTML representation or trust the notebook. <br />On GitHub, the HTML representation is unable to render, please try loading this page with nbviewer.org.</b></div><div class=\"sk-container\" hidden><div class=\"sk-item sk-dashed-wrapped\"><div class=\"sk-label-container\"><div class=\"sk-label sk-toggleable\"><input class=\"sk-toggleable__control sk-hidden--visually\" id=\"sk-estimator-id-1\" type=\"checkbox\" ><label for=\"sk-estimator-id-1\" class=\"sk-toggleable__label sk-toggleable__label-arrow\">Pipeline</label><div class=\"sk-toggleable__content\"><pre>Pipeline(steps=[(&#x27;preprocessor&#x27;,\n",
       "                 ColumnTransformer(transformers=[(&#x27;numerical&#x27;,\n",
       "                                                  Pipeline(steps=[(&#x27;column_dropper&#x27;,\n",
       "                                                                   DropColumnsTransformer(attrs_to_drop=[&#x27;app_score&#x27;,\n",
       "                                                                                                         &#x27;his_on_shelf_time&#x27;,\n",
       "                                                                                                         &#x27;task_id&#x27;,\n",
       "                                                                                                         &#x27;spread_app_id&#x27;,\n",
       "                                                                                                         &#x27;tags&#x27;,\n",
       "                                                                                                         &#x27;dev_id&#x27;,\n",
       "                                                                                                         &#x27;app_second_class&#x27;,\n",
       "                                                                                                         &#x27;adv_prim_id&#x27;,\n",
       "                                                                                                         &#x27;device_price&#x27;])),\n",
       "                                                                  (&#x27;imputer&#x27;,\n",
       "                                                                   SimpleImputer()),\n",
       "                                                                  (&#x27;scaler&#x27;,\n",
       "                                                                   StandardScaler())]),\n",
       "                                                  []),\n",
       "                                                 (&#x27;categorical&#x27;...\n",
       "                                                   &#x27;spread_app_id&#x27;, &#x27;tags&#x27;,\n",
       "                                                   &#x27;app_first_class&#x27;,\n",
       "                                                   &#x27;app_second_class&#x27;, &#x27;age&#x27;,\n",
       "                                                   &#x27;city&#x27;, &#x27;city_rank&#x27;,\n",
       "                                                   &#x27;device_name&#x27;, &#x27;device_size&#x27;,\n",
       "                                                   &#x27;career&#x27;, &#x27;gender&#x27;,\n",
       "                                                   &#x27;net_type&#x27;, &#x27;residence&#x27;,\n",
       "                                                   &#x27;his_app_size&#x27;,\n",
       "                                                   &#x27;his_on_shelf_time&#x27;,\n",
       "                                                   &#x27;app_score&#x27;, &#x27;emui_dev&#x27;,\n",
       "                                                   &#x27;list_time&#x27;, &#x27;device_price&#x27;,\n",
       "                                                   &#x27;up_life_duration&#x27;,\n",
       "                                                   &#x27;up_membership_grade&#x27;,\n",
       "                                                   &#x27;membership_life_duration&#x27;, ...])])),\n",
       "                (&#x27;estimator&#x27;, DecisionTreeClassifier(random_state=42))])</pre></div></div></div><div class=\"sk-serial\"><div class=\"sk-item sk-dashed-wrapped\"><div class=\"sk-label-container\"><div class=\"sk-label sk-toggleable\"><input class=\"sk-toggleable__control sk-hidden--visually\" id=\"sk-estimator-id-2\" type=\"checkbox\" ><label for=\"sk-estimator-id-2\" class=\"sk-toggleable__label sk-toggleable__label-arrow\">preprocessor: ColumnTransformer</label><div class=\"sk-toggleable__content\"><pre>ColumnTransformer(transformers=[(&#x27;numerical&#x27;,\n",
       "                                 Pipeline(steps=[(&#x27;column_dropper&#x27;,\n",
       "                                                  DropColumnsTransformer(attrs_to_drop=[&#x27;app_score&#x27;,\n",
       "                                                                                        &#x27;his_on_shelf_time&#x27;,\n",
       "                                                                                        &#x27;task_id&#x27;,\n",
       "                                                                                        &#x27;spread_app_id&#x27;,\n",
       "                                                                                        &#x27;tags&#x27;,\n",
       "                                                                                        &#x27;dev_id&#x27;,\n",
       "                                                                                        &#x27;app_second_class&#x27;,\n",
       "                                                                                        &#x27;adv_prim_id&#x27;,\n",
       "                                                                                        &#x27;device_price&#x27;])),\n",
       "                                                 (&#x27;imputer&#x27;, SimpleImputer()),\n",
       "                                                 (&#x27;scaler&#x27;, StandardScaler())]),\n",
       "                                 []),\n",
       "                                (&#x27;categorical&#x27;,\n",
       "                                 Pipeline(steps=[(&#x27;column_droppe...\n",
       "                                  &#x27;adv_prim_id&#x27;, &#x27;dev_id&#x27;, &#x27;inter_type_cd&#x27;,\n",
       "                                  &#x27;slot_id&#x27;, &#x27;spread_app_id&#x27;, &#x27;tags&#x27;,\n",
       "                                  &#x27;app_first_class&#x27;, &#x27;app_second_class&#x27;, &#x27;age&#x27;,\n",
       "                                  &#x27;city&#x27;, &#x27;city_rank&#x27;, &#x27;device_name&#x27;,\n",
       "                                  &#x27;device_size&#x27;, &#x27;career&#x27;, &#x27;gender&#x27;, &#x27;net_type&#x27;,\n",
       "                                  &#x27;residence&#x27;, &#x27;his_app_size&#x27;,\n",
       "                                  &#x27;his_on_shelf_time&#x27;, &#x27;app_score&#x27;, &#x27;emui_dev&#x27;,\n",
       "                                  &#x27;list_time&#x27;, &#x27;device_price&#x27;,\n",
       "                                  &#x27;up_life_duration&#x27;, &#x27;up_membership_grade&#x27;,\n",
       "                                  &#x27;membership_life_duration&#x27;, ...])])</pre></div></div></div><div class=\"sk-parallel\"><div class=\"sk-parallel-item\"><div class=\"sk-item\"><div class=\"sk-label-container\"><div class=\"sk-label sk-toggleable\"><input class=\"sk-toggleable__control sk-hidden--visually\" id=\"sk-estimator-id-3\" type=\"checkbox\" ><label for=\"sk-estimator-id-3\" class=\"sk-toggleable__label sk-toggleable__label-arrow\">numerical</label><div class=\"sk-toggleable__content\"><pre>[]</pre></div></div></div><div class=\"sk-serial\"><div class=\"sk-item\"><div class=\"sk-serial\"><div class=\"sk-item\"><div class=\"sk-estimator sk-toggleable\"><input class=\"sk-toggleable__control sk-hidden--visually\" id=\"sk-estimator-id-4\" type=\"checkbox\" ><label for=\"sk-estimator-id-4\" class=\"sk-toggleable__label sk-toggleable__label-arrow\">DropColumnsTransformer</label><div class=\"sk-toggleable__content\"><pre>DropColumnsTransformer(attrs_to_drop=[&#x27;app_score&#x27;, &#x27;his_on_shelf_time&#x27;,\n",
       "                                      &#x27;task_id&#x27;, &#x27;spread_app_id&#x27;, &#x27;tags&#x27;,\n",
       "                                      &#x27;dev_id&#x27;, &#x27;app_second_class&#x27;,\n",
       "                                      &#x27;adv_prim_id&#x27;, &#x27;device_price&#x27;])</pre></div></div></div><div class=\"sk-item\"><div class=\"sk-estimator sk-toggleable\"><input class=\"sk-toggleable__control sk-hidden--visually\" id=\"sk-estimator-id-5\" type=\"checkbox\" ><label for=\"sk-estimator-id-5\" class=\"sk-toggleable__label sk-toggleable__label-arrow\">SimpleImputer</label><div class=\"sk-toggleable__content\"><pre>SimpleImputer()</pre></div></div></div><div class=\"sk-item\"><div class=\"sk-estimator sk-toggleable\"><input class=\"sk-toggleable__control sk-hidden--visually\" id=\"sk-estimator-id-6\" type=\"checkbox\" ><label for=\"sk-estimator-id-6\" class=\"sk-toggleable__label sk-toggleable__label-arrow\">StandardScaler</label><div class=\"sk-toggleable__content\"><pre>StandardScaler()</pre></div></div></div></div></div></div></div></div><div class=\"sk-parallel-item\"><div class=\"sk-item\"><div class=\"sk-label-container\"><div class=\"sk-label sk-toggleable\"><input class=\"sk-toggleable__control sk-hidden--visually\" id=\"sk-estimator-id-7\" type=\"checkbox\" ><label for=\"sk-estimator-id-7\" class=\"sk-toggleable__label sk-toggleable__label-arrow\">categorical</label><div class=\"sk-toggleable__content\"><pre>[&#x27;uid&#x27;, &#x27;task_id&#x27;, &#x27;adv_id&#x27;, &#x27;creat_type_cd&#x27;, &#x27;adv_prim_id&#x27;, &#x27;dev_id&#x27;, &#x27;inter_type_cd&#x27;, &#x27;slot_id&#x27;, &#x27;spread_app_id&#x27;, &#x27;tags&#x27;, &#x27;app_first_class&#x27;, &#x27;app_second_class&#x27;, &#x27;age&#x27;, &#x27;city&#x27;, &#x27;city_rank&#x27;, &#x27;device_name&#x27;, &#x27;device_size&#x27;, &#x27;career&#x27;, &#x27;gender&#x27;, &#x27;net_type&#x27;, &#x27;residence&#x27;, &#x27;his_app_size&#x27;, &#x27;his_on_shelf_time&#x27;, &#x27;app_score&#x27;, &#x27;emui_dev&#x27;, &#x27;list_time&#x27;, &#x27;device_price&#x27;, &#x27;up_life_duration&#x27;, &#x27;up_membership_grade&#x27;, &#x27;membership_life_duration&#x27;, &#x27;consume_purchase&#x27;, &#x27;communication_onlinerate&#x27;, &#x27;communication_avgonline_30d&#x27;, &#x27;indu_name&#x27;, &#x27;pt_d&#x27;]</pre></div></div></div><div class=\"sk-serial\"><div class=\"sk-item\"><div class=\"sk-serial\"><div class=\"sk-item\"><div class=\"sk-estimator sk-toggleable\"><input class=\"sk-toggleable__control sk-hidden--visually\" id=\"sk-estimator-id-8\" type=\"checkbox\" ><label for=\"sk-estimator-id-8\" class=\"sk-toggleable__label sk-toggleable__label-arrow\">DropColumnsTransformer</label><div class=\"sk-toggleable__content\"><pre>DropColumnsTransformer(attrs_to_drop=[&#x27;app_score&#x27;, &#x27;his_on_shelf_time&#x27;,\n",
       "                                      &#x27;task_id&#x27;, &#x27;spread_app_id&#x27;, &#x27;tags&#x27;,\n",
       "                                      &#x27;dev_id&#x27;, &#x27;app_second_class&#x27;,\n",
       "                                      &#x27;adv_prim_id&#x27;, &#x27;device_price&#x27;])</pre></div></div></div><div class=\"sk-item\"><div class=\"sk-estimator sk-toggleable\"><input class=\"sk-toggleable__control sk-hidden--visually\" id=\"sk-estimator-id-9\" type=\"checkbox\" ><label for=\"sk-estimator-id-9\" class=\"sk-toggleable__label sk-toggleable__label-arrow\">SimpleImputer</label><div class=\"sk-toggleable__content\"><pre>SimpleImputer(strategy=&#x27;most_frequent&#x27;)</pre></div></div></div><div class=\"sk-item\"><div class=\"sk-estimator sk-toggleable\"><input class=\"sk-toggleable__control sk-hidden--visually\" id=\"sk-estimator-id-10\" type=\"checkbox\" ><label for=\"sk-estimator-id-10\" class=\"sk-toggleable__label sk-toggleable__label-arrow\">TargetEncoder</label><div class=\"sk-toggleable__content\"><pre>TargetEncoder(random_state=42, target_type=&#x27;binary&#x27;)</pre></div></div></div><div class=\"sk-item\"><div class=\"sk-estimator sk-toggleable\"><input class=\"sk-toggleable__control sk-hidden--visually\" id=\"sk-estimator-id-11\" type=\"checkbox\" ><label for=\"sk-estimator-id-11\" class=\"sk-toggleable__label sk-toggleable__label-arrow\">StandardScaler</label><div class=\"sk-toggleable__content\"><pre>StandardScaler()</pre></div></div></div></div></div></div></div></div></div></div><div class=\"sk-item\"><div class=\"sk-estimator sk-toggleable\"><input class=\"sk-toggleable__control sk-hidden--visually\" id=\"sk-estimator-id-12\" type=\"checkbox\" ><label for=\"sk-estimator-id-12\" class=\"sk-toggleable__label sk-toggleable__label-arrow\">DecisionTreeClassifier</label><div class=\"sk-toggleable__content\"><pre>DecisionTreeClassifier(random_state=42)</pre></div></div></div></div></div></div></div>"
      ],
      "text/plain": [
       "Pipeline(steps=[('preprocessor',\n",
       "                 ColumnTransformer(transformers=[('numerical',\n",
       "                                                  Pipeline(steps=[('column_dropper',\n",
       "                                                                   DropColumnsTransformer(attrs_to_drop=['app_score',\n",
       "                                                                                                         'his_on_shelf_time',\n",
       "                                                                                                         'task_id',\n",
       "                                                                                                         'spread_app_id',\n",
       "                                                                                                         'tags',\n",
       "                                                                                                         'dev_id',\n",
       "                                                                                                         'app_second_class',\n",
       "                                                                                                         'adv_prim_id',\n",
       "                                                                                                         'device_price'])),\n",
       "                                                                  ('imputer',\n",
       "                                                                   SimpleImputer()),\n",
       "                                                                  ('scaler',\n",
       "                                                                   StandardScaler())]),\n",
       "                                                  []),\n",
       "                                                 ('categorical'...\n",
       "                                                   'spread_app_id', 'tags',\n",
       "                                                   'app_first_class',\n",
       "                                                   'app_second_class', 'age',\n",
       "                                                   'city', 'city_rank',\n",
       "                                                   'device_name', 'device_size',\n",
       "                                                   'career', 'gender',\n",
       "                                                   'net_type', 'residence',\n",
       "                                                   'his_app_size',\n",
       "                                                   'his_on_shelf_time',\n",
       "                                                   'app_score', 'emui_dev',\n",
       "                                                   'list_time', 'device_price',\n",
       "                                                   'up_life_duration',\n",
       "                                                   'up_membership_grade',\n",
       "                                                   'membership_life_duration', ...])])),\n",
       "                ('estimator', DecisionTreeClassifier(random_state=42))])"
      ]
     },
     "execution_count": 11,
     "metadata": {},
     "output_type": "execute_result"
    }
   ],
   "source": [
    "composite_estimator.fit(\n",
    "    cap_x_df,\n",
    "    y_df.values.ravel()\n",
    ")"
   ]
  },
  {
   "cell_type": "markdown",
   "id": "0c755f72",
   "metadata": {},
   "source": [
    "#### 7. Performance using N-fold cross validation"
   ]
  },
  {
   "cell_type": "code",
   "execution_count": 12,
   "id": "e1096619",
   "metadata": {},
   "outputs": [
    {
     "name": "stdout",
     "output_type": "stream",
     "text": [
      "Cross Validation Scores: [0.94212411 0.93615752 0.93317422 0.93675418 0.93735084]\n",
      "mean: 0.9371121718377088\n",
      "standard deviation: 0.0032296822440869956\n"
     ]
    }
   ],
   "source": [
    "model_performance_utils.check_out_cross_val_score(composite_estimator, cap_x_df, y_df)"
   ]
  },
  {
   "cell_type": "markdown",
   "id": "6c19fff3",
   "metadata": {},
   "source": [
    "#### 8. Check the most significant attributes"
   ]
  },
  {
   "cell_type": "code",
   "execution_count": 13,
   "id": "fc9b6da7-6377-4f79-aa72-db8b1a13da44",
   "metadata": {},
   "outputs": [
    {
     "name": "stdout",
     "output_type": "stream",
     "text": [
      "\n",
      "Permutation importance:\n",
      "\n",
      "metric: sqrt_neg_mean_squared_error\n",
      "    slot_id  0.097 +/- 0.044\n",
      "    inter_type_cd 0.088 +/- 0.032\n",
      "    his_app_size 0.087 +/- 0.033\n",
      "    indu_name 0.077 +/- 0.028\n",
      "    list_time 0.063 +/- 0.025\n",
      "    age      0.060 +/- 0.031\n",
      "    residence 0.059 +/- 0.035\n",
      "    city     0.058 +/- 0.024\n",
      "    device_size 0.055 +/- 0.025\n",
      "    app_first_class 0.051 +/- 0.020\n",
      "    up_life_duration 0.049 +/- 0.024\n",
      "    emui_dev 0.044 +/- 0.025\n",
      "    adv_id   0.044 +/- 0.030\n",
      "    creat_type_cd 0.036 +/- 0.022\n",
      "    consume_purchase 0.034 +/- 0.019\n",
      "    career   0.031 +/- 0.020\n"
     ]
    }
   ],
   "source": [
    "model_performance_utils.check_out_permutation_importance(\n",
    "    composite_estimator, \n",
    "    cap_x_df, \n",
    "    y_df, \n",
    "    permutation_importance_random_state\n",
    ")"
   ]
  },
  {
   "cell_type": "markdown",
   "id": "23d68459",
   "metadata": {},
   "source": [
    "#### 9. Analyze error types\n",
    "Based on the confusion matrix, 7956 (7906 + 50) predictions are correct and 424 (239 + 185) predictions are incorrect."
   ]
  },
  {
   "cell_type": "code",
   "execution_count": 14,
   "id": "eab6764e",
   "metadata": {},
   "outputs": [
    {
     "name": "stdout",
     "output_type": "stream",
     "text": [
      "Check accuracy score\n",
      "train sample set accuracy score: 0.9494033412887828\n",
      "\n",
      "Check confusion matrix\n",
      "train sample set confusion matrix: \n",
      "[[7906  185]\n",
      " [ 239   50]]\n",
      "True Positives =  7906\n",
      "True Negatives =  50\n",
      "False Positives(Type I error) =  185\n",
      "False Negatives(Type II error) =  239\n",
      "\n",
      "Check classification report\n",
      "              precision    recall  f1-score   support\n",
      "\n",
      "           0       0.97      0.98      0.97      8091\n",
      "           1       0.21      0.17      0.19       289\n",
      "\n",
      "    accuracy                           0.95      8380\n",
      "   macro avg       0.59      0.58      0.58      8380\n",
      "weighted avg       0.94      0.95      0.95      8380\n",
      "\n",
      "\n",
      "Check the ROC Curve and AUC\n",
      "The area under the curve (AUC):  0.5750727344963155\n"
     ]
    },
    {
     "data": {
      "image/png": "[encoded data removed]",
      "text/plain": [
       "<Figure size 640x480 with 1 Axes>"
      ]
     },
     "metadata": {},
     "output_type": "display_data"
    }
   ],
   "source": [
    "bin_class_utils.eval_class(cap_x_df, y_df, composite_estimator, 'train sample')"
   ]
  },
  {
   "cell_type": "markdown",
   "id": "1ecdfa7e",
   "metadata": {},
   "source": [
    "#### 10. Feature selection and engineering"
   ]
  },
  {
   "cell_type": "code",
   "execution_count": 15,
   "id": "91869a26",
   "metadata": {},
   "outputs": [],
   "source": [
    "#exp_attrs_to_drop = [] + attrs_to_drop"
   ]
  },
  {
   "cell_type": "markdown",
   "id": "d1e081c7",
   "metadata": {},
   "source": [
    "#### 11. Fit and evaluate again"
   ]
  },
  {
   "cell_type": "code",
   "execution_count": 16,
   "id": "d7b28712",
   "metadata": {},
   "outputs": [],
   "source": [
    "#exp_preprocessor = bin_class_utils.build_preprocessing_pipeline(numerical_attr_list, categorical_attr_list, exp_attrs_to_drop, target_type, target_encoding_random_state)\n",
    "#exp_composite_estimator = Pipeline(steps=[('preprocessor', exp_preprocessor), ('estimator', estimator)])\n",
    "#exp_composite_estimator.fit(\n",
    "#    cap_x_df,\n",
    "#    y_df.values.ravel()\n",
    "#)"
   ]
  },
  {
   "cell_type": "code",
   "execution_count": 17,
   "id": "ec6cd7fd",
   "metadata": {},
   "outputs": [],
   "source": [
    "#model_performance_utils.check_out_cross_val_score(exp_composite_estimator, cap_x_df, y_df)"
   ]
  },
  {
   "cell_type": "code",
   "execution_count": 18,
   "id": "02c2f4a5",
   "metadata": {},
   "outputs": [],
   "source": [
    "#bin_class_utils.eval_class(cap_x_df, y_df, exp_composite_estimator, 'train sample')"
   ]
  },
  {
   "cell_type": "markdown",
   "id": "613f3dff",
   "metadata": {},
   "source": [
    "#### 12. Check the most promising models"
   ]
  },
  {
   "cell_type": "markdown",
   "id": "47f6042b",
   "metadata": {},
   "source": [
    "#### Other steps"
   ]
  },
  {
   "cell_type": "code",
   "execution_count": 19,
   "id": "63c07fa2",
   "metadata": {},
   "outputs": [
    {
     "data": {
      "text/html": [
       "<div>\n",
       "<style scoped>\n",
       "    .dataframe tbody tr th:only-of-type {\n",
       "        vertical-align: middle;\n",
       "    }\n",
       "\n",
       "    .dataframe tbody tr th {\n",
       "        vertical-align: top;\n",
       "    }\n",
       "\n",
       "    .dataframe thead th {\n",
       "        text-align: right;\n",
       "    }\n",
       "</style>\n",
       "<table border=\"1\" class=\"dataframe\">\n",
       "  <thead>\n",
       "    <tr style=\"text-align: right;\">\n",
       "      <th></th>\n",
       "      <th>Feature</th>\n",
       "      <th>Importance</th>\n",
       "    </tr>\n",
       "  </thead>\n",
       "  <tbody>\n",
       "    <tr>\n",
       "      <th>14</th>\n",
       "      <td>residence</td>\n",
       "      <td>0.088076</td>\n",
       "    </tr>\n",
       "    <tr>\n",
       "      <th>17</th>\n",
       "      <td>list_time</td>\n",
       "      <td>0.073258</td>\n",
       "    </tr>\n",
       "    <tr>\n",
       "      <th>1</th>\n",
       "      <td>adv_id</td>\n",
       "      <td>0.072740</td>\n",
       "    </tr>\n",
       "    <tr>\n",
       "      <th>4</th>\n",
       "      <td>slot_id</td>\n",
       "      <td>0.061376</td>\n",
       "    </tr>\n",
       "    <tr>\n",
       "      <th>9</th>\n",
       "      <td>device_name</td>\n",
       "      <td>0.060715</td>\n",
       "    </tr>\n",
       "    <tr>\n",
       "      <th>22</th>\n",
       "      <td>communication_onlinerate</td>\n",
       "      <td>0.056640</td>\n",
       "    </tr>\n",
       "    <tr>\n",
       "      <th>25</th>\n",
       "      <td>pt_d</td>\n",
       "      <td>0.055798</td>\n",
       "    </tr>\n",
       "    <tr>\n",
       "      <th>6</th>\n",
       "      <td>age</td>\n",
       "      <td>0.052094</td>\n",
       "    </tr>\n",
       "    <tr>\n",
       "      <th>8</th>\n",
       "      <td>city_rank</td>\n",
       "      <td>0.047862</td>\n",
       "    </tr>\n",
       "    <tr>\n",
       "      <th>7</th>\n",
       "      <td>city</td>\n",
       "      <td>0.047466</td>\n",
       "    </tr>\n",
       "    <tr>\n",
       "      <th>15</th>\n",
       "      <td>his_app_size</td>\n",
       "      <td>0.047200</td>\n",
       "    </tr>\n",
       "    <tr>\n",
       "      <th>16</th>\n",
       "      <td>emui_dev</td>\n",
       "      <td>0.044447</td>\n",
       "    </tr>\n",
       "    <tr>\n",
       "      <th>18</th>\n",
       "      <td>up_life_duration</td>\n",
       "      <td>0.043567</td>\n",
       "    </tr>\n",
       "    <tr>\n",
       "      <th>11</th>\n",
       "      <td>career</td>\n",
       "      <td>0.042562</td>\n",
       "    </tr>\n",
       "    <tr>\n",
       "      <th>23</th>\n",
       "      <td>communication_avgonline_30d</td>\n",
       "      <td>0.038167</td>\n",
       "    </tr>\n",
       "    <tr>\n",
       "      <th>10</th>\n",
       "      <td>device_size</td>\n",
       "      <td>0.029442</td>\n",
       "    </tr>\n",
       "    <tr>\n",
       "      <th>24</th>\n",
       "      <td>indu_name</td>\n",
       "      <td>0.024159</td>\n",
       "    </tr>\n",
       "    <tr>\n",
       "      <th>21</th>\n",
       "      <td>consume_purchase</td>\n",
       "      <td>0.022347</td>\n",
       "    </tr>\n",
       "    <tr>\n",
       "      <th>3</th>\n",
       "      <td>inter_type_cd</td>\n",
       "      <td>0.022143</td>\n",
       "    </tr>\n",
       "    <tr>\n",
       "      <th>2</th>\n",
       "      <td>creat_type_cd</td>\n",
       "      <td>0.017084</td>\n",
       "    </tr>\n",
       "    <tr>\n",
       "      <th>12</th>\n",
       "      <td>gender</td>\n",
       "      <td>0.015780</td>\n",
       "    </tr>\n",
       "    <tr>\n",
       "      <th>13</th>\n",
       "      <td>net_type</td>\n",
       "      <td>0.012551</td>\n",
       "    </tr>\n",
       "    <tr>\n",
       "      <th>19</th>\n",
       "      <td>up_membership_grade</td>\n",
       "      <td>0.012360</td>\n",
       "    </tr>\n",
       "    <tr>\n",
       "      <th>0</th>\n",
       "      <td>uid</td>\n",
       "      <td>0.010602</td>\n",
       "    </tr>\n",
       "    <tr>\n",
       "      <th>5</th>\n",
       "      <td>app_first_class</td>\n",
       "      <td>0.001565</td>\n",
       "    </tr>\n",
       "    <tr>\n",
       "      <th>20</th>\n",
       "      <td>membership_life_duration</td>\n",
       "      <td>0.000000</td>\n",
       "    </tr>\n",
       "  </tbody>\n",
       "</table>\n",
       "</div>"
      ],
      "text/plain": [
       "                        Feature  Importance\n",
       "14                    residence    0.088076\n",
       "17                    list_time    0.073258\n",
       "1                        adv_id    0.072740\n",
       "4                       slot_id    0.061376\n",
       "9                   device_name    0.060715\n",
       "22     communication_onlinerate    0.056640\n",
       "25                         pt_d    0.055798\n",
       "6                           age    0.052094\n",
       "8                     city_rank    0.047862\n",
       "7                          city    0.047466\n",
       "15                 his_app_size    0.047200\n",
       "16                     emui_dev    0.044447\n",
       "18             up_life_duration    0.043567\n",
       "11                       career    0.042562\n",
       "23  communication_avgonline_30d    0.038167\n",
       "10                  device_size    0.029442\n",
       "24                    indu_name    0.024159\n",
       "21             consume_purchase    0.022347\n",
       "3                 inter_type_cd    0.022143\n",
       "2                 creat_type_cd    0.017084\n",
       "12                       gender    0.015780\n",
       "13                     net_type    0.012551\n",
       "19          up_membership_grade    0.012360\n",
       "0                           uid    0.010602\n",
       "5               app_first_class    0.001565\n",
       "20     membership_life_duration    0.000000"
      ]
     },
     "execution_count": 19,
     "metadata": {},
     "output_type": "execute_result"
    }
   ],
   "source": [
    "# feature importance\n",
    "new_categorical_attr_list = [attr for attr in categorical_attr_list if attr not in attrs_to_drop]\n",
    "feature_importance_df = bin_class_utils.get_feature_importance_df(composite_estimator, new_categorical_attr_list, estimator_name)\n",
    "feature_importance_df"
   ]
  },
  {
   "cell_type": "code",
   "execution_count": 20,
   "id": "2dec9dd4",
   "metadata": {},
   "outputs": [],
   "source": [
    "from sklearn.inspection import permutation_importance\n",
    "def compute_permutation_importance_logreg(model, cap_x_df, y_df, random_state=42, n_repeats=10):\n",
    "\n",
    "    original_score = model.score(cap_x_df, y_df)\n",
    "\n",
    "    perm_importance = permutation_importance(model, cap_x_df, y_df, n_repeats=n_repeats, random_state=random_state)\n",
    "    perm_importance_scores = perm_importance.importances_mean\n",
    "    perm_importance_df = pd.DataFrame({'Feature': cap_x_df.columns, 'Permutation_Importance': perm_importance_scores})\n",
    "    perm_importance_df = perm_importance_df.sort_values(by='Permutation_Importance', ascending=False).reset_index(drop=True)\n",
    "\n",
    "    return perm_importance_df"
   ]
  },
  {
   "cell_type": "code",
   "execution_count": 21,
   "id": "a685ea77",
   "metadata": {},
   "outputs": [],
   "source": [
    "result_df = compute_permutation_importance_logreg(composite_estimator, cap_x_df, y_df, random_state=42, n_repeats=10)"
   ]
  },
  {
   "cell_type": "code",
   "execution_count": 22,
   "id": "c77f45d8",
   "metadata": {},
   "outputs": [],
   "source": [
    "combined_df = pd.merge(result_df, feature_importance_df, how='outer', on='Feature')"
   ]
  },
  {
   "cell_type": "code",
   "execution_count": 23,
   "id": "f0952dbd",
   "metadata": {},
   "outputs": [
    {
     "data": {
      "text/plain": [
       "23                   app_score\n",
       "24           his_on_shelf_time\n",
       "25                device_price\n",
       "26                     task_id\n",
       "27            app_second_class\n",
       "28    membership_life_duration\n",
       "29                        tags\n",
       "30               spread_app_id\n",
       "31                      dev_id\n",
       "32                 adv_prim_id\n",
       "33                      gender\n",
       "34                        pt_d\n",
       "Name: Feature, dtype: object"
      ]
     },
     "execution_count": 23,
     "metadata": {},
     "output_type": "execute_result"
    }
   ],
   "source": [
    "t_attrs_to_drop = combined_df[combined_df['Permutation_Importance'] <= 0]['Feature']\n",
    "t_attrs_to_drop"
   ]
  },
  {
   "cell_type": "code",
   "execution_count": 24,
   "id": "3acfb3ed",
   "metadata": {},
   "outputs": [
    {
     "data": {
      "text/plain": [
       "['app_score',\n",
       " 'his_on_shelf_time',\n",
       " 'task_id',\n",
       " 'spread_app_id',\n",
       " 'tags',\n",
       " 'dev_id',\n",
       " 'app_second_class',\n",
       " 'adv_prim_id',\n",
       " 'device_price']"
      ]
     },
     "execution_count": 24,
     "metadata": {},
     "output_type": "execute_result"
    }
   ],
   "source": [
    "attrs_to_drop"
   ]
  },
  {
   "cell_type": "code",
   "execution_count": 25,
   "id": "ec8582eb",
   "metadata": {},
   "outputs": [
    {
     "data": {
      "text/html": [
       "<style>#sk-container-id-2 {color: black;}#sk-container-id-2 pre{padding: 0;}#sk-container-id-2 div.sk-toggleable {background-color: white;}#sk-container-id-2 label.sk-toggleable__label {cursor: pointer;display: block;width: 100%;margin-bottom: 0;padding: 0.3em;box-sizing: border-box;text-align: center;}#sk-container-id-2 label.sk-toggleable__label-arrow:before {content: \"▸\";float: left;margin-right: 0.25em;color: #696969;}#sk-container-id-2 label.sk-toggleable__label-arrow:hover:before {color: black;}#sk-container-id-2 div.sk-estimator:hover label.sk-toggleable__label-arrow:before {color: black;}#sk-container-id-2 div.sk-toggleable__content {max-height: 0;max-width: 0;overflow: hidden;text-align: left;background-color: #f0f8ff;}#sk-container-id-2 div.sk-toggleable__content pre {margin: 0.2em;color: black;border-radius: 0.25em;background-color: #f0f8ff;}#sk-container-id-2 input.sk-toggleable__control:checked~div.sk-toggleable__content {max-height: 200px;max-width: 100%;overflow: auto;}#sk-container-id-2 input.sk-toggleable__control:checked~label.sk-toggleable__label-arrow:before {content: \"▾\";}#sk-container-id-2 div.sk-estimator input.sk-toggleable__control:checked~label.sk-toggleable__label {background-color: #d4ebff;}#sk-container-id-2 div.sk-label input.sk-toggleable__control:checked~label.sk-toggleable__label {background-color: #d4ebff;}#sk-container-id-2 input.sk-hidden--visually {border: 0;clip: rect(1px 1px 1px 1px);clip: rect(1px, 1px, 1px, 1px);height: 1px;margin: -1px;overflow: hidden;padding: 0;position: absolute;width: 1px;}#sk-container-id-2 div.sk-estimator {font-family: monospace;background-color: #f0f8ff;border: 1px dotted black;border-radius: 0.25em;box-sizing: border-box;margin-bottom: 0.5em;}#sk-container-id-2 div.sk-estimator:hover {background-color: #d4ebff;}#sk-container-id-2 div.sk-parallel-item::after {content: \"\";width: 100%;border-bottom: 1px solid gray;flex-grow: 1;}#sk-container-id-2 div.sk-label:hover label.sk-toggleable__label {background-color: #d4ebff;}#sk-container-id-2 div.sk-serial::before {content: \"\";position: absolute;border-left: 1px solid gray;box-sizing: border-box;top: 0;bottom: 0;left: 50%;z-index: 0;}#sk-container-id-2 div.sk-serial {display: flex;flex-direction: column;align-items: center;background-color: white;padding-right: 0.2em;padding-left: 0.2em;position: relative;}#sk-container-id-2 div.sk-item {position: relative;z-index: 1;}#sk-container-id-2 div.sk-parallel {display: flex;align-items: stretch;justify-content: center;background-color: white;position: relative;}#sk-container-id-2 div.sk-item::before, #sk-container-id-2 div.sk-parallel-item::before {content: \"\";position: absolute;border-left: 1px solid gray;box-sizing: border-box;top: 0;bottom: 0;left: 50%;z-index: -1;}#sk-container-id-2 div.sk-parallel-item {display: flex;flex-direction: column;z-index: 1;position: relative;background-color: white;}#sk-container-id-2 div.sk-parallel-item:first-child::after {align-self: flex-end;width: 50%;}#sk-container-id-2 div.sk-parallel-item:last-child::after {align-self: flex-start;width: 50%;}#sk-container-id-2 div.sk-parallel-item:only-child::after {width: 0;}#sk-container-id-2 div.sk-dashed-wrapped {border: 1px dashed gray;margin: 0 0.4em 0.5em 0.4em;box-sizing: border-box;padding-bottom: 0.4em;background-color: white;}#sk-container-id-2 div.sk-label label {font-family: monospace;font-weight: bold;display: inline-block;line-height: 1.2em;}#sk-container-id-2 div.sk-label-container {text-align: center;}#sk-container-id-2 div.sk-container {/* jupyter's `normalize.less` sets `[hidden] { display: none; }` but bootstrap.min.css set `[hidden] { display: none !important; }` so we also need the `!important` here to be able to override the default hidden behavior on the sphinx rendered scikit-learn.org. See: https://github.com/scikit-learn/scikit-learn/issues/21755 */display: inline-block !important;position: relative;}#sk-container-id-2 div.sk-text-repr-fallback {display: none;}</style><div id=\"sk-container-id-2\" class=\"sk-top-container\"><div class=\"sk-text-repr-fallback\"><pre>Pipeline(steps=[(&#x27;preprocessor&#x27;,\n",
       "                 ColumnTransformer(transformers=[(&#x27;numerical&#x27;,\n",
       "                                                  Pipeline(steps=[(&#x27;column_dropper&#x27;,\n",
       "                                                                   DropColumnsTransformer(attrs_to_drop=23                   app_score\n",
       "24           his_on_shelf_time\n",
       "25                device_price\n",
       "26                     task_id\n",
       "27            app_second_class\n",
       "28    membership_life_duration\n",
       "29                        tags\n",
       "30               spread_app_id\n",
       "31                      dev_id\n",
       "32                 adv_prim_id\n",
       "33                      gender\n",
       "34                        pt_d\n",
       "Name: Feature, dtype: object)),\n",
       "                                                                  (&#x27;imputer&#x27;,\n",
       "                                                                   SimpleImpu...\n",
       "                                                   &#x27;spread_app_id&#x27;, &#x27;tags&#x27;,\n",
       "                                                   &#x27;app_first_class&#x27;,\n",
       "                                                   &#x27;app_second_class&#x27;, &#x27;age&#x27;,\n",
       "                                                   &#x27;city&#x27;, &#x27;city_rank&#x27;,\n",
       "                                                   &#x27;device_name&#x27;, &#x27;device_size&#x27;,\n",
       "                                                   &#x27;career&#x27;, &#x27;gender&#x27;,\n",
       "                                                   &#x27;net_type&#x27;, &#x27;residence&#x27;,\n",
       "                                                   &#x27;his_app_size&#x27;,\n",
       "                                                   &#x27;his_on_shelf_time&#x27;,\n",
       "                                                   &#x27;app_score&#x27;, &#x27;emui_dev&#x27;,\n",
       "                                                   &#x27;list_time&#x27;, &#x27;device_price&#x27;,\n",
       "                                                   &#x27;up_life_duration&#x27;,\n",
       "                                                   &#x27;up_membership_grade&#x27;,\n",
       "                                                   &#x27;membership_life_duration&#x27;, ...])])),\n",
       "                (&#x27;estimator&#x27;, DecisionTreeClassifier(random_state=42))])</pre><b>In a Jupyter environment, please rerun this cell to show the HTML representation or trust the notebook. <br />On GitHub, the HTML representation is unable to render, please try loading this page with nbviewer.org.</b></div><div class=\"sk-container\" hidden><div class=\"sk-item sk-dashed-wrapped\"><div class=\"sk-label-container\"><div class=\"sk-label sk-toggleable\"><input class=\"sk-toggleable__control sk-hidden--visually\" id=\"sk-estimator-id-13\" type=\"checkbox\" ><label for=\"sk-estimator-id-13\" class=\"sk-toggleable__label sk-toggleable__label-arrow\">Pipeline</label><div class=\"sk-toggleable__content\"><pre>Pipeline(steps=[(&#x27;preprocessor&#x27;,\n",
       "                 ColumnTransformer(transformers=[(&#x27;numerical&#x27;,\n",
       "                                                  Pipeline(steps=[(&#x27;column_dropper&#x27;,\n",
       "                                                                   DropColumnsTransformer(attrs_to_drop=23                   app_score\n",
       "24           his_on_shelf_time\n",
       "25                device_price\n",
       "26                     task_id\n",
       "27            app_second_class\n",
       "28    membership_life_duration\n",
       "29                        tags\n",
       "30               spread_app_id\n",
       "31                      dev_id\n",
       "32                 adv_prim_id\n",
       "33                      gender\n",
       "34                        pt_d\n",
       "Name: Feature, dtype: object)),\n",
       "                                                                  (&#x27;imputer&#x27;,\n",
       "                                                                   SimpleImpu...\n",
       "                                                   &#x27;spread_app_id&#x27;, &#x27;tags&#x27;,\n",
       "                                                   &#x27;app_first_class&#x27;,\n",
       "                                                   &#x27;app_second_class&#x27;, &#x27;age&#x27;,\n",
       "                                                   &#x27;city&#x27;, &#x27;city_rank&#x27;,\n",
       "                                                   &#x27;device_name&#x27;, &#x27;device_size&#x27;,\n",
       "                                                   &#x27;career&#x27;, &#x27;gender&#x27;,\n",
       "                                                   &#x27;net_type&#x27;, &#x27;residence&#x27;,\n",
       "                                                   &#x27;his_app_size&#x27;,\n",
       "                                                   &#x27;his_on_shelf_time&#x27;,\n",
       "                                                   &#x27;app_score&#x27;, &#x27;emui_dev&#x27;,\n",
       "                                                   &#x27;list_time&#x27;, &#x27;device_price&#x27;,\n",
       "                                                   &#x27;up_life_duration&#x27;,\n",
       "                                                   &#x27;up_membership_grade&#x27;,\n",
       "                                                   &#x27;membership_life_duration&#x27;, ...])])),\n",
       "                (&#x27;estimator&#x27;, DecisionTreeClassifier(random_state=42))])</pre></div></div></div><div class=\"sk-serial\"><div class=\"sk-item sk-dashed-wrapped\"><div class=\"sk-label-container\"><div class=\"sk-label sk-toggleable\"><input class=\"sk-toggleable__control sk-hidden--visually\" id=\"sk-estimator-id-14\" type=\"checkbox\" ><label for=\"sk-estimator-id-14\" class=\"sk-toggleable__label sk-toggleable__label-arrow\">preprocessor: ColumnTransformer</label><div class=\"sk-toggleable__content\"><pre>ColumnTransformer(transformers=[(&#x27;numerical&#x27;,\n",
       "                                 Pipeline(steps=[(&#x27;column_dropper&#x27;,\n",
       "                                                  DropColumnsTransformer(attrs_to_drop=23                   app_score\n",
       "24           his_on_shelf_time\n",
       "25                device_price\n",
       "26                     task_id\n",
       "27            app_second_class\n",
       "28    membership_life_duration\n",
       "29                        tags\n",
       "30               spread_app_id\n",
       "31                      dev_id\n",
       "32                 adv_prim_id\n",
       "33                      gender\n",
       "34                        pt_d\n",
       "Name: Feature, dtype: object)),\n",
       "                                                 (&#x27;imputer&#x27;, SimpleImputer()),\n",
       "                                                 (&#x27;scaler&#x27;, StandardScaler(...\n",
       "                                  &#x27;adv_prim_id&#x27;, &#x27;dev_id&#x27;, &#x27;inter_type_cd&#x27;,\n",
       "                                  &#x27;slot_id&#x27;, &#x27;spread_app_id&#x27;, &#x27;tags&#x27;,\n",
       "                                  &#x27;app_first_class&#x27;, &#x27;app_second_class&#x27;, &#x27;age&#x27;,\n",
       "                                  &#x27;city&#x27;, &#x27;city_rank&#x27;, &#x27;device_name&#x27;,\n",
       "                                  &#x27;device_size&#x27;, &#x27;career&#x27;, &#x27;gender&#x27;, &#x27;net_type&#x27;,\n",
       "                                  &#x27;residence&#x27;, &#x27;his_app_size&#x27;,\n",
       "                                  &#x27;his_on_shelf_time&#x27;, &#x27;app_score&#x27;, &#x27;emui_dev&#x27;,\n",
       "                                  &#x27;list_time&#x27;, &#x27;device_price&#x27;,\n",
       "                                  &#x27;up_life_duration&#x27;, &#x27;up_membership_grade&#x27;,\n",
       "                                  &#x27;membership_life_duration&#x27;, ...])])</pre></div></div></div><div class=\"sk-parallel\"><div class=\"sk-parallel-item\"><div class=\"sk-item\"><div class=\"sk-label-container\"><div class=\"sk-label sk-toggleable\"><input class=\"sk-toggleable__control sk-hidden--visually\" id=\"sk-estimator-id-15\" type=\"checkbox\" ><label for=\"sk-estimator-id-15\" class=\"sk-toggleable__label sk-toggleable__label-arrow\">numerical</label><div class=\"sk-toggleable__content\"><pre>[]</pre></div></div></div><div class=\"sk-serial\"><div class=\"sk-item\"><div class=\"sk-serial\"><div class=\"sk-item\"><div class=\"sk-estimator sk-toggleable\"><input class=\"sk-toggleable__control sk-hidden--visually\" id=\"sk-estimator-id-16\" type=\"checkbox\" ><label for=\"sk-estimator-id-16\" class=\"sk-toggleable__label sk-toggleable__label-arrow\">DropColumnsTransformer</label><div class=\"sk-toggleable__content\"><pre>DropColumnsTransformer(attrs_to_drop=23                   app_score\n",
       "24           his_on_shelf_time\n",
       "25                device_price\n",
       "26                     task_id\n",
       "27            app_second_class\n",
       "28    membership_life_duration\n",
       "29                        tags\n",
       "30               spread_app_id\n",
       "31                      dev_id\n",
       "32                 adv_prim_id\n",
       "33                      gender\n",
       "34                        pt_d\n",
       "Name: Feature, dtype: object)</pre></div></div></div><div class=\"sk-item\"><div class=\"sk-estimator sk-toggleable\"><input class=\"sk-toggleable__control sk-hidden--visually\" id=\"sk-estimator-id-17\" type=\"checkbox\" ><label for=\"sk-estimator-id-17\" class=\"sk-toggleable__label sk-toggleable__label-arrow\">SimpleImputer</label><div class=\"sk-toggleable__content\"><pre>SimpleImputer()</pre></div></div></div><div class=\"sk-item\"><div class=\"sk-estimator sk-toggleable\"><input class=\"sk-toggleable__control sk-hidden--visually\" id=\"sk-estimator-id-18\" type=\"checkbox\" ><label for=\"sk-estimator-id-18\" class=\"sk-toggleable__label sk-toggleable__label-arrow\">StandardScaler</label><div class=\"sk-toggleable__content\"><pre>StandardScaler()</pre></div></div></div></div></div></div></div></div><div class=\"sk-parallel-item\"><div class=\"sk-item\"><div class=\"sk-label-container\"><div class=\"sk-label sk-toggleable\"><input class=\"sk-toggleable__control sk-hidden--visually\" id=\"sk-estimator-id-19\" type=\"checkbox\" ><label for=\"sk-estimator-id-19\" class=\"sk-toggleable__label sk-toggleable__label-arrow\">categorical</label><div class=\"sk-toggleable__content\"><pre>[&#x27;uid&#x27;, &#x27;task_id&#x27;, &#x27;adv_id&#x27;, &#x27;creat_type_cd&#x27;, &#x27;adv_prim_id&#x27;, &#x27;dev_id&#x27;, &#x27;inter_type_cd&#x27;, &#x27;slot_id&#x27;, &#x27;spread_app_id&#x27;, &#x27;tags&#x27;, &#x27;app_first_class&#x27;, &#x27;app_second_class&#x27;, &#x27;age&#x27;, &#x27;city&#x27;, &#x27;city_rank&#x27;, &#x27;device_name&#x27;, &#x27;device_size&#x27;, &#x27;career&#x27;, &#x27;gender&#x27;, &#x27;net_type&#x27;, &#x27;residence&#x27;, &#x27;his_app_size&#x27;, &#x27;his_on_shelf_time&#x27;, &#x27;app_score&#x27;, &#x27;emui_dev&#x27;, &#x27;list_time&#x27;, &#x27;device_price&#x27;, &#x27;up_life_duration&#x27;, &#x27;up_membership_grade&#x27;, &#x27;membership_life_duration&#x27;, &#x27;consume_purchase&#x27;, &#x27;communication_onlinerate&#x27;, &#x27;communication_avgonline_30d&#x27;, &#x27;indu_name&#x27;, &#x27;pt_d&#x27;]</pre></div></div></div><div class=\"sk-serial\"><div class=\"sk-item\"><div class=\"sk-serial\"><div class=\"sk-item\"><div class=\"sk-estimator sk-toggleable\"><input class=\"sk-toggleable__control sk-hidden--visually\" id=\"sk-estimator-id-20\" type=\"checkbox\" ><label for=\"sk-estimator-id-20\" class=\"sk-toggleable__label sk-toggleable__label-arrow\">DropColumnsTransformer</label><div class=\"sk-toggleable__content\"><pre>DropColumnsTransformer(attrs_to_drop=23                   app_score\n",
       "24           his_on_shelf_time\n",
       "25                device_price\n",
       "26                     task_id\n",
       "27            app_second_class\n",
       "28    membership_life_duration\n",
       "29                        tags\n",
       "30               spread_app_id\n",
       "31                      dev_id\n",
       "32                 adv_prim_id\n",
       "33                      gender\n",
       "34                        pt_d\n",
       "Name: Feature, dtype: object)</pre></div></div></div><div class=\"sk-item\"><div class=\"sk-estimator sk-toggleable\"><input class=\"sk-toggleable__control sk-hidden--visually\" id=\"sk-estimator-id-21\" type=\"checkbox\" ><label for=\"sk-estimator-id-21\" class=\"sk-toggleable__label sk-toggleable__label-arrow\">SimpleImputer</label><div class=\"sk-toggleable__content\"><pre>SimpleImputer(strategy=&#x27;most_frequent&#x27;)</pre></div></div></div><div class=\"sk-item\"><div class=\"sk-estimator sk-toggleable\"><input class=\"sk-toggleable__control sk-hidden--visually\" id=\"sk-estimator-id-22\" type=\"checkbox\" ><label for=\"sk-estimator-id-22\" class=\"sk-toggleable__label sk-toggleable__label-arrow\">TargetEncoder</label><div class=\"sk-toggleable__content\"><pre>TargetEncoder(random_state=42, target_type=&#x27;binary&#x27;)</pre></div></div></div><div class=\"sk-item\"><div class=\"sk-estimator sk-toggleable\"><input class=\"sk-toggleable__control sk-hidden--visually\" id=\"sk-estimator-id-23\" type=\"checkbox\" ><label for=\"sk-estimator-id-23\" class=\"sk-toggleable__label sk-toggleable__label-arrow\">StandardScaler</label><div class=\"sk-toggleable__content\"><pre>StandardScaler()</pre></div></div></div></div></div></div></div></div></div></div><div class=\"sk-item\"><div class=\"sk-estimator sk-toggleable\"><input class=\"sk-toggleable__control sk-hidden--visually\" id=\"sk-estimator-id-24\" type=\"checkbox\" ><label for=\"sk-estimator-id-24\" class=\"sk-toggleable__label sk-toggleable__label-arrow\">DecisionTreeClassifier</label><div class=\"sk-toggleable__content\"><pre>DecisionTreeClassifier(random_state=42)</pre></div></div></div></div></div></div></div>"
      ],
      "text/plain": [
       "Pipeline(steps=[('preprocessor',\n",
       "                 ColumnTransformer(transformers=[('numerical',\n",
       "                                                  Pipeline(steps=[('column_dropper',\n",
       "                                                                   DropColumnsTransformer(attrs_to_drop=23                   app_score\n",
       "24           his_on_shelf_time\n",
       "25                device_price\n",
       "26                     task_id\n",
       "27            app_second_class\n",
       "28    membership_life_duration\n",
       "29                        tags\n",
       "30               spread_app_id\n",
       "31                      dev_id\n",
       "32                 adv_prim_id\n",
       "33                      gender\n",
       "34                        pt_d\n",
       "Name: Feature, dtype: object)),\n",
       "                                                                  ('imputer',\n",
       "                                                                   SimpleImpu...\n",
       "                                                   'spread_app_id', 'tags',\n",
       "                                                   'app_first_class',\n",
       "                                                   'app_second_class', 'age',\n",
       "                                                   'city', 'city_rank',\n",
       "                                                   'device_name', 'device_size',\n",
       "                                                   'career', 'gender',\n",
       "                                                   'net_type', 'residence',\n",
       "                                                   'his_app_size',\n",
       "                                                   'his_on_shelf_time',\n",
       "                                                   'app_score', 'emui_dev',\n",
       "                                                   'list_time', 'device_price',\n",
       "                                                   'up_life_duration',\n",
       "                                                   'up_membership_grade',\n",
       "                                                   'membership_life_duration', ...])])),\n",
       "                ('estimator', DecisionTreeClassifier(random_state=42))])"
      ]
     },
     "execution_count": 25,
     "metadata": {},
     "output_type": "execute_result"
    }
   ],
   "source": [
    "exp_preprocessor = bin_class_utils.build_preprocessing_pipeline(numerical_attr_list, categorical_attr_list, t_attrs_to_drop, target_type, target_encoding_random_state)\n",
    "exp_composite_estimator = Pipeline(steps=[('preprocessor', exp_preprocessor), ('estimator', estimator)])\n",
    "exp_composite_estimator.fit(\n",
    "    cap_x_df,\n",
    "    y_df.values.ravel()\n",
    ")"
   ]
  },
  {
   "cell_type": "code",
   "execution_count": 26,
   "id": "a37c2667",
   "metadata": {},
   "outputs": [
    {
     "name": "stdout",
     "output_type": "stream",
     "text": [
      "Cross Validation Scores: [0.94152745 0.93735084 0.93615752 0.92183771 0.94570406]\n",
      "mean: 0.9365155131264917\n",
      "standard deviation: 0.009025141002954169\n"
     ]
    }
   ],
   "source": [
    "model_performance_utils.check_out_cross_val_score(exp_composite_estimator, cap_x_df, y_df)"
   ]
  },
  {
   "cell_type": "code",
   "execution_count": 27,
   "id": "3841ba2c",
   "metadata": {},
   "outputs": [
    {
     "name": "stdout",
     "output_type": "stream",
     "text": [
      "Check accuracy score\n",
      "train sample set accuracy score: 0.9465393794749404\n",
      "\n",
      "Check confusion matrix\n",
      "train sample set confusion matrix: \n",
      "[[7883  208]\n",
      " [ 240   49]]\n",
      "True Positives =  7883\n",
      "True Negatives =  49\n",
      "False Positives(Type I error) =  208\n",
      "False Negatives(Type II error) =  240\n",
      "\n",
      "Check classification report\n",
      "              precision    recall  f1-score   support\n",
      "\n",
      "           0       0.97      0.97      0.97      8091\n",
      "           1       0.19      0.17      0.18       289\n",
      "\n",
      "    accuracy                           0.95      8380\n",
      "   macro avg       0.58      0.57      0.58      8380\n",
      "weighted avg       0.94      0.95      0.95      8380\n",
      "\n",
      "\n",
      "Check the ROC Curve and AUC\n",
      "The area under the curve (AUC):  0.5719212983455068\n"
     ]
    },
    {
     "data": {
      "image/png": "[encoded data removed]",
      "text/plain": [
       "<Figure size 640x480 with 1 Axes>"
      ]
     },
     "metadata": {},
     "output_type": "display_data"
    }
   ],
   "source": [
    "bin_class_utils.eval_class(cap_x_df, y_df, exp_composite_estimator, 'train sample')"
   ]
  }
 ],
 "metadata": {
  "kernelspec": {
   "display_name": "Python (base_dsv5)",
   "language": "python",
   "name": "base_dsv5"
  },
  "language_info": {
   "codemirror_mode": {
    "name": "ipython",
    "version": 3
   },
   "file_extension": ".py",
   "mimetype": "text/x-python",
   "name": "python",
   "nbconvert_exporter": "python",
   "pygments_lexer": "ipython3",
   "version": "3.10.13"
  }
 },
 "nbformat": 4,
 "nbformat_minor": 5
}
