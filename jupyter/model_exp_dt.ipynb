{
 "cells": [
  {
   "cell_type": "markdown",
   "id": "1bfc48d1",
   "metadata": {},
   "source": [
    "## Shortlist Promising Models - Decision Tree Classifier"
   ]
  },
  {
   "cell_type": "markdown",
   "id": "b5d912d1",
   "metadata": {},
   "source": [
    "#### 0. Import modules and define parameters"
   ]
  },
  {
   "cell_type": "code",
   "execution_count": 1,
   "id": "f05e1a08",
   "metadata": {
    "ExecuteTime": {
     "end_time": "2023-12-10T13:55:41.387783Z",
     "start_time": "2023-12-10T13:55:39.915900Z"
    }
   },
   "outputs": [],
   "source": [
    "import sys\n",
    "sys.path.append(\"..\")\n",
    "\n",
    "from module.utils import general_utils\n",
    "from module.utils import data_prepare_utils\n",
    "import module.utils.bin_class_utils as bin_class_utils\n",
    "from sklearn.pipeline import Pipeline\n",
    "import time"
   ]
  },
  {
   "cell_type": "code",
   "execution_count": 2,
   "id": "609f28df527047a2",
   "metadata": {
    "ExecuteTime": {
     "end_time": "2023-12-10T13:55:41.388389Z",
     "start_time": "2023-12-10T13:55:41.385238Z"
    }
   },
   "outputs": [],
   "source": [
    "start = time.time()"
   ]
  },
  {
   "cell_type": "code",
   "execution_count": 3,
   "id": "f53a94db",
   "metadata": {
    "ExecuteTime": {
     "end_time": "2023-12-10T13:55:41.391523Z",
     "start_time": "2023-12-10T13:55:41.389457Z"
    }
   },
   "outputs": [],
   "source": [
    "TRAIN_FILE_PATH = \"../data/train_df.csv\"\n",
    "VALIDATION_FILE_PATH = \"../data/validation_df.csv\"\n",
    "\n",
    "TARGET_ATTR = \"label\"\n",
    "TARGET_TYPE = \"binary\"\n",
    "\n",
    "ESTIMATOR_NAME = \"DecisionTreeClassifier\"\n",
    "\n",
    "SAMPLE_SIZE = 0.05\n",
    "SAMPLE_RANDOM_STATE = 24\n",
    "TARGET_ENCODING_RANDOM_STATE = 42\n",
    "MODEL_RANDOM_STATE = 42\n",
    "PERMUTATION_IMPORTANCE_RANDOM_STATE = 0\n",
    "\n",
    "ATTRS_TO_DROP = ['uid', 'app_score', 'his_on_shelf_time', 'task_id', 'spread_app_id', 'tags', 'dev_id']\n",
    "\n",
    "CVS_SCORING_LIST = ['accuracy', 'precision', 'recall', 'recall', 'f1']\n",
    "PERMUTATION_SCORING_LIST = ['average_precision', 'roc_auc']\n",
    "PERM_DROP_THRESHOLD_PERCENT = 0.2"
   ]
  },
  {
   "cell_type": "markdown",
   "id": "b8218d94",
   "metadata": {},
   "source": [
    "#### 1. Import Data"
   ]
  },
  {
   "cell_type": "code",
   "execution_count": 4,
   "id": "7041c859",
   "metadata": {
    "ExecuteTime": {
     "end_time": "2023-12-10T13:55:42.273016Z",
     "start_time": "2023-12-10T13:55:41.391902Z"
    }
   },
   "outputs": [
    {
     "name": "stdout",
     "output_type": "stream",
     "text": [
      "\n",
      "Read CSV file ../data/train_df.csv into DataFrame:\n",
      "df.head(): \n"
     ]
    },
    {
     "data": {
      "text/html": [
       "<div>\n",
       "<style scoped>\n",
       "    .dataframe tbody tr th:only-of-type {\n",
       "        vertical-align: middle;\n",
       "    }\n",
       "\n",
       "    .dataframe tbody tr th {\n",
       "        vertical-align: top;\n",
       "    }\n",
       "\n",
       "    .dataframe thead th {\n",
       "        text-align: right;\n",
       "    }\n",
       "</style>\n",
       "<table border=\"1\" class=\"dataframe\">\n",
       "  <thead>\n",
       "    <tr style=\"text-align: right;\">\n",
       "      <th></th>\n",
       "      <th>uid</th>\n",
       "      <th>task_id</th>\n",
       "      <th>adv_id</th>\n",
       "      <th>creat_type_cd</th>\n",
       "      <th>adv_prim_id</th>\n",
       "      <th>dev_id</th>\n",
       "      <th>inter_type_cd</th>\n",
       "      <th>slot_id</th>\n",
       "      <th>spread_app_id</th>\n",
       "      <th>tags</th>\n",
       "      <th>...</th>\n",
       "      <th>device_price</th>\n",
       "      <th>up_life_duration</th>\n",
       "      <th>up_membership_grade</th>\n",
       "      <th>membership_life_duration</th>\n",
       "      <th>consume_purchase</th>\n",
       "      <th>communication_onlinerate</th>\n",
       "      <th>communication_avgonline_30d</th>\n",
       "      <th>indu_name</th>\n",
       "      <th>pt_d</th>\n",
       "      <th>label</th>\n",
       "    </tr>\n",
       "  </thead>\n",
       "  <tbody>\n",
       "    <tr>\n",
       "      <th>0</th>\n",
       "      <td>1920544</td>\n",
       "      <td>3854</td>\n",
       "      <td>3367</td>\n",
       "      <td>7</td>\n",
       "      <td>207</td>\n",
       "      <td>17</td>\n",
       "      <td>5</td>\n",
       "      <td>11</td>\n",
       "      <td>13</td>\n",
       "      <td>37</td>\n",
       "      <td>...</td>\n",
       "      <td>4</td>\n",
       "      <td>20</td>\n",
       "      <td>-1</td>\n",
       "      <td>-1</td>\n",
       "      <td>2</td>\n",
       "      <td>7^8^9^10^11^12^13^14^15^16^17^18^19^20^21^22^23</td>\n",
       "      <td>10</td>\n",
       "      <td>17</td>\n",
       "      <td>6</td>\n",
       "      <td>0</td>\n",
       "    </tr>\n",
       "    <tr>\n",
       "      <th>1</th>\n",
       "      <td>1850503</td>\n",
       "      <td>3903</td>\n",
       "      <td>6370</td>\n",
       "      <td>7</td>\n",
       "      <td>173</td>\n",
       "      <td>52</td>\n",
       "      <td>5</td>\n",
       "      <td>12</td>\n",
       "      <td>69</td>\n",
       "      <td>11</td>\n",
       "      <td>...</td>\n",
       "      <td>2</td>\n",
       "      <td>-1</td>\n",
       "      <td>-1</td>\n",
       "      <td>-1</td>\n",
       "      <td>2</td>\n",
       "      <td>5^6^7^8^9^10^11^12^13^14^15^16^17^18^19^20^21^...</td>\n",
       "      <td>12</td>\n",
       "      <td>50</td>\n",
       "      <td>7</td>\n",
       "      <td>0</td>\n",
       "    </tr>\n",
       "    <tr>\n",
       "      <th>2</th>\n",
       "      <td>2157496</td>\n",
       "      <td>1847</td>\n",
       "      <td>6428</td>\n",
       "      <td>6</td>\n",
       "      <td>178</td>\n",
       "      <td>17</td>\n",
       "      <td>5</td>\n",
       "      <td>18</td>\n",
       "      <td>70</td>\n",
       "      <td>39</td>\n",
       "      <td>...</td>\n",
       "      <td>7</td>\n",
       "      <td>20</td>\n",
       "      <td>1</td>\n",
       "      <td>-1</td>\n",
       "      <td>9</td>\n",
       "      <td>0^1^2^3^4^5^6^7^8^9^10^11^12^13^14^15^16^17^18...</td>\n",
       "      <td>13</td>\n",
       "      <td>36</td>\n",
       "      <td>7</td>\n",
       "      <td>0</td>\n",
       "    </tr>\n",
       "    <tr>\n",
       "      <th>3</th>\n",
       "      <td>2072043</td>\n",
       "      <td>4125</td>\n",
       "      <td>4468</td>\n",
       "      <td>7</td>\n",
       "      <td>168</td>\n",
       "      <td>37</td>\n",
       "      <td>5</td>\n",
       "      <td>12</td>\n",
       "      <td>44</td>\n",
       "      <td>40</td>\n",
       "      <td>...</td>\n",
       "      <td>2</td>\n",
       "      <td>20</td>\n",
       "      <td>-1</td>\n",
       "      <td>-1</td>\n",
       "      <td>2</td>\n",
       "      <td>6^7^8^9^10^11^12^13^14^15^16^17^18^19^20^21^22^23</td>\n",
       "      <td>11</td>\n",
       "      <td>17</td>\n",
       "      <td>6</td>\n",
       "      <td>0</td>\n",
       "    </tr>\n",
       "    <tr>\n",
       "      <th>4</th>\n",
       "      <td>1084626</td>\n",
       "      <td>4811</td>\n",
       "      <td>3326</td>\n",
       "      <td>7</td>\n",
       "      <td>183</td>\n",
       "      <td>29</td>\n",
       "      <td>5</td>\n",
       "      <td>12</td>\n",
       "      <td>86</td>\n",
       "      <td>37</td>\n",
       "      <td>...</td>\n",
       "      <td>3</td>\n",
       "      <td>18</td>\n",
       "      <td>-1</td>\n",
       "      <td>-1</td>\n",
       "      <td>2</td>\n",
       "      <td>7^8^9^10^11^12^13^14^15^16^17^18^19^20^21^22^23</td>\n",
       "      <td>10</td>\n",
       "      <td>17</td>\n",
       "      <td>6</td>\n",
       "      <td>0</td>\n",
       "    </tr>\n",
       "  </tbody>\n",
       "</table>\n",
       "<p>5 rows × 36 columns</p>\n",
       "</div>"
      ],
      "text/plain": [
       "       uid  task_id  adv_id  creat_type_cd  adv_prim_id  dev_id  \\\n",
       "0  1920544     3854    3367              7          207      17   \n",
       "1  1850503     3903    6370              7          173      52   \n",
       "2  2157496     1847    6428              6          178      17   \n",
       "3  2072043     4125    4468              7          168      37   \n",
       "4  1084626     4811    3326              7          183      29   \n",
       "\n",
       "   inter_type_cd  slot_id  spread_app_id  tags  ...  device_price  \\\n",
       "0              5       11             13    37  ...             4   \n",
       "1              5       12             69    11  ...             2   \n",
       "2              5       18             70    39  ...             7   \n",
       "3              5       12             44    40  ...             2   \n",
       "4              5       12             86    37  ...             3   \n",
       "\n",
       "   up_life_duration  up_membership_grade  membership_life_duration  \\\n",
       "0                20                   -1                        -1   \n",
       "1                -1                   -1                        -1   \n",
       "2                20                    1                        -1   \n",
       "3                20                   -1                        -1   \n",
       "4                18                   -1                        -1   \n",
       "\n",
       "   consume_purchase                           communication_onlinerate  \\\n",
       "0                 2    7^8^9^10^11^12^13^14^15^16^17^18^19^20^21^22^23   \n",
       "1                 2  5^6^7^8^9^10^11^12^13^14^15^16^17^18^19^20^21^...   \n",
       "2                 9  0^1^2^3^4^5^6^7^8^9^10^11^12^13^14^15^16^17^18...   \n",
       "3                 2  6^7^8^9^10^11^12^13^14^15^16^17^18^19^20^21^22^23   \n",
       "4                 2    7^8^9^10^11^12^13^14^15^16^17^18^19^20^21^22^23   \n",
       "\n",
       "   communication_avgonline_30d  indu_name  pt_d  label  \n",
       "0                           10         17     6      0  \n",
       "1                           12         50     7      0  \n",
       "2                           13         36     7      0  \n",
       "3                           11         17     6      0  \n",
       "4                           10         17     6      0  \n",
       "\n",
       "[5 rows x 36 columns]"
      ]
     },
     "metadata": {},
     "output_type": "display_data"
    },
    {
     "name": "stdout",
     "output_type": "stream",
     "text": [
      "df.shape: (670513, 36)\n"
     ]
    }
   ],
   "source": [
    "train_df = general_utils.read_csv(TRAIN_FILE_PATH)"
   ]
  },
  {
   "cell_type": "markdown",
   "id": "e1d494c7",
   "metadata": {},
   "source": [
    "#### 2. Sample smaller training sets for fast exploration"
   ]
  },
  {
   "cell_type": "code",
   "execution_count": 5,
   "id": "4ede381d",
   "metadata": {
    "ExecuteTime": {
     "end_time": "2023-12-10T13:55:42.396815Z",
     "start_time": "2023-12-10T13:55:42.275143Z"
    }
   },
   "outputs": [
    {
     "name": "stdout",
     "output_type": "stream",
     "text": [
      "\n",
      "Sample 0.05 fraction from DataFrame:\n",
      "sample_df.shape: (33525, 36)\n"
     ]
    }
   ],
   "source": [
    "train_df_sample = data_prepare_utils.sample_data(train_df, SAMPLE_SIZE, SAMPLE_RANDOM_STATE)\n",
    "del train_df"
   ]
  },
  {
   "cell_type": "markdown",
   "id": "b48b5e04",
   "metadata": {},
   "source": [
    "#### 3. Check attribute types"
   ]
  },
  {
   "cell_type": "code",
   "execution_count": 6,
   "id": "c4f2729d",
   "metadata": {
    "ExecuteTime": {
     "end_time": "2023-12-10T13:55:42.397692Z",
     "start_time": "2023-12-10T13:55:42.390603Z"
    },
    "scrolled": true
   },
   "outputs": [
    {
     "data": {
      "text/plain": [
       "['uid',\n",
       " 'task_id',\n",
       " 'adv_id',\n",
       " 'creat_type_cd',\n",
       " 'adv_prim_id',\n",
       " 'dev_id',\n",
       " 'inter_type_cd',\n",
       " 'slot_id',\n",
       " 'spread_app_id',\n",
       " 'tags',\n",
       " 'app_first_class',\n",
       " 'app_second_class',\n",
       " 'age',\n",
       " 'city',\n",
       " 'city_rank',\n",
       " 'device_name',\n",
       " 'device_size',\n",
       " 'career',\n",
       " 'gender',\n",
       " 'net_type',\n",
       " 'residence',\n",
       " 'his_app_size',\n",
       " 'his_on_shelf_time',\n",
       " 'app_score',\n",
       " 'emui_dev',\n",
       " 'list_time',\n",
       " 'device_price',\n",
       " 'up_life_duration',\n",
       " 'up_membership_grade',\n",
       " 'membership_life_duration',\n",
       " 'consume_purchase',\n",
       " 'communication_onlinerate',\n",
       " 'communication_avgonline_30d',\n",
       " 'indu_name',\n",
       " 'pt_d']"
      ]
     },
     "execution_count": 6,
     "metadata": {},
     "output_type": "execute_result"
    }
   ],
   "source": [
    "numerical_attr_list = []\n",
    "categorical_attr_list = [attr for attr in train_df_sample.columns if attr not in numerical_attr_list and attr != TARGET_ATTR]\n",
    "attr_list = numerical_attr_list + categorical_attr_list\n",
    "attr_list"
   ]
  },
  {
   "cell_type": "markdown",
   "id": "0b53d671",
   "metadata": {},
   "source": [
    "#### 4. Predefined data processing strategy in prep.ipynb"
   ]
  },
  {
   "cell_type": "code",
   "execution_count": 7,
   "id": "294f7f63",
   "metadata": {
    "ExecuteTime": {
     "end_time": "2023-12-10T13:55:42.495410Z",
     "start_time": "2023-12-10T13:55:42.393131Z"
    }
   },
   "outputs": [
    {
     "name": "stdout",
     "output_type": "stream",
     "text": [
      "\n",
      "Drop duplicate observations:\n",
      "df.shape:  (33525, 36)\n",
      "drop_dup_df.shape:  (33519, 36)\n"
     ]
    }
   ],
   "source": [
    "train_df_sample = data_prepare_utils.drop_duplicate_obs(train_df_sample)"
   ]
  },
  {
   "cell_type": "code",
   "execution_count": 8,
   "id": "e6bd091d",
   "metadata": {
    "ExecuteTime": {
     "end_time": "2023-12-10T13:55:42.507464Z",
     "start_time": "2023-12-10T13:55:42.423879Z"
    }
   },
   "outputs": [
    {
     "data": {
      "text/html": [
       "<style>#sk-container-id-1 {color: black;}#sk-container-id-1 pre{padding: 0;}#sk-container-id-1 div.sk-toggleable {background-color: white;}#sk-container-id-1 label.sk-toggleable__label {cursor: pointer;display: block;width: 100%;margin-bottom: 0;padding: 0.3em;box-sizing: border-box;text-align: center;}#sk-container-id-1 label.sk-toggleable__label-arrow:before {content: \"▸\";float: left;margin-right: 0.25em;color: #696969;}#sk-container-id-1 label.sk-toggleable__label-arrow:hover:before {color: black;}#sk-container-id-1 div.sk-estimator:hover label.sk-toggleable__label-arrow:before {color: black;}#sk-container-id-1 div.sk-toggleable__content {max-height: 0;max-width: 0;overflow: hidden;text-align: left;background-color: #f0f8ff;}#sk-container-id-1 div.sk-toggleable__content pre {margin: 0.2em;color: black;border-radius: 0.25em;background-color: #f0f8ff;}#sk-container-id-1 input.sk-toggleable__control:checked~div.sk-toggleable__content {max-height: 200px;max-width: 100%;overflow: auto;}#sk-container-id-1 input.sk-toggleable__control:checked~label.sk-toggleable__label-arrow:before {content: \"▾\";}#sk-container-id-1 div.sk-estimator input.sk-toggleable__control:checked~label.sk-toggleable__label {background-color: #d4ebff;}#sk-container-id-1 div.sk-label input.sk-toggleable__control:checked~label.sk-toggleable__label {background-color: #d4ebff;}#sk-container-id-1 input.sk-hidden--visually {border: 0;clip: rect(1px 1px 1px 1px);clip: rect(1px, 1px, 1px, 1px);height: 1px;margin: -1px;overflow: hidden;padding: 0;position: absolute;width: 1px;}#sk-container-id-1 div.sk-estimator {font-family: monospace;background-color: #f0f8ff;border: 1px dotted black;border-radius: 0.25em;box-sizing: border-box;margin-bottom: 0.5em;}#sk-container-id-1 div.sk-estimator:hover {background-color: #d4ebff;}#sk-container-id-1 div.sk-parallel-item::after {content: \"\";width: 100%;border-bottom: 1px solid gray;flex-grow: 1;}#sk-container-id-1 div.sk-label:hover label.sk-toggleable__label {background-color: #d4ebff;}#sk-container-id-1 div.sk-serial::before {content: \"\";position: absolute;border-left: 1px solid gray;box-sizing: border-box;top: 0;bottom: 0;left: 50%;z-index: 0;}#sk-container-id-1 div.sk-serial {display: flex;flex-direction: column;align-items: center;background-color: white;padding-right: 0.2em;padding-left: 0.2em;position: relative;}#sk-container-id-1 div.sk-item {position: relative;z-index: 1;}#sk-container-id-1 div.sk-parallel {display: flex;align-items: stretch;justify-content: center;background-color: white;position: relative;}#sk-container-id-1 div.sk-item::before, #sk-container-id-1 div.sk-parallel-item::before {content: \"\";position: absolute;border-left: 1px solid gray;box-sizing: border-box;top: 0;bottom: 0;left: 50%;z-index: -1;}#sk-container-id-1 div.sk-parallel-item {display: flex;flex-direction: column;z-index: 1;position: relative;background-color: white;}#sk-container-id-1 div.sk-parallel-item:first-child::after {align-self: flex-end;width: 50%;}#sk-container-id-1 div.sk-parallel-item:last-child::after {align-self: flex-start;width: 50%;}#sk-container-id-1 div.sk-parallel-item:only-child::after {width: 0;}#sk-container-id-1 div.sk-dashed-wrapped {border: 1px dashed gray;margin: 0 0.4em 0.5em 0.4em;box-sizing: border-box;padding-bottom: 0.4em;background-color: white;}#sk-container-id-1 div.sk-label label {font-family: monospace;font-weight: bold;display: inline-block;line-height: 1.2em;}#sk-container-id-1 div.sk-label-container {text-align: center;}#sk-container-id-1 div.sk-container {/* jupyter's `normalize.less` sets `[hidden] { display: none; }` but bootstrap.min.css set `[hidden] { display: none !important; }` so we also need the `!important` here to be able to override the default hidden behavior on the sphinx rendered scikit-learn.org. See: https://github.com/scikit-learn/scikit-learn/issues/21755 */display: inline-block !important;position: relative;}#sk-container-id-1 div.sk-text-repr-fallback {display: none;}</style><div id=\"sk-container-id-1\" class=\"sk-top-container\"><div class=\"sk-text-repr-fallback\"><pre>ColumnTransformer(transformers=[(&#x27;numerical&#x27;,\n",
       "                                 Pipeline(steps=[(&#x27;column_dropper&#x27;,\n",
       "                                                  DropColumnsTransformer(attrs_to_drop=[&#x27;uid&#x27;,\n",
       "                                                                                        &#x27;app_score&#x27;,\n",
       "                                                                                        &#x27;his_on_shelf_time&#x27;,\n",
       "                                                                                        &#x27;task_id&#x27;,\n",
       "                                                                                        &#x27;spread_app_id&#x27;,\n",
       "                                                                                        &#x27;tags&#x27;,\n",
       "                                                                                        &#x27;dev_id&#x27;])),\n",
       "                                                 (&#x27;imputer&#x27;, SimpleImputer()),\n",
       "                                                 (&#x27;scaler&#x27;, StandardScaler())]),\n",
       "                                 []),\n",
       "                                (&#x27;categorical&#x27;,\n",
       "                                 Pipeline(steps=[(&#x27;column_dropper&#x27;,\n",
       "                                                  DropColumnsTransformer(attrs_to_drop=[&#x27;...\n",
       "                                  &#x27;adv_prim_id&#x27;, &#x27;dev_id&#x27;, &#x27;inter_type_cd&#x27;,\n",
       "                                  &#x27;slot_id&#x27;, &#x27;spread_app_id&#x27;, &#x27;tags&#x27;,\n",
       "                                  &#x27;app_first_class&#x27;, &#x27;app_second_class&#x27;, &#x27;age&#x27;,\n",
       "                                  &#x27;city&#x27;, &#x27;city_rank&#x27;, &#x27;device_name&#x27;,\n",
       "                                  &#x27;device_size&#x27;, &#x27;career&#x27;, &#x27;gender&#x27;, &#x27;net_type&#x27;,\n",
       "                                  &#x27;residence&#x27;, &#x27;his_app_size&#x27;,\n",
       "                                  &#x27;his_on_shelf_time&#x27;, &#x27;app_score&#x27;, &#x27;emui_dev&#x27;,\n",
       "                                  &#x27;list_time&#x27;, &#x27;device_price&#x27;,\n",
       "                                  &#x27;up_life_duration&#x27;, &#x27;up_membership_grade&#x27;,\n",
       "                                  &#x27;membership_life_duration&#x27;, ...])])</pre><b>In a Jupyter environment, please rerun this cell to show the HTML representation or trust the notebook. <br />On GitHub, the HTML representation is unable to render, please try loading this page with nbviewer.org.</b></div><div class=\"sk-container\" hidden><div class=\"sk-item sk-dashed-wrapped\"><div class=\"sk-label-container\"><div class=\"sk-label sk-toggleable\"><input class=\"sk-toggleable__control sk-hidden--visually\" id=\"sk-estimator-id-1\" type=\"checkbox\" ><label for=\"sk-estimator-id-1\" class=\"sk-toggleable__label sk-toggleable__label-arrow\">ColumnTransformer</label><div class=\"sk-toggleable__content\"><pre>ColumnTransformer(transformers=[(&#x27;numerical&#x27;,\n",
       "                                 Pipeline(steps=[(&#x27;column_dropper&#x27;,\n",
       "                                                  DropColumnsTransformer(attrs_to_drop=[&#x27;uid&#x27;,\n",
       "                                                                                        &#x27;app_score&#x27;,\n",
       "                                                                                        &#x27;his_on_shelf_time&#x27;,\n",
       "                                                                                        &#x27;task_id&#x27;,\n",
       "                                                                                        &#x27;spread_app_id&#x27;,\n",
       "                                                                                        &#x27;tags&#x27;,\n",
       "                                                                                        &#x27;dev_id&#x27;])),\n",
       "                                                 (&#x27;imputer&#x27;, SimpleImputer()),\n",
       "                                                 (&#x27;scaler&#x27;, StandardScaler())]),\n",
       "                                 []),\n",
       "                                (&#x27;categorical&#x27;,\n",
       "                                 Pipeline(steps=[(&#x27;column_dropper&#x27;,\n",
       "                                                  DropColumnsTransformer(attrs_to_drop=[&#x27;...\n",
       "                                  &#x27;adv_prim_id&#x27;, &#x27;dev_id&#x27;, &#x27;inter_type_cd&#x27;,\n",
       "                                  &#x27;slot_id&#x27;, &#x27;spread_app_id&#x27;, &#x27;tags&#x27;,\n",
       "                                  &#x27;app_first_class&#x27;, &#x27;app_second_class&#x27;, &#x27;age&#x27;,\n",
       "                                  &#x27;city&#x27;, &#x27;city_rank&#x27;, &#x27;device_name&#x27;,\n",
       "                                  &#x27;device_size&#x27;, &#x27;career&#x27;, &#x27;gender&#x27;, &#x27;net_type&#x27;,\n",
       "                                  &#x27;residence&#x27;, &#x27;his_app_size&#x27;,\n",
       "                                  &#x27;his_on_shelf_time&#x27;, &#x27;app_score&#x27;, &#x27;emui_dev&#x27;,\n",
       "                                  &#x27;list_time&#x27;, &#x27;device_price&#x27;,\n",
       "                                  &#x27;up_life_duration&#x27;, &#x27;up_membership_grade&#x27;,\n",
       "                                  &#x27;membership_life_duration&#x27;, ...])])</pre></div></div></div><div class=\"sk-parallel\"><div class=\"sk-parallel-item\"><div class=\"sk-item\"><div class=\"sk-label-container\"><div class=\"sk-label sk-toggleable\"><input class=\"sk-toggleable__control sk-hidden--visually\" id=\"sk-estimator-id-2\" type=\"checkbox\" ><label for=\"sk-estimator-id-2\" class=\"sk-toggleable__label sk-toggleable__label-arrow\">numerical</label><div class=\"sk-toggleable__content\"><pre>[]</pre></div></div></div><div class=\"sk-serial\"><div class=\"sk-item\"><div class=\"sk-serial\"><div class=\"sk-item\"><div class=\"sk-estimator sk-toggleable\"><input class=\"sk-toggleable__control sk-hidden--visually\" id=\"sk-estimator-id-3\" type=\"checkbox\" ><label for=\"sk-estimator-id-3\" class=\"sk-toggleable__label sk-toggleable__label-arrow\">DropColumnsTransformer</label><div class=\"sk-toggleable__content\"><pre>DropColumnsTransformer(attrs_to_drop=[&#x27;uid&#x27;, &#x27;app_score&#x27;, &#x27;his_on_shelf_time&#x27;,\n",
       "                                      &#x27;task_id&#x27;, &#x27;spread_app_id&#x27;, &#x27;tags&#x27;,\n",
       "                                      &#x27;dev_id&#x27;])</pre></div></div></div><div class=\"sk-item\"><div class=\"sk-estimator sk-toggleable\"><input class=\"sk-toggleable__control sk-hidden--visually\" id=\"sk-estimator-id-4\" type=\"checkbox\" ><label for=\"sk-estimator-id-4\" class=\"sk-toggleable__label sk-toggleable__label-arrow\">SimpleImputer</label><div class=\"sk-toggleable__content\"><pre>SimpleImputer()</pre></div></div></div><div class=\"sk-item\"><div class=\"sk-estimator sk-toggleable\"><input class=\"sk-toggleable__control sk-hidden--visually\" id=\"sk-estimator-id-5\" type=\"checkbox\" ><label for=\"sk-estimator-id-5\" class=\"sk-toggleable__label sk-toggleable__label-arrow\">StandardScaler</label><div class=\"sk-toggleable__content\"><pre>StandardScaler()</pre></div></div></div></div></div></div></div></div><div class=\"sk-parallel-item\"><div class=\"sk-item\"><div class=\"sk-label-container\"><div class=\"sk-label sk-toggleable\"><input class=\"sk-toggleable__control sk-hidden--visually\" id=\"sk-estimator-id-6\" type=\"checkbox\" ><label for=\"sk-estimator-id-6\" class=\"sk-toggleable__label sk-toggleable__label-arrow\">categorical</label><div class=\"sk-toggleable__content\"><pre>[&#x27;uid&#x27;, &#x27;task_id&#x27;, &#x27;adv_id&#x27;, &#x27;creat_type_cd&#x27;, &#x27;adv_prim_id&#x27;, &#x27;dev_id&#x27;, &#x27;inter_type_cd&#x27;, &#x27;slot_id&#x27;, &#x27;spread_app_id&#x27;, &#x27;tags&#x27;, &#x27;app_first_class&#x27;, &#x27;app_second_class&#x27;, &#x27;age&#x27;, &#x27;city&#x27;, &#x27;city_rank&#x27;, &#x27;device_name&#x27;, &#x27;device_size&#x27;, &#x27;career&#x27;, &#x27;gender&#x27;, &#x27;net_type&#x27;, &#x27;residence&#x27;, &#x27;his_app_size&#x27;, &#x27;his_on_shelf_time&#x27;, &#x27;app_score&#x27;, &#x27;emui_dev&#x27;, &#x27;list_time&#x27;, &#x27;device_price&#x27;, &#x27;up_life_duration&#x27;, &#x27;up_membership_grade&#x27;, &#x27;membership_life_duration&#x27;, &#x27;consume_purchase&#x27;, &#x27;communication_onlinerate&#x27;, &#x27;communication_avgonline_30d&#x27;, &#x27;indu_name&#x27;, &#x27;pt_d&#x27;]</pre></div></div></div><div class=\"sk-serial\"><div class=\"sk-item\"><div class=\"sk-serial\"><div class=\"sk-item\"><div class=\"sk-estimator sk-toggleable\"><input class=\"sk-toggleable__control sk-hidden--visually\" id=\"sk-estimator-id-7\" type=\"checkbox\" ><label for=\"sk-estimator-id-7\" class=\"sk-toggleable__label sk-toggleable__label-arrow\">DropColumnsTransformer</label><div class=\"sk-toggleable__content\"><pre>DropColumnsTransformer(attrs_to_drop=[&#x27;uid&#x27;, &#x27;app_score&#x27;, &#x27;his_on_shelf_time&#x27;,\n",
       "                                      &#x27;task_id&#x27;, &#x27;spread_app_id&#x27;, &#x27;tags&#x27;,\n",
       "                                      &#x27;dev_id&#x27;])</pre></div></div></div><div class=\"sk-item\"><div class=\"sk-estimator sk-toggleable\"><input class=\"sk-toggleable__control sk-hidden--visually\" id=\"sk-estimator-id-8\" type=\"checkbox\" ><label for=\"sk-estimator-id-8\" class=\"sk-toggleable__label sk-toggleable__label-arrow\">SimpleImputer</label><div class=\"sk-toggleable__content\"><pre>SimpleImputer(strategy=&#x27;most_frequent&#x27;)</pre></div></div></div><div class=\"sk-item\"><div class=\"sk-estimator sk-toggleable\"><input class=\"sk-toggleable__control sk-hidden--visually\" id=\"sk-estimator-id-9\" type=\"checkbox\" ><label for=\"sk-estimator-id-9\" class=\"sk-toggleable__label sk-toggleable__label-arrow\">TargetEncoder</label><div class=\"sk-toggleable__content\"><pre>TargetEncoder(random_state=42, target_type=&#x27;binary&#x27;)</pre></div></div></div><div class=\"sk-item\"><div class=\"sk-estimator sk-toggleable\"><input class=\"sk-toggleable__control sk-hidden--visually\" id=\"sk-estimator-id-10\" type=\"checkbox\" ><label for=\"sk-estimator-id-10\" class=\"sk-toggleable__label sk-toggleable__label-arrow\">StandardScaler</label><div class=\"sk-toggleable__content\"><pre>StandardScaler()</pre></div></div></div></div></div></div></div></div></div></div></div></div>"
      ],
      "text/plain": [
       "ColumnTransformer(transformers=[('numerical',\n",
       "                                 Pipeline(steps=[('column_dropper',\n",
       "                                                  DropColumnsTransformer(attrs_to_drop=['uid',\n",
       "                                                                                        'app_score',\n",
       "                                                                                        'his_on_shelf_time',\n",
       "                                                                                        'task_id',\n",
       "                                                                                        'spread_app_id',\n",
       "                                                                                        'tags',\n",
       "                                                                                        'dev_id'])),\n",
       "                                                 ('imputer', SimpleImputer()),\n",
       "                                                 ('scaler', StandardScaler())]),\n",
       "                                 []),\n",
       "                                ('categorical',\n",
       "                                 Pipeline(steps=[('column_dropper',\n",
       "                                                  DropColumnsTransformer(attrs_to_drop=['...\n",
       "                                  'adv_prim_id', 'dev_id', 'inter_type_cd',\n",
       "                                  'slot_id', 'spread_app_id', 'tags',\n",
       "                                  'app_first_class', 'app_second_class', 'age',\n",
       "                                  'city', 'city_rank', 'device_name',\n",
       "                                  'device_size', 'career', 'gender', 'net_type',\n",
       "                                  'residence', 'his_app_size',\n",
       "                                  'his_on_shelf_time', 'app_score', 'emui_dev',\n",
       "                                  'list_time', 'device_price',\n",
       "                                  'up_life_duration', 'up_membership_grade',\n",
       "                                  'membership_life_duration', ...])])"
      ]
     },
     "execution_count": 8,
     "metadata": {},
     "output_type": "execute_result"
    }
   ],
   "source": [
    "preprocessor = bin_class_utils.build_preprocessing_pipeline(numerical_attr_list, categorical_attr_list, ATTRS_TO_DROP, TARGET_TYPE, TARGET_ENCODING_RANDOM_STATE)\n",
    "preprocessor"
   ]
  },
  {
   "cell_type": "markdown",
   "id": "994ec212",
   "metadata": {},
   "source": [
    "#### 5. Define default model"
   ]
  },
  {
   "cell_type": "code",
   "execution_count": 9,
   "id": "38e8f2ef",
   "metadata": {
    "ExecuteTime": {
     "end_time": "2023-12-10T13:55:42.508424Z",
     "start_time": "2023-12-10T13:55:42.443041Z"
    }
   },
   "outputs": [
    {
     "data": {
      "text/html": [
       "<style>#sk-container-id-2 {color: black;}#sk-container-id-2 pre{padding: 0;}#sk-container-id-2 div.sk-toggleable {background-color: white;}#sk-container-id-2 label.sk-toggleable__label {cursor: pointer;display: block;width: 100%;margin-bottom: 0;padding: 0.3em;box-sizing: border-box;text-align: center;}#sk-container-id-2 label.sk-toggleable__label-arrow:before {content: \"▸\";float: left;margin-right: 0.25em;color: #696969;}#sk-container-id-2 label.sk-toggleable__label-arrow:hover:before {color: black;}#sk-container-id-2 div.sk-estimator:hover label.sk-toggleable__label-arrow:before {color: black;}#sk-container-id-2 div.sk-toggleable__content {max-height: 0;max-width: 0;overflow: hidden;text-align: left;background-color: #f0f8ff;}#sk-container-id-2 div.sk-toggleable__content pre {margin: 0.2em;color: black;border-radius: 0.25em;background-color: #f0f8ff;}#sk-container-id-2 input.sk-toggleable__control:checked~div.sk-toggleable__content {max-height: 200px;max-width: 100%;overflow: auto;}#sk-container-id-2 input.sk-toggleable__control:checked~label.sk-toggleable__label-arrow:before {content: \"▾\";}#sk-container-id-2 div.sk-estimator input.sk-toggleable__control:checked~label.sk-toggleable__label {background-color: #d4ebff;}#sk-container-id-2 div.sk-label input.sk-toggleable__control:checked~label.sk-toggleable__label {background-color: #d4ebff;}#sk-container-id-2 input.sk-hidden--visually {border: 0;clip: rect(1px 1px 1px 1px);clip: rect(1px, 1px, 1px, 1px);height: 1px;margin: -1px;overflow: hidden;padding: 0;position: absolute;width: 1px;}#sk-container-id-2 div.sk-estimator {font-family: monospace;background-color: #f0f8ff;border: 1px dotted black;border-radius: 0.25em;box-sizing: border-box;margin-bottom: 0.5em;}#sk-container-id-2 div.sk-estimator:hover {background-color: #d4ebff;}#sk-container-id-2 div.sk-parallel-item::after {content: \"\";width: 100%;border-bottom: 1px solid gray;flex-grow: 1;}#sk-container-id-2 div.sk-label:hover label.sk-toggleable__label {background-color: #d4ebff;}#sk-container-id-2 div.sk-serial::before {content: \"\";position: absolute;border-left: 1px solid gray;box-sizing: border-box;top: 0;bottom: 0;left: 50%;z-index: 0;}#sk-container-id-2 div.sk-serial {display: flex;flex-direction: column;align-items: center;background-color: white;padding-right: 0.2em;padding-left: 0.2em;position: relative;}#sk-container-id-2 div.sk-item {position: relative;z-index: 1;}#sk-container-id-2 div.sk-parallel {display: flex;align-items: stretch;justify-content: center;background-color: white;position: relative;}#sk-container-id-2 div.sk-item::before, #sk-container-id-2 div.sk-parallel-item::before {content: \"\";position: absolute;border-left: 1px solid gray;box-sizing: border-box;top: 0;bottom: 0;left: 50%;z-index: -1;}#sk-container-id-2 div.sk-parallel-item {display: flex;flex-direction: column;z-index: 1;position: relative;background-color: white;}#sk-container-id-2 div.sk-parallel-item:first-child::after {align-self: flex-end;width: 50%;}#sk-container-id-2 div.sk-parallel-item:last-child::after {align-self: flex-start;width: 50%;}#sk-container-id-2 div.sk-parallel-item:only-child::after {width: 0;}#sk-container-id-2 div.sk-dashed-wrapped {border: 1px dashed gray;margin: 0 0.4em 0.5em 0.4em;box-sizing: border-box;padding-bottom: 0.4em;background-color: white;}#sk-container-id-2 div.sk-label label {font-family: monospace;font-weight: bold;display: inline-block;line-height: 1.2em;}#sk-container-id-2 div.sk-label-container {text-align: center;}#sk-container-id-2 div.sk-container {/* jupyter's `normalize.less` sets `[hidden] { display: none; }` but bootstrap.min.css set `[hidden] { display: none !important; }` so we also need the `!important` here to be able to override the default hidden behavior on the sphinx rendered scikit-learn.org. See: https://github.com/scikit-learn/scikit-learn/issues/21755 */display: inline-block !important;position: relative;}#sk-container-id-2 div.sk-text-repr-fallback {display: none;}</style><div id=\"sk-container-id-2\" class=\"sk-top-container\"><div class=\"sk-text-repr-fallback\"><pre>DecisionTreeClassifier(class_weight=&#x27;balanced&#x27;, criterion=&#x27;log_loss&#x27;,\n",
       "                       random_state=42)</pre><b>In a Jupyter environment, please rerun this cell to show the HTML representation or trust the notebook. <br />On GitHub, the HTML representation is unable to render, please try loading this page with nbviewer.org.</b></div><div class=\"sk-container\" hidden><div class=\"sk-item\"><div class=\"sk-estimator sk-toggleable\"><input class=\"sk-toggleable__control sk-hidden--visually\" id=\"sk-estimator-id-11\" type=\"checkbox\" checked><label for=\"sk-estimator-id-11\" class=\"sk-toggleable__label sk-toggleable__label-arrow\">DecisionTreeClassifier</label><div class=\"sk-toggleable__content\"><pre>DecisionTreeClassifier(class_weight=&#x27;balanced&#x27;, criterion=&#x27;log_loss&#x27;,\n",
       "                       random_state=42)</pre></div></div></div></div></div>"
      ],
      "text/plain": [
       "DecisionTreeClassifier(class_weight='balanced', criterion='log_loss',\n",
       "                       random_state=42)"
      ]
     },
     "execution_count": 9,
     "metadata": {},
     "output_type": "execute_result"
    }
   ],
   "source": [
    "estimator = bin_class_utils.get_default_model(ESTIMATOR_NAME, MODEL_RANDOM_STATE)\n",
    "estimator"
   ]
  },
  {
   "cell_type": "markdown",
   "id": "80b77fe8",
   "metadata": {},
   "source": [
    "#### 6. Define composite model"
   ]
  },
  {
   "cell_type": "code",
   "execution_count": 10,
   "id": "478a9413",
   "metadata": {
    "ExecuteTime": {
     "end_time": "2023-12-10T13:55:42.510640Z",
     "start_time": "2023-12-10T13:55:42.484844Z"
    }
   },
   "outputs": [
    {
     "data": {
      "text/html": [
       "<style>#sk-container-id-3 {color: black;}#sk-container-id-3 pre{padding: 0;}#sk-container-id-3 div.sk-toggleable {background-color: white;}#sk-container-id-3 label.sk-toggleable__label {cursor: pointer;display: block;width: 100%;margin-bottom: 0;padding: 0.3em;box-sizing: border-box;text-align: center;}#sk-container-id-3 label.sk-toggleable__label-arrow:before {content: \"▸\";float: left;margin-right: 0.25em;color: #696969;}#sk-container-id-3 label.sk-toggleable__label-arrow:hover:before {color: black;}#sk-container-id-3 div.sk-estimator:hover label.sk-toggleable__label-arrow:before {color: black;}#sk-container-id-3 div.sk-toggleable__content {max-height: 0;max-width: 0;overflow: hidden;text-align: left;background-color: #f0f8ff;}#sk-container-id-3 div.sk-toggleable__content pre {margin: 0.2em;color: black;border-radius: 0.25em;background-color: #f0f8ff;}#sk-container-id-3 input.sk-toggleable__control:checked~div.sk-toggleable__content {max-height: 200px;max-width: 100%;overflow: auto;}#sk-container-id-3 input.sk-toggleable__control:checked~label.sk-toggleable__label-arrow:before {content: \"▾\";}#sk-container-id-3 div.sk-estimator input.sk-toggleable__control:checked~label.sk-toggleable__label {background-color: #d4ebff;}#sk-container-id-3 div.sk-label input.sk-toggleable__control:checked~label.sk-toggleable__label {background-color: #d4ebff;}#sk-container-id-3 input.sk-hidden--visually {border: 0;clip: rect(1px 1px 1px 1px);clip: rect(1px, 1px, 1px, 1px);height: 1px;margin: -1px;overflow: hidden;padding: 0;position: absolute;width: 1px;}#sk-container-id-3 div.sk-estimator {font-family: monospace;background-color: #f0f8ff;border: 1px dotted black;border-radius: 0.25em;box-sizing: border-box;margin-bottom: 0.5em;}#sk-container-id-3 div.sk-estimator:hover {background-color: #d4ebff;}#sk-container-id-3 div.sk-parallel-item::after {content: \"\";width: 100%;border-bottom: 1px solid gray;flex-grow: 1;}#sk-container-id-3 div.sk-label:hover label.sk-toggleable__label {background-color: #d4ebff;}#sk-container-id-3 div.sk-serial::before {content: \"\";position: absolute;border-left: 1px solid gray;box-sizing: border-box;top: 0;bottom: 0;left: 50%;z-index: 0;}#sk-container-id-3 div.sk-serial {display: flex;flex-direction: column;align-items: center;background-color: white;padding-right: 0.2em;padding-left: 0.2em;position: relative;}#sk-container-id-3 div.sk-item {position: relative;z-index: 1;}#sk-container-id-3 div.sk-parallel {display: flex;align-items: stretch;justify-content: center;background-color: white;position: relative;}#sk-container-id-3 div.sk-item::before, #sk-container-id-3 div.sk-parallel-item::before {content: \"\";position: absolute;border-left: 1px solid gray;box-sizing: border-box;top: 0;bottom: 0;left: 50%;z-index: -1;}#sk-container-id-3 div.sk-parallel-item {display: flex;flex-direction: column;z-index: 1;position: relative;background-color: white;}#sk-container-id-3 div.sk-parallel-item:first-child::after {align-self: flex-end;width: 50%;}#sk-container-id-3 div.sk-parallel-item:last-child::after {align-self: flex-start;width: 50%;}#sk-container-id-3 div.sk-parallel-item:only-child::after {width: 0;}#sk-container-id-3 div.sk-dashed-wrapped {border: 1px dashed gray;margin: 0 0.4em 0.5em 0.4em;box-sizing: border-box;padding-bottom: 0.4em;background-color: white;}#sk-container-id-3 div.sk-label label {font-family: monospace;font-weight: bold;display: inline-block;line-height: 1.2em;}#sk-container-id-3 div.sk-label-container {text-align: center;}#sk-container-id-3 div.sk-container {/* jupyter's `normalize.less` sets `[hidden] { display: none; }` but bootstrap.min.css set `[hidden] { display: none !important; }` so we also need the `!important` here to be able to override the default hidden behavior on the sphinx rendered scikit-learn.org. See: https://github.com/scikit-learn/scikit-learn/issues/21755 */display: inline-block !important;position: relative;}#sk-container-id-3 div.sk-text-repr-fallback {display: none;}</style><div id=\"sk-container-id-3\" class=\"sk-top-container\"><div class=\"sk-text-repr-fallback\"><pre>Pipeline(steps=[(&#x27;preprocessor&#x27;,\n",
       "                 ColumnTransformer(transformers=[(&#x27;numerical&#x27;,\n",
       "                                                  Pipeline(steps=[(&#x27;column_dropper&#x27;,\n",
       "                                                                   DropColumnsTransformer(attrs_to_drop=[&#x27;uid&#x27;,\n",
       "                                                                                                         &#x27;app_score&#x27;,\n",
       "                                                                                                         &#x27;his_on_shelf_time&#x27;,\n",
       "                                                                                                         &#x27;task_id&#x27;,\n",
       "                                                                                                         &#x27;spread_app_id&#x27;,\n",
       "                                                                                                         &#x27;tags&#x27;,\n",
       "                                                                                                         &#x27;dev_id&#x27;])),\n",
       "                                                                  (&#x27;imputer&#x27;,\n",
       "                                                                   SimpleImputer()),\n",
       "                                                                  (&#x27;scaler&#x27;,\n",
       "                                                                   StandardScaler())]),\n",
       "                                                  []),\n",
       "                                                 (&#x27;categorical&#x27;,\n",
       "                                                  Pipeline(steps=[(&#x27;column_dropper&#x27;,\n",
       "                                                                   DropCol...\n",
       "                                                   &#x27;city&#x27;, &#x27;city_rank&#x27;,\n",
       "                                                   &#x27;device_name&#x27;, &#x27;device_size&#x27;,\n",
       "                                                   &#x27;career&#x27;, &#x27;gender&#x27;,\n",
       "                                                   &#x27;net_type&#x27;, &#x27;residence&#x27;,\n",
       "                                                   &#x27;his_app_size&#x27;,\n",
       "                                                   &#x27;his_on_shelf_time&#x27;,\n",
       "                                                   &#x27;app_score&#x27;, &#x27;emui_dev&#x27;,\n",
       "                                                   &#x27;list_time&#x27;, &#x27;device_price&#x27;,\n",
       "                                                   &#x27;up_life_duration&#x27;,\n",
       "                                                   &#x27;up_membership_grade&#x27;,\n",
       "                                                   &#x27;membership_life_duration&#x27;, ...])])),\n",
       "                (&#x27;estimator&#x27;,\n",
       "                 DecisionTreeClassifier(class_weight=&#x27;balanced&#x27;,\n",
       "                                        criterion=&#x27;log_loss&#x27;,\n",
       "                                        random_state=42))])</pre><b>In a Jupyter environment, please rerun this cell to show the HTML representation or trust the notebook. <br />On GitHub, the HTML representation is unable to render, please try loading this page with nbviewer.org.</b></div><div class=\"sk-container\" hidden><div class=\"sk-item sk-dashed-wrapped\"><div class=\"sk-label-container\"><div class=\"sk-label sk-toggleable\"><input class=\"sk-toggleable__control sk-hidden--visually\" id=\"sk-estimator-id-12\" type=\"checkbox\" ><label for=\"sk-estimator-id-12\" class=\"sk-toggleable__label sk-toggleable__label-arrow\">Pipeline</label><div class=\"sk-toggleable__content\"><pre>Pipeline(steps=[(&#x27;preprocessor&#x27;,\n",
       "                 ColumnTransformer(transformers=[(&#x27;numerical&#x27;,\n",
       "                                                  Pipeline(steps=[(&#x27;column_dropper&#x27;,\n",
       "                                                                   DropColumnsTransformer(attrs_to_drop=[&#x27;uid&#x27;,\n",
       "                                                                                                         &#x27;app_score&#x27;,\n",
       "                                                                                                         &#x27;his_on_shelf_time&#x27;,\n",
       "                                                                                                         &#x27;task_id&#x27;,\n",
       "                                                                                                         &#x27;spread_app_id&#x27;,\n",
       "                                                                                                         &#x27;tags&#x27;,\n",
       "                                                                                                         &#x27;dev_id&#x27;])),\n",
       "                                                                  (&#x27;imputer&#x27;,\n",
       "                                                                   SimpleImputer()),\n",
       "                                                                  (&#x27;scaler&#x27;,\n",
       "                                                                   StandardScaler())]),\n",
       "                                                  []),\n",
       "                                                 (&#x27;categorical&#x27;,\n",
       "                                                  Pipeline(steps=[(&#x27;column_dropper&#x27;,\n",
       "                                                                   DropCol...\n",
       "                                                   &#x27;city&#x27;, &#x27;city_rank&#x27;,\n",
       "                                                   &#x27;device_name&#x27;, &#x27;device_size&#x27;,\n",
       "                                                   &#x27;career&#x27;, &#x27;gender&#x27;,\n",
       "                                                   &#x27;net_type&#x27;, &#x27;residence&#x27;,\n",
       "                                                   &#x27;his_app_size&#x27;,\n",
       "                                                   &#x27;his_on_shelf_time&#x27;,\n",
       "                                                   &#x27;app_score&#x27;, &#x27;emui_dev&#x27;,\n",
       "                                                   &#x27;list_time&#x27;, &#x27;device_price&#x27;,\n",
       "                                                   &#x27;up_life_duration&#x27;,\n",
       "                                                   &#x27;up_membership_grade&#x27;,\n",
       "                                                   &#x27;membership_life_duration&#x27;, ...])])),\n",
       "                (&#x27;estimator&#x27;,\n",
       "                 DecisionTreeClassifier(class_weight=&#x27;balanced&#x27;,\n",
       "                                        criterion=&#x27;log_loss&#x27;,\n",
       "                                        random_state=42))])</pre></div></div></div><div class=\"sk-serial\"><div class=\"sk-item sk-dashed-wrapped\"><div class=\"sk-label-container\"><div class=\"sk-label sk-toggleable\"><input class=\"sk-toggleable__control sk-hidden--visually\" id=\"sk-estimator-id-13\" type=\"checkbox\" ><label for=\"sk-estimator-id-13\" class=\"sk-toggleable__label sk-toggleable__label-arrow\">preprocessor: ColumnTransformer</label><div class=\"sk-toggleable__content\"><pre>ColumnTransformer(transformers=[(&#x27;numerical&#x27;,\n",
       "                                 Pipeline(steps=[(&#x27;column_dropper&#x27;,\n",
       "                                                  DropColumnsTransformer(attrs_to_drop=[&#x27;uid&#x27;,\n",
       "                                                                                        &#x27;app_score&#x27;,\n",
       "                                                                                        &#x27;his_on_shelf_time&#x27;,\n",
       "                                                                                        &#x27;task_id&#x27;,\n",
       "                                                                                        &#x27;spread_app_id&#x27;,\n",
       "                                                                                        &#x27;tags&#x27;,\n",
       "                                                                                        &#x27;dev_id&#x27;])),\n",
       "                                                 (&#x27;imputer&#x27;, SimpleImputer()),\n",
       "                                                 (&#x27;scaler&#x27;, StandardScaler())]),\n",
       "                                 []),\n",
       "                                (&#x27;categorical&#x27;,\n",
       "                                 Pipeline(steps=[(&#x27;column_dropper&#x27;,\n",
       "                                                  DropColumnsTransformer(attrs_to_drop=[&#x27;...\n",
       "                                  &#x27;adv_prim_id&#x27;, &#x27;dev_id&#x27;, &#x27;inter_type_cd&#x27;,\n",
       "                                  &#x27;slot_id&#x27;, &#x27;spread_app_id&#x27;, &#x27;tags&#x27;,\n",
       "                                  &#x27;app_first_class&#x27;, &#x27;app_second_class&#x27;, &#x27;age&#x27;,\n",
       "                                  &#x27;city&#x27;, &#x27;city_rank&#x27;, &#x27;device_name&#x27;,\n",
       "                                  &#x27;device_size&#x27;, &#x27;career&#x27;, &#x27;gender&#x27;, &#x27;net_type&#x27;,\n",
       "                                  &#x27;residence&#x27;, &#x27;his_app_size&#x27;,\n",
       "                                  &#x27;his_on_shelf_time&#x27;, &#x27;app_score&#x27;, &#x27;emui_dev&#x27;,\n",
       "                                  &#x27;list_time&#x27;, &#x27;device_price&#x27;,\n",
       "                                  &#x27;up_life_duration&#x27;, &#x27;up_membership_grade&#x27;,\n",
       "                                  &#x27;membership_life_duration&#x27;, ...])])</pre></div></div></div><div class=\"sk-parallel\"><div class=\"sk-parallel-item\"><div class=\"sk-item\"><div class=\"sk-label-container\"><div class=\"sk-label sk-toggleable\"><input class=\"sk-toggleable__control sk-hidden--visually\" id=\"sk-estimator-id-14\" type=\"checkbox\" ><label for=\"sk-estimator-id-14\" class=\"sk-toggleable__label sk-toggleable__label-arrow\">numerical</label><div class=\"sk-toggleable__content\"><pre>[]</pre></div></div></div><div class=\"sk-serial\"><div class=\"sk-item\"><div class=\"sk-serial\"><div class=\"sk-item\"><div class=\"sk-estimator sk-toggleable\"><input class=\"sk-toggleable__control sk-hidden--visually\" id=\"sk-estimator-id-15\" type=\"checkbox\" ><label for=\"sk-estimator-id-15\" class=\"sk-toggleable__label sk-toggleable__label-arrow\">DropColumnsTransformer</label><div class=\"sk-toggleable__content\"><pre>DropColumnsTransformer(attrs_to_drop=[&#x27;uid&#x27;, &#x27;app_score&#x27;, &#x27;his_on_shelf_time&#x27;,\n",
       "                                      &#x27;task_id&#x27;, &#x27;spread_app_id&#x27;, &#x27;tags&#x27;,\n",
       "                                      &#x27;dev_id&#x27;])</pre></div></div></div><div class=\"sk-item\"><div class=\"sk-estimator sk-toggleable\"><input class=\"sk-toggleable__control sk-hidden--visually\" id=\"sk-estimator-id-16\" type=\"checkbox\" ><label for=\"sk-estimator-id-16\" class=\"sk-toggleable__label sk-toggleable__label-arrow\">SimpleImputer</label><div class=\"sk-toggleable__content\"><pre>SimpleImputer()</pre></div></div></div><div class=\"sk-item\"><div class=\"sk-estimator sk-toggleable\"><input class=\"sk-toggleable__control sk-hidden--visually\" id=\"sk-estimator-id-17\" type=\"checkbox\" ><label for=\"sk-estimator-id-17\" class=\"sk-toggleable__label sk-toggleable__label-arrow\">StandardScaler</label><div class=\"sk-toggleable__content\"><pre>StandardScaler()</pre></div></div></div></div></div></div></div></div><div class=\"sk-parallel-item\"><div class=\"sk-item\"><div class=\"sk-label-container\"><div class=\"sk-label sk-toggleable\"><input class=\"sk-toggleable__control sk-hidden--visually\" id=\"sk-estimator-id-18\" type=\"checkbox\" ><label for=\"sk-estimator-id-18\" class=\"sk-toggleable__label sk-toggleable__label-arrow\">categorical</label><div class=\"sk-toggleable__content\"><pre>[&#x27;uid&#x27;, &#x27;task_id&#x27;, &#x27;adv_id&#x27;, &#x27;creat_type_cd&#x27;, &#x27;adv_prim_id&#x27;, &#x27;dev_id&#x27;, &#x27;inter_type_cd&#x27;, &#x27;slot_id&#x27;, &#x27;spread_app_id&#x27;, &#x27;tags&#x27;, &#x27;app_first_class&#x27;, &#x27;app_second_class&#x27;, &#x27;age&#x27;, &#x27;city&#x27;, &#x27;city_rank&#x27;, &#x27;device_name&#x27;, &#x27;device_size&#x27;, &#x27;career&#x27;, &#x27;gender&#x27;, &#x27;net_type&#x27;, &#x27;residence&#x27;, &#x27;his_app_size&#x27;, &#x27;his_on_shelf_time&#x27;, &#x27;app_score&#x27;, &#x27;emui_dev&#x27;, &#x27;list_time&#x27;, &#x27;device_price&#x27;, &#x27;up_life_duration&#x27;, &#x27;up_membership_grade&#x27;, &#x27;membership_life_duration&#x27;, &#x27;consume_purchase&#x27;, &#x27;communication_onlinerate&#x27;, &#x27;communication_avgonline_30d&#x27;, &#x27;indu_name&#x27;, &#x27;pt_d&#x27;]</pre></div></div></div><div class=\"sk-serial\"><div class=\"sk-item\"><div class=\"sk-serial\"><div class=\"sk-item\"><div class=\"sk-estimator sk-toggleable\"><input class=\"sk-toggleable__control sk-hidden--visually\" id=\"sk-estimator-id-19\" type=\"checkbox\" ><label for=\"sk-estimator-id-19\" class=\"sk-toggleable__label sk-toggleable__label-arrow\">DropColumnsTransformer</label><div class=\"sk-toggleable__content\"><pre>DropColumnsTransformer(attrs_to_drop=[&#x27;uid&#x27;, &#x27;app_score&#x27;, &#x27;his_on_shelf_time&#x27;,\n",
       "                                      &#x27;task_id&#x27;, &#x27;spread_app_id&#x27;, &#x27;tags&#x27;,\n",
       "                                      &#x27;dev_id&#x27;])</pre></div></div></div><div class=\"sk-item\"><div class=\"sk-estimator sk-toggleable\"><input class=\"sk-toggleable__control sk-hidden--visually\" id=\"sk-estimator-id-20\" type=\"checkbox\" ><label for=\"sk-estimator-id-20\" class=\"sk-toggleable__label sk-toggleable__label-arrow\">SimpleImputer</label><div class=\"sk-toggleable__content\"><pre>SimpleImputer(strategy=&#x27;most_frequent&#x27;)</pre></div></div></div><div class=\"sk-item\"><div class=\"sk-estimator sk-toggleable\"><input class=\"sk-toggleable__control sk-hidden--visually\" id=\"sk-estimator-id-21\" type=\"checkbox\" ><label for=\"sk-estimator-id-21\" class=\"sk-toggleable__label sk-toggleable__label-arrow\">TargetEncoder</label><div class=\"sk-toggleable__content\"><pre>TargetEncoder(random_state=42, target_type=&#x27;binary&#x27;)</pre></div></div></div><div class=\"sk-item\"><div class=\"sk-estimator sk-toggleable\"><input class=\"sk-toggleable__control sk-hidden--visually\" id=\"sk-estimator-id-22\" type=\"checkbox\" ><label for=\"sk-estimator-id-22\" class=\"sk-toggleable__label sk-toggleable__label-arrow\">StandardScaler</label><div class=\"sk-toggleable__content\"><pre>StandardScaler()</pre></div></div></div></div></div></div></div></div></div></div><div class=\"sk-item\"><div class=\"sk-estimator sk-toggleable\"><input class=\"sk-toggleable__control sk-hidden--visually\" id=\"sk-estimator-id-23\" type=\"checkbox\" ><label for=\"sk-estimator-id-23\" class=\"sk-toggleable__label sk-toggleable__label-arrow\">DecisionTreeClassifier</label><div class=\"sk-toggleable__content\"><pre>DecisionTreeClassifier(class_weight=&#x27;balanced&#x27;, criterion=&#x27;log_loss&#x27;,\n",
       "                       random_state=42)</pre></div></div></div></div></div></div></div>"
      ],
      "text/plain": [
       "Pipeline(steps=[('preprocessor',\n",
       "                 ColumnTransformer(transformers=[('numerical',\n",
       "                                                  Pipeline(steps=[('column_dropper',\n",
       "                                                                   DropColumnsTransformer(attrs_to_drop=['uid',\n",
       "                                                                                                         'app_score',\n",
       "                                                                                                         'his_on_shelf_time',\n",
       "                                                                                                         'task_id',\n",
       "                                                                                                         'spread_app_id',\n",
       "                                                                                                         'tags',\n",
       "                                                                                                         'dev_id'])),\n",
       "                                                                  ('imputer',\n",
       "                                                                   SimpleImputer()),\n",
       "                                                                  ('scaler',\n",
       "                                                                   StandardScaler())]),\n",
       "                                                  []),\n",
       "                                                 ('categorical',\n",
       "                                                  Pipeline(steps=[('column_dropper',\n",
       "                                                                   DropCol...\n",
       "                                                   'city', 'city_rank',\n",
       "                                                   'device_name', 'device_size',\n",
       "                                                   'career', 'gender',\n",
       "                                                   'net_type', 'residence',\n",
       "                                                   'his_app_size',\n",
       "                                                   'his_on_shelf_time',\n",
       "                                                   'app_score', 'emui_dev',\n",
       "                                                   'list_time', 'device_price',\n",
       "                                                   'up_life_duration',\n",
       "                                                   'up_membership_grade',\n",
       "                                                   'membership_life_duration', ...])])),\n",
       "                ('estimator',\n",
       "                 DecisionTreeClassifier(class_weight='balanced',\n",
       "                                        criterion='log_loss',\n",
       "                                        random_state=42))])"
      ]
     },
     "execution_count": 10,
     "metadata": {},
     "output_type": "execute_result"
    }
   ],
   "source": [
    "composite_estimator = Pipeline(steps=[\n",
    "    ('preprocessor', preprocessor), \n",
    "    ('estimator', estimator)\n",
    "])\n",
    "composite_estimator"
   ]
  },
  {
   "cell_type": "code",
   "execution_count": 11,
   "id": "ddf277b4",
   "metadata": {
    "ExecuteTime": {
     "end_time": "2023-12-10T13:55:42.510848Z",
     "start_time": "2023-12-10T13:55:42.492122Z"
    }
   },
   "outputs": [],
   "source": [
    "train_cap_x_df, train_y_df = train_df_sample.drop(columns=TARGET_ATTR), train_df_sample[[TARGET_ATTR]]\n",
    "del train_df_sample"
   ]
  },
  {
   "cell_type": "code",
   "execution_count": 12,
   "id": "0d52203f-99c0-471c-84f0-92979d969b8d",
   "metadata": {
    "ExecuteTime": {
     "end_time": "2023-12-10T13:55:43.226926Z",
     "start_time": "2023-12-10T13:55:42.501682Z"
    }
   },
   "outputs": [
    {
     "data": {
      "text/html": [
       "<style>#sk-container-id-4 {color: black;}#sk-container-id-4 pre{padding: 0;}#sk-container-id-4 div.sk-toggleable {background-color: white;}#sk-container-id-4 label.sk-toggleable__label {cursor: pointer;display: block;width: 100%;margin-bottom: 0;padding: 0.3em;box-sizing: border-box;text-align: center;}#sk-container-id-4 label.sk-toggleable__label-arrow:before {content: \"▸\";float: left;margin-right: 0.25em;color: #696969;}#sk-container-id-4 label.sk-toggleable__label-arrow:hover:before {color: black;}#sk-container-id-4 div.sk-estimator:hover label.sk-toggleable__label-arrow:before {color: black;}#sk-container-id-4 div.sk-toggleable__content {max-height: 0;max-width: 0;overflow: hidden;text-align: left;background-color: #f0f8ff;}#sk-container-id-4 div.sk-toggleable__content pre {margin: 0.2em;color: black;border-radius: 0.25em;background-color: #f0f8ff;}#sk-container-id-4 input.sk-toggleable__control:checked~div.sk-toggleable__content {max-height: 200px;max-width: 100%;overflow: auto;}#sk-container-id-4 input.sk-toggleable__control:checked~label.sk-toggleable__label-arrow:before {content: \"▾\";}#sk-container-id-4 div.sk-estimator input.sk-toggleable__control:checked~label.sk-toggleable__label {background-color: #d4ebff;}#sk-container-id-4 div.sk-label input.sk-toggleable__control:checked~label.sk-toggleable__label {background-color: #d4ebff;}#sk-container-id-4 input.sk-hidden--visually {border: 0;clip: rect(1px 1px 1px 1px);clip: rect(1px, 1px, 1px, 1px);height: 1px;margin: -1px;overflow: hidden;padding: 0;position: absolute;width: 1px;}#sk-container-id-4 div.sk-estimator {font-family: monospace;background-color: #f0f8ff;border: 1px dotted black;border-radius: 0.25em;box-sizing: border-box;margin-bottom: 0.5em;}#sk-container-id-4 div.sk-estimator:hover {background-color: #d4ebff;}#sk-container-id-4 div.sk-parallel-item::after {content: \"\";width: 100%;border-bottom: 1px solid gray;flex-grow: 1;}#sk-container-id-4 div.sk-label:hover label.sk-toggleable__label {background-color: #d4ebff;}#sk-container-id-4 div.sk-serial::before {content: \"\";position: absolute;border-left: 1px solid gray;box-sizing: border-box;top: 0;bottom: 0;left: 50%;z-index: 0;}#sk-container-id-4 div.sk-serial {display: flex;flex-direction: column;align-items: center;background-color: white;padding-right: 0.2em;padding-left: 0.2em;position: relative;}#sk-container-id-4 div.sk-item {position: relative;z-index: 1;}#sk-container-id-4 div.sk-parallel {display: flex;align-items: stretch;justify-content: center;background-color: white;position: relative;}#sk-container-id-4 div.sk-item::before, #sk-container-id-4 div.sk-parallel-item::before {content: \"\";position: absolute;border-left: 1px solid gray;box-sizing: border-box;top: 0;bottom: 0;left: 50%;z-index: -1;}#sk-container-id-4 div.sk-parallel-item {display: flex;flex-direction: column;z-index: 1;position: relative;background-color: white;}#sk-container-id-4 div.sk-parallel-item:first-child::after {align-self: flex-end;width: 50%;}#sk-container-id-4 div.sk-parallel-item:last-child::after {align-self: flex-start;width: 50%;}#sk-container-id-4 div.sk-parallel-item:only-child::after {width: 0;}#sk-container-id-4 div.sk-dashed-wrapped {border: 1px dashed gray;margin: 0 0.4em 0.5em 0.4em;box-sizing: border-box;padding-bottom: 0.4em;background-color: white;}#sk-container-id-4 div.sk-label label {font-family: monospace;font-weight: bold;display: inline-block;line-height: 1.2em;}#sk-container-id-4 div.sk-label-container {text-align: center;}#sk-container-id-4 div.sk-container {/* jupyter's `normalize.less` sets `[hidden] { display: none; }` but bootstrap.min.css set `[hidden] { display: none !important; }` so we also need the `!important` here to be able to override the default hidden behavior on the sphinx rendered scikit-learn.org. See: https://github.com/scikit-learn/scikit-learn/issues/21755 */display: inline-block !important;position: relative;}#sk-container-id-4 div.sk-text-repr-fallback {display: none;}</style><div id=\"sk-container-id-4\" class=\"sk-top-container\"><div class=\"sk-text-repr-fallback\"><pre>Pipeline(steps=[(&#x27;preprocessor&#x27;,\n",
       "                 ColumnTransformer(transformers=[(&#x27;numerical&#x27;,\n",
       "                                                  Pipeline(steps=[(&#x27;column_dropper&#x27;,\n",
       "                                                                   DropColumnsTransformer(attrs_to_drop=[&#x27;uid&#x27;,\n",
       "                                                                                                         &#x27;app_score&#x27;,\n",
       "                                                                                                         &#x27;his_on_shelf_time&#x27;,\n",
       "                                                                                                         &#x27;task_id&#x27;,\n",
       "                                                                                                         &#x27;spread_app_id&#x27;,\n",
       "                                                                                                         &#x27;tags&#x27;,\n",
       "                                                                                                         &#x27;dev_id&#x27;])),\n",
       "                                                                  (&#x27;imputer&#x27;,\n",
       "                                                                   SimpleImputer()),\n",
       "                                                                  (&#x27;scaler&#x27;,\n",
       "                                                                   StandardScaler())]),\n",
       "                                                  []),\n",
       "                                                 (&#x27;categorical&#x27;,\n",
       "                                                  Pipeline(steps=[(&#x27;column_dropper&#x27;,\n",
       "                                                                   DropCol...\n",
       "                                                   &#x27;city&#x27;, &#x27;city_rank&#x27;,\n",
       "                                                   &#x27;device_name&#x27;, &#x27;device_size&#x27;,\n",
       "                                                   &#x27;career&#x27;, &#x27;gender&#x27;,\n",
       "                                                   &#x27;net_type&#x27;, &#x27;residence&#x27;,\n",
       "                                                   &#x27;his_app_size&#x27;,\n",
       "                                                   &#x27;his_on_shelf_time&#x27;,\n",
       "                                                   &#x27;app_score&#x27;, &#x27;emui_dev&#x27;,\n",
       "                                                   &#x27;list_time&#x27;, &#x27;device_price&#x27;,\n",
       "                                                   &#x27;up_life_duration&#x27;,\n",
       "                                                   &#x27;up_membership_grade&#x27;,\n",
       "                                                   &#x27;membership_life_duration&#x27;, ...])])),\n",
       "                (&#x27;estimator&#x27;,\n",
       "                 DecisionTreeClassifier(class_weight=&#x27;balanced&#x27;,\n",
       "                                        criterion=&#x27;log_loss&#x27;,\n",
       "                                        random_state=42))])</pre><b>In a Jupyter environment, please rerun this cell to show the HTML representation or trust the notebook. <br />On GitHub, the HTML representation is unable to render, please try loading this page with nbviewer.org.</b></div><div class=\"sk-container\" hidden><div class=\"sk-item sk-dashed-wrapped\"><div class=\"sk-label-container\"><div class=\"sk-label sk-toggleable\"><input class=\"sk-toggleable__control sk-hidden--visually\" id=\"sk-estimator-id-24\" type=\"checkbox\" ><label for=\"sk-estimator-id-24\" class=\"sk-toggleable__label sk-toggleable__label-arrow\">Pipeline</label><div class=\"sk-toggleable__content\"><pre>Pipeline(steps=[(&#x27;preprocessor&#x27;,\n",
       "                 ColumnTransformer(transformers=[(&#x27;numerical&#x27;,\n",
       "                                                  Pipeline(steps=[(&#x27;column_dropper&#x27;,\n",
       "                                                                   DropColumnsTransformer(attrs_to_drop=[&#x27;uid&#x27;,\n",
       "                                                                                                         &#x27;app_score&#x27;,\n",
       "                                                                                                         &#x27;his_on_shelf_time&#x27;,\n",
       "                                                                                                         &#x27;task_id&#x27;,\n",
       "                                                                                                         &#x27;spread_app_id&#x27;,\n",
       "                                                                                                         &#x27;tags&#x27;,\n",
       "                                                                                                         &#x27;dev_id&#x27;])),\n",
       "                                                                  (&#x27;imputer&#x27;,\n",
       "                                                                   SimpleImputer()),\n",
       "                                                                  (&#x27;scaler&#x27;,\n",
       "                                                                   StandardScaler())]),\n",
       "                                                  []),\n",
       "                                                 (&#x27;categorical&#x27;,\n",
       "                                                  Pipeline(steps=[(&#x27;column_dropper&#x27;,\n",
       "                                                                   DropCol...\n",
       "                                                   &#x27;city&#x27;, &#x27;city_rank&#x27;,\n",
       "                                                   &#x27;device_name&#x27;, &#x27;device_size&#x27;,\n",
       "                                                   &#x27;career&#x27;, &#x27;gender&#x27;,\n",
       "                                                   &#x27;net_type&#x27;, &#x27;residence&#x27;,\n",
       "                                                   &#x27;his_app_size&#x27;,\n",
       "                                                   &#x27;his_on_shelf_time&#x27;,\n",
       "                                                   &#x27;app_score&#x27;, &#x27;emui_dev&#x27;,\n",
       "                                                   &#x27;list_time&#x27;, &#x27;device_price&#x27;,\n",
       "                                                   &#x27;up_life_duration&#x27;,\n",
       "                                                   &#x27;up_membership_grade&#x27;,\n",
       "                                                   &#x27;membership_life_duration&#x27;, ...])])),\n",
       "                (&#x27;estimator&#x27;,\n",
       "                 DecisionTreeClassifier(class_weight=&#x27;balanced&#x27;,\n",
       "                                        criterion=&#x27;log_loss&#x27;,\n",
       "                                        random_state=42))])</pre></div></div></div><div class=\"sk-serial\"><div class=\"sk-item sk-dashed-wrapped\"><div class=\"sk-label-container\"><div class=\"sk-label sk-toggleable\"><input class=\"sk-toggleable__control sk-hidden--visually\" id=\"sk-estimator-id-25\" type=\"checkbox\" ><label for=\"sk-estimator-id-25\" class=\"sk-toggleable__label sk-toggleable__label-arrow\">preprocessor: ColumnTransformer</label><div class=\"sk-toggleable__content\"><pre>ColumnTransformer(transformers=[(&#x27;numerical&#x27;,\n",
       "                                 Pipeline(steps=[(&#x27;column_dropper&#x27;,\n",
       "                                                  DropColumnsTransformer(attrs_to_drop=[&#x27;uid&#x27;,\n",
       "                                                                                        &#x27;app_score&#x27;,\n",
       "                                                                                        &#x27;his_on_shelf_time&#x27;,\n",
       "                                                                                        &#x27;task_id&#x27;,\n",
       "                                                                                        &#x27;spread_app_id&#x27;,\n",
       "                                                                                        &#x27;tags&#x27;,\n",
       "                                                                                        &#x27;dev_id&#x27;])),\n",
       "                                                 (&#x27;imputer&#x27;, SimpleImputer()),\n",
       "                                                 (&#x27;scaler&#x27;, StandardScaler())]),\n",
       "                                 []),\n",
       "                                (&#x27;categorical&#x27;,\n",
       "                                 Pipeline(steps=[(&#x27;column_dropper&#x27;,\n",
       "                                                  DropColumnsTransformer(attrs_to_drop=[&#x27;...\n",
       "                                  &#x27;adv_prim_id&#x27;, &#x27;dev_id&#x27;, &#x27;inter_type_cd&#x27;,\n",
       "                                  &#x27;slot_id&#x27;, &#x27;spread_app_id&#x27;, &#x27;tags&#x27;,\n",
       "                                  &#x27;app_first_class&#x27;, &#x27;app_second_class&#x27;, &#x27;age&#x27;,\n",
       "                                  &#x27;city&#x27;, &#x27;city_rank&#x27;, &#x27;device_name&#x27;,\n",
       "                                  &#x27;device_size&#x27;, &#x27;career&#x27;, &#x27;gender&#x27;, &#x27;net_type&#x27;,\n",
       "                                  &#x27;residence&#x27;, &#x27;his_app_size&#x27;,\n",
       "                                  &#x27;his_on_shelf_time&#x27;, &#x27;app_score&#x27;, &#x27;emui_dev&#x27;,\n",
       "                                  &#x27;list_time&#x27;, &#x27;device_price&#x27;,\n",
       "                                  &#x27;up_life_duration&#x27;, &#x27;up_membership_grade&#x27;,\n",
       "                                  &#x27;membership_life_duration&#x27;, ...])])</pre></div></div></div><div class=\"sk-parallel\"><div class=\"sk-parallel-item\"><div class=\"sk-item\"><div class=\"sk-label-container\"><div class=\"sk-label sk-toggleable\"><input class=\"sk-toggleable__control sk-hidden--visually\" id=\"sk-estimator-id-26\" type=\"checkbox\" ><label for=\"sk-estimator-id-26\" class=\"sk-toggleable__label sk-toggleable__label-arrow\">numerical</label><div class=\"sk-toggleable__content\"><pre>[]</pre></div></div></div><div class=\"sk-serial\"><div class=\"sk-item\"><div class=\"sk-serial\"><div class=\"sk-item\"><div class=\"sk-estimator sk-toggleable\"><input class=\"sk-toggleable__control sk-hidden--visually\" id=\"sk-estimator-id-27\" type=\"checkbox\" ><label for=\"sk-estimator-id-27\" class=\"sk-toggleable__label sk-toggleable__label-arrow\">DropColumnsTransformer</label><div class=\"sk-toggleable__content\"><pre>DropColumnsTransformer(attrs_to_drop=[&#x27;uid&#x27;, &#x27;app_score&#x27;, &#x27;his_on_shelf_time&#x27;,\n",
       "                                      &#x27;task_id&#x27;, &#x27;spread_app_id&#x27;, &#x27;tags&#x27;,\n",
       "                                      &#x27;dev_id&#x27;])</pre></div></div></div><div class=\"sk-item\"><div class=\"sk-estimator sk-toggleable\"><input class=\"sk-toggleable__control sk-hidden--visually\" id=\"sk-estimator-id-28\" type=\"checkbox\" ><label for=\"sk-estimator-id-28\" class=\"sk-toggleable__label sk-toggleable__label-arrow\">SimpleImputer</label><div class=\"sk-toggleable__content\"><pre>SimpleImputer()</pre></div></div></div><div class=\"sk-item\"><div class=\"sk-estimator sk-toggleable\"><input class=\"sk-toggleable__control sk-hidden--visually\" id=\"sk-estimator-id-29\" type=\"checkbox\" ><label for=\"sk-estimator-id-29\" class=\"sk-toggleable__label sk-toggleable__label-arrow\">StandardScaler</label><div class=\"sk-toggleable__content\"><pre>StandardScaler()</pre></div></div></div></div></div></div></div></div><div class=\"sk-parallel-item\"><div class=\"sk-item\"><div class=\"sk-label-container\"><div class=\"sk-label sk-toggleable\"><input class=\"sk-toggleable__control sk-hidden--visually\" id=\"sk-estimator-id-30\" type=\"checkbox\" ><label for=\"sk-estimator-id-30\" class=\"sk-toggleable__label sk-toggleable__label-arrow\">categorical</label><div class=\"sk-toggleable__content\"><pre>[&#x27;uid&#x27;, &#x27;task_id&#x27;, &#x27;adv_id&#x27;, &#x27;creat_type_cd&#x27;, &#x27;adv_prim_id&#x27;, &#x27;dev_id&#x27;, &#x27;inter_type_cd&#x27;, &#x27;slot_id&#x27;, &#x27;spread_app_id&#x27;, &#x27;tags&#x27;, &#x27;app_first_class&#x27;, &#x27;app_second_class&#x27;, &#x27;age&#x27;, &#x27;city&#x27;, &#x27;city_rank&#x27;, &#x27;device_name&#x27;, &#x27;device_size&#x27;, &#x27;career&#x27;, &#x27;gender&#x27;, &#x27;net_type&#x27;, &#x27;residence&#x27;, &#x27;his_app_size&#x27;, &#x27;his_on_shelf_time&#x27;, &#x27;app_score&#x27;, &#x27;emui_dev&#x27;, &#x27;list_time&#x27;, &#x27;device_price&#x27;, &#x27;up_life_duration&#x27;, &#x27;up_membership_grade&#x27;, &#x27;membership_life_duration&#x27;, &#x27;consume_purchase&#x27;, &#x27;communication_onlinerate&#x27;, &#x27;communication_avgonline_30d&#x27;, &#x27;indu_name&#x27;, &#x27;pt_d&#x27;]</pre></div></div></div><div class=\"sk-serial\"><div class=\"sk-item\"><div class=\"sk-serial\"><div class=\"sk-item\"><div class=\"sk-estimator sk-toggleable\"><input class=\"sk-toggleable__control sk-hidden--visually\" id=\"sk-estimator-id-31\" type=\"checkbox\" ><label for=\"sk-estimator-id-31\" class=\"sk-toggleable__label sk-toggleable__label-arrow\">DropColumnsTransformer</label><div class=\"sk-toggleable__content\"><pre>DropColumnsTransformer(attrs_to_drop=[&#x27;uid&#x27;, &#x27;app_score&#x27;, &#x27;his_on_shelf_time&#x27;,\n",
       "                                      &#x27;task_id&#x27;, &#x27;spread_app_id&#x27;, &#x27;tags&#x27;,\n",
       "                                      &#x27;dev_id&#x27;])</pre></div></div></div><div class=\"sk-item\"><div class=\"sk-estimator sk-toggleable\"><input class=\"sk-toggleable__control sk-hidden--visually\" id=\"sk-estimator-id-32\" type=\"checkbox\" ><label for=\"sk-estimator-id-32\" class=\"sk-toggleable__label sk-toggleable__label-arrow\">SimpleImputer</label><div class=\"sk-toggleable__content\"><pre>SimpleImputer(strategy=&#x27;most_frequent&#x27;)</pre></div></div></div><div class=\"sk-item\"><div class=\"sk-estimator sk-toggleable\"><input class=\"sk-toggleable__control sk-hidden--visually\" id=\"sk-estimator-id-33\" type=\"checkbox\" ><label for=\"sk-estimator-id-33\" class=\"sk-toggleable__label sk-toggleable__label-arrow\">TargetEncoder</label><div class=\"sk-toggleable__content\"><pre>TargetEncoder(random_state=42, target_type=&#x27;binary&#x27;)</pre></div></div></div><div class=\"sk-item\"><div class=\"sk-estimator sk-toggleable\"><input class=\"sk-toggleable__control sk-hidden--visually\" id=\"sk-estimator-id-34\" type=\"checkbox\" ><label for=\"sk-estimator-id-34\" class=\"sk-toggleable__label sk-toggleable__label-arrow\">StandardScaler</label><div class=\"sk-toggleable__content\"><pre>StandardScaler()</pre></div></div></div></div></div></div></div></div></div></div><div class=\"sk-item\"><div class=\"sk-estimator sk-toggleable\"><input class=\"sk-toggleable__control sk-hidden--visually\" id=\"sk-estimator-id-35\" type=\"checkbox\" ><label for=\"sk-estimator-id-35\" class=\"sk-toggleable__label sk-toggleable__label-arrow\">DecisionTreeClassifier</label><div class=\"sk-toggleable__content\"><pre>DecisionTreeClassifier(class_weight=&#x27;balanced&#x27;, criterion=&#x27;log_loss&#x27;,\n",
       "                       random_state=42)</pre></div></div></div></div></div></div></div>"
      ],
      "text/plain": [
       "Pipeline(steps=[('preprocessor',\n",
       "                 ColumnTransformer(transformers=[('numerical',\n",
       "                                                  Pipeline(steps=[('column_dropper',\n",
       "                                                                   DropColumnsTransformer(attrs_to_drop=['uid',\n",
       "                                                                                                         'app_score',\n",
       "                                                                                                         'his_on_shelf_time',\n",
       "                                                                                                         'task_id',\n",
       "                                                                                                         'spread_app_id',\n",
       "                                                                                                         'tags',\n",
       "                                                                                                         'dev_id'])),\n",
       "                                                                  ('imputer',\n",
       "                                                                   SimpleImputer()),\n",
       "                                                                  ('scaler',\n",
       "                                                                   StandardScaler())]),\n",
       "                                                  []),\n",
       "                                                 ('categorical',\n",
       "                                                  Pipeline(steps=[('column_dropper',\n",
       "                                                                   DropCol...\n",
       "                                                   'city', 'city_rank',\n",
       "                                                   'device_name', 'device_size',\n",
       "                                                   'career', 'gender',\n",
       "                                                   'net_type', 'residence',\n",
       "                                                   'his_app_size',\n",
       "                                                   'his_on_shelf_time',\n",
       "                                                   'app_score', 'emui_dev',\n",
       "                                                   'list_time', 'device_price',\n",
       "                                                   'up_life_duration',\n",
       "                                                   'up_membership_grade',\n",
       "                                                   'membership_life_duration', ...])])),\n",
       "                ('estimator',\n",
       "                 DecisionTreeClassifier(class_weight='balanced',\n",
       "                                        criterion='log_loss',\n",
       "                                        random_state=42))])"
      ]
     },
     "execution_count": 12,
     "metadata": {},
     "output_type": "execute_result"
    }
   ],
   "source": [
    "composite_estimator.fit(\n",
    "    train_cap_x_df,\n",
    "    train_y_df.values.ravel()\n",
    ")"
   ]
  },
  {
   "cell_type": "markdown",
   "id": "0c755f72",
   "metadata": {},
   "source": [
    "#### 7. Evaluate model performance on train set"
   ]
  },
  {
   "cell_type": "code",
   "execution_count": 13,
   "id": "e1096619",
   "metadata": {
    "ExecuteTime": {
     "end_time": "2023-12-10T13:55:49.964922Z",
     "start_time": "2023-12-10T13:55:43.226200Z"
    }
   },
   "outputs": [
    {
     "name": "stdout",
     "output_type": "stream",
     "text": [
      "Evaluate the trained estimator performance on train sample set\n",
      "Check accuracy score\n",
      "train sample set accuracy score: 0.9365434529669739\n",
      "\n",
      "Check classification report\n",
      "              precision    recall  f1-score   support\n",
      "\n",
      "           0       0.97      0.96      0.97     32363\n",
      "           1       0.14      0.16      0.15      1156\n",
      "\n",
      "    accuracy                           0.94     33519\n",
      "   macro avg       0.56      0.56      0.56     33519\n",
      "weighted avg       0.94      0.94      0.94     33519\n",
      "\n",
      "\n",
      "Check confusion matrix\n",
      "train sample set confusion matrix: \n",
      "[[31202  1161]\n",
      " [  966   190]]\n",
      "True Positives =  31202\n",
      "True Negatives =  190\n",
      "False Positives(Type I error) =  1161\n",
      "False Negatives(Type II error) =  966\n",
      "\n",
      "Check cross validation score\n",
      "\n",
      "accuracy scores: [0.92914678 0.92571599 0.9252685  0.92556683 0.92704759]\n",
      "np.mean(scores): 0.9265491362646369\n",
      "np.std(scores, ddof=1): 0.0016043147925894076\n",
      "\n",
      "precision scores: [0.05147059 0.07073955 0.06168831 0.05351171 0.03597122]\n",
      "np.mean(scores): 0.054676275694007105\n",
      "np.std(scores, ddof=1): 0.012929704906875412\n",
      "\n",
      "recall scores: [0.06060606 0.0952381  0.08225108 0.06896552 0.04329004]\n",
      "np.mean(scores): 0.07007015972533212\n",
      "np.std(scores, ddof=1): 0.019935921692997453\n",
      "\n",
      "recall scores: [0.06060606 0.0952381  0.08225108 0.06896552 0.04329004]\n",
      "np.mean(scores): 0.07007015972533212\n",
      "np.std(scores, ddof=1): 0.019935921692997453\n",
      "\n",
      "f1 scores: [0.055666   0.08118081 0.07050093 0.06026365 0.03929273]\n",
      "np.mean(scores): 0.06138082555136644\n",
      "np.std(scores, ddof=1): 0.01578770807285665\n",
      "\n",
      "Check the ROC Curve and AUC\n"
     ]
    },
    {
     "data": {
      "image/png": "[encoded data removed]",
      "text/plain": [
       "<Figure size 640x480 with 1 Axes>"
      ]
     },
     "metadata": {},
     "output_type": "display_data"
    },
    {
     "name": "stdout",
     "output_type": "stream",
     "text": [
      "\n",
      "Check Precision-Recall Curve and Average Precision Score\n"
     ]
    },
    {
     "data": {
      "image/png": "[encoded data removed]",
      "text/plain": [
       "<Figure size 640x480 with 1 Axes>"
      ]
     },
     "metadata": {},
     "output_type": "display_data"
    }
   ],
   "source": [
    "bin_class_utils.eval_class(train_cap_x_df, train_y_df, composite_estimator, \"train sample\", CVS_SCORING_LIST)"
   ]
  },
  {
   "cell_type": "markdown",
   "id": "aa914c7fa67ad80b",
   "metadata": {},
   "source": [
    "#### 8. Read in and sample validation data set"
   ]
  },
  {
   "cell_type": "code",
   "execution_count": 14,
   "id": "4988653317c3bc55",
   "metadata": {
    "ExecuteTime": {
     "end_time": "2023-12-10T13:55:50.224629Z",
     "start_time": "2023-12-10T13:55:49.966340Z"
    }
   },
   "outputs": [
    {
     "name": "stdout",
     "output_type": "stream",
     "text": [
      "\n",
      "Read CSV file ../data/validation_df.csv into DataFrame:\n",
      "df.head(): \n"
     ]
    },
    {
     "data": {
      "text/html": [
       "<div>\n",
       "<style scoped>\n",
       "    .dataframe tbody tr th:only-of-type {\n",
       "        vertical-align: middle;\n",
       "    }\n",
       "\n",
       "    .dataframe tbody tr th {\n",
       "        vertical-align: top;\n",
       "    }\n",
       "\n",
       "    .dataframe thead th {\n",
       "        text-align: right;\n",
       "    }\n",
       "</style>\n",
       "<table border=\"1\" class=\"dataframe\">\n",
       "  <thead>\n",
       "    <tr style=\"text-align: right;\">\n",
       "      <th></th>\n",
       "      <th>uid</th>\n",
       "      <th>task_id</th>\n",
       "      <th>adv_id</th>\n",
       "      <th>creat_type_cd</th>\n",
       "      <th>adv_prim_id</th>\n",
       "      <th>dev_id</th>\n",
       "      <th>inter_type_cd</th>\n",
       "      <th>slot_id</th>\n",
       "      <th>spread_app_id</th>\n",
       "      <th>tags</th>\n",
       "      <th>...</th>\n",
       "      <th>device_price</th>\n",
       "      <th>up_life_duration</th>\n",
       "      <th>up_membership_grade</th>\n",
       "      <th>membership_life_duration</th>\n",
       "      <th>consume_purchase</th>\n",
       "      <th>communication_onlinerate</th>\n",
       "      <th>communication_avgonline_30d</th>\n",
       "      <th>indu_name</th>\n",
       "      <th>pt_d</th>\n",
       "      <th>label</th>\n",
       "    </tr>\n",
       "  </thead>\n",
       "  <tbody>\n",
       "    <tr>\n",
       "      <th>0</th>\n",
       "      <td>1451378</td>\n",
       "      <td>2082</td>\n",
       "      <td>3033</td>\n",
       "      <td>7</td>\n",
       "      <td>154</td>\n",
       "      <td>56</td>\n",
       "      <td>5</td>\n",
       "      <td>11</td>\n",
       "      <td>31</td>\n",
       "      <td>40</td>\n",
       "      <td>...</td>\n",
       "      <td>4</td>\n",
       "      <td>20</td>\n",
       "      <td>-1</td>\n",
       "      <td>-1</td>\n",
       "      <td>7</td>\n",
       "      <td>0^1^2^3^4^5^6^7^8^9^10^11^12^13^14^15^16^17^18...</td>\n",
       "      <td>13</td>\n",
       "      <td>17</td>\n",
       "      <td>5</td>\n",
       "      <td>0</td>\n",
       "    </tr>\n",
       "    <tr>\n",
       "      <th>1</th>\n",
       "      <td>1619957</td>\n",
       "      <td>1225</td>\n",
       "      <td>4676</td>\n",
       "      <td>7</td>\n",
       "      <td>178</td>\n",
       "      <td>17</td>\n",
       "      <td>5</td>\n",
       "      <td>17</td>\n",
       "      <td>70</td>\n",
       "      <td>39</td>\n",
       "      <td>...</td>\n",
       "      <td>4</td>\n",
       "      <td>20</td>\n",
       "      <td>-1</td>\n",
       "      <td>-1</td>\n",
       "      <td>2</td>\n",
       "      <td>0^1^2^3^4^5^6^7^8^9^10^11^12^13^14^15^16^17^18...</td>\n",
       "      <td>13</td>\n",
       "      <td>36</td>\n",
       "      <td>6</td>\n",
       "      <td>0</td>\n",
       "    </tr>\n",
       "    <tr>\n",
       "      <th>2</th>\n",
       "      <td>1698084</td>\n",
       "      <td>2206</td>\n",
       "      <td>2822</td>\n",
       "      <td>7</td>\n",
       "      <td>177</td>\n",
       "      <td>56</td>\n",
       "      <td>5</td>\n",
       "      <td>14</td>\n",
       "      <td>31</td>\n",
       "      <td>40</td>\n",
       "      <td>...</td>\n",
       "      <td>5</td>\n",
       "      <td>20</td>\n",
       "      <td>1</td>\n",
       "      <td>-1</td>\n",
       "      <td>2</td>\n",
       "      <td>-1</td>\n",
       "      <td>-1</td>\n",
       "      <td>17</td>\n",
       "      <td>3</td>\n",
       "      <td>0</td>\n",
       "    </tr>\n",
       "    <tr>\n",
       "      <th>3</th>\n",
       "      <td>1983802</td>\n",
       "      <td>5103</td>\n",
       "      <td>2564</td>\n",
       "      <td>7</td>\n",
       "      <td>151</td>\n",
       "      <td>60</td>\n",
       "      <td>4</td>\n",
       "      <td>12</td>\n",
       "      <td>23</td>\n",
       "      <td>26</td>\n",
       "      <td>...</td>\n",
       "      <td>4</td>\n",
       "      <td>20</td>\n",
       "      <td>-1</td>\n",
       "      <td>-1</td>\n",
       "      <td>8</td>\n",
       "      <td>7^8^9^10^11^12^13^14^15^16^17^18^19^20^21^22^23</td>\n",
       "      <td>10</td>\n",
       "      <td>39</td>\n",
       "      <td>5</td>\n",
       "      <td>0</td>\n",
       "    </tr>\n",
       "    <tr>\n",
       "      <th>4</th>\n",
       "      <td>1537560</td>\n",
       "      <td>1098</td>\n",
       "      <td>1732</td>\n",
       "      <td>7</td>\n",
       "      <td>134</td>\n",
       "      <td>55</td>\n",
       "      <td>4</td>\n",
       "      <td>17</td>\n",
       "      <td>65</td>\n",
       "      <td>18</td>\n",
       "      <td>...</td>\n",
       "      <td>4</td>\n",
       "      <td>20</td>\n",
       "      <td>-1</td>\n",
       "      <td>-1</td>\n",
       "      <td>2</td>\n",
       "      <td>3^4^5^6^7^8^9^10^11^12^13^14^15^16^17^18^19^20...</td>\n",
       "      <td>12</td>\n",
       "      <td>14</td>\n",
       "      <td>1</td>\n",
       "      <td>0</td>\n",
       "    </tr>\n",
       "  </tbody>\n",
       "</table>\n",
       "<p>5 rows × 36 columns</p>\n",
       "</div>"
      ],
      "text/plain": [
       "       uid  task_id  adv_id  creat_type_cd  adv_prim_id  dev_id  \\\n",
       "0  1451378     2082    3033              7          154      56   \n",
       "1  1619957     1225    4676              7          178      17   \n",
       "2  1698084     2206    2822              7          177      56   \n",
       "3  1983802     5103    2564              7          151      60   \n",
       "4  1537560     1098    1732              7          134      55   \n",
       "\n",
       "   inter_type_cd  slot_id  spread_app_id  tags  ...  device_price  \\\n",
       "0              5       11             31    40  ...             4   \n",
       "1              5       17             70    39  ...             4   \n",
       "2              5       14             31    40  ...             5   \n",
       "3              4       12             23    26  ...             4   \n",
       "4              4       17             65    18  ...             4   \n",
       "\n",
       "   up_life_duration  up_membership_grade  membership_life_duration  \\\n",
       "0                20                   -1                        -1   \n",
       "1                20                   -1                        -1   \n",
       "2                20                    1                        -1   \n",
       "3                20                   -1                        -1   \n",
       "4                20                   -1                        -1   \n",
       "\n",
       "   consume_purchase                           communication_onlinerate  \\\n",
       "0                 7  0^1^2^3^4^5^6^7^8^9^10^11^12^13^14^15^16^17^18...   \n",
       "1                 2  0^1^2^3^4^5^6^7^8^9^10^11^12^13^14^15^16^17^18...   \n",
       "2                 2                                                 -1   \n",
       "3                 8    7^8^9^10^11^12^13^14^15^16^17^18^19^20^21^22^23   \n",
       "4                 2  3^4^5^6^7^8^9^10^11^12^13^14^15^16^17^18^19^20...   \n",
       "\n",
       "   communication_avgonline_30d  indu_name  pt_d  label  \n",
       "0                           13         17     5      0  \n",
       "1                           13         36     6      0  \n",
       "2                           -1         17     3      0  \n",
       "3                           10         39     5      0  \n",
       "4                           12         14     1      0  \n",
       "\n",
       "[5 rows x 36 columns]"
      ]
     },
     "metadata": {},
     "output_type": "display_data"
    },
    {
     "name": "stdout",
     "output_type": "stream",
     "text": [
      "df.shape: (167629, 36)\n"
     ]
    }
   ],
   "source": [
    "validation_df = general_utils.read_csv(VALIDATION_FILE_PATH)"
   ]
  },
  {
   "cell_type": "code",
   "execution_count": 15,
   "id": "5aead9929ce23a1b",
   "metadata": {
    "ExecuteTime": {
     "end_time": "2023-12-10T13:55:50.334915Z",
     "start_time": "2023-12-10T13:55:50.223439Z"
    }
   },
   "outputs": [
    {
     "name": "stdout",
     "output_type": "stream",
     "text": [
      "\n",
      "Sample 0.05 fraction from DataFrame:\n",
      "sample_df.shape: (8381, 36)\n"
     ]
    }
   ],
   "source": [
    "validation_df_sample = data_prepare_utils.sample_data(validation_df, SAMPLE_SIZE, SAMPLE_RANDOM_STATE)\n",
    "del validation_df"
   ]
  },
  {
   "cell_type": "code",
   "execution_count": 16,
   "id": "9ea13d5a3400ed87",
   "metadata": {
    "ExecuteTime": {
     "end_time": "2023-12-10T13:55:50.335203Z",
     "start_time": "2023-12-10T13:55:50.252919Z"
    }
   },
   "outputs": [],
   "source": [
    "validation_cap_x_df, validation_y_df = validation_df_sample.drop(columns=TARGET_ATTR), validation_df_sample[[TARGET_ATTR]]\n",
    "del validation_df_sample"
   ]
  },
  {
   "cell_type": "markdown",
   "id": "e7f0a9db9e64f8ed",
   "metadata": {},
   "source": [
    "#### 9. Evaluate model performance on validation set"
   ]
  },
  {
   "cell_type": "code",
   "execution_count": 17,
   "id": "e711979d88e2d7a6",
   "metadata": {
    "ExecuteTime": {
     "end_time": "2023-12-10T13:55:52.133420Z",
     "start_time": "2023-12-10T13:55:50.260713Z"
    }
   },
   "outputs": [
    {
     "name": "stdout",
     "output_type": "stream",
     "text": [
      "Evaluate the trained estimator performance on validation sample set\n",
      "Check accuracy score\n",
      "validation sample set accuracy score: 0.9297219902159647\n",
      "\n",
      "Check classification report\n",
      "              precision    recall  f1-score   support\n",
      "\n",
      "           0       0.97      0.96      0.96      8092\n",
      "           1       0.04      0.05      0.05       289\n",
      "\n",
      "    accuracy                           0.93      8381\n",
      "   macro avg       0.50      0.50      0.50      8381\n",
      "weighted avg       0.93      0.93      0.93      8381\n",
      "\n",
      "\n",
      "Check confusion matrix\n",
      "validation sample set confusion matrix: \n",
      "[[7778  314]\n",
      " [ 275   14]]\n",
      "True Positives =  7778\n",
      "True Negatives =  14\n",
      "False Positives(Type I error) =  314\n",
      "False Negatives(Type II error) =  275\n",
      "\n",
      "Check cross validation score\n",
      "\n",
      "accuracy scores: [0.91949911 0.92124105 0.94033413 0.93078759 0.92004773]\n",
      "np.mean(scores): 0.926381921347787\n",
      "np.std(scores, ddof=1): 0.009055352878962203\n",
      "\n",
      "precision scores: [0.02469136 0.03703704 0.125      0.09722222 0.07777778]\n",
      "np.mean(scores): 0.07234567901234568\n",
      "np.std(scores, ddof=1): 0.0416487158405758\n",
      "\n",
      "recall scores: [0.03448276 0.05263158 0.12068966 0.12068966 0.12068966]\n",
      "np.mean(scores): 0.08983666061705989\n",
      "np.std(scores, ddof=1): 0.042731704820221796\n",
      "\n",
      "recall scores: [0.03448276 0.05263158 0.12068966 0.12068966 0.12068966]\n",
      "np.mean(scores): 0.08983666061705989\n",
      "np.std(scores, ddof=1): 0.042731704820221796\n",
      "\n",
      "f1 scores: [0.02877698 0.04347826 0.12280702 0.10769231 0.09459459]\n",
      "np.mean(scores): 0.07946983182351866\n",
      "np.std(scores, ddof=1): 0.04113555890408655\n",
      "\n",
      "Check the ROC Curve and AUC\n"
     ]
    },
    {
     "data": {
      "image/png": "[encoded data removed]",
      "text/plain": [
       "<Figure size 640x480 with 1 Axes>"
      ]
     },
     "metadata": {},
     "output_type": "display_data"
    },
    {
     "name": "stdout",
     "output_type": "stream",
     "text": [
      "\n",
      "Check Precision-Recall Curve and Average Precision Score\n"
     ]
    },
    {
     "data": {
      "image/png": "[encoded data removed]",
      "text/plain": [
       "<Figure size 640x480 with 1 Axes>"
      ]
     },
     "metadata": {},
     "output_type": "display_data"
    }
   ],
   "source": [
    "bin_class_utils.eval_class(validation_cap_x_df, validation_y_df, composite_estimator, \"validation sample\", CVS_SCORING_LIST)"
   ]
  },
  {
   "cell_type": "markdown",
   "id": "6c19fff3",
   "metadata": {},
   "source": [
    "#### 10. Check the most significant attributes"
   ]
  },
  {
   "cell_type": "code",
   "execution_count": 18,
   "id": "fc9b6da7-6377-4f79-aa72-db8b1a13da44",
   "metadata": {
    "ExecuteTime": {
     "end_time": "2023-12-10T13:56:43.486616Z",
     "start_time": "2023-12-10T13:55:52.132196Z"
    }
   },
   "outputs": [
    {
     "name": "stdout",
     "output_type": "stream",
     "text": [
      "\n",
      "Check out permutation importance:\n"
     ]
    },
    {
     "data": {
      "text/html": [
       "<div>\n",
       "<style scoped>\n",
       "    .dataframe tbody tr th:only-of-type {\n",
       "        vertical-align: middle;\n",
       "    }\n",
       "\n",
       "    .dataframe tbody tr th {\n",
       "        vertical-align: top;\n",
       "    }\n",
       "\n",
       "    .dataframe thead th {\n",
       "        text-align: right;\n",
       "    }\n",
       "</style>\n",
       "<table border=\"1\" class=\"dataframe\">\n",
       "  <thead>\n",
       "    <tr style=\"text-align: right;\">\n",
       "      <th></th>\n",
       "      <th>metric_name</th>\n",
       "      <th>feature_name</th>\n",
       "      <th>metric_mean</th>\n",
       "      <th>metric_std_dev</th>\n",
       "    </tr>\n",
       "  </thead>\n",
       "  <tbody>\n",
       "    <tr>\n",
       "      <th>0</th>\n",
       "      <td>average_precision</td>\n",
       "      <td>slot_id</td>\n",
       "      <td>0.014788</td>\n",
       "      <td>0.000735</td>\n",
       "    </tr>\n",
       "    <tr>\n",
       "      <th>1</th>\n",
       "      <td>average_precision</td>\n",
       "      <td>adv_id</td>\n",
       "      <td>0.010747</td>\n",
       "      <td>0.000821</td>\n",
       "    </tr>\n",
       "    <tr>\n",
       "      <th>2</th>\n",
       "      <td>average_precision</td>\n",
       "      <td>age</td>\n",
       "      <td>0.009576</td>\n",
       "      <td>0.000729</td>\n",
       "    </tr>\n",
       "    <tr>\n",
       "      <th>3</th>\n",
       "      <td>average_precision</td>\n",
       "      <td>adv_prim_id</td>\n",
       "      <td>0.006379</td>\n",
       "      <td>0.000842</td>\n",
       "    </tr>\n",
       "    <tr>\n",
       "      <th>4</th>\n",
       "      <td>average_precision</td>\n",
       "      <td>his_app_size</td>\n",
       "      <td>0.006036</td>\n",
       "      <td>0.000881</td>\n",
       "    </tr>\n",
       "    <tr>\n",
       "      <th>5</th>\n",
       "      <td>average_precision</td>\n",
       "      <td>pt_d</td>\n",
       "      <td>0.005560</td>\n",
       "      <td>0.000769</td>\n",
       "    </tr>\n",
       "    <tr>\n",
       "      <th>6</th>\n",
       "      <td>average_precision</td>\n",
       "      <td>device_name</td>\n",
       "      <td>0.005175</td>\n",
       "      <td>0.000775</td>\n",
       "    </tr>\n",
       "    <tr>\n",
       "      <th>7</th>\n",
       "      <td>average_precision</td>\n",
       "      <td>communication_onlinerate</td>\n",
       "      <td>0.004435</td>\n",
       "      <td>0.000937</td>\n",
       "    </tr>\n",
       "    <tr>\n",
       "      <th>8</th>\n",
       "      <td>average_precision</td>\n",
       "      <td>indu_name</td>\n",
       "      <td>0.004168</td>\n",
       "      <td>0.000883</td>\n",
       "    </tr>\n",
       "    <tr>\n",
       "      <th>9</th>\n",
       "      <td>average_precision</td>\n",
       "      <td>device_size</td>\n",
       "      <td>0.003804</td>\n",
       "      <td>0.000435</td>\n",
       "    </tr>\n",
       "    <tr>\n",
       "      <th>10</th>\n",
       "      <td>average_precision</td>\n",
       "      <td>communication_avgonline_30d</td>\n",
       "      <td>0.003558</td>\n",
       "      <td>0.000979</td>\n",
       "    </tr>\n",
       "    <tr>\n",
       "      <th>11</th>\n",
       "      <td>average_precision</td>\n",
       "      <td>residence</td>\n",
       "      <td>0.003484</td>\n",
       "      <td>0.000747</td>\n",
       "    </tr>\n",
       "    <tr>\n",
       "      <th>12</th>\n",
       "      <td>average_precision</td>\n",
       "      <td>creat_type_cd</td>\n",
       "      <td>0.003479</td>\n",
       "      <td>0.000614</td>\n",
       "    </tr>\n",
       "    <tr>\n",
       "      <th>13</th>\n",
       "      <td>average_precision</td>\n",
       "      <td>career</td>\n",
       "      <td>0.003367</td>\n",
       "      <td>0.000890</td>\n",
       "    </tr>\n",
       "    <tr>\n",
       "      <th>14</th>\n",
       "      <td>average_precision</td>\n",
       "      <td>up_life_duration</td>\n",
       "      <td>0.002743</td>\n",
       "      <td>0.000749</td>\n",
       "    </tr>\n",
       "    <tr>\n",
       "      <th>15</th>\n",
       "      <td>average_precision</td>\n",
       "      <td>emui_dev</td>\n",
       "      <td>0.002566</td>\n",
       "      <td>0.000471</td>\n",
       "    </tr>\n",
       "    <tr>\n",
       "      <th>16</th>\n",
       "      <td>average_precision</td>\n",
       "      <td>city</td>\n",
       "      <td>0.002350</td>\n",
       "      <td>0.000855</td>\n",
       "    </tr>\n",
       "    <tr>\n",
       "      <th>17</th>\n",
       "      <td>average_precision</td>\n",
       "      <td>gender</td>\n",
       "      <td>0.002335</td>\n",
       "      <td>0.000607</td>\n",
       "    </tr>\n",
       "    <tr>\n",
       "      <th>18</th>\n",
       "      <td>average_precision</td>\n",
       "      <td>city_rank</td>\n",
       "      <td>0.001203</td>\n",
       "      <td>0.000407</td>\n",
       "    </tr>\n",
       "    <tr>\n",
       "      <th>19</th>\n",
       "      <td>average_precision</td>\n",
       "      <td>inter_type_cd</td>\n",
       "      <td>0.001119</td>\n",
       "      <td>0.000267</td>\n",
       "    </tr>\n",
       "    <tr>\n",
       "      <th>20</th>\n",
       "      <td>average_precision</td>\n",
       "      <td>app_first_class</td>\n",
       "      <td>0.001034</td>\n",
       "      <td>0.000227</td>\n",
       "    </tr>\n",
       "    <tr>\n",
       "      <th>21</th>\n",
       "      <td>average_precision</td>\n",
       "      <td>consume_purchase</td>\n",
       "      <td>0.000968</td>\n",
       "      <td>0.000247</td>\n",
       "    </tr>\n",
       "    <tr>\n",
       "      <th>22</th>\n",
       "      <td>roc_auc</td>\n",
       "      <td>slot_id</td>\n",
       "      <td>0.044079</td>\n",
       "      <td>0.003718</td>\n",
       "    </tr>\n",
       "    <tr>\n",
       "      <th>23</th>\n",
       "      <td>roc_auc</td>\n",
       "      <td>adv_id</td>\n",
       "      <td>0.028933</td>\n",
       "      <td>0.002563</td>\n",
       "    </tr>\n",
       "    <tr>\n",
       "      <th>24</th>\n",
       "      <td>roc_auc</td>\n",
       "      <td>age</td>\n",
       "      <td>0.024442</td>\n",
       "      <td>0.002277</td>\n",
       "    </tr>\n",
       "    <tr>\n",
       "      <th>25</th>\n",
       "      <td>roc_auc</td>\n",
       "      <td>adv_prim_id</td>\n",
       "      <td>0.015625</td>\n",
       "      <td>0.002164</td>\n",
       "    </tr>\n",
       "    <tr>\n",
       "      <th>26</th>\n",
       "      <td>roc_auc</td>\n",
       "      <td>his_app_size</td>\n",
       "      <td>0.014556</td>\n",
       "      <td>0.002323</td>\n",
       "    </tr>\n",
       "    <tr>\n",
       "      <th>27</th>\n",
       "      <td>roc_auc</td>\n",
       "      <td>device_name</td>\n",
       "      <td>0.012585</td>\n",
       "      <td>0.001805</td>\n",
       "    </tr>\n",
       "    <tr>\n",
       "      <th>28</th>\n",
       "      <td>roc_auc</td>\n",
       "      <td>pt_d</td>\n",
       "      <td>0.011762</td>\n",
       "      <td>0.002195</td>\n",
       "    </tr>\n",
       "    <tr>\n",
       "      <th>29</th>\n",
       "      <td>roc_auc</td>\n",
       "      <td>indu_name</td>\n",
       "      <td>0.011195</td>\n",
       "      <td>0.002089</td>\n",
       "    </tr>\n",
       "    <tr>\n",
       "      <th>30</th>\n",
       "      <td>roc_auc</td>\n",
       "      <td>communication_onlinerate</td>\n",
       "      <td>0.010001</td>\n",
       "      <td>0.002278</td>\n",
       "    </tr>\n",
       "    <tr>\n",
       "      <th>31</th>\n",
       "      <td>roc_auc</td>\n",
       "      <td>career</td>\n",
       "      <td>0.008708</td>\n",
       "      <td>0.002018</td>\n",
       "    </tr>\n",
       "    <tr>\n",
       "      <th>32</th>\n",
       "      <td>roc_auc</td>\n",
       "      <td>device_size</td>\n",
       "      <td>0.008660</td>\n",
       "      <td>0.000935</td>\n",
       "    </tr>\n",
       "    <tr>\n",
       "      <th>33</th>\n",
       "      <td>roc_auc</td>\n",
       "      <td>creat_type_cd</td>\n",
       "      <td>0.008020</td>\n",
       "      <td>0.001417</td>\n",
       "    </tr>\n",
       "    <tr>\n",
       "      <th>34</th>\n",
       "      <td>roc_auc</td>\n",
       "      <td>communication_avgonline_30d</td>\n",
       "      <td>0.007759</td>\n",
       "      <td>0.002269</td>\n",
       "    </tr>\n",
       "    <tr>\n",
       "      <th>35</th>\n",
       "      <td>roc_auc</td>\n",
       "      <td>residence</td>\n",
       "      <td>0.007384</td>\n",
       "      <td>0.001779</td>\n",
       "    </tr>\n",
       "    <tr>\n",
       "      <th>36</th>\n",
       "      <td>roc_auc</td>\n",
       "      <td>up_life_duration</td>\n",
       "      <td>0.006448</td>\n",
       "      <td>0.001730</td>\n",
       "    </tr>\n",
       "    <tr>\n",
       "      <th>37</th>\n",
       "      <td>roc_auc</td>\n",
       "      <td>emui_dev</td>\n",
       "      <td>0.004705</td>\n",
       "      <td>0.001030</td>\n",
       "    </tr>\n",
       "    <tr>\n",
       "      <th>38</th>\n",
       "      <td>roc_auc</td>\n",
       "      <td>city</td>\n",
       "      <td>0.004628</td>\n",
       "      <td>0.002208</td>\n",
       "    </tr>\n",
       "    <tr>\n",
       "      <th>39</th>\n",
       "      <td>roc_auc</td>\n",
       "      <td>gender</td>\n",
       "      <td>0.004559</td>\n",
       "      <td>0.001562</td>\n",
       "    </tr>\n",
       "    <tr>\n",
       "      <th>40</th>\n",
       "      <td>roc_auc</td>\n",
       "      <td>list_time</td>\n",
       "      <td>0.003307</td>\n",
       "      <td>0.001436</td>\n",
       "    </tr>\n",
       "    <tr>\n",
       "      <th>41</th>\n",
       "      <td>roc_auc</td>\n",
       "      <td>device_price</td>\n",
       "      <td>0.002728</td>\n",
       "      <td>0.000783</td>\n",
       "    </tr>\n",
       "    <tr>\n",
       "      <th>42</th>\n",
       "      <td>roc_auc</td>\n",
       "      <td>city_rank</td>\n",
       "      <td>0.002464</td>\n",
       "      <td>0.000824</td>\n",
       "    </tr>\n",
       "    <tr>\n",
       "      <th>43</th>\n",
       "      <td>roc_auc</td>\n",
       "      <td>consume_purchase</td>\n",
       "      <td>0.002036</td>\n",
       "      <td>0.000576</td>\n",
       "    </tr>\n",
       "    <tr>\n",
       "      <th>44</th>\n",
       "      <td>roc_auc</td>\n",
       "      <td>inter_type_cd</td>\n",
       "      <td>0.001980</td>\n",
       "      <td>0.000608</td>\n",
       "    </tr>\n",
       "    <tr>\n",
       "      <th>45</th>\n",
       "      <td>roc_auc</td>\n",
       "      <td>net_type</td>\n",
       "      <td>0.001535</td>\n",
       "      <td>0.000574</td>\n",
       "    </tr>\n",
       "    <tr>\n",
       "      <th>46</th>\n",
       "      <td>roc_auc</td>\n",
       "      <td>app_first_class</td>\n",
       "      <td>0.001301</td>\n",
       "      <td>0.000462</td>\n",
       "    </tr>\n",
       "  </tbody>\n",
       "</table>\n",
       "</div>"
      ],
      "text/plain": [
       "          metric_name                 feature_name  metric_mean  \\\n",
       "0   average_precision                      slot_id     0.014788   \n",
       "1   average_precision                       adv_id     0.010747   \n",
       "2   average_precision                          age     0.009576   \n",
       "3   average_precision                  adv_prim_id     0.006379   \n",
       "4   average_precision                 his_app_size     0.006036   \n",
       "5   average_precision                         pt_d     0.005560   \n",
       "6   average_precision                  device_name     0.005175   \n",
       "7   average_precision     communication_onlinerate     0.004435   \n",
       "8   average_precision                    indu_name     0.004168   \n",
       "9   average_precision                  device_size     0.003804   \n",
       "10  average_precision  communication_avgonline_30d     0.003558   \n",
       "11  average_precision                    residence     0.003484   \n",
       "12  average_precision                creat_type_cd     0.003479   \n",
       "13  average_precision                       career     0.003367   \n",
       "14  average_precision             up_life_duration     0.002743   \n",
       "15  average_precision                     emui_dev     0.002566   \n",
       "16  average_precision                         city     0.002350   \n",
       "17  average_precision                       gender     0.002335   \n",
       "18  average_precision                    city_rank     0.001203   \n",
       "19  average_precision                inter_type_cd     0.001119   \n",
       "20  average_precision              app_first_class     0.001034   \n",
       "21  average_precision             consume_purchase     0.000968   \n",
       "22            roc_auc                      slot_id     0.044079   \n",
       "23            roc_auc                       adv_id     0.028933   \n",
       "24            roc_auc                          age     0.024442   \n",
       "25            roc_auc                  adv_prim_id     0.015625   \n",
       "26            roc_auc                 his_app_size     0.014556   \n",
       "27            roc_auc                  device_name     0.012585   \n",
       "28            roc_auc                         pt_d     0.011762   \n",
       "29            roc_auc                    indu_name     0.011195   \n",
       "30            roc_auc     communication_onlinerate     0.010001   \n",
       "31            roc_auc                       career     0.008708   \n",
       "32            roc_auc                  device_size     0.008660   \n",
       "33            roc_auc                creat_type_cd     0.008020   \n",
       "34            roc_auc  communication_avgonline_30d     0.007759   \n",
       "35            roc_auc                    residence     0.007384   \n",
       "36            roc_auc             up_life_duration     0.006448   \n",
       "37            roc_auc                     emui_dev     0.004705   \n",
       "38            roc_auc                         city     0.004628   \n",
       "39            roc_auc                       gender     0.004559   \n",
       "40            roc_auc                    list_time     0.003307   \n",
       "41            roc_auc                 device_price     0.002728   \n",
       "42            roc_auc                    city_rank     0.002464   \n",
       "43            roc_auc             consume_purchase     0.002036   \n",
       "44            roc_auc                inter_type_cd     0.001980   \n",
       "45            roc_auc                     net_type     0.001535   \n",
       "46            roc_auc              app_first_class     0.001301   \n",
       "\n",
       "    metric_std_dev  \n",
       "0         0.000735  \n",
       "1         0.000821  \n",
       "2         0.000729  \n",
       "3         0.000842  \n",
       "4         0.000881  \n",
       "5         0.000769  \n",
       "6         0.000775  \n",
       "7         0.000937  \n",
       "8         0.000883  \n",
       "9         0.000435  \n",
       "10        0.000979  \n",
       "11        0.000747  \n",
       "12        0.000614  \n",
       "13        0.000890  \n",
       "14        0.000749  \n",
       "15        0.000471  \n",
       "16        0.000855  \n",
       "17        0.000607  \n",
       "18        0.000407  \n",
       "19        0.000267  \n",
       "20        0.000227  \n",
       "21        0.000247  \n",
       "22        0.003718  \n",
       "23        0.002563  \n",
       "24        0.002277  \n",
       "25        0.002164  \n",
       "26        0.002323  \n",
       "27        0.001805  \n",
       "28        0.002195  \n",
       "29        0.002089  \n",
       "30        0.002278  \n",
       "31        0.002018  \n",
       "32        0.000935  \n",
       "33        0.001417  \n",
       "34        0.002269  \n",
       "35        0.001779  \n",
       "36        0.001730  \n",
       "37        0.001030  \n",
       "38        0.002208  \n",
       "39        0.001562  \n",
       "40        0.001436  \n",
       "41        0.000783  \n",
       "42        0.000824  \n",
       "43        0.000576  \n",
       "44        0.000608  \n",
       "45        0.000574  \n",
       "46        0.000462  "
      ]
     },
     "execution_count": 18,
     "metadata": {},
     "output_type": "execute_result"
    }
   ],
   "source": [
    "perm_results_df = bin_class_utils.check_out_permutation_importance(\n",
    "    composite_estimator, \n",
    "    train_cap_x_df, \n",
    "    train_y_df, \n",
    "    PERMUTATION_IMPORTANCE_RANDOM_STATE,\n",
    "    PERMUTATION_SCORING_LIST\n",
    ")\n",
    "perm_results_df"
   ]
  },
  {
   "cell_type": "markdown",
   "id": "1ecdfa7e",
   "metadata": {},
   "source": [
    "#### 11. Feature selection and engineering"
   ]
  },
  {
   "cell_type": "code",
   "execution_count": 19,
   "id": "91869a26",
   "metadata": {
    "ExecuteTime": {
     "end_time": "2023-12-10T13:56:43.490429Z",
     "start_time": "2023-12-10T13:56:43.487656Z"
    }
   },
   "outputs": [
    {
     "data": {
      "text/plain": [
       "['gender',\n",
       " 'up_life_duration',\n",
       " 'emui_dev',\n",
       " 'inter_type_cd',\n",
       " 'city_rank',\n",
       " 'city',\n",
       " 'consume_purchase',\n",
       " 'app_first_class']"
      ]
     },
     "execution_count": 19,
     "metadata": {},
     "output_type": "execute_result"
    }
   ],
   "source": [
    "common_least_important_attrs = bin_class_utils.drop_least_important_attrs(perm_results_df, PERM_DROP_THRESHOLD_PERCENT)\n",
    "common_least_important_attrs"
   ]
  },
  {
   "cell_type": "markdown",
   "id": "d1e081c7",
   "metadata": {},
   "source": [
    "#### 12. Fit and evaluate again"
   ]
  },
  {
   "cell_type": "code",
   "execution_count": 20,
   "id": "f42004838d70c87c",
   "metadata": {
    "ExecuteTime": {
     "end_time": "2023-12-10T13:56:43.493045Z",
     "start_time": "2023-12-10T13:56:43.490900Z"
    }
   },
   "outputs": [
    {
     "data": {
      "text/plain": [
       "['uid',\n",
       " 'tags',\n",
       " 'gender',\n",
       " 'app_score',\n",
       " 'up_life_duration',\n",
       " 'app_first_class',\n",
       " 'dev_id',\n",
       " 'emui_dev',\n",
       " 'inter_type_cd',\n",
       " 'city_rank',\n",
       " 'city',\n",
       " 'consume_purchase',\n",
       " 'spread_app_id',\n",
       " 'his_on_shelf_time',\n",
       " 'task_id']"
      ]
     },
     "execution_count": 20,
     "metadata": {},
     "output_type": "execute_result"
    }
   ],
   "source": [
    "attrs_to_drop_exp = list(set(ATTRS_TO_DROP + common_least_important_attrs))\n",
    "attrs_to_drop_exp"
   ]
  },
  {
   "cell_type": "code",
   "execution_count": 21,
   "id": "396030d359468bbd",
   "metadata": {
    "ExecuteTime": {
     "end_time": "2023-12-10T13:56:43.495581Z",
     "start_time": "2023-12-10T13:56:43.494020Z"
    }
   },
   "outputs": [],
   "source": [
    "preprocessor_exp = bin_class_utils.build_preprocessing_pipeline(numerical_attr_list, categorical_attr_list, attrs_to_drop_exp, TARGET_TYPE, TARGET_ENCODING_RANDOM_STATE)\n",
    "\n",
    "estimator_exp = bin_class_utils.get_default_model(ESTIMATOR_NAME, MODEL_RANDOM_STATE)\n",
    "\n",
    "composite_estimator_exp = Pipeline(steps=[\n",
    "    ('preprocessor', preprocessor_exp), \n",
    "    ('estimator', estimator_exp)\n",
    "])"
   ]
  },
  {
   "cell_type": "code",
   "execution_count": 22,
   "id": "e3f3fcbb071e47f7",
   "metadata": {
    "ExecuteTime": {
     "end_time": "2023-12-10T13:56:44.081958Z",
     "start_time": "2023-12-10T13:56:43.501303Z"
    }
   },
   "outputs": [
    {
     "data": {
      "text/html": [
       "<style>#sk-container-id-5 {color: black;}#sk-container-id-5 pre{padding: 0;}#sk-container-id-5 div.sk-toggleable {background-color: white;}#sk-container-id-5 label.sk-toggleable__label {cursor: pointer;display: block;width: 100%;margin-bottom: 0;padding: 0.3em;box-sizing: border-box;text-align: center;}#sk-container-id-5 label.sk-toggleable__label-arrow:before {content: \"▸\";float: left;margin-right: 0.25em;color: #696969;}#sk-container-id-5 label.sk-toggleable__label-arrow:hover:before {color: black;}#sk-container-id-5 div.sk-estimator:hover label.sk-toggleable__label-arrow:before {color: black;}#sk-container-id-5 div.sk-toggleable__content {max-height: 0;max-width: 0;overflow: hidden;text-align: left;background-color: #f0f8ff;}#sk-container-id-5 div.sk-toggleable__content pre {margin: 0.2em;color: black;border-radius: 0.25em;background-color: #f0f8ff;}#sk-container-id-5 input.sk-toggleable__control:checked~div.sk-toggleable__content {max-height: 200px;max-width: 100%;overflow: auto;}#sk-container-id-5 input.sk-toggleable__control:checked~label.sk-toggleable__label-arrow:before {content: \"▾\";}#sk-container-id-5 div.sk-estimator input.sk-toggleable__control:checked~label.sk-toggleable__label {background-color: #d4ebff;}#sk-container-id-5 div.sk-label input.sk-toggleable__control:checked~label.sk-toggleable__label {background-color: #d4ebff;}#sk-container-id-5 input.sk-hidden--visually {border: 0;clip: rect(1px 1px 1px 1px);clip: rect(1px, 1px, 1px, 1px);height: 1px;margin: -1px;overflow: hidden;padding: 0;position: absolute;width: 1px;}#sk-container-id-5 div.sk-estimator {font-family: monospace;background-color: #f0f8ff;border: 1px dotted black;border-radius: 0.25em;box-sizing: border-box;margin-bottom: 0.5em;}#sk-container-id-5 div.sk-estimator:hover {background-color: #d4ebff;}#sk-container-id-5 div.sk-parallel-item::after {content: \"\";width: 100%;border-bottom: 1px solid gray;flex-grow: 1;}#sk-container-id-5 div.sk-label:hover label.sk-toggleable__label {background-color: #d4ebff;}#sk-container-id-5 div.sk-serial::before {content: \"\";position: absolute;border-left: 1px solid gray;box-sizing: border-box;top: 0;bottom: 0;left: 50%;z-index: 0;}#sk-container-id-5 div.sk-serial {display: flex;flex-direction: column;align-items: center;background-color: white;padding-right: 0.2em;padding-left: 0.2em;position: relative;}#sk-container-id-5 div.sk-item {position: relative;z-index: 1;}#sk-container-id-5 div.sk-parallel {display: flex;align-items: stretch;justify-content: center;background-color: white;position: relative;}#sk-container-id-5 div.sk-item::before, #sk-container-id-5 div.sk-parallel-item::before {content: \"\";position: absolute;border-left: 1px solid gray;box-sizing: border-box;top: 0;bottom: 0;left: 50%;z-index: -1;}#sk-container-id-5 div.sk-parallel-item {display: flex;flex-direction: column;z-index: 1;position: relative;background-color: white;}#sk-container-id-5 div.sk-parallel-item:first-child::after {align-self: flex-end;width: 50%;}#sk-container-id-5 div.sk-parallel-item:last-child::after {align-self: flex-start;width: 50%;}#sk-container-id-5 div.sk-parallel-item:only-child::after {width: 0;}#sk-container-id-5 div.sk-dashed-wrapped {border: 1px dashed gray;margin: 0 0.4em 0.5em 0.4em;box-sizing: border-box;padding-bottom: 0.4em;background-color: white;}#sk-container-id-5 div.sk-label label {font-family: monospace;font-weight: bold;display: inline-block;line-height: 1.2em;}#sk-container-id-5 div.sk-label-container {text-align: center;}#sk-container-id-5 div.sk-container {/* jupyter's `normalize.less` sets `[hidden] { display: none; }` but bootstrap.min.css set `[hidden] { display: none !important; }` so we also need the `!important` here to be able to override the default hidden behavior on the sphinx rendered scikit-learn.org. See: https://github.com/scikit-learn/scikit-learn/issues/21755 */display: inline-block !important;position: relative;}#sk-container-id-5 div.sk-text-repr-fallback {display: none;}</style><div id=\"sk-container-id-5\" class=\"sk-top-container\"><div class=\"sk-text-repr-fallback\"><pre>Pipeline(steps=[(&#x27;preprocessor&#x27;,\n",
       "                 ColumnTransformer(transformers=[(&#x27;numerical&#x27;,\n",
       "                                                  Pipeline(steps=[(&#x27;column_dropper&#x27;,\n",
       "                                                                   DropColumnsTransformer(attrs_to_drop=[&#x27;uid&#x27;,\n",
       "                                                                                                         &#x27;tags&#x27;,\n",
       "                                                                                                         &#x27;gender&#x27;,\n",
       "                                                                                                         &#x27;app_score&#x27;,\n",
       "                                                                                                         &#x27;up_life_duration&#x27;,\n",
       "                                                                                                         &#x27;app_first_class&#x27;,\n",
       "                                                                                                         &#x27;dev_id&#x27;,\n",
       "                                                                                                         &#x27;emui_dev&#x27;,\n",
       "                                                                                                         &#x27;inter_type_cd&#x27;,\n",
       "                                                                                                         &#x27;city_rank&#x27;,\n",
       "                                                                                                         &#x27;city&#x27;,\n",
       "                                                                                                         &#x27;consume_purchase&#x27;,\n",
       "                                                                                                         &#x27;spread_app_id&#x27;,\n",
       "                                                                                                         &#x27;his_on_shelf_time&#x27;,\n",
       "                                                                                                         &#x27;task_id&#x27;])),\n",
       "                                                                  (&#x27;imput...\n",
       "                                                   &#x27;city&#x27;, &#x27;city_rank&#x27;,\n",
       "                                                   &#x27;device_name&#x27;, &#x27;device_size&#x27;,\n",
       "                                                   &#x27;career&#x27;, &#x27;gender&#x27;,\n",
       "                                                   &#x27;net_type&#x27;, &#x27;residence&#x27;,\n",
       "                                                   &#x27;his_app_size&#x27;,\n",
       "                                                   &#x27;his_on_shelf_time&#x27;,\n",
       "                                                   &#x27;app_score&#x27;, &#x27;emui_dev&#x27;,\n",
       "                                                   &#x27;list_time&#x27;, &#x27;device_price&#x27;,\n",
       "                                                   &#x27;up_life_duration&#x27;,\n",
       "                                                   &#x27;up_membership_grade&#x27;,\n",
       "                                                   &#x27;membership_life_duration&#x27;, ...])])),\n",
       "                (&#x27;estimator&#x27;,\n",
       "                 DecisionTreeClassifier(class_weight=&#x27;balanced&#x27;,\n",
       "                                        criterion=&#x27;log_loss&#x27;,\n",
       "                                        random_state=42))])</pre><b>In a Jupyter environment, please rerun this cell to show the HTML representation or trust the notebook. <br />On GitHub, the HTML representation is unable to render, please try loading this page with nbviewer.org.</b></div><div class=\"sk-container\" hidden><div class=\"sk-item sk-dashed-wrapped\"><div class=\"sk-label-container\"><div class=\"sk-label sk-toggleable\"><input class=\"sk-toggleable__control sk-hidden--visually\" id=\"sk-estimator-id-36\" type=\"checkbox\" ><label for=\"sk-estimator-id-36\" class=\"sk-toggleable__label sk-toggleable__label-arrow\">Pipeline</label><div class=\"sk-toggleable__content\"><pre>Pipeline(steps=[(&#x27;preprocessor&#x27;,\n",
       "                 ColumnTransformer(transformers=[(&#x27;numerical&#x27;,\n",
       "                                                  Pipeline(steps=[(&#x27;column_dropper&#x27;,\n",
       "                                                                   DropColumnsTransformer(attrs_to_drop=[&#x27;uid&#x27;,\n",
       "                                                                                                         &#x27;tags&#x27;,\n",
       "                                                                                                         &#x27;gender&#x27;,\n",
       "                                                                                                         &#x27;app_score&#x27;,\n",
       "                                                                                                         &#x27;up_life_duration&#x27;,\n",
       "                                                                                                         &#x27;app_first_class&#x27;,\n",
       "                                                                                                         &#x27;dev_id&#x27;,\n",
       "                                                                                                         &#x27;emui_dev&#x27;,\n",
       "                                                                                                         &#x27;inter_type_cd&#x27;,\n",
       "                                                                                                         &#x27;city_rank&#x27;,\n",
       "                                                                                                         &#x27;city&#x27;,\n",
       "                                                                                                         &#x27;consume_purchase&#x27;,\n",
       "                                                                                                         &#x27;spread_app_id&#x27;,\n",
       "                                                                                                         &#x27;his_on_shelf_time&#x27;,\n",
       "                                                                                                         &#x27;task_id&#x27;])),\n",
       "                                                                  (&#x27;imput...\n",
       "                                                   &#x27;city&#x27;, &#x27;city_rank&#x27;,\n",
       "                                                   &#x27;device_name&#x27;, &#x27;device_size&#x27;,\n",
       "                                                   &#x27;career&#x27;, &#x27;gender&#x27;,\n",
       "                                                   &#x27;net_type&#x27;, &#x27;residence&#x27;,\n",
       "                                                   &#x27;his_app_size&#x27;,\n",
       "                                                   &#x27;his_on_shelf_time&#x27;,\n",
       "                                                   &#x27;app_score&#x27;, &#x27;emui_dev&#x27;,\n",
       "                                                   &#x27;list_time&#x27;, &#x27;device_price&#x27;,\n",
       "                                                   &#x27;up_life_duration&#x27;,\n",
       "                                                   &#x27;up_membership_grade&#x27;,\n",
       "                                                   &#x27;membership_life_duration&#x27;, ...])])),\n",
       "                (&#x27;estimator&#x27;,\n",
       "                 DecisionTreeClassifier(class_weight=&#x27;balanced&#x27;,\n",
       "                                        criterion=&#x27;log_loss&#x27;,\n",
       "                                        random_state=42))])</pre></div></div></div><div class=\"sk-serial\"><div class=\"sk-item sk-dashed-wrapped\"><div class=\"sk-label-container\"><div class=\"sk-label sk-toggleable\"><input class=\"sk-toggleable__control sk-hidden--visually\" id=\"sk-estimator-id-37\" type=\"checkbox\" ><label for=\"sk-estimator-id-37\" class=\"sk-toggleable__label sk-toggleable__label-arrow\">preprocessor: ColumnTransformer</label><div class=\"sk-toggleable__content\"><pre>ColumnTransformer(transformers=[(&#x27;numerical&#x27;,\n",
       "                                 Pipeline(steps=[(&#x27;column_dropper&#x27;,\n",
       "                                                  DropColumnsTransformer(attrs_to_drop=[&#x27;uid&#x27;,\n",
       "                                                                                        &#x27;tags&#x27;,\n",
       "                                                                                        &#x27;gender&#x27;,\n",
       "                                                                                        &#x27;app_score&#x27;,\n",
       "                                                                                        &#x27;up_life_duration&#x27;,\n",
       "                                                                                        &#x27;app_first_class&#x27;,\n",
       "                                                                                        &#x27;dev_id&#x27;,\n",
       "                                                                                        &#x27;emui_dev&#x27;,\n",
       "                                                                                        &#x27;inter_type_cd&#x27;,\n",
       "                                                                                        &#x27;city_rank&#x27;,\n",
       "                                                                                        &#x27;city&#x27;,\n",
       "                                                                                        &#x27;consume_purchase&#x27;,\n",
       "                                                                                        &#x27;spread_app_id&#x27;,\n",
       "                                                                                        &#x27;his_on_shelf_time&#x27;,\n",
       "                                                                                        &#x27;task_id&#x27;])),\n",
       "                                                 (&#x27;imputer&#x27;, SimpleImputer()),\n",
       "                                                 (&#x27;scaler&#x27;, S...\n",
       "                                  &#x27;adv_prim_id&#x27;, &#x27;dev_id&#x27;, &#x27;inter_type_cd&#x27;,\n",
       "                                  &#x27;slot_id&#x27;, &#x27;spread_app_id&#x27;, &#x27;tags&#x27;,\n",
       "                                  &#x27;app_first_class&#x27;, &#x27;app_second_class&#x27;, &#x27;age&#x27;,\n",
       "                                  &#x27;city&#x27;, &#x27;city_rank&#x27;, &#x27;device_name&#x27;,\n",
       "                                  &#x27;device_size&#x27;, &#x27;career&#x27;, &#x27;gender&#x27;, &#x27;net_type&#x27;,\n",
       "                                  &#x27;residence&#x27;, &#x27;his_app_size&#x27;,\n",
       "                                  &#x27;his_on_shelf_time&#x27;, &#x27;app_score&#x27;, &#x27;emui_dev&#x27;,\n",
       "                                  &#x27;list_time&#x27;, &#x27;device_price&#x27;,\n",
       "                                  &#x27;up_life_duration&#x27;, &#x27;up_membership_grade&#x27;,\n",
       "                                  &#x27;membership_life_duration&#x27;, ...])])</pre></div></div></div><div class=\"sk-parallel\"><div class=\"sk-parallel-item\"><div class=\"sk-item\"><div class=\"sk-label-container\"><div class=\"sk-label sk-toggleable\"><input class=\"sk-toggleable__control sk-hidden--visually\" id=\"sk-estimator-id-38\" type=\"checkbox\" ><label for=\"sk-estimator-id-38\" class=\"sk-toggleable__label sk-toggleable__label-arrow\">numerical</label><div class=\"sk-toggleable__content\"><pre>[]</pre></div></div></div><div class=\"sk-serial\"><div class=\"sk-item\"><div class=\"sk-serial\"><div class=\"sk-item\"><div class=\"sk-estimator sk-toggleable\"><input class=\"sk-toggleable__control sk-hidden--visually\" id=\"sk-estimator-id-39\" type=\"checkbox\" ><label for=\"sk-estimator-id-39\" class=\"sk-toggleable__label sk-toggleable__label-arrow\">DropColumnsTransformer</label><div class=\"sk-toggleable__content\"><pre>DropColumnsTransformer(attrs_to_drop=[&#x27;uid&#x27;, &#x27;tags&#x27;, &#x27;gender&#x27;, &#x27;app_score&#x27;,\n",
       "                                      &#x27;up_life_duration&#x27;, &#x27;app_first_class&#x27;,\n",
       "                                      &#x27;dev_id&#x27;, &#x27;emui_dev&#x27;, &#x27;inter_type_cd&#x27;,\n",
       "                                      &#x27;city_rank&#x27;, &#x27;city&#x27;, &#x27;consume_purchase&#x27;,\n",
       "                                      &#x27;spread_app_id&#x27;, &#x27;his_on_shelf_time&#x27;,\n",
       "                                      &#x27;task_id&#x27;])</pre></div></div></div><div class=\"sk-item\"><div class=\"sk-estimator sk-toggleable\"><input class=\"sk-toggleable__control sk-hidden--visually\" id=\"sk-estimator-id-40\" type=\"checkbox\" ><label for=\"sk-estimator-id-40\" class=\"sk-toggleable__label sk-toggleable__label-arrow\">SimpleImputer</label><div class=\"sk-toggleable__content\"><pre>SimpleImputer()</pre></div></div></div><div class=\"sk-item\"><div class=\"sk-estimator sk-toggleable\"><input class=\"sk-toggleable__control sk-hidden--visually\" id=\"sk-estimator-id-41\" type=\"checkbox\" ><label for=\"sk-estimator-id-41\" class=\"sk-toggleable__label sk-toggleable__label-arrow\">StandardScaler</label><div class=\"sk-toggleable__content\"><pre>StandardScaler()</pre></div></div></div></div></div></div></div></div><div class=\"sk-parallel-item\"><div class=\"sk-item\"><div class=\"sk-label-container\"><div class=\"sk-label sk-toggleable\"><input class=\"sk-toggleable__control sk-hidden--visually\" id=\"sk-estimator-id-42\" type=\"checkbox\" ><label for=\"sk-estimator-id-42\" class=\"sk-toggleable__label sk-toggleable__label-arrow\">categorical</label><div class=\"sk-toggleable__content\"><pre>[&#x27;uid&#x27;, &#x27;task_id&#x27;, &#x27;adv_id&#x27;, &#x27;creat_type_cd&#x27;, &#x27;adv_prim_id&#x27;, &#x27;dev_id&#x27;, &#x27;inter_type_cd&#x27;, &#x27;slot_id&#x27;, &#x27;spread_app_id&#x27;, &#x27;tags&#x27;, &#x27;app_first_class&#x27;, &#x27;app_second_class&#x27;, &#x27;age&#x27;, &#x27;city&#x27;, &#x27;city_rank&#x27;, &#x27;device_name&#x27;, &#x27;device_size&#x27;, &#x27;career&#x27;, &#x27;gender&#x27;, &#x27;net_type&#x27;, &#x27;residence&#x27;, &#x27;his_app_size&#x27;, &#x27;his_on_shelf_time&#x27;, &#x27;app_score&#x27;, &#x27;emui_dev&#x27;, &#x27;list_time&#x27;, &#x27;device_price&#x27;, &#x27;up_life_duration&#x27;, &#x27;up_membership_grade&#x27;, &#x27;membership_life_duration&#x27;, &#x27;consume_purchase&#x27;, &#x27;communication_onlinerate&#x27;, &#x27;communication_avgonline_30d&#x27;, &#x27;indu_name&#x27;, &#x27;pt_d&#x27;]</pre></div></div></div><div class=\"sk-serial\"><div class=\"sk-item\"><div class=\"sk-serial\"><div class=\"sk-item\"><div class=\"sk-estimator sk-toggleable\"><input class=\"sk-toggleable__control sk-hidden--visually\" id=\"sk-estimator-id-43\" type=\"checkbox\" ><label for=\"sk-estimator-id-43\" class=\"sk-toggleable__label sk-toggleable__label-arrow\">DropColumnsTransformer</label><div class=\"sk-toggleable__content\"><pre>DropColumnsTransformer(attrs_to_drop=[&#x27;uid&#x27;, &#x27;tags&#x27;, &#x27;gender&#x27;, &#x27;app_score&#x27;,\n",
       "                                      &#x27;up_life_duration&#x27;, &#x27;app_first_class&#x27;,\n",
       "                                      &#x27;dev_id&#x27;, &#x27;emui_dev&#x27;, &#x27;inter_type_cd&#x27;,\n",
       "                                      &#x27;city_rank&#x27;, &#x27;city&#x27;, &#x27;consume_purchase&#x27;,\n",
       "                                      &#x27;spread_app_id&#x27;, &#x27;his_on_shelf_time&#x27;,\n",
       "                                      &#x27;task_id&#x27;])</pre></div></div></div><div class=\"sk-item\"><div class=\"sk-estimator sk-toggleable\"><input class=\"sk-toggleable__control sk-hidden--visually\" id=\"sk-estimator-id-44\" type=\"checkbox\" ><label for=\"sk-estimator-id-44\" class=\"sk-toggleable__label sk-toggleable__label-arrow\">SimpleImputer</label><div class=\"sk-toggleable__content\"><pre>SimpleImputer(strategy=&#x27;most_frequent&#x27;)</pre></div></div></div><div class=\"sk-item\"><div class=\"sk-estimator sk-toggleable\"><input class=\"sk-toggleable__control sk-hidden--visually\" id=\"sk-estimator-id-45\" type=\"checkbox\" ><label for=\"sk-estimator-id-45\" class=\"sk-toggleable__label sk-toggleable__label-arrow\">TargetEncoder</label><div class=\"sk-toggleable__content\"><pre>TargetEncoder(random_state=42, target_type=&#x27;binary&#x27;)</pre></div></div></div><div class=\"sk-item\"><div class=\"sk-estimator sk-toggleable\"><input class=\"sk-toggleable__control sk-hidden--visually\" id=\"sk-estimator-id-46\" type=\"checkbox\" ><label for=\"sk-estimator-id-46\" class=\"sk-toggleable__label sk-toggleable__label-arrow\">StandardScaler</label><div class=\"sk-toggleable__content\"><pre>StandardScaler()</pre></div></div></div></div></div></div></div></div></div></div><div class=\"sk-item\"><div class=\"sk-estimator sk-toggleable\"><input class=\"sk-toggleable__control sk-hidden--visually\" id=\"sk-estimator-id-47\" type=\"checkbox\" ><label for=\"sk-estimator-id-47\" class=\"sk-toggleable__label sk-toggleable__label-arrow\">DecisionTreeClassifier</label><div class=\"sk-toggleable__content\"><pre>DecisionTreeClassifier(class_weight=&#x27;balanced&#x27;, criterion=&#x27;log_loss&#x27;,\n",
       "                       random_state=42)</pre></div></div></div></div></div></div></div>"
      ],
      "text/plain": [
       "Pipeline(steps=[('preprocessor',\n",
       "                 ColumnTransformer(transformers=[('numerical',\n",
       "                                                  Pipeline(steps=[('column_dropper',\n",
       "                                                                   DropColumnsTransformer(attrs_to_drop=['uid',\n",
       "                                                                                                         'tags',\n",
       "                                                                                                         'gender',\n",
       "                                                                                                         'app_score',\n",
       "                                                                                                         'up_life_duration',\n",
       "                                                                                                         'app_first_class',\n",
       "                                                                                                         'dev_id',\n",
       "                                                                                                         'emui_dev',\n",
       "                                                                                                         'inter_type_cd',\n",
       "                                                                                                         'city_rank',\n",
       "                                                                                                         'city',\n",
       "                                                                                                         'consume_purchase',\n",
       "                                                                                                         'spread_app_id',\n",
       "                                                                                                         'his_on_shelf_time',\n",
       "                                                                                                         'task_id'])),\n",
       "                                                                  ('imput...\n",
       "                                                   'city', 'city_rank',\n",
       "                                                   'device_name', 'device_size',\n",
       "                                                   'career', 'gender',\n",
       "                                                   'net_type', 'residence',\n",
       "                                                   'his_app_size',\n",
       "                                                   'his_on_shelf_time',\n",
       "                                                   'app_score', 'emui_dev',\n",
       "                                                   'list_time', 'device_price',\n",
       "                                                   'up_life_duration',\n",
       "                                                   'up_membership_grade',\n",
       "                                                   'membership_life_duration', ...])])),\n",
       "                ('estimator',\n",
       "                 DecisionTreeClassifier(class_weight='balanced',\n",
       "                                        criterion='log_loss',\n",
       "                                        random_state=42))])"
      ]
     },
     "execution_count": 22,
     "metadata": {},
     "output_type": "execute_result"
    }
   ],
   "source": [
    "composite_estimator_exp.fit(\n",
    "    train_cap_x_df,\n",
    "    train_y_df.values.ravel()\n",
    ")"
   ]
  },
  {
   "cell_type": "code",
   "execution_count": 23,
   "id": "c73ce0e6d5389143",
   "metadata": {
    "ExecuteTime": {
     "end_time": "2023-12-10T13:56:47.702770Z",
     "start_time": "2023-12-10T13:56:44.073725Z"
    }
   },
   "outputs": [
    {
     "name": "stdout",
     "output_type": "stream",
     "text": [
      "Evaluate the trained estimator performance on train sample exp set\n",
      "Check accuracy score\n",
      "train sample exp set accuracy score: 0.9363346161878338\n",
      "\n",
      "Check classification report\n",
      "              precision    recall  f1-score   support\n",
      "\n",
      "           0       0.97      0.96      0.97     32363\n",
      "           1       0.15      0.18      0.16      1156\n",
      "\n",
      "    accuracy                           0.94     33519\n",
      "   macro avg       0.56      0.57      0.57     33519\n",
      "weighted avg       0.94      0.94      0.94     33519\n",
      "\n",
      "\n",
      "Check confusion matrix\n",
      "train sample exp set confusion matrix: \n",
      "[[31175  1188]\n",
      " [  946   210]]\n",
      "True Positives =  31175\n",
      "True Negatives =  210\n",
      "False Positives(Type I error) =  1188\n",
      "False Negatives(Type II error) =  946\n",
      "\n",
      "Check cross validation score\n",
      "\n",
      "accuracy scores: [0.92974344 0.92616348 0.92139021 0.92258353 0.92301954]\n",
      "np.mean(scores): 0.9245800423491494\n",
      "np.std(scores, ddof=1): 0.00338245990331592\n",
      "\n",
      "precision scores: [0.0862069  0.03191489 0.05421687 0.06116208 0.05329154]\n",
      "np.mean(scores): 0.05735845463989701\n",
      "np.std(scores, ddof=1): 0.01949669431714692\n",
      "\n",
      "recall scores: [0.10822511 0.03896104 0.07792208 0.0862069  0.07359307]\n",
      "np.mean(scores): 0.07698163905060457\n",
      "np.std(scores, ddof=1): 0.02509577939774809\n",
      "\n",
      "recall scores: [0.10822511 0.03896104 0.07792208 0.0862069  0.07359307]\n",
      "np.mean(scores): 0.07698163905060457\n",
      "np.std(scores, ddof=1): 0.02509577939774809\n",
      "\n",
      "f1 scores: [0.09596929 0.03508772 0.06394316 0.07155635 0.06181818]\n",
      "np.mean(scores): 0.06567494064078076\n",
      "np.std(scores, ddof=1): 0.021827679289428466\n",
      "\n",
      "Check the ROC Curve and AUC\n"
     ]
    },
    {
     "data": {
      "image/png": "[encoded data removed]",
      "text/plain": [
       "<Figure size 640x480 with 1 Axes>"
      ]
     },
     "metadata": {},
     "output_type": "display_data"
    },
    {
     "name": "stdout",
     "output_type": "stream",
     "text": [
      "\n",
      "Check Precision-Recall Curve and Average Precision Score\n"
     ]
    },
    {
     "data": {
      "image/png": "[encoded data removed]",
      "text/plain": [
       "<Figure size 640x480 with 1 Axes>"
      ]
     },
     "metadata": {},
     "output_type": "display_data"
    }
   ],
   "source": [
    "bin_class_utils.eval_class(train_cap_x_df, train_y_df, composite_estimator_exp, \"train sample exp\", CVS_SCORING_LIST)"
   ]
  },
  {
   "cell_type": "code",
   "execution_count": 24,
   "id": "bb948bb538d24b7",
   "metadata": {
    "ExecuteTime": {
     "end_time": "2023-12-10T13:56:49.185563Z",
     "start_time": "2023-12-10T13:56:47.705321Z"
    }
   },
   "outputs": [
    {
     "name": "stdout",
     "output_type": "stream",
     "text": [
      "Evaluate the trained estimator performance on validation sample exp set\n",
      "Check accuracy score\n",
      "validation sample exp set accuracy score: 0.9262617826035079\n",
      "\n",
      "Check classification report\n",
      "              precision    recall  f1-score   support\n",
      "\n",
      "           0       0.97      0.96      0.96      8092\n",
      "           1       0.05      0.06      0.06       289\n",
      "\n",
      "    accuracy                           0.93      8381\n",
      "   macro avg       0.51      0.51      0.51      8381\n",
      "weighted avg       0.93      0.93      0.93      8381\n",
      "\n",
      "\n",
      "Check confusion matrix\n",
      "validation sample exp set confusion matrix: \n",
      "[[7745  347]\n",
      " [ 271   18]]\n",
      "True Positives =  7745\n",
      "True Negatives =  18\n",
      "False Positives(Type I error) =  347\n",
      "False Negatives(Type II error) =  271\n",
      "\n",
      "Check cross validation score\n",
      "\n",
      "accuracy scores: [0.90995826 0.93615752 0.94212411 0.92243437 0.92661098]\n",
      "np.mean(scores): 0.9274570455538431\n",
      "np.std(scores, ddof=1): 0.012479698654640983\n",
      "\n",
      "precision scores: [0.01052632 0.03703704 0.04651163 0.05       0.08860759]\n",
      "np.mean(scores): 0.046536515134039266\n",
      "np.std(scores, ddof=1): 0.028146698933907775\n",
      "\n",
      "recall scores: [0.01724138 0.03508772 0.03448276 0.06896552 0.12068966]\n",
      "np.mean(scores): 0.05529340592861463\n",
      "np.std(scores, ddof=1): 0.04108803227900663\n",
      "\n",
      "recall scores: [0.01724138 0.03508772 0.03448276 0.06896552 0.12068966]\n",
      "np.mean(scores): 0.05529340592861463\n",
      "np.std(scores, ddof=1): 0.04108803227900663\n",
      "\n",
      "f1 scores: [0.0130719  0.03603604 0.03960396 0.05797101 0.10218978]\n",
      "np.mean(scores): 0.04977453747431274\n",
      "np.std(scores, ddof=1): 0.033368439373729665\n",
      "\n",
      "Check the ROC Curve and AUC\n"
     ]
    },
    {
     "data": {
      "image/png": "[encoded data removed]",
      "text/plain": [
       "<Figure size 640x480 with 1 Axes>"
      ]
     },
     "metadata": {},
     "output_type": "display_data"
    },
    {
     "name": "stdout",
     "output_type": "stream",
     "text": [
      "\n",
      "Check Precision-Recall Curve and Average Precision Score\n"
     ]
    },
    {
     "data": {
      "image/png": "[encoded data removed]",
      "text/plain": [
       "<Figure size 640x480 with 1 Axes>"
      ]
     },
     "metadata": {},
     "output_type": "display_data"
    }
   ],
   "source": [
    "bin_class_utils.eval_class(validation_cap_x_df, validation_y_df, composite_estimator_exp, \"validation sample exp\", CVS_SCORING_LIST)"
   ]
  },
  {
   "cell_type": "markdown",
   "id": "f4ab5aa4180b45dc",
   "metadata": {},
   "source": [
    "- The model performance after dropping some common least important features in permutation importance test does not show an enhancement. On validation data set, the new model has a lower `accuracy score`, `false positive`, mean of `precision scores` in cross-validation, etc.\n",
    "- We mainly consider `precision` or `false positive` rather than `false negative` because the project target is recommending advertisements to users based on the click rate prediction. As a result, higher `false positive` would show more advertisements that the user would be less likely to click. And this could make the user feel less engaged and tend the leave the applicaton.\n",
    "- Thus, we would **not** apply the new drop list in the fine-tuning stage. "
   ]
  },
  {
   "cell_type": "code",
   "execution_count": 25,
   "id": "a2e55017cf10e8a5",
   "metadata": {
    "ExecuteTime": {
     "end_time": "2023-12-10T13:56:49.189049Z",
     "start_time": "2023-12-10T13:56:49.184311Z"
    }
   },
   "outputs": [
    {
     "data": {
      "text/plain": [
       "['uid',\n",
       " 'app_score',\n",
       " 'his_on_shelf_time',\n",
       " 'task_id',\n",
       " 'spread_app_id',\n",
       " 'tags',\n",
       " 'dev_id']"
      ]
     },
     "execution_count": 25,
     "metadata": {},
     "output_type": "execute_result"
    }
   ],
   "source": [
    "attrs_to_drop_for_fine_tuning = ATTRS_TO_DROP\n",
    "\n",
    "attrs_to_drop_for_fine_tuning"
   ]
  },
  {
   "cell_type": "code",
   "execution_count": 26,
   "id": "4ba72c937565bf4d",
   "metadata": {
    "ExecuteTime": {
     "end_time": "2023-12-10T13:56:49.191095Z",
     "start_time": "2023-12-10T13:56:49.188469Z"
    }
   },
   "outputs": [
    {
     "name": "stdout",
     "output_type": "stream",
     "text": [
      "Script run time: 1.1300547520319622 minutes\n"
     ]
    }
   ],
   "source": [
    "end = time.time()\n",
    "print(f'Script run time: {(end - start)/60} minutes')"
   ]
  }
 ],
 "metadata": {
  "kernelspec": {
   "display_name": "Python 3 (ipykernel)",
   "language": "python",
   "name": "python3"
  },
  "language_info": {
   "codemirror_mode": {
    "name": "ipython",
    "version": 3
   },
   "file_extension": ".py",
   "mimetype": "text/x-python",
   "name": "python",
   "nbconvert_exporter": "python",
   "pygments_lexer": "ipython3",
   "version": "3.11.4"
  }
 },
 "nbformat": 4,
 "nbformat_minor": 5
}
