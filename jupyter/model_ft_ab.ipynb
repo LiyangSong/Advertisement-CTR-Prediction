{
 "cells": [
  {
   "cell_type": "markdown",
   "id": "2d5a19d0-cbc3-41da-8cde-ebe19094bdb5",
   "metadata": {},
   "source": [
    "## Fune-tune the System - Ada Boost Classifier"
   ]
  },
  {
   "cell_type": "markdown",
   "id": "cf0c20f5fd69dee4",
   "metadata": {},
   "source": [
    "#### 0. Import modules and define parameters"
   ]
  },
  {
   "cell_type": "code",
   "execution_count": 1,
   "id": "c3544cbb-3de6-4480-aea1-450317f91b8e",
   "metadata": {
    "ExecuteTime": {
     "end_time": "2023-12-10T23:38:49.320507Z",
     "start_time": "2023-12-10T23:38:48.125150Z"
    }
   },
   "outputs": [],
   "source": [
    "import sys\n",
    "sys.path.append(\"..\")\n",
    "\n",
    "from module.utils import general_utils\n",
    "from module.utils import data_prepare_utils\n",
    "import module.utils.bin_class_utils as bin_class_utils\n",
    "from sklearn.pipeline import Pipeline\n",
    "import numpy as np\n",
    "import pickle\n",
    "import pandas as pd\n",
    "import time"
   ]
  },
  {
   "cell_type": "code",
   "execution_count": 2,
   "outputs": [],
   "source": [
    "start_time = time.time()"
   ],
   "metadata": {
    "collapsed": false,
    "ExecuteTime": {
     "end_time": "2023-12-10T23:38:49.323795Z",
     "start_time": "2023-12-10T23:38:49.321254Z"
    }
   },
   "id": "ecf62a0c73395c88"
  },
  {
   "cell_type": "code",
   "execution_count": 3,
   "id": "fd38f26d-c9be-4abd-aca6-69506d4eca07",
   "metadata": {
    "ExecuteTime": {
     "end_time": "2023-12-10T23:38:49.330301Z",
     "start_time": "2023-12-10T23:38:49.323415Z"
    }
   },
   "outputs": [],
   "source": [
    "TRAIN_FILE_PATH = \"../data/train_df.csv\"\n",
    "VALIDATION_FILE_PATH = \"../data/validation_df.csv\"\n",
    "\n",
    "TARGET_ATTR = \"label\"\n",
    "TARGET_TYPE = \"binary\"\n",
    "\n",
    "ESTIMATOR_NAME = \"AdaBoostClassifier\"\n",
    "\n",
    "SAMPLE_SIZE = 0.2 # set a small number for development, set larger for formal train\n",
    "SAMPLE_RANDOM_STATE = 24\n",
    "TARGET_ENCODING_RANDOM_STATE = 42\n",
    "MODEL_RANDOM_STATE = 42\n",
    "PERMUTATION_IMPORTANCE_RANDOM_STATE = 0\n",
    "\n",
    "ATTRS_TO_DROP = ['uid',\n",
    " 'app_score',\n",
    " 'his_on_shelf_time',\n",
    " 'task_id',\n",
    " 'spread_app_id',\n",
    " 'tags',\n",
    " 'dev_id']\n",
    "\n",
    "CVS_SCORING_LIST = ['accuracy', 'precision', 'recall', 'f1']\n",
    "PERMUTATION_SCORING_LIST = ['average_precision', 'roc_auc']\n",
    "\n",
    "AB_HYPER_PARAM_GRID = {\n",
    "    'preprocessor__numerical__imputer__strategy': ['mean'], # default 'mean'\n",
    "    'preprocessor__categorical__target_encoder__smooth': ['auto'], # default 'auto'\n",
    "    'estimator__n_estimators': [50, 100], # default 50\n",
    "    'estimator__learning_rate': [1.0, 2.0, 5.0], # default 1.0\n",
    "    'estimator__estimator__max_depth': [10, None], # default None\n",
    "    'estimator__estimator__min_samples_split': [2], # default 2\n",
    "    'estimator__estimator__min_samples_leaf': [1], # default 1\n",
    "    'estimator__estimator__max_features': ['sqrt', None], # default None\n",
    "}\n",
    "\n",
    "BS_SAMPLE_NUM = 5"
   ]
  },
  {
   "cell_type": "markdown",
   "id": "882849769e06934f",
   "metadata": {},
   "source": [
    "#### 1. Import data and identify attributes"
   ]
  },
  {
   "cell_type": "code",
   "execution_count": 4,
   "id": "1adc47ceddf0696c",
   "metadata": {
    "ExecuteTime": {
     "end_time": "2023-12-10T23:38:50.166416Z",
     "start_time": "2023-12-10T23:38:49.327870Z"
    }
   },
   "outputs": [
    {
     "name": "stdout",
     "output_type": "stream",
     "text": [
      "\n",
      "Read CSV file ../data/train_df.csv into DataFrame:\n",
      "df.head(): \n"
     ]
    },
    {
     "data": {
      "text/plain": "       uid  task_id  adv_id  creat_type_cd  adv_prim_id  dev_id  \\\n0  1920544     3854    3367              7          207      17   \n1  1850503     3903    6370              7          173      52   \n2  2157496     1847    6428              6          178      17   \n3  2072043     4125    4468              7          168      37   \n4  1084626     4811    3326              7          183      29   \n\n   inter_type_cd  slot_id  spread_app_id  tags  ...  device_price  \\\n0              5       11             13    37  ...             4   \n1              5       12             69    11  ...             2   \n2              5       18             70    39  ...             7   \n3              5       12             44    40  ...             2   \n4              5       12             86    37  ...             3   \n\n   up_life_duration  up_membership_grade  membership_life_duration  \\\n0                20                   -1                        -1   \n1                -1                   -1                        -1   \n2                20                    1                        -1   \n3                20                   -1                        -1   \n4                18                   -1                        -1   \n\n   consume_purchase                           communication_onlinerate  \\\n0                 2    7^8^9^10^11^12^13^14^15^16^17^18^19^20^21^22^23   \n1                 2  5^6^7^8^9^10^11^12^13^14^15^16^17^18^19^20^21^...   \n2                 9  0^1^2^3^4^5^6^7^8^9^10^11^12^13^14^15^16^17^18...   \n3                 2  6^7^8^9^10^11^12^13^14^15^16^17^18^19^20^21^22^23   \n4                 2    7^8^9^10^11^12^13^14^15^16^17^18^19^20^21^22^23   \n\n   communication_avgonline_30d  indu_name  pt_d  label  \n0                           10         17     6      0  \n1                           12         50     7      0  \n2                           13         36     7      0  \n3                           11         17     6      0  \n4                           10         17     6      0  \n\n[5 rows x 36 columns]",
      "text/html": "<div>\n<style scoped>\n    .dataframe tbody tr th:only-of-type {\n        vertical-align: middle;\n    }\n\n    .dataframe tbody tr th {\n        vertical-align: top;\n    }\n\n    .dataframe thead th {\n        text-align: right;\n    }\n</style>\n<table border=\"1\" class=\"dataframe\">\n  <thead>\n    <tr style=\"text-align: right;\">\n      <th></th>\n      <th>uid</th>\n      <th>task_id</th>\n      <th>adv_id</th>\n      <th>creat_type_cd</th>\n      <th>adv_prim_id</th>\n      <th>dev_id</th>\n      <th>inter_type_cd</th>\n      <th>slot_id</th>\n      <th>spread_app_id</th>\n      <th>tags</th>\n      <th>...</th>\n      <th>device_price</th>\n      <th>up_life_duration</th>\n      <th>up_membership_grade</th>\n      <th>membership_life_duration</th>\n      <th>consume_purchase</th>\n      <th>communication_onlinerate</th>\n      <th>communication_avgonline_30d</th>\n      <th>indu_name</th>\n      <th>pt_d</th>\n      <th>label</th>\n    </tr>\n  </thead>\n  <tbody>\n    <tr>\n      <th>0</th>\n      <td>1920544</td>\n      <td>3854</td>\n      <td>3367</td>\n      <td>7</td>\n      <td>207</td>\n      <td>17</td>\n      <td>5</td>\n      <td>11</td>\n      <td>13</td>\n      <td>37</td>\n      <td>...</td>\n      <td>4</td>\n      <td>20</td>\n      <td>-1</td>\n      <td>-1</td>\n      <td>2</td>\n      <td>7^8^9^10^11^12^13^14^15^16^17^18^19^20^21^22^23</td>\n      <td>10</td>\n      <td>17</td>\n      <td>6</td>\n      <td>0</td>\n    </tr>\n    <tr>\n      <th>1</th>\n      <td>1850503</td>\n      <td>3903</td>\n      <td>6370</td>\n      <td>7</td>\n      <td>173</td>\n      <td>52</td>\n      <td>5</td>\n      <td>12</td>\n      <td>69</td>\n      <td>11</td>\n      <td>...</td>\n      <td>2</td>\n      <td>-1</td>\n      <td>-1</td>\n      <td>-1</td>\n      <td>2</td>\n      <td>5^6^7^8^9^10^11^12^13^14^15^16^17^18^19^20^21^...</td>\n      <td>12</td>\n      <td>50</td>\n      <td>7</td>\n      <td>0</td>\n    </tr>\n    <tr>\n      <th>2</th>\n      <td>2157496</td>\n      <td>1847</td>\n      <td>6428</td>\n      <td>6</td>\n      <td>178</td>\n      <td>17</td>\n      <td>5</td>\n      <td>18</td>\n      <td>70</td>\n      <td>39</td>\n      <td>...</td>\n      <td>7</td>\n      <td>20</td>\n      <td>1</td>\n      <td>-1</td>\n      <td>9</td>\n      <td>0^1^2^3^4^5^6^7^8^9^10^11^12^13^14^15^16^17^18...</td>\n      <td>13</td>\n      <td>36</td>\n      <td>7</td>\n      <td>0</td>\n    </tr>\n    <tr>\n      <th>3</th>\n      <td>2072043</td>\n      <td>4125</td>\n      <td>4468</td>\n      <td>7</td>\n      <td>168</td>\n      <td>37</td>\n      <td>5</td>\n      <td>12</td>\n      <td>44</td>\n      <td>40</td>\n      <td>...</td>\n      <td>2</td>\n      <td>20</td>\n      <td>-1</td>\n      <td>-1</td>\n      <td>2</td>\n      <td>6^7^8^9^10^11^12^13^14^15^16^17^18^19^20^21^22^23</td>\n      <td>11</td>\n      <td>17</td>\n      <td>6</td>\n      <td>0</td>\n    </tr>\n    <tr>\n      <th>4</th>\n      <td>1084626</td>\n      <td>4811</td>\n      <td>3326</td>\n      <td>7</td>\n      <td>183</td>\n      <td>29</td>\n      <td>5</td>\n      <td>12</td>\n      <td>86</td>\n      <td>37</td>\n      <td>...</td>\n      <td>3</td>\n      <td>18</td>\n      <td>-1</td>\n      <td>-1</td>\n      <td>2</td>\n      <td>7^8^9^10^11^12^13^14^15^16^17^18^19^20^21^22^23</td>\n      <td>10</td>\n      <td>17</td>\n      <td>6</td>\n      <td>0</td>\n    </tr>\n  </tbody>\n</table>\n<p>5 rows × 36 columns</p>\n</div>"
     },
     "metadata": {},
     "output_type": "display_data"
    },
    {
     "name": "stdout",
     "output_type": "stream",
     "text": [
      "df.shape: (670513, 36)\n"
     ]
    }
   ],
   "source": [
    "train_df = general_utils.read_csv(TRAIN_FILE_PATH)"
   ]
  },
  {
   "cell_type": "code",
   "execution_count": 5,
   "id": "0cc8f970-ebe6-4a58-84ad-24a9113eea84",
   "metadata": {
    "ExecuteTime": {
     "end_time": "2023-12-10T23:38:50.354787Z",
     "start_time": "2023-12-10T23:38:50.167075Z"
    }
   },
   "outputs": [
    {
     "name": "stdout",
     "output_type": "stream",
     "text": [
      "\n",
      "Sample 0.2 fraction from DataFrame:\n",
      "sample_df.shape: (134103, 36)\n"
     ]
    }
   ],
   "source": [
    "train_df_sample = data_prepare_utils.sample_data(train_df, SAMPLE_SIZE, SAMPLE_RANDOM_STATE)\n",
    "del train_df"
   ]
  },
  {
   "cell_type": "code",
   "execution_count": 6,
   "id": "0b8207ec",
   "metadata": {
    "ExecuteTime": {
     "end_time": "2023-12-10T23:38:50.366236Z",
     "start_time": "2023-12-10T23:38:50.334539Z"
    }
   },
   "outputs": [],
   "source": [
    "train_cap_x_df, train_y_df = train_df_sample.drop(columns=TARGET_ATTR), train_df_sample[[TARGET_ATTR]]"
   ]
  },
  {
   "cell_type": "code",
   "execution_count": 7,
   "id": "8874d9e7-1f3c-4830-b94d-5e4797a8ee0d",
   "metadata": {
    "ExecuteTime": {
     "end_time": "2023-12-10T23:38:50.366385Z",
     "start_time": "2023-12-10T23:38:50.360342Z"
    }
   },
   "outputs": [],
   "source": [
    "numerical_attr_list = []\n",
    "categorical_attr_list = [attr for attr in train_cap_x_df.columns if attr not in numerical_attr_list and attr != TARGET_ATTR]\n",
    "attr_list = numerical_attr_list + categorical_attr_list"
   ]
  },
  {
   "cell_type": "markdown",
   "id": "a679e0d04120bb13",
   "metadata": {},
   "source": [
    "#### 2. Build composite estimator"
   ]
  },
  {
   "cell_type": "code",
   "execution_count": 8,
   "id": "c95b81ab-05bc-49ee-af67-e56007358acb",
   "metadata": {
    "ExecuteTime": {
     "end_time": "2023-12-10T23:38:50.429315Z",
     "start_time": "2023-12-10T23:38:50.366670Z"
    }
   },
   "outputs": [
    {
     "data": {
      "text/plain": "Pipeline(steps=[('preprocessor',\n                 ColumnTransformer(transformers=[('numerical',\n                                                  Pipeline(steps=[('column_dropper',\n                                                                   DropColumnsTransformer(attrs_to_drop=['uid',\n                                                                                                         'app_score',\n                                                                                                         'his_on_shelf_time',\n                                                                                                         'task_id',\n                                                                                                         'spread_app_id',\n                                                                                                         'tags',\n                                                                                                         'dev_id'])),\n                                                                  ('imputer',\n                                                                   SimpleImputer()),\n                                                                  ('scaler',\n                                                                   StandardScaler())]),\n                                                  []),\n                                                 ('categorical',\n                                                  Pipeline(steps=[('column_dropper',\n                                                                   DropCol...\n                                                   'device_name', 'device_size',\n                                                   'career', 'gender',\n                                                   'net_type', 'residence',\n                                                   'his_app_size',\n                                                   'his_on_shelf_time',\n                                                   'app_score', 'emui_dev',\n                                                   'list_time', 'device_price',\n                                                   'up_life_duration',\n                                                   'up_membership_grade',\n                                                   'membership_life_duration', ...])])),\n                ('estimator',\n                 AdaBoostClassifier(estimator=DecisionTreeClassifier(class_weight='balanced',\n                                                                     criterion='log_loss',\n                                                                     random_state=42),\n                                    random_state=42))])",
      "text/html": "<style>#sk-container-id-1 {color: black;}#sk-container-id-1 pre{padding: 0;}#sk-container-id-1 div.sk-toggleable {background-color: white;}#sk-container-id-1 label.sk-toggleable__label {cursor: pointer;display: block;width: 100%;margin-bottom: 0;padding: 0.3em;box-sizing: border-box;text-align: center;}#sk-container-id-1 label.sk-toggleable__label-arrow:before {content: \"▸\";float: left;margin-right: 0.25em;color: #696969;}#sk-container-id-1 label.sk-toggleable__label-arrow:hover:before {color: black;}#sk-container-id-1 div.sk-estimator:hover label.sk-toggleable__label-arrow:before {color: black;}#sk-container-id-1 div.sk-toggleable__content {max-height: 0;max-width: 0;overflow: hidden;text-align: left;background-color: #f0f8ff;}#sk-container-id-1 div.sk-toggleable__content pre {margin: 0.2em;color: black;border-radius: 0.25em;background-color: #f0f8ff;}#sk-container-id-1 input.sk-toggleable__control:checked~div.sk-toggleable__content {max-height: 200px;max-width: 100%;overflow: auto;}#sk-container-id-1 input.sk-toggleable__control:checked~label.sk-toggleable__label-arrow:before {content: \"▾\";}#sk-container-id-1 div.sk-estimator input.sk-toggleable__control:checked~label.sk-toggleable__label {background-color: #d4ebff;}#sk-container-id-1 div.sk-label input.sk-toggleable__control:checked~label.sk-toggleable__label {background-color: #d4ebff;}#sk-container-id-1 input.sk-hidden--visually {border: 0;clip: rect(1px 1px 1px 1px);clip: rect(1px, 1px, 1px, 1px);height: 1px;margin: -1px;overflow: hidden;padding: 0;position: absolute;width: 1px;}#sk-container-id-1 div.sk-estimator {font-family: monospace;background-color: #f0f8ff;border: 1px dotted black;border-radius: 0.25em;box-sizing: border-box;margin-bottom: 0.5em;}#sk-container-id-1 div.sk-estimator:hover {background-color: #d4ebff;}#sk-container-id-1 div.sk-parallel-item::after {content: \"\";width: 100%;border-bottom: 1px solid gray;flex-grow: 1;}#sk-container-id-1 div.sk-label:hover label.sk-toggleable__label {background-color: #d4ebff;}#sk-container-id-1 div.sk-serial::before {content: \"\";position: absolute;border-left: 1px solid gray;box-sizing: border-box;top: 0;bottom: 0;left: 50%;z-index: 0;}#sk-container-id-1 div.sk-serial {display: flex;flex-direction: column;align-items: center;background-color: white;padding-right: 0.2em;padding-left: 0.2em;position: relative;}#sk-container-id-1 div.sk-item {position: relative;z-index: 1;}#sk-container-id-1 div.sk-parallel {display: flex;align-items: stretch;justify-content: center;background-color: white;position: relative;}#sk-container-id-1 div.sk-item::before, #sk-container-id-1 div.sk-parallel-item::before {content: \"\";position: absolute;border-left: 1px solid gray;box-sizing: border-box;top: 0;bottom: 0;left: 50%;z-index: -1;}#sk-container-id-1 div.sk-parallel-item {display: flex;flex-direction: column;z-index: 1;position: relative;background-color: white;}#sk-container-id-1 div.sk-parallel-item:first-child::after {align-self: flex-end;width: 50%;}#sk-container-id-1 div.sk-parallel-item:last-child::after {align-self: flex-start;width: 50%;}#sk-container-id-1 div.sk-parallel-item:only-child::after {width: 0;}#sk-container-id-1 div.sk-dashed-wrapped {border: 1px dashed gray;margin: 0 0.4em 0.5em 0.4em;box-sizing: border-box;padding-bottom: 0.4em;background-color: white;}#sk-container-id-1 div.sk-label label {font-family: monospace;font-weight: bold;display: inline-block;line-height: 1.2em;}#sk-container-id-1 div.sk-label-container {text-align: center;}#sk-container-id-1 div.sk-container {/* jupyter's `normalize.less` sets `[hidden] { display: none; }` but bootstrap.min.css set `[hidden] { display: none !important; }` so we also need the `!important` here to be able to override the default hidden behavior on the sphinx rendered scikit-learn.org. See: https://github.com/scikit-learn/scikit-learn/issues/21755 */display: inline-block !important;position: relative;}#sk-container-id-1 div.sk-text-repr-fallback {display: none;}</style><div id=\"sk-container-id-1\" class=\"sk-top-container\"><div class=\"sk-text-repr-fallback\"><pre>Pipeline(steps=[(&#x27;preprocessor&#x27;,\n                 ColumnTransformer(transformers=[(&#x27;numerical&#x27;,\n                                                  Pipeline(steps=[(&#x27;column_dropper&#x27;,\n                                                                   DropColumnsTransformer(attrs_to_drop=[&#x27;uid&#x27;,\n                                                                                                         &#x27;app_score&#x27;,\n                                                                                                         &#x27;his_on_shelf_time&#x27;,\n                                                                                                         &#x27;task_id&#x27;,\n                                                                                                         &#x27;spread_app_id&#x27;,\n                                                                                                         &#x27;tags&#x27;,\n                                                                                                         &#x27;dev_id&#x27;])),\n                                                                  (&#x27;imputer&#x27;,\n                                                                   SimpleImputer()),\n                                                                  (&#x27;scaler&#x27;,\n                                                                   StandardScaler())]),\n                                                  []),\n                                                 (&#x27;categorical&#x27;,\n                                                  Pipeline(steps=[(&#x27;column_dropper&#x27;,\n                                                                   DropCol...\n                                                   &#x27;device_name&#x27;, &#x27;device_size&#x27;,\n                                                   &#x27;career&#x27;, &#x27;gender&#x27;,\n                                                   &#x27;net_type&#x27;, &#x27;residence&#x27;,\n                                                   &#x27;his_app_size&#x27;,\n                                                   &#x27;his_on_shelf_time&#x27;,\n                                                   &#x27;app_score&#x27;, &#x27;emui_dev&#x27;,\n                                                   &#x27;list_time&#x27;, &#x27;device_price&#x27;,\n                                                   &#x27;up_life_duration&#x27;,\n                                                   &#x27;up_membership_grade&#x27;,\n                                                   &#x27;membership_life_duration&#x27;, ...])])),\n                (&#x27;estimator&#x27;,\n                 AdaBoostClassifier(estimator=DecisionTreeClassifier(class_weight=&#x27;balanced&#x27;,\n                                                                     criterion=&#x27;log_loss&#x27;,\n                                                                     random_state=42),\n                                    random_state=42))])</pre><b>In a Jupyter environment, please rerun this cell to show the HTML representation or trust the notebook. <br />On GitHub, the HTML representation is unable to render, please try loading this page with nbviewer.org.</b></div><div class=\"sk-container\" hidden><div class=\"sk-item sk-dashed-wrapped\"><div class=\"sk-label-container\"><div class=\"sk-label sk-toggleable\"><input class=\"sk-toggleable__control sk-hidden--visually\" id=\"sk-estimator-id-1\" type=\"checkbox\" ><label for=\"sk-estimator-id-1\" class=\"sk-toggleable__label sk-toggleable__label-arrow\">Pipeline</label><div class=\"sk-toggleable__content\"><pre>Pipeline(steps=[(&#x27;preprocessor&#x27;,\n                 ColumnTransformer(transformers=[(&#x27;numerical&#x27;,\n                                                  Pipeline(steps=[(&#x27;column_dropper&#x27;,\n                                                                   DropColumnsTransformer(attrs_to_drop=[&#x27;uid&#x27;,\n                                                                                                         &#x27;app_score&#x27;,\n                                                                                                         &#x27;his_on_shelf_time&#x27;,\n                                                                                                         &#x27;task_id&#x27;,\n                                                                                                         &#x27;spread_app_id&#x27;,\n                                                                                                         &#x27;tags&#x27;,\n                                                                                                         &#x27;dev_id&#x27;])),\n                                                                  (&#x27;imputer&#x27;,\n                                                                   SimpleImputer()),\n                                                                  (&#x27;scaler&#x27;,\n                                                                   StandardScaler())]),\n                                                  []),\n                                                 (&#x27;categorical&#x27;,\n                                                  Pipeline(steps=[(&#x27;column_dropper&#x27;,\n                                                                   DropCol...\n                                                   &#x27;device_name&#x27;, &#x27;device_size&#x27;,\n                                                   &#x27;career&#x27;, &#x27;gender&#x27;,\n                                                   &#x27;net_type&#x27;, &#x27;residence&#x27;,\n                                                   &#x27;his_app_size&#x27;,\n                                                   &#x27;his_on_shelf_time&#x27;,\n                                                   &#x27;app_score&#x27;, &#x27;emui_dev&#x27;,\n                                                   &#x27;list_time&#x27;, &#x27;device_price&#x27;,\n                                                   &#x27;up_life_duration&#x27;,\n                                                   &#x27;up_membership_grade&#x27;,\n                                                   &#x27;membership_life_duration&#x27;, ...])])),\n                (&#x27;estimator&#x27;,\n                 AdaBoostClassifier(estimator=DecisionTreeClassifier(class_weight=&#x27;balanced&#x27;,\n                                                                     criterion=&#x27;log_loss&#x27;,\n                                                                     random_state=42),\n                                    random_state=42))])</pre></div></div></div><div class=\"sk-serial\"><div class=\"sk-item sk-dashed-wrapped\"><div class=\"sk-label-container\"><div class=\"sk-label sk-toggleable\"><input class=\"sk-toggleable__control sk-hidden--visually\" id=\"sk-estimator-id-2\" type=\"checkbox\" ><label for=\"sk-estimator-id-2\" class=\"sk-toggleable__label sk-toggleable__label-arrow\">preprocessor: ColumnTransformer</label><div class=\"sk-toggleable__content\"><pre>ColumnTransformer(transformers=[(&#x27;numerical&#x27;,\n                                 Pipeline(steps=[(&#x27;column_dropper&#x27;,\n                                                  DropColumnsTransformer(attrs_to_drop=[&#x27;uid&#x27;,\n                                                                                        &#x27;app_score&#x27;,\n                                                                                        &#x27;his_on_shelf_time&#x27;,\n                                                                                        &#x27;task_id&#x27;,\n                                                                                        &#x27;spread_app_id&#x27;,\n                                                                                        &#x27;tags&#x27;,\n                                                                                        &#x27;dev_id&#x27;])),\n                                                 (&#x27;imputer&#x27;, SimpleImputer()),\n                                                 (&#x27;scaler&#x27;, StandardScaler())]),\n                                 []),\n                                (&#x27;categorical&#x27;,\n                                 Pipeline(steps=[(&#x27;column_dropper&#x27;,\n                                                  DropColumnsTransformer(attrs_to_drop=[&#x27;...\n                                  &#x27;adv_prim_id&#x27;, &#x27;dev_id&#x27;, &#x27;inter_type_cd&#x27;,\n                                  &#x27;slot_id&#x27;, &#x27;spread_app_id&#x27;, &#x27;tags&#x27;,\n                                  &#x27;app_first_class&#x27;, &#x27;app_second_class&#x27;, &#x27;age&#x27;,\n                                  &#x27;city&#x27;, &#x27;city_rank&#x27;, &#x27;device_name&#x27;,\n                                  &#x27;device_size&#x27;, &#x27;career&#x27;, &#x27;gender&#x27;, &#x27;net_type&#x27;,\n                                  &#x27;residence&#x27;, &#x27;his_app_size&#x27;,\n                                  &#x27;his_on_shelf_time&#x27;, &#x27;app_score&#x27;, &#x27;emui_dev&#x27;,\n                                  &#x27;list_time&#x27;, &#x27;device_price&#x27;,\n                                  &#x27;up_life_duration&#x27;, &#x27;up_membership_grade&#x27;,\n                                  &#x27;membership_life_duration&#x27;, ...])])</pre></div></div></div><div class=\"sk-parallel\"><div class=\"sk-parallel-item\"><div class=\"sk-item\"><div class=\"sk-label-container\"><div class=\"sk-label sk-toggleable\"><input class=\"sk-toggleable__control sk-hidden--visually\" id=\"sk-estimator-id-3\" type=\"checkbox\" ><label for=\"sk-estimator-id-3\" class=\"sk-toggleable__label sk-toggleable__label-arrow\">numerical</label><div class=\"sk-toggleable__content\"><pre>[]</pre></div></div></div><div class=\"sk-serial\"><div class=\"sk-item\"><div class=\"sk-serial\"><div class=\"sk-item\"><div class=\"sk-estimator sk-toggleable\"><input class=\"sk-toggleable__control sk-hidden--visually\" id=\"sk-estimator-id-4\" type=\"checkbox\" ><label for=\"sk-estimator-id-4\" class=\"sk-toggleable__label sk-toggleable__label-arrow\">DropColumnsTransformer</label><div class=\"sk-toggleable__content\"><pre>DropColumnsTransformer(attrs_to_drop=[&#x27;uid&#x27;, &#x27;app_score&#x27;, &#x27;his_on_shelf_time&#x27;,\n                                      &#x27;task_id&#x27;, &#x27;spread_app_id&#x27;, &#x27;tags&#x27;,\n                                      &#x27;dev_id&#x27;])</pre></div></div></div><div class=\"sk-item\"><div class=\"sk-estimator sk-toggleable\"><input class=\"sk-toggleable__control sk-hidden--visually\" id=\"sk-estimator-id-5\" type=\"checkbox\" ><label for=\"sk-estimator-id-5\" class=\"sk-toggleable__label sk-toggleable__label-arrow\">SimpleImputer</label><div class=\"sk-toggleable__content\"><pre>SimpleImputer()</pre></div></div></div><div class=\"sk-item\"><div class=\"sk-estimator sk-toggleable\"><input class=\"sk-toggleable__control sk-hidden--visually\" id=\"sk-estimator-id-6\" type=\"checkbox\" ><label for=\"sk-estimator-id-6\" class=\"sk-toggleable__label sk-toggleable__label-arrow\">StandardScaler</label><div class=\"sk-toggleable__content\"><pre>StandardScaler()</pre></div></div></div></div></div></div></div></div><div class=\"sk-parallel-item\"><div class=\"sk-item\"><div class=\"sk-label-container\"><div class=\"sk-label sk-toggleable\"><input class=\"sk-toggleable__control sk-hidden--visually\" id=\"sk-estimator-id-7\" type=\"checkbox\" ><label for=\"sk-estimator-id-7\" class=\"sk-toggleable__label sk-toggleable__label-arrow\">categorical</label><div class=\"sk-toggleable__content\"><pre>[&#x27;uid&#x27;, &#x27;task_id&#x27;, &#x27;adv_id&#x27;, &#x27;creat_type_cd&#x27;, &#x27;adv_prim_id&#x27;, &#x27;dev_id&#x27;, &#x27;inter_type_cd&#x27;, &#x27;slot_id&#x27;, &#x27;spread_app_id&#x27;, &#x27;tags&#x27;, &#x27;app_first_class&#x27;, &#x27;app_second_class&#x27;, &#x27;age&#x27;, &#x27;city&#x27;, &#x27;city_rank&#x27;, &#x27;device_name&#x27;, &#x27;device_size&#x27;, &#x27;career&#x27;, &#x27;gender&#x27;, &#x27;net_type&#x27;, &#x27;residence&#x27;, &#x27;his_app_size&#x27;, &#x27;his_on_shelf_time&#x27;, &#x27;app_score&#x27;, &#x27;emui_dev&#x27;, &#x27;list_time&#x27;, &#x27;device_price&#x27;, &#x27;up_life_duration&#x27;, &#x27;up_membership_grade&#x27;, &#x27;membership_life_duration&#x27;, &#x27;consume_purchase&#x27;, &#x27;communication_onlinerate&#x27;, &#x27;communication_avgonline_30d&#x27;, &#x27;indu_name&#x27;, &#x27;pt_d&#x27;]</pre></div></div></div><div class=\"sk-serial\"><div class=\"sk-item\"><div class=\"sk-serial\"><div class=\"sk-item\"><div class=\"sk-estimator sk-toggleable\"><input class=\"sk-toggleable__control sk-hidden--visually\" id=\"sk-estimator-id-8\" type=\"checkbox\" ><label for=\"sk-estimator-id-8\" class=\"sk-toggleable__label sk-toggleable__label-arrow\">DropColumnsTransformer</label><div class=\"sk-toggleable__content\"><pre>DropColumnsTransformer(attrs_to_drop=[&#x27;uid&#x27;, &#x27;app_score&#x27;, &#x27;his_on_shelf_time&#x27;,\n                                      &#x27;task_id&#x27;, &#x27;spread_app_id&#x27;, &#x27;tags&#x27;,\n                                      &#x27;dev_id&#x27;])</pre></div></div></div><div class=\"sk-item\"><div class=\"sk-estimator sk-toggleable\"><input class=\"sk-toggleable__control sk-hidden--visually\" id=\"sk-estimator-id-9\" type=\"checkbox\" ><label for=\"sk-estimator-id-9\" class=\"sk-toggleable__label sk-toggleable__label-arrow\">SimpleImputer</label><div class=\"sk-toggleable__content\"><pre>SimpleImputer(strategy=&#x27;most_frequent&#x27;)</pre></div></div></div><div class=\"sk-item\"><div class=\"sk-estimator sk-toggleable\"><input class=\"sk-toggleable__control sk-hidden--visually\" id=\"sk-estimator-id-10\" type=\"checkbox\" ><label for=\"sk-estimator-id-10\" class=\"sk-toggleable__label sk-toggleable__label-arrow\">TargetEncoder</label><div class=\"sk-toggleable__content\"><pre>TargetEncoder(random_state=42, target_type=&#x27;binary&#x27;)</pre></div></div></div><div class=\"sk-item\"><div class=\"sk-estimator sk-toggleable\"><input class=\"sk-toggleable__control sk-hidden--visually\" id=\"sk-estimator-id-11\" type=\"checkbox\" ><label for=\"sk-estimator-id-11\" class=\"sk-toggleable__label sk-toggleable__label-arrow\">StandardScaler</label><div class=\"sk-toggleable__content\"><pre>StandardScaler()</pre></div></div></div></div></div></div></div></div></div></div><div class=\"sk-item sk-dashed-wrapped\"><div class=\"sk-label-container\"><div class=\"sk-label sk-toggleable\"><input class=\"sk-toggleable__control sk-hidden--visually\" id=\"sk-estimator-id-12\" type=\"checkbox\" ><label for=\"sk-estimator-id-12\" class=\"sk-toggleable__label sk-toggleable__label-arrow\">estimator: AdaBoostClassifier</label><div class=\"sk-toggleable__content\"><pre>AdaBoostClassifier(estimator=DecisionTreeClassifier(class_weight=&#x27;balanced&#x27;,\n                                                    criterion=&#x27;log_loss&#x27;,\n                                                    random_state=42),\n                   random_state=42)</pre></div></div></div><div class=\"sk-parallel\"><div class=\"sk-parallel-item\"><div class=\"sk-item\"><div class=\"sk-label-container\"><div class=\"sk-label sk-toggleable\"><input class=\"sk-toggleable__control sk-hidden--visually\" id=\"sk-estimator-id-13\" type=\"checkbox\" ><label for=\"sk-estimator-id-13\" class=\"sk-toggleable__label sk-toggleable__label-arrow\">estimator: DecisionTreeClassifier</label><div class=\"sk-toggleable__content\"><pre>DecisionTreeClassifier(class_weight=&#x27;balanced&#x27;, criterion=&#x27;log_loss&#x27;,\n                       random_state=42)</pre></div></div></div><div class=\"sk-serial\"><div class=\"sk-item\"><div class=\"sk-estimator sk-toggleable\"><input class=\"sk-toggleable__control sk-hidden--visually\" id=\"sk-estimator-id-14\" type=\"checkbox\" ><label for=\"sk-estimator-id-14\" class=\"sk-toggleable__label sk-toggleable__label-arrow\">DecisionTreeClassifier</label><div class=\"sk-toggleable__content\"><pre>DecisionTreeClassifier(class_weight=&#x27;balanced&#x27;, criterion=&#x27;log_loss&#x27;,\n                       random_state=42)</pre></div></div></div></div></div></div></div></div></div></div></div></div>"
     },
     "execution_count": 8,
     "metadata": {},
     "output_type": "execute_result"
    }
   ],
   "source": [
    "preprocessor = bin_class_utils.build_preprocessing_pipeline(numerical_attr_list, categorical_attr_list, ATTRS_TO_DROP, TARGET_TYPE, TARGET_ENCODING_RANDOM_STATE)\n",
    "\n",
    "estimator = bin_class_utils.get_default_model(ESTIMATOR_NAME, MODEL_RANDOM_STATE)\n",
    "\n",
    "composite_estimator = Pipeline(steps=[\n",
    "    ('preprocessor', preprocessor), \n",
    "    ('estimator', estimator)\n",
    "])\n",
    "\n",
    "composite_estimator"
   ]
  },
  {
   "cell_type": "markdown",
   "id": "d52d9412a5ff0d57",
   "metadata": {},
   "source": [
    "#### 3. Design grid search and tune hyperparameters of composite estimator"
   ]
  },
  {
   "cell_type": "code",
   "execution_count": null,
   "id": "74616011",
   "metadata": {
    "is_executing": true,
    "ExecuteTime": {
     "start_time": "2023-12-10T23:38:50.425377Z"
    }
   },
   "outputs": [
    {
     "name": "stdout",
     "output_type": "stream",
     "text": [
      "Fitting 5 folds for each of 24 candidates, totalling 120 fits\n"
     ]
    }
   ],
   "source": [
    "best_model = bin_class_utils.tune_hyperparameters(train_cap_x_df, train_y_df, composite_estimator, AB_HYPER_PARAM_GRID)"
   ]
  },
  {
   "cell_type": "markdown",
   "id": "8360edf5-6f8f-4ba5-9045-adb9c850a277",
   "metadata": {},
   "source": [
    "#### 4. Evaluate hyperparameter-tuned estimator on train set"
   ]
  },
  {
   "cell_type": "code",
   "execution_count": null,
   "id": "8b97aadb-00a2-420e-aea9-710b5a6e2959",
   "metadata": {
    "is_executing": true
   },
   "outputs": [],
   "source": [
    "eval_train_results = bin_class_utils.eval_class(train_cap_x_df, train_y_df, best_model, \"train\", CVS_SCORING_LIST)\n",
    "eval_train_results"
   ]
  },
  {
   "cell_type": "markdown",
   "id": "de17be47-5469-4e80-894b-5ee61118b61d",
   "metadata": {},
   "source": [
    "#### 5. Evaluate hyperparameter-tuned estimator on validation set"
   ]
  },
  {
   "cell_type": "code",
   "execution_count": null,
   "id": "03635e12",
   "metadata": {
    "is_executing": true
   },
   "outputs": [],
   "source": [
    "validation_df = general_utils.read_csv(VALIDATION_FILE_PATH)"
   ]
  },
  {
   "cell_type": "code",
   "execution_count": null,
   "id": "1d58c006",
   "metadata": {
    "is_executing": true
   },
   "outputs": [],
   "source": [
    "validation_df_sample = data_prepare_utils.sample_data(validation_df, SAMPLE_SIZE, SAMPLE_RANDOM_STATE)\n",
    "del validation_df"
   ]
  },
  {
   "cell_type": "code",
   "execution_count": null,
   "id": "e0f3b279",
   "metadata": {
    "is_executing": true
   },
   "outputs": [],
   "source": [
    "validation_cap_x_df, validation_y_df = validation_df_sample.drop(columns=TARGET_ATTR), validation_df_sample[[TARGET_ATTR]]\n",
    "del validation_df_sample"
   ]
  },
  {
   "cell_type": "code",
   "execution_count": null,
   "id": "e6ef46eb",
   "metadata": {
    "is_executing": true
   },
   "outputs": [],
   "source": [
    "eval_validation_results = bin_class_utils.eval_class(validation_cap_x_df, validation_y_df, best_model, \"validation\", CVS_SCORING_LIST)\n",
    "eval_validation_results"
   ]
  },
  {
   "cell_type": "markdown",
   "id": "cc4f9d13-9a31-4e3e-b68b-5115b6b73dd6",
   "metadata": {},
   "source": [
    "#### 6. Check out permutation feature importance"
   ]
  },
  {
   "cell_type": "code",
   "execution_count": null,
   "id": "8fdd009c",
   "metadata": {
    "is_executing": true
   },
   "outputs": [],
   "source": [
    "perm_results_df = bin_class_utils.check_out_permutation_importance(\n",
    "    best_model, \n",
    "    train_cap_x_df, \n",
    "    train_y_df, \n",
    "    PERMUTATION_IMPORTANCE_RANDOM_STATE,\n",
    "    PERMUTATION_SCORING_LIST\n",
    ")\n",
    "perm_results_df"
   ]
  },
  {
   "cell_type": "markdown",
   "id": "73356a4f-76a9-4e6f-a344-419cb17e3543",
   "metadata": {},
   "source": [
    "#### 7. Check for false discoveries"
   ]
  },
  {
   "cell_type": "code",
   "execution_count": null,
   "id": "8ce9d648",
   "metadata": {
    "is_executing": true
   },
   "outputs": [],
   "source": [
    "bin_class_utils.avoiding_false_discoveries_class_helper(\n",
    "    best_model, \n",
    "    train_cap_x_df, \n",
    "    train_y_df, \n",
    "    validation_cap_x_df,\n",
    "    validation_y_df, \n",
    "    num_samples=BS_SAMPLE_NUM\n",
    ")"
   ]
  },
  {
   "cell_type": "markdown",
   "id": "4c02da51-bf62-4978-8277-0c144943dd0f",
   "metadata": {},
   "source": [
    "#### 8. Tune classification threshold for classification - assess threshold list"
   ]
  },
  {
   "cell_type": "code",
   "execution_count": null,
   "id": "c4861aee",
   "metadata": {
    "is_executing": true
   },
   "outputs": [],
   "source": [
    "thresholds = np.arange(0, 1.1, 0.1)\n",
    "\n",
    "bin_class_utils.print_classification_metrics_at_thresholds(\n",
    "    validation_cap_x_df, \n",
    "    validation_y_df,\n",
    "    best_model,  \n",
    "    thresholds\n",
    ")"
   ]
  },
  {
   "cell_type": "code",
   "execution_count": null,
   "outputs": [],
   "source": [
    "bin_class_utils.plot_errors_to_threshold(\n",
    "    best_model, \n",
    "    validation_cap_x_df, \n",
    "    validation_y_df, \n",
    "    'tuned validation'\n",
    ")"
   ],
   "metadata": {
    "collapsed": false,
    "is_executing": true
   },
   "id": "cb1467870a983323"
  },
  {
   "cell_type": "markdown",
   "id": "2ac37e96-d196-4515-9f55-89df6e8f4dad",
   "metadata": {},
   "source": [
    "#### 9. Higher resolution scan to get the best classification threshold"
   ]
  },
  {
   "cell_type": "code",
   "execution_count": 26,
   "outputs": [],
   "source": [
    "temp_best_threshold = 0.7"
   ],
   "metadata": {
    "collapsed": false,
    "ExecuteTime": {
     "end_time": "2023-12-10T23:36:41.012320Z",
     "start_time": "2023-12-10T23:36:40.980536Z"
    }
   },
   "id": "5352c7f52445b90c"
  },
  {
   "cell_type": "code",
   "execution_count": 27,
   "outputs": [
    {
     "name": "stdout",
     "output_type": "stream",
     "text": [
      "\n",
      "Classification Report at Threshold 0.65:\n",
      "\n",
      "              precision    recall  f1-score   support\n",
      "\n",
      "           0     0.9657    0.7792    0.8625      8092\n",
      "           1     0.0351    0.2249    0.0607       289\n",
      "\n",
      "    accuracy                         0.7601      8381\n",
      "   macro avg     0.5004    0.5020    0.4616      8381\n",
      "weighted avg     0.9336    0.7601    0.8348      8381\n",
      "\n",
      "\n",
      "Classification Report at Threshold 0.66:\n",
      "\n",
      "              precision    recall  f1-score   support\n",
      "\n",
      "           0     0.9657    0.7892    0.8685      8092\n",
      "           1     0.0351    0.2145    0.0603       289\n",
      "\n",
      "    accuracy                         0.7694      8381\n",
      "   macro avg     0.5004    0.5019    0.4644      8381\n",
      "weighted avg     0.9336    0.7694    0.8407      8381\n",
      "\n",
      "Classification Report at Threshold 0.67:\n",
      "\n",
      "              precision    recall  f1-score   support\n",
      "\n",
      "           0     0.9657    0.8014    0.8759      8092\n",
      "           1     0.0354    0.2042    0.0604       289\n",
      "\n",
      "    accuracy                         0.7808      8381\n",
      "   macro avg     0.5006    0.5028    0.4681      8381\n",
      "weighted avg     0.9337    0.7808    0.8478      8381\n",
      "\n",
      "\n",
      "Classification Report at Threshold 0.68:\n",
      "\n",
      "              precision    recall  f1-score   support\n",
      "\n",
      "           0     0.9658    0.8119    0.8822      8092\n",
      "           1     0.0355    0.1938    0.0600       289\n",
      "\n",
      "    accuracy                         0.7906      8381\n",
      "   macro avg     0.5006    0.5028    0.4711      8381\n",
      "weighted avg     0.9337    0.7906    0.8538      8381\n",
      "\n",
      "Classification Report at Threshold 0.69:\n",
      "\n",
      "              precision    recall  f1-score   support\n",
      "\n",
      "           0     0.9656    0.8253    0.8899      8092\n",
      "           1     0.0348    0.1765    0.0582       289\n",
      "\n",
      "    accuracy                         0.8029      8381\n",
      "   macro avg     0.5002    0.5009    0.4740      8381\n",
      "weighted avg     0.9335    0.8029    0.8612      8381\n",
      "\n",
      "\n",
      "Classification Report at Threshold 0.70:\n",
      "\n",
      "              precision    recall  f1-score   support\n",
      "\n",
      "           0     0.9656    0.8370    0.8967      8092\n",
      "           1     0.0351    0.1661    0.0580       289\n",
      "\n",
      "    accuracy                         0.8139      8381\n",
      "   macro avg     0.5004    0.5015    0.4774      8381\n",
      "weighted avg     0.9336    0.8139    0.8678      8381\n",
      "\n",
      "Classification Report at Threshold 0.71:\n",
      "\n",
      "              precision    recall  f1-score   support\n",
      "\n",
      "           0     0.9660    0.8494    0.9039      8092\n",
      "           1     0.0371    0.1626    0.0605       289\n",
      "\n",
      "    accuracy                         0.8257      8381\n",
      "   macro avg     0.5016    0.5060    0.4822      8381\n",
      "weighted avg     0.9340    0.8257    0.8748      8381\n",
      "\n",
      "\n",
      "Classification Report at Threshold 0.72:\n",
      "\n",
      "              precision    recall  f1-score   support\n",
      "\n",
      "           0     0.9657    0.8600    0.9098      8092\n",
      "           1     0.0357    0.1453    0.0574       289\n",
      "\n",
      "    accuracy                         0.8353      8381\n",
      "   macro avg     0.5007    0.5027    0.4836      8381\n",
      "weighted avg     0.9337    0.8353    0.8804      8381\n",
      "\n",
      "Classification Report at Threshold 0.73:\n",
      "\n",
      "              precision    recall  f1-score   support\n",
      "\n",
      "           0     0.9657    0.8728    0.9169      8092\n",
      "           1     0.0356    0.1315    0.0560       289\n",
      "\n",
      "    accuracy                         0.8473      8381\n",
      "   macro avg     0.5006    0.5022    0.4865      8381\n",
      "weighted avg     0.9336    0.8473    0.8872      8381\n",
      "\n",
      "\n",
      "Classification Report at Threshold 0.74:\n",
      "\n",
      "              precision    recall  f1-score   support\n",
      "\n",
      "           0     0.9655    0.8826    0.9222      8092\n",
      "           1     0.0346    0.1176    0.0534       289\n",
      "\n",
      "    accuracy                         0.8562      8381\n",
      "   macro avg     0.5000    0.5001    0.4878      8381\n",
      "weighted avg     0.9334    0.8562    0.8922      8381\n",
      "\n",
      "Classification Report at Threshold 0.75:\n",
      "\n",
      "              precision    recall  f1-score   support\n",
      "\n",
      "           0     0.9653    0.8940    0.9283      8092\n",
      "           1     0.0327    0.1003    0.0493       289\n",
      "\n",
      "    accuracy                         0.8666      8381\n",
      "   macro avg     0.4990    0.4972    0.4888      8381\n",
      "weighted avg     0.9331    0.8666    0.8980      8381\n",
      "\n",
      "\n",
      "Classification Report at Threshold 0.76:\n",
      "\n",
      "              precision    recall  f1-score   support\n",
      "\n",
      "           0     0.9654    0.9058    0.9347      8092\n",
      "           1     0.0330    0.0900    0.0483       289\n",
      "\n",
      "    accuracy                         0.8777      8381\n",
      "   macro avg     0.4992    0.4979    0.4915      8381\n",
      "weighted avg     0.9332    0.8777    0.9041      8381\n"
     ]
    }
   ],
   "source": [
    "start = temp_best_threshold - 0.05\n",
    "stop = temp_best_threshold + 0.06\n",
    "step_size = 0.01\n",
    "\n",
    "narrow_thresholds = np.arange(start, stop, step_size)\n",
    "bin_class_utils.print_classification_metrics_at_thresholds(\n",
    "    validation_cap_x_df, \n",
    "    validation_y_df,\n",
    "    best_model,\n",
    "    narrow_thresholds\n",
    ")"
   ],
   "metadata": {
    "collapsed": false,
    "ExecuteTime": {
     "end_time": "2023-12-10T23:36:43.071947Z",
     "start_time": "2023-12-10T23:36:41.668962Z"
    }
   },
   "id": "82a96700e6d830f7"
  },
  {
   "cell_type": "code",
   "execution_count": 28,
   "id": "2cd27857",
   "metadata": {
    "ExecuteTime": {
     "end_time": "2023-12-10T23:37:18.172747Z",
     "start_time": "2023-12-10T23:37:18.153648Z"
    }
   },
   "outputs": [],
   "source": [
    "best_threshold = 0.71"
   ]
  },
  {
   "cell_type": "markdown",
   "id": "6932e04f-0d60-4352-abf8-5d1f257e2f2a",
   "metadata": {},
   "source": [
    "#### 10. Evaluate the best classification threshold on validation set"
   ]
  },
  {
   "cell_type": "code",
   "execution_count": 29,
   "id": "3cc8fed1cf3ac154",
   "metadata": {
    "ExecuteTime": {
     "end_time": "2023-12-10T23:37:25.692723Z",
     "start_time": "2023-12-10T23:37:19.502315Z"
    }
   },
   "outputs": [
    {
     "name": "stdout",
     "output_type": "stream",
     "text": [
      "Evaluate the trained estimator performance on best validation set\n",
      "Check accuracy score\n",
      "best validation set accuracy score: 0.8256771268345067\n",
      "\n",
      "Check classification report\n",
      "{'0': {'precision': 0.9659873506676037, 'recall': 0.8493573900148295, 'f1-score': 0.9039258236338528, 'support': 8092.0}, '1': {'precision': 0.03712480252764613, 'recall': 0.16262975778546712, 'f1-score': 0.060450160771704176, 'support': 289.0}, 'accuracy': 0.8256771268345067, 'macro avg': {'precision': 0.5015560765976249, 'recall': 0.5059935739001483, 'f1-score': 0.48218799220277847, 'support': 8381.0}, 'weighted avg': {'precision': 0.9339576076282948, 'recall': 0.8256771268345067, 'f1-score': 0.8748404559489511, 'support': 8381.0}}\n",
      "\n",
      "Check confusion matrix\n",
      "best validation set confusion matrix: \n",
      "[[6873 1219]\n",
      " [ 242   47]]\n",
      "True Positives =  6873\n",
      "True Negatives =  47\n",
      "False Positives(Type I error) =  1219\n",
      "False Negatives(Type II error) =  242\n",
      "\n",
      "Check cross validation score\n",
      "\n",
      "accuracy scores: [0.96541443 0.96599045 0.96539379 0.96539379 0.96539379]\n",
      "np.mean(scores): 0.9655\n",
      "np.std(scores, ddof=1): 0.0003\n"
     ]
    },
    {
     "name": "stderr",
     "output_type": "stream",
     "text": [
      "/Users/leon/miniconda3/envs/ctr_venv/lib/python3.10/site-packages/sklearn/metrics/_classification.py:1469: UndefinedMetricWarning: Precision is ill-defined and being set to 0.0 due to no predicted samples. Use `zero_division` parameter to control this behavior.\n",
      "  _warn_prf(average, modifier, msg_start, len(result))\n",
      "/Users/leon/miniconda3/envs/ctr_venv/lib/python3.10/site-packages/sklearn/metrics/_classification.py:1469: UndefinedMetricWarning: Precision is ill-defined and being set to 0.0 due to no predicted samples. Use `zero_division` parameter to control this behavior.\n",
      "  _warn_prf(average, modifier, msg_start, len(result))\n",
      "/Users/leon/miniconda3/envs/ctr_venv/lib/python3.10/site-packages/sklearn/metrics/_classification.py:1469: UndefinedMetricWarning: Precision is ill-defined and being set to 0.0 due to no predicted samples. Use `zero_division` parameter to control this behavior.\n",
      "  _warn_prf(average, modifier, msg_start, len(result))\n",
      "/Users/leon/miniconda3/envs/ctr_venv/lib/python3.10/site-packages/sklearn/metrics/_classification.py:1469: UndefinedMetricWarning: Precision is ill-defined and being set to 0.0 due to no predicted samples. Use `zero_division` parameter to control this behavior.\n",
      "  _warn_prf(average, modifier, msg_start, len(result))\n",
      "/Users/leon/miniconda3/envs/ctr_venv/lib/python3.10/site-packages/sklearn/metrics/_classification.py:1469: UndefinedMetricWarning: Precision is ill-defined and being set to 0.0 due to no predicted samples. Use `zero_division` parameter to control this behavior.\n",
      "  _warn_prf(average, modifier, msg_start, len(result))\n"
     ]
    },
    {
     "name": "stdout",
     "output_type": "stream",
     "text": [
      "\n",
      "precision scores: [0. 0. 0. 0. 0.]\n",
      "np.mean(scores): 0.0000\n",
      "np.std(scores, ddof=1): 0.0000\n",
      "\n",
      "recall scores: [0. 0. 0. 0. 0.]\n",
      "np.mean(scores): 0.0000\n",
      "np.std(scores, ddof=1): 0.0000\n",
      "\n",
      "f1 scores: [0. 0. 0. 0. 0.]\n",
      "np.mean(scores): 0.0000\n",
      "np.std(scores, ddof=1): 0.0000\n",
      "\n",
      "Check the ROC Curve and AUC\n"
     ]
    },
    {
     "data": {
      "text/plain": "<Figure size 640x480 with 1 Axes>",
      "image/png": "[encoded data removed]"
     },
     "metadata": {},
     "output_type": "display_data"
    },
    {
     "name": "stdout",
     "output_type": "stream",
     "text": [
      "\n",
      "Check Precision-Recall Curve and Average Precision Score\n"
     ]
    },
    {
     "data": {
      "text/plain": "<Figure size 640x480 with 1 Axes>",
      "image/png": "[encoded data removed]"
     },
     "metadata": {},
     "output_type": "display_data"
    },
    {
     "data": {
      "text/plain": "             stage  accuracy  precision   recall  cv_mean_accuracy  \\\n0  best validation    0.8257   0.037125  0.16263            0.9655   \n\n   cv_mean_precision  cv_mean_recall  cv_mean_f1  roc_auc_score  \n0                0.0             0.0         0.0          0.506  ",
      "text/html": "<div>\n<style scoped>\n    .dataframe tbody tr th:only-of-type {\n        vertical-align: middle;\n    }\n\n    .dataframe tbody tr th {\n        vertical-align: top;\n    }\n\n    .dataframe thead th {\n        text-align: right;\n    }\n</style>\n<table border=\"1\" class=\"dataframe\">\n  <thead>\n    <tr style=\"text-align: right;\">\n      <th></th>\n      <th>stage</th>\n      <th>accuracy</th>\n      <th>precision</th>\n      <th>recall</th>\n      <th>cv_mean_accuracy</th>\n      <th>cv_mean_precision</th>\n      <th>cv_mean_recall</th>\n      <th>cv_mean_f1</th>\n      <th>roc_auc_score</th>\n    </tr>\n  </thead>\n  <tbody>\n    <tr>\n      <th>0</th>\n      <td>best validation</td>\n      <td>0.8257</td>\n      <td>0.037125</td>\n      <td>0.16263</td>\n      <td>0.9655</td>\n      <td>0.0</td>\n      <td>0.0</td>\n      <td>0.0</td>\n      <td>0.506</td>\n    </tr>\n  </tbody>\n</table>\n</div>"
     },
     "execution_count": 29,
     "metadata": {},
     "output_type": "execute_result"
    }
   ],
   "source": [
    "eval_best_validation_results = bin_class_utils.eval_class(\n",
    "    validation_cap_x_df,\n",
    "    validation_y_df,\n",
    "    best_model,\n",
    "    \"best validation\",\n",
    "    CVS_SCORING_LIST,\n",
    "    best_threshold\n",
    ")\n",
    "eval_best_validation_results"
   ]
  },
  {
   "cell_type": "code",
   "execution_count": 30,
   "outputs": [
    {
     "data": {
      "text/plain": "             stage  accuracy  precision    recall  cv_mean_accuracy  \\\n0            train    0.9491   0.132176  0.085640            0.9578   \n0       validation    0.9470   0.106599  0.072664            0.9655   \n0  best validation    0.8257   0.037125  0.162630            0.9655   \n\n   cv_mean_precision  cv_mean_recall  cv_mean_f1  roc_auc_score  \n0             0.0968          0.0285      0.0403         0.5328  \n0             0.0000          0.0000      0.0000         0.5255  \n0             0.0000          0.0000      0.0000         0.5060  ",
      "text/html": "<div>\n<style scoped>\n    .dataframe tbody tr th:only-of-type {\n        vertical-align: middle;\n    }\n\n    .dataframe tbody tr th {\n        vertical-align: top;\n    }\n\n    .dataframe thead th {\n        text-align: right;\n    }\n</style>\n<table border=\"1\" class=\"dataframe\">\n  <thead>\n    <tr style=\"text-align: right;\">\n      <th></th>\n      <th>stage</th>\n      <th>accuracy</th>\n      <th>precision</th>\n      <th>recall</th>\n      <th>cv_mean_accuracy</th>\n      <th>cv_mean_precision</th>\n      <th>cv_mean_recall</th>\n      <th>cv_mean_f1</th>\n      <th>roc_auc_score</th>\n    </tr>\n  </thead>\n  <tbody>\n    <tr>\n      <th>0</th>\n      <td>train</td>\n      <td>0.9491</td>\n      <td>0.132176</td>\n      <td>0.085640</td>\n      <td>0.9578</td>\n      <td>0.0968</td>\n      <td>0.0285</td>\n      <td>0.0403</td>\n      <td>0.5328</td>\n    </tr>\n    <tr>\n      <th>0</th>\n      <td>validation</td>\n      <td>0.9470</td>\n      <td>0.106599</td>\n      <td>0.072664</td>\n      <td>0.9655</td>\n      <td>0.0000</td>\n      <td>0.0000</td>\n      <td>0.0000</td>\n      <td>0.5255</td>\n    </tr>\n    <tr>\n      <th>0</th>\n      <td>best validation</td>\n      <td>0.8257</td>\n      <td>0.037125</td>\n      <td>0.162630</td>\n      <td>0.9655</td>\n      <td>0.0000</td>\n      <td>0.0000</td>\n      <td>0.0000</td>\n      <td>0.5060</td>\n    </tr>\n  </tbody>\n</table>\n</div>"
     },
     "execution_count": 30,
     "metadata": {},
     "output_type": "execute_result"
    }
   ],
   "source": [
    "compare_df = pd.concat([eval_train_results, eval_validation_results, eval_best_validation_results], axis=0)\n",
    "compare_df"
   ],
   "metadata": {
    "collapsed": false,
    "ExecuteTime": {
     "end_time": "2023-12-10T23:37:25.732388Z",
     "start_time": "2023-12-10T23:37:25.690990Z"
    }
   },
   "id": "66f9b7a15d9a4101"
  },
  {
   "cell_type": "markdown",
   "source": [
    "#### 11. Save the best model with pickle"
   ],
   "metadata": {
    "collapsed": false
   },
   "id": "b93cc66e9b8eddc6"
  },
  {
   "cell_type": "code",
   "execution_count": 31,
   "outputs": [],
   "source": [
    "pickle.dump(best_model, open(ESTIMATOR_NAME + '.pkl', 'wb'))"
   ],
   "metadata": {
    "collapsed": false,
    "ExecuteTime": {
     "end_time": "2023-12-10T23:37:27.322179Z",
     "start_time": "2023-12-10T23:37:27.291552Z"
    }
   },
   "id": "919ea8687c4902cc"
  },
  {
   "cell_type": "code",
   "execution_count": 32,
   "id": "336c90c21d5c0d4b",
   "metadata": {
    "ExecuteTime": {
     "end_time": "2023-12-10T23:37:27.704430Z",
     "start_time": "2023-12-10T23:37:27.680768Z"
    }
   },
   "outputs": [
    {
     "name": "stdout",
     "output_type": "stream",
     "text": [
      "Script run time: 8.237174916267396 minutes\n"
     ]
    }
   ],
   "source": [
    "end_time = time.time()\n",
    "print(f'Script run time: {(end_time - start_time)/60} minutes')"
   ]
  }
 ],
 "metadata": {
  "kernelspec": {
   "name": "python3",
   "language": "python",
   "display_name": "Python 3 (ipykernel)"
  },
  "language_info": {
   "codemirror_mode": {
    "name": "ipython",
    "version": 3
   },
   "file_extension": ".py",
   "mimetype": "text/x-python",
   "name": "python",
   "nbconvert_exporter": "python",
   "pygments_lexer": "ipython3",
   "version": "3.10.13"
  }
 },
 "nbformat": 4,
 "nbformat_minor": 5
}
