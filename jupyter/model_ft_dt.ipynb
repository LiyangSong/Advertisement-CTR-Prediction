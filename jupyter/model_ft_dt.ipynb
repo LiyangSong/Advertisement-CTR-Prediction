{
 "cells": [
  {
   "cell_type": "markdown",
   "id": "2d5a19d0-cbc3-41da-8cde-ebe19094bdb5",
   "metadata": {},
   "source": [
    "## Fune-tune the System - Decision Tree Classifier"
   ]
  },
  {
   "cell_type": "code",
   "execution_count": 1,
   "id": "c3544cbb-3de6-4480-aea1-450317f91b8e",
   "metadata": {},
   "outputs": [],
   "source": [
    "# setting\n",
    "\n",
    "import sys\n",
    "sys.path.append(\"..\")\n",
    "\n",
    "from module.utils import general_utils\n",
    "from module.utils import data_prepare_utils\n",
    "from module.utils import model_performance_utils\n",
    "import module.utils.bin_class_utils as bin_class_utils\n",
    "\n",
    "from sklearn.tree import DecisionTreeClassifier\n",
    "\n",
    "from sklearn.pipeline import Pipeline\n",
    "\n",
    "import numpy as np\n",
    "import pandas as pd\n",
    "import matplotlib.pyplot as plt"
   ]
  },
  {
   "cell_type": "code",
   "execution_count": 2,
   "id": "fd38f26d-c9be-4abd-aca6-69506d4eca07",
   "metadata": {},
   "outputs": [],
   "source": [
    "target_attr = \"label\"\n",
    "target_type = \"binary\"\n",
    "\n",
    "estimator_name = \"DecisionTreeClassifier\"\n",
    "\n",
    "sample_random_state = 24\n",
    "target_encoding_random_state = 42\n",
    "model_random_state = 42\n",
    "permutation_importance_random_state = 0"
   ]
  },
  {
   "cell_type": "code",
   "execution_count": 3,
   "id": "0cc8f970-ebe6-4a58-84ad-24a9113eea84",
   "metadata": {},
   "outputs": [],
   "source": [
    "train_df = pd.read_csv('train_df_exp.csv')\n",
    "train_cap_x_df, train_y_df = train_df.drop(columns=target_attr), train_df[[target_attr]]\n",
    "\n",
    "balanced = train_y_df.shape[0] / (train_y_df[target_attr].nunique()*np.bincount(train_y_df[target_attr]))\n",
    "balanced_and_normalized_dict = \\\n",
    "    dict(\n",
    "        zip(\n",
    "            train_y_df[target_attr].unique(),\n",
    "            balanced/sum(balanced)\n",
    "            )\n",
    "        )"
   ]
  },
  {
   "cell_type": "code",
   "execution_count": 4,
   "id": "8874d9e7-1f3c-4830-b94d-5e4797a8ee0d",
   "metadata": {},
   "outputs": [],
   "source": [
    "numerical_attr_list = []\n",
    "categorical_attr_list = [attr for attr in train_cap_x_df.columns if attr not in numerical_attr_list and attr != target_attr]\n",
    "attr_list = numerical_attr_list + categorical_attr_list"
   ]
  },
  {
   "cell_type": "code",
   "execution_count": 5,
   "id": "c95b81ab-05bc-49ee-af67-e56007358acb",
   "metadata": {},
   "outputs": [],
   "source": [
    "attrs_to_drop = ['app_score', 'his_on_shelf_time', 'task_id', 'spread_app_id', 'tags', 'dev_id', 'app_second_class', 'adv_prim_id', 'device_price']\n",
    "preprocessor = bin_class_utils.build_preprocessing_pipeline(numerical_attr_list, categorical_attr_list, attrs_to_drop, target_type, target_encoding_random_state)\n",
    "estimator = DecisionTreeClassifier(random_state=model_random_state, class_weight=balanced_and_normalized_dict)\n",
    "dt_pipe = Pipeline([('preprocessor', preprocessor), ('estimator', estimator)])"
   ]
  },
  {
   "cell_type": "markdown",
   "id": "8360edf5-6f8f-4ba5-9045-adb9c850a277",
   "metadata": {},
   "source": [
    "#### 0. Tune Hyperparameters of Composite Estimator - Ranking Metrics"
   ]
  },
  {
   "cell_type": "code",
   "execution_count": 6,
   "id": "8b97aadb-00a2-420e-aea9-710b5a6e2959",
   "metadata": {},
   "outputs": [
    {
     "name": "stdout",
     "output_type": "stream",
     "text": [
      "Best estimator: {'estimator__criterion': 'entropy', 'estimator__max_depth': None, 'estimator__max_features': 'sqrt', 'estimator__min_samples_leaf': 1, 'estimator__min_samples_split': 2, 'preprocessor__categorical__target_encoder__smooth': 'auto', 'preprocessor__numerical__imputer__strategy': 'mean'}\n",
      "accuracy: 0.9397374701670644\n",
      "ave_precision_score: 0.04753580007223434\n",
      "roc_curve_auc: 0.5513418040839638\n"
     ]
    }
   ],
   "source": [
    "best_model = bin_class_utils.tune_hyperparameters_dt(train_cap_x_df, train_y_df, dt_pipe)"
   ]
  },
  {
   "cell_type": "markdown",
   "id": "de17be47-5469-4e80-894b-5ee61118b61d",
   "metadata": {},
   "source": [
    "#### 1. Evaluate Tuned Composite Estimators"
   ]
  },
  {
   "cell_type": "markdown",
   "id": "c2a8b39c-4a22-4013-8080-cce277902aa5",
   "metadata": {},
   "source": [
    "#### 2. Calibrate Composite Estimator If Required"
   ]
  },
  {
   "cell_type": "markdown",
   "id": "73356a4f-76a9-4e6f-a344-419cb17e3543",
   "metadata": {},
   "source": [
    "#### 3. Check for False Discoveries"
   ]
  },
  {
   "cell_type": "markdown",
   "id": "24d0344f-5a3e-4de5-95a9-2fcce069e81d",
   "metadata": {},
   "source": [
    "#### 4. Selection a Model"
   ]
  },
  {
   "cell_type": "markdown",
   "id": "cc4f9d13-9a31-4e3e-b68b-5115b6b73dd6",
   "metadata": {},
   "source": [
    "#### 5. Permutation Feature Importance"
   ]
  },
  {
   "cell_type": "markdown",
   "id": "4c02da51-bf62-4978-8277-0c144943dd0f",
   "metadata": {},
   "source": [
    "#### 6. Tune Classification Threshold for Classification - Classification Metrics"
   ]
  },
  {
   "cell_type": "markdown",
   "id": "2ac37e96-d196-4515-9f55-89df6e8f4dad",
   "metadata": {},
   "source": [
    "#### 7. Serialize Model and Classification Threshold"
   ]
  },
  {
   "cell_type": "markdown",
   "id": "6932e04f-0d60-4352-abf8-5d1f257e2f2a",
   "metadata": {},
   "source": [
    "#### 8. Evaluate Model on the Test Set"
   ]
  },
  {
   "cell_type": "code",
   "execution_count": null,
   "id": "ee8b56f2-0eeb-493d-842a-555fded44543",
   "metadata": {},
   "outputs": [],
   "source": []
  }
 ],
 "metadata": {
  "kernelspec": {
   "display_name": "Python (base_dsv5)",
   "language": "python",
   "name": "base_dsv5"
  },
  "language_info": {
   "codemirror_mode": {
    "name": "ipython",
    "version": 3
   },
   "file_extension": ".py",
   "mimetype": "text/x-python",
   "name": "python",
   "nbconvert_exporter": "python",
   "pygments_lexer": "ipython3",
   "version": "3.10.13"
  }
 },
 "nbformat": 4,
 "nbformat_minor": 5
}
