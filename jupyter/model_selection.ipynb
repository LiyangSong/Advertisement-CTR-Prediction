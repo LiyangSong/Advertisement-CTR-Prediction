{
 "cells": [
  {
   "cell_type": "markdown",
   "source": [
    "## Model Selection and Performance on Test Set"
   ],
   "metadata": {
    "collapsed": false
   },
   "id": "c46a4f64b141cf38"
  },
  {
   "cell_type": "code",
   "execution_count": null,
   "outputs": [],
   "source": [
    "import pickle\n",
    "from module.utils import bin_class_utils\n",
    "from module.utils import general_utils\n",
    "import time"
   ],
   "metadata": {
    "collapsed": false
   },
   "id": "1b96fc03c3713938"
  },
  {
   "cell_type": "code",
   "execution_count": null,
   "outputs": [],
   "source": [
    "start = time.time"
   ],
   "metadata": {
    "collapsed": false
   },
   "id": "25f74755d4b4d148"
  },
  {
   "cell_type": "code",
   "execution_count": null,
   "outputs": [],
   "source": [
    "TARGET_ATTR = 'label'\n",
    "VALIDATION_FILE_PATH = \"../data/validation_df.csv\"\n",
    "TEST_FILE_PATH = \"../data/test_df.csv\""
   ],
   "metadata": {
    "collapsed": false
   },
   "id": "6427eaaf1692c39f"
  },
  {
   "cell_type": "markdown",
   "source": [
    "#### Read in best models"
   ],
   "metadata": {
    "collapsed": false
   },
   "id": "2ce2904fad103fde"
  },
  {
   "cell_type": "code",
   "execution_count": null,
   "outputs": [],
   "source": [
    "best_thresholds = {\n",
    "    \"AdaBoostClassifier\": 0.78,\n",
    "    \"DecisionTreeClassifier\": 0.86,\n",
    "    \"GradientBoostingClassifier\": 0.13,\n",
    "    \"RandomForestClassifier\": ,\n",
    "    \"SGDClassifier\": \n",
    "}"
   ],
   "metadata": {
    "collapsed": false
   },
   "id": "b24410a9283860b5"
  },
  {
   "cell_type": "code",
   "execution_count": null,
   "outputs": [],
   "source": [
    "best_models = dict()\n",
    "for model_name in best_thresholds.keys():\n",
    "    best_models[model_name] = pickle.load(open(model_name + \".pkl\", 'rb'))"
   ],
   "metadata": {
    "collapsed": false
   },
   "id": "e54d9de3fbb95db3"
  },
  {
   "cell_type": "markdown",
   "source": [
    "#### Performance comparison on validation set using Bootstrapping"
   ],
   "metadata": {
    "collapsed": false
   },
   "id": "7ad14404ede80a4c"
  },
  {
   "cell_type": "code",
   "execution_count": null,
   "outputs": [],
   "source": [
    "validation_df = general_utils.read_csv(VALIDATION_FILE_PATH)\n",
    "\n",
    "validation_cap_x_df, validation_y_df = validation_df.drop(columns=TARGET_ATTR), validation_df[[TARGET_ATTR]]\n",
    "del validation_df"
   ],
   "metadata": {
    "collapsed": false
   },
   "id": "5e881b8aab9ca8d5"
  },
  {
   "cell_type": "code",
   "execution_count": null,
   "outputs": [],
   "source": [
    "bin_class_utils.plot_model_comparisons(\n",
    "    best_models, \n",
    "    best_thresholds, \n",
    "    validation_cap_x_df, \n",
    "    validation_y_df\n",
    ")"
   ],
   "metadata": {
    "collapsed": false
   },
   "id": "dc746e8b4426b91e"
  },
  {
   "cell_type": "code",
   "execution_count": null,
   "outputs": [],
   "source": [
    "del validation_cap_x_df, validation_y_df"
   ],
   "metadata": {
    "collapsed": false
   },
   "id": "eefd6923b47c3e9f"
  },
  {
   "cell_type": "markdown",
   "source": [
    "#### Select the best model"
   ],
   "metadata": {
    "collapsed": false
   },
   "id": "31feb812d3a49288"
  },
  {
   "cell_type": "code",
   "execution_count": null,
   "outputs": [],
   "source": [
    "best_model_name = ''\n",
    "best_model = best_models[best_model_name]"
   ],
   "metadata": {
    "collapsed": false
   },
   "id": "c9c533acc8b713f4"
  },
  {
   "cell_type": "markdown",
   "source": [
    "#### Performance on test set"
   ],
   "metadata": {
    "collapsed": false
   },
   "id": "bd45fc49a6a6361c"
  },
  {
   "cell_type": "code",
   "execution_count": null,
   "outputs": [],
   "source": [
    "test_df = general_utils.read_csv(TEST_FILE_PATH)\n",
    "\n",
    "test_cap_x_df, test_y_df = test_df.drop(columns=TARGET_ATTR), test_df[[TARGET_ATTR]]\n",
    "del test_df"
   ],
   "metadata": {
    "collapsed": false
   },
   "id": "88269fcf3d5d3bf3"
  },
  {
   "cell_type": "code",
   "execution_count": null,
   "outputs": [],
   "source": [
    "bin_class_utils.eval_class(\n",
    "    test_cap_x_df,\n",
    "    test_y_df,\n",
    "    best_model,\n",
    "    'test',\n",
    "    best_thresholds[best_model_name]\n",
    ")"
   ],
   "metadata": {
    "collapsed": false
   },
   "id": "d5f04b74f30d3b9e"
  },
  {
   "cell_type": "code",
   "execution_count": null,
   "outputs": [],
   "source": [
    "end = time.time()\n",
    "print(f'Script run time: {(end - start)/60} minutes')"
   ],
   "metadata": {
    "collapsed": false
   },
   "id": "241cc5e1903582a9"
  }
 ],
 "metadata": {
  "kernelspec": {
   "display_name": "Python 3",
   "language": "python",
   "name": "python3"
  },
  "language_info": {
   "codemirror_mode": {
    "name": "ipython",
    "version": 2
   },
   "file_extension": ".py",
   "mimetype": "text/x-python",
   "name": "python",
   "nbconvert_exporter": "python",
   "pygments_lexer": "ipython2",
   "version": "2.7.6"
  }
 },
 "nbformat": 4,
 "nbformat_minor": 5
}
