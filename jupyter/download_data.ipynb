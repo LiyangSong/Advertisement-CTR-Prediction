{
 "cells": [
  {
   "cell_type": "markdown",
   "id": "1b8b5fcc21ab1c57",
   "metadata": {
    "collapsed": false,
    "jupyter": {
     "outputs_hidden": false
    }
   },
   "source": [
    "## Download data from S3"
   ]
  },
  {
   "cell_type": "code",
   "execution_count": 1,
   "id": "initial_id",
   "metadata": {
    "ExecuteTime": {
     "end_time": "2023-10-21T01:08:06.529867100Z",
     "start_time": "2023-10-21T01:08:06.523866100Z"
    },
    "collapsed": false,
    "jupyter": {
     "outputs_hidden": false
    }
   },
   "outputs": [],
   "source": [
    "import sys\n",
    "sys.path.append(\"..\")\n",
    "\n",
    "import module.utils.general_utils as general_utils"
   ]
  },
  {
   "cell_type": "markdown",
   "id": "ec60df34c2d53cfc",
   "metadata": {
    "collapsed": false,
    "jupyter": {
     "outputs_hidden": false
    }
   },
   "source": [
    "All data is stored on an AWS s3 public bucket:"
   ]
  },
  {
   "cell_type": "code",
   "execution_count": 2,
   "id": "99b685241aa49d8a",
   "metadata": {
    "ExecuteTime": {
     "end_time": "2023-09-23T19:32:07.345652800Z",
     "start_time": "2023-09-23T19:32:07.296869600Z"
    },
    "collapsed": false,
    "jupyter": {
     "outputs_hidden": false
    }
   },
   "outputs": [],
   "source": [
    "RAW_DATA_URL = \"https://ds5220.s3.us-east-2.amazonaws.com/data/raw_data.zip\"\n",
    "TRAIN_DATA_URL = \"https://ds5220.s3.us-east-2.amazonaws.com/data/train_df.zip\"\n",
    "TEST_DATA_URL = \"https://ds5220.s3.us-east-2.amazonaws.com/data/test_df.zip\"\n",
    "\n",
    "raw_zip_path = \"../data/raw_data.zip\"\n",
    "train_zip_path = \"../data/train_df.zip\"\n",
    "test_zip_path = \"../data/test_df.zip\"\n",
    "csv_folder = \"../data\""
   ]
  },
  {
   "cell_type": "markdown",
   "id": "7cb09cfd90abdb86",
   "metadata": {
    "collapsed": false,
    "jupyter": {
     "outputs_hidden": false
    }
   },
   "source": [
    "Download and unzip zip-format raw data:"
   ]
  },
  {
   "cell_type": "code",
   "execution_count": 3,
   "id": "d865a370ac5468be",
   "metadata": {
    "ExecuteTime": {
     "end_time": "2023-09-23T19:32:33.850078Z",
     "start_time": "2023-09-23T19:32:07.343651Z"
    },
    "collapsed": false,
    "jupyter": {
     "outputs_hidden": false
    }
   },
   "outputs": [
    {
     "name": "stdout",
     "output_type": "stream",
     "text": [
      "\n",
      "Download file from https://ds5220.s3.us-east-2.amazonaws.com/data/raw_data.zip:\n"
     ]
    },
    {
     "name": "stderr",
     "output_type": "stream",
     "text": [
      "../data/raw_data.zip: 133974KB [00:29, 4503.18KB/s]                            \n"
     ]
    },
    {
     "name": "stdout",
     "output_type": "stream",
     "text": [
      "Succeed to download and save file: ../data/raw_data.zip\n",
      "\n",
      "Unzip file from ../data/raw_data.zip to ../data:\n",
      "Succeed to unzip file: ../data/raw_data.zip\n"
     ]
    }
   ],
   "source": [
    "general_utils.download_file(RAW_DATA_URL, raw_zip_path)\n",
    "general_utils.unzip_file(raw_zip_path, csv_folder)"
   ]
  },
  {
   "cell_type": "markdown",
   "id": "528c6ff5a5c98a74",
   "metadata": {
    "collapsed": false,
    "jupyter": {
     "outputs_hidden": false
    }
   },
   "source": [
    "Download and unzip zip-format train data:"
   ]
  },
  {
   "cell_type": "code",
   "execution_count": 4,
   "id": "f4649506067171d9",
   "metadata": {
    "ExecuteTime": {
     "end_time": "2023-09-23T19:32:50.972082500Z",
     "start_time": "2023-09-23T19:32:33.851079800Z"
    },
    "collapsed": false,
    "jupyter": {
     "outputs_hidden": false
    }
   },
   "outputs": [
    {
     "name": "stdout",
     "output_type": "stream",
     "text": [
      "\n",
      "Download file from https://ds5220.s3.us-east-2.amazonaws.com/data/train_df.zip:\n"
     ]
    },
    {
     "name": "stderr",
     "output_type": "stream",
     "text": [
      "../data/train_df.zip: 105166KB [00:33, 3125.91KB/s]                            \n"
     ]
    },
    {
     "name": "stdout",
     "output_type": "stream",
     "text": [
      "Succeed to download and save file: ../data/train_df.zip\n",
      "\n",
      "Unzip file from ../data/train_df.zip to ../data:\n",
      "Succeed to unzip file: ../data/train_df.zip\n"
     ]
    }
   ],
   "source": [
    "general_utils.download_file(TRAIN_DATA_URL, train_zip_path)\n",
    "general_utils.unzip_file(train_zip_path, csv_folder)"
   ]
  },
  {
   "cell_type": "markdown",
   "id": "babbaf995749e90d",
   "metadata": {
    "collapsed": false,
    "jupyter": {
     "outputs_hidden": false
    }
   },
   "source": [
    "Download and unzip zip-format test data:"
   ]
  },
  {
   "cell_type": "code",
   "execution_count": 5,
   "id": "7d623f0445f0c34e",
   "metadata": {
    "ExecuteTime": {
     "end_time": "2023-09-23T19:33:33.221875400Z",
     "start_time": "2023-09-23T19:32:50.970079300Z"
    },
    "collapsed": false,
    "jupyter": {
     "outputs_hidden": false
    }
   },
   "outputs": [
    {
     "name": "stdout",
     "output_type": "stream",
     "text": [
      "\n",
      "Download file from https://ds5220.s3.us-east-2.amazonaws.com/data/test_df.zip:\n"
     ]
    },
    {
     "name": "stderr",
     "output_type": "stream",
     "text": [
      "../data/test_df.zip: 26292KB [00:19, 1333.72KB/s]                           \n"
     ]
    },
    {
     "name": "stdout",
     "output_type": "stream",
     "text": [
      "Succeed to download and save file: ../data/test_df.zip\n",
      "\n",
      "Unzip file from ../data/test_df.zip to ../data:\n",
      "Succeed to unzip file: ../data/test_df.zip\n"
     ]
    }
   ],
   "source": [
    "general_utils.download_file(TEST_DATA_URL, test_zip_path)\n",
    "general_utils.unzip_file(test_zip_path, csv_folder)"
   ]
  }
 ],
 "metadata": {
  "kernelspec": {
   "display_name": "Python 3 (ipykernel)",
   "language": "python",
   "name": "python3"
  },
  "language_info": {
   "codemirror_mode": {
    "name": "ipython",
    "version": 3
   },
   "file_extension": ".py",
   "mimetype": "text/x-python",
   "name": "python",
   "nbconvert_exporter": "python",
   "pygments_lexer": "ipython3",
   "version": "3.10.12"
  }
 },
 "nbformat": 4,
 "nbformat_minor": 5
}
