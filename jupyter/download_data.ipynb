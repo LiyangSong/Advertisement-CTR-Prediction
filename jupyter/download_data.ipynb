{
 "cells": [
  {
   "cell_type": "markdown",
   "source": [
    "## Download data from S3"
   ],
   "metadata": {
    "collapsed": false
   },
   "id": "1b8b5fcc21ab1c57"
  },
  {
   "cell_type": "code",
   "execution_count": 2,
   "outputs": [],
   "source": [
    "import requests\n",
    "import zipfile\n",
    "from tqdm import tqdm\n",
    "\n",
    "from utils import *"
   ],
   "metadata": {
    "collapsed": false,
    "ExecuteTime": {
     "end_time": "2023-10-21T01:08:06.529867100Z",
     "start_time": "2023-10-21T01:08:06.523866100Z"
    }
   },
   "id": "initial_id"
  },
  {
   "cell_type": "markdown",
   "source": [
    "All data is stored on an AWS s3 public bucket:"
   ],
   "metadata": {
    "collapsed": false
   },
   "id": "ec60df34c2d53cfc"
  },
  {
   "cell_type": "code",
   "execution_count": 32,
   "outputs": [],
   "source": [
    "RAW_DATA_URL = \"https://ds5220.s3.us-east-2.amazonaws.com/data/raw_data.zip\"\n",
    "TRAIN_DATA_URL = \"https://ds5220.s3.us-east-2.amazonaws.com/data/train_df.zip\"\n",
    "TEST_DATA_URL = \"https://ds5220.s3.us-east-2.amazonaws.com/data/test_df.zip\"\n",
    "\n",
    "raw_zip_path = \"../data/raw_data.zip\"\n",
    "train_zip_path = \"../data/train_df.zip\"\n",
    "test_zip_path = \"../data/test_df.zip\"\n",
    "csv_folder = \"../data\""
   ],
   "metadata": {
    "collapsed": false,
    "ExecuteTime": {
     "end_time": "2023-09-23T19:32:07.345652800Z",
     "start_time": "2023-09-23T19:32:07.296869600Z"
    }
   },
   "id": "99b685241aa49d8a"
  },
  {
   "cell_type": "code",
   "execution_count": 33,
   "outputs": [],
   "source": [
    "def download_data(url, save_path):\n",
    "    response = requests.get(url, stream=True)\n",
    "    total_size = int(response.headers.get('content-length', 0))\n",
    "    \n",
    "    with open(save_path, 'wb') as f:\n",
    "        for chunk in tqdm(response.iter_content(chunk_size=8192), total=total_size//8192, unit='KB', desc=save_path):\n",
    "            f.write(chunk)\n",
    "    print(f\"Succeed to download and save file: {save_path}\")"
   ],
   "metadata": {
    "collapsed": false,
    "ExecuteTime": {
     "end_time": "2023-09-23T19:32:07.346650500Z",
     "start_time": "2023-09-23T19:32:07.313650100Z"
    }
   },
   "id": "7d792a93f67891ed"
  },
  {
   "cell_type": "code",
   "execution_count": 34,
   "outputs": [],
   "source": [
    "def unzip_data(source_path, target_folder):\n",
    "    with zipfile.ZipFile(source_path, 'r') as zip_ref:\n",
    "        zip_ref.extractall(target_folder)\n",
    "    print(f\"Succeed to unzip file: {source_path}\")"
   ],
   "metadata": {
    "collapsed": false,
    "ExecuteTime": {
     "end_time": "2023-09-23T19:32:07.346650500Z",
     "start_time": "2023-09-23T19:32:07.329651300Z"
    }
   },
   "id": "13bf1844d582de8c"
  },
  {
   "cell_type": "markdown",
   "source": [
    "Download zip-format raw data:"
   ],
   "metadata": {
    "collapsed": false
   },
   "id": "7cb09cfd90abdb86"
  },
  {
   "cell_type": "code",
   "execution_count": 35,
   "outputs": [
    {
     "name": "stderr",
     "output_type": "stream",
     "text": [
      "../data/raw_data.zip: 133974KB [00:25, 5168.54KB/s]                            "
     ]
    },
    {
     "name": "stdout",
     "output_type": "stream",
     "text": [
      "Succeed to download and save file: ../data/raw_data.zip\n"
     ]
    },
    {
     "name": "stderr",
     "output_type": "stream",
     "text": [
      "\n"
     ]
    }
   ],
   "source": [
    "download_data(RAW_DATA_URL, raw_zip_path)"
   ],
   "metadata": {
    "collapsed": false,
    "ExecuteTime": {
     "end_time": "2023-09-23T19:32:33.850078Z",
     "start_time": "2023-09-23T19:32:07.343651Z"
    }
   },
   "id": "d865a370ac5468be"
  },
  {
   "cell_type": "markdown",
   "source": [
    "Unzip zip-format raw data:"
   ],
   "metadata": {
    "collapsed": false
   },
   "id": "528c6ff5a5c98a74"
  },
  {
   "cell_type": "code",
   "execution_count": 36,
   "outputs": [
    {
     "name": "stdout",
     "output_type": "stream",
     "text": [
      "Succeed to unzip file: ../data/raw_data.zip\n"
     ]
    }
   ],
   "source": [
    "unzip_data(raw_zip_path, csv_folder)"
   ],
   "metadata": {
    "collapsed": false,
    "ExecuteTime": {
     "end_time": "2023-09-23T19:32:50.972082500Z",
     "start_time": "2023-09-23T19:32:33.851079800Z"
    }
   },
   "id": "f4649506067171d9"
  },
  {
   "cell_type": "markdown",
   "source": [
    "Download zip-format train data:"
   ],
   "metadata": {
    "collapsed": false
   },
   "id": "babbaf995749e90d"
  },
  {
   "cell_type": "code",
   "execution_count": 37,
   "outputs": [
    {
     "name": "stderr",
     "output_type": "stream",
     "text": [
      "../data/train_df.zip: 137376KB [00:41, 3304.90KB/s]                            "
     ]
    },
    {
     "name": "stdout",
     "output_type": "stream",
     "text": [
      "Succeed to download and save file: ../data/train_df.zip\n"
     ]
    },
    {
     "name": "stderr",
     "output_type": "stream",
     "text": [
      "\n"
     ]
    }
   ],
   "source": [
    "download_data(TRAIN_DATA_URL, train_zip_path)"
   ],
   "metadata": {
    "collapsed": false,
    "ExecuteTime": {
     "end_time": "2023-09-23T19:33:33.221875400Z",
     "start_time": "2023-09-23T19:32:50.970079300Z"
    }
   },
   "id": "7d623f0445f0c34e"
  },
  {
   "cell_type": "markdown",
   "source": [
    "Unzip zip-format train data:"
   ],
   "metadata": {
    "collapsed": false
   },
   "id": "fa792b6df5acea2a"
  },
  {
   "cell_type": "code",
   "execution_count": 38,
   "outputs": [
    {
     "name": "stdout",
     "output_type": "stream",
     "text": [
      "Succeed to unzip file: ../data/train_df.zip\n"
     ]
    }
   ],
   "source": [
    "unzip_data(train_zip_path, csv_folder)"
   ],
   "metadata": {
    "collapsed": false,
    "ExecuteTime": {
     "end_time": "2023-09-23T19:33:50.638092700Z",
     "start_time": "2023-09-23T19:33:33.215874700Z"
    }
   },
   "id": "d77272e70d32a189"
  },
  {
   "cell_type": "markdown",
   "source": [
    "Download zip-format test data:"
   ],
   "metadata": {
    "collapsed": false
   },
   "id": "50178337b316aa6"
  },
  {
   "cell_type": "code",
   "execution_count": 39,
   "outputs": [
    {
     "name": "stderr",
     "output_type": "stream",
     "text": [
      "../data/test_df.zip: 34345KB [00:22, 1532.63KB/s]                           "
     ]
    },
    {
     "name": "stdout",
     "output_type": "stream",
     "text": [
      "Succeed to download and save file: ../data/test_df.zip\n"
     ]
    },
    {
     "name": "stderr",
     "output_type": "stream",
     "text": [
      "\n"
     ]
    }
   ],
   "source": [
    "download_data(TEST_DATA_URL, test_zip_path)"
   ],
   "metadata": {
    "collapsed": false,
    "ExecuteTime": {
     "end_time": "2023-09-23T19:34:13.862009300Z",
     "start_time": "2023-09-23T19:33:50.639090800Z"
    }
   },
   "id": "bb4baeded153bc3c"
  },
  {
   "cell_type": "markdown",
   "source": [
    "Unzip zip-format test data:"
   ],
   "metadata": {
    "collapsed": false
   },
   "id": "1852129c1e7653bc"
  },
  {
   "cell_type": "code",
   "execution_count": 40,
   "outputs": [
    {
     "name": "stdout",
     "output_type": "stream",
     "text": [
      "Succeed to unzip file: ../data/test_df.zip\n"
     ]
    }
   ],
   "source": [
    "unzip_data(test_zip_path, csv_folder)"
   ],
   "metadata": {
    "collapsed": false,
    "ExecuteTime": {
     "end_time": "2023-09-23T19:34:18.306840100Z",
     "start_time": "2023-09-23T19:34:13.837299200Z"
    }
   },
   "id": "67de5324a7ab0f0c"
  }
 ],
 "metadata": {
  "kernelspec": {
   "display_name": "Python 3",
   "language": "python",
   "name": "python3"
  },
  "language_info": {
   "codemirror_mode": {
    "name": "ipython",
    "version": 2
   },
   "file_extension": ".py",
   "mimetype": "text/x-python",
   "name": "python",
   "nbconvert_exporter": "python",
   "pygments_lexer": "ipython2",
   "version": "2.7.6"
  }
 },
 "nbformat": 4,
 "nbformat_minor": 5
}
