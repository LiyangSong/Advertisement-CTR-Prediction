{
 "cells": [
  {
   "cell_type": "markdown",
   "source": [
    "## Train test split of raw data"
   ],
   "metadata": {
    "collapsed": false
   },
   "id": "c906afa8e05075f9"
  },
  {
   "cell_type": "markdown",
   "source": [
    "This file executes the split of train and test data set. It can be rerun to reproduce the split process from the raw data. Notice the random seed has been used to ensure reproducibility.\n",
    "\n",
    "As the data set is large, we will recommend downloading the split train and test data sets using download_data.ipynb for better performance."
   ],
   "metadata": {
    "collapsed": false
   },
   "id": "b3e393a495e798c9"
  },
  {
   "cell_type": "code",
   "execution_count": 23,
   "outputs": [],
   "source": [
    "from sklearn.model_selection import train_test_split\n",
    "import pandas as pd"
   ],
   "metadata": {
    "collapsed": false,
    "ExecuteTime": {
     "end_time": "2023-09-24T15:11:12.373296800Z",
     "start_time": "2023-09-24T15:11:12.353299600Z"
    }
   },
   "id": "initial_id"
  },
  {
   "cell_type": "code",
   "execution_count": 24,
   "outputs": [
    {
     "data": {
      "text/plain": "   label      uid  task_id  adv_id  creat_type_cd  adv_prim_id  dev_id  \\\n0      0  1638254     2112    6869              7          207      17   \n1      0  1161786     3104    3247              7          183      29   \n2      0  1814783     5890    4183              7          178      17   \n3      0  1468996     1993    5405              7          207      17   \n4      0  2164010     5439    4677              2          138      24   \n\n   inter_type_cd  slot_id  spread_app_id  ...  list_time  device_price  \\\n0              5       11             13  ...          4             4   \n1              5       17             86  ...          4             4   \n2              5       11             70  ...          4             5   \n3              5       21             13  ...          7             3   \n4              5       12             33  ...          7             3   \n\n   up_life_duration  up_membership_grade  membership_life_duration  \\\n0                20                   -1                        -1   \n1                18                   -1                        -1   \n2                20                   -1                        -1   \n3                -1                   -1                        -1   \n4                -1                   -1                        -1   \n\n   consume_purchase                           communication_onlinerate  \\\n0                 2  0^1^2^3^4^5^6^7^8^9^10^11^12^13^14^15^16^17^18...   \n1                 2  3^4^5^6^7^8^9^10^11^12^13^14^15^16^17^18^19^20...   \n2                 2  0^1^2^3^4^5^6^7^8^9^10^11^12^13^14^15^16^17^18...   \n3                 2  5^6^7^8^9^10^11^12^13^14^15^16^17^18^19^20^21^...   \n4                 2  2^3^4^5^6^7^8^9^10^11^12^13^14^15^16^17^18^19^...   \n\n   communication_avgonline_30d  indu_name  pt_d  \n0                           12         17     1  \n1                           12         17     1  \n2                           11         36     1  \n3                           11         17     1  \n4                           11         20     1  \n\n[5 rows x 36 columns]",
      "text/html": "<div>\n<style scoped>\n    .dataframe tbody tr th:only-of-type {\n        vertical-align: middle;\n    }\n\n    .dataframe tbody tr th {\n        vertical-align: top;\n    }\n\n    .dataframe thead th {\n        text-align: right;\n    }\n</style>\n<table border=\"1\" class=\"dataframe\">\n  <thead>\n    <tr style=\"text-align: right;\">\n      <th></th>\n      <th>label</th>\n      <th>uid</th>\n      <th>task_id</th>\n      <th>adv_id</th>\n      <th>creat_type_cd</th>\n      <th>adv_prim_id</th>\n      <th>dev_id</th>\n      <th>inter_type_cd</th>\n      <th>slot_id</th>\n      <th>spread_app_id</th>\n      <th>...</th>\n      <th>list_time</th>\n      <th>device_price</th>\n      <th>up_life_duration</th>\n      <th>up_membership_grade</th>\n      <th>membership_life_duration</th>\n      <th>consume_purchase</th>\n      <th>communication_onlinerate</th>\n      <th>communication_avgonline_30d</th>\n      <th>indu_name</th>\n      <th>pt_d</th>\n    </tr>\n  </thead>\n  <tbody>\n    <tr>\n      <th>0</th>\n      <td>0</td>\n      <td>1638254</td>\n      <td>2112</td>\n      <td>6869</td>\n      <td>7</td>\n      <td>207</td>\n      <td>17</td>\n      <td>5</td>\n      <td>11</td>\n      <td>13</td>\n      <td>...</td>\n      <td>4</td>\n      <td>4</td>\n      <td>20</td>\n      <td>-1</td>\n      <td>-1</td>\n      <td>2</td>\n      <td>0^1^2^3^4^5^6^7^8^9^10^11^12^13^14^15^16^17^18...</td>\n      <td>12</td>\n      <td>17</td>\n      <td>1</td>\n    </tr>\n    <tr>\n      <th>1</th>\n      <td>0</td>\n      <td>1161786</td>\n      <td>3104</td>\n      <td>3247</td>\n      <td>7</td>\n      <td>183</td>\n      <td>29</td>\n      <td>5</td>\n      <td>17</td>\n      <td>86</td>\n      <td>...</td>\n      <td>4</td>\n      <td>4</td>\n      <td>18</td>\n      <td>-1</td>\n      <td>-1</td>\n      <td>2</td>\n      <td>3^4^5^6^7^8^9^10^11^12^13^14^15^16^17^18^19^20...</td>\n      <td>12</td>\n      <td>17</td>\n      <td>1</td>\n    </tr>\n    <tr>\n      <th>2</th>\n      <td>0</td>\n      <td>1814783</td>\n      <td>5890</td>\n      <td>4183</td>\n      <td>7</td>\n      <td>178</td>\n      <td>17</td>\n      <td>5</td>\n      <td>11</td>\n      <td>70</td>\n      <td>...</td>\n      <td>4</td>\n      <td>5</td>\n      <td>20</td>\n      <td>-1</td>\n      <td>-1</td>\n      <td>2</td>\n      <td>0^1^2^3^4^5^6^7^8^9^10^11^12^13^14^15^16^17^18...</td>\n      <td>11</td>\n      <td>36</td>\n      <td>1</td>\n    </tr>\n    <tr>\n      <th>3</th>\n      <td>0</td>\n      <td>1468996</td>\n      <td>1993</td>\n      <td>5405</td>\n      <td>7</td>\n      <td>207</td>\n      <td>17</td>\n      <td>5</td>\n      <td>21</td>\n      <td>13</td>\n      <td>...</td>\n      <td>7</td>\n      <td>3</td>\n      <td>-1</td>\n      <td>-1</td>\n      <td>-1</td>\n      <td>2</td>\n      <td>5^6^7^8^9^10^11^12^13^14^15^16^17^18^19^20^21^...</td>\n      <td>11</td>\n      <td>17</td>\n      <td>1</td>\n    </tr>\n    <tr>\n      <th>4</th>\n      <td>0</td>\n      <td>2164010</td>\n      <td>5439</td>\n      <td>4677</td>\n      <td>2</td>\n      <td>138</td>\n      <td>24</td>\n      <td>5</td>\n      <td>12</td>\n      <td>33</td>\n      <td>...</td>\n      <td>7</td>\n      <td>3</td>\n      <td>-1</td>\n      <td>-1</td>\n      <td>-1</td>\n      <td>2</td>\n      <td>2^3^4^5^6^7^8^9^10^11^12^13^14^15^16^17^18^19^...</td>\n      <td>11</td>\n      <td>20</td>\n      <td>1</td>\n    </tr>\n  </tbody>\n</table>\n<p>5 rows × 36 columns</p>\n</div>"
     },
     "execution_count": 24,
     "metadata": {},
     "output_type": "execute_result"
    }
   ],
   "source": [
    "df = pd.read_csv(\"../data/raw_data.csv\", sep=\"|\")\n",
    "df.head()"
   ],
   "metadata": {
    "collapsed": false,
    "ExecuteTime": {
     "end_time": "2023-09-24T15:14:52.738965900Z",
     "start_time": "2023-09-24T15:11:17.479511400Z"
    }
   },
   "id": "1f4300d8a17e1b11"
  },
  {
   "cell_type": "code",
   "execution_count": 25,
   "outputs": [
    {
     "data": {
      "text/plain": "(41907133, 36)"
     },
     "execution_count": 25,
     "metadata": {},
     "output_type": "execute_result"
    }
   ],
   "source": [
    "df.shape"
   ],
   "metadata": {
    "collapsed": false,
    "ExecuteTime": {
     "end_time": "2023-09-24T15:15:04.169828600Z",
     "start_time": "2023-09-24T15:15:04.137925800Z"
    }
   },
   "id": "a4d355f3082d9ce5"
  },
  {
   "cell_type": "code",
   "execution_count": 26,
   "outputs": [
    {
     "data": {
      "text/plain": "0    0.965507\n1    0.034493\nName: label, dtype: float64"
     },
     "execution_count": 26,
     "metadata": {},
     "output_type": "execute_result"
    }
   ],
   "source": [
    "df['label'].value_counts(normalize=True)"
   ],
   "metadata": {
    "collapsed": false,
    "ExecuteTime": {
     "end_time": "2023-09-24T15:15:10.769915500Z",
     "start_time": "2023-09-24T15:15:10.736916500Z"
    }
   },
   "id": "a9943eeef7c84775"
  },
  {
   "cell_type": "markdown",
   "source": [
    "The dataset is heavily imbalanced with over 95% zero values in `'label'` column, this will introduce a risk that the minority class might not be adequately represented in either the training set or the test set (or both). This can lead to models that are poorly generalized or validated.\n",
    "\n",
    "To counteract this, **stratified sampling** is applied, which can ensure that both training and test sets have approximately the same percentage of samples of each target class as the raw data set."
   ],
   "metadata": {
    "collapsed": false
   },
   "id": "9dc3e28ffe3ca251"
  },
  {
   "cell_type": "code",
   "execution_count": 27,
   "outputs": [
    {
     "name": "stdout",
     "output_type": "stream",
     "text": [
      "(33525706, 36)\n",
      "(8381427, 36)\n"
     ]
    }
   ],
   "source": [
    "train_df, test_df = train_test_split(df, test_size=0.2, random_state=42, stratify=df['label'])\n",
    "del df\n",
    "print(train_df.shape)\n",
    "print(test_df.shape)"
   ],
   "metadata": {
    "collapsed": false,
    "ExecuteTime": {
     "end_time": "2023-09-24T15:16:00.518925500Z",
     "start_time": "2023-09-24T15:15:18.171934600Z"
    }
   },
   "id": "eb4b65b6a6b0f986"
  },
  {
   "cell_type": "code",
   "execution_count": 28,
   "outputs": [
    {
     "name": "stdout",
     "output_type": "stream",
     "text": [
      "0    0.965507\n",
      "1    0.034493\n",
      "Name: label, dtype: float64\n",
      "0    0.965507\n",
      "1    0.034493\n",
      "Name: label, dtype: float64\n"
     ]
    }
   ],
   "source": [
    "print(train_df['label'].value_counts(normalize=True))\n",
    "print(test_df['label'].value_counts(normalize=True))"
   ],
   "metadata": {
    "collapsed": false,
    "ExecuteTime": {
     "end_time": "2023-09-24T15:16:35.543270900Z",
     "start_time": "2023-09-24T15:16:35.456742900Z"
    }
   },
   "id": "fa96f552d6d8ebd5"
  },
  {
   "cell_type": "code",
   "execution_count": 29,
   "outputs": [],
   "source": [
    "train_df.to_csv('../data/train_df.csv', index=True, index_label='index')\n",
    "test_df.to_csv('../data/test_df.csv', index=True, index_label='index')\n",
    "del train_df\n",
    "del test_df"
   ],
   "metadata": {
    "collapsed": false,
    "ExecuteTime": {
     "end_time": "2023-09-24T15:21:31.681895900Z",
     "start_time": "2023-09-24T15:16:51.683071500Z"
    }
   },
   "id": "35aee84d82bb8ecb"
  },
  {
   "cell_type": "code",
   "execution_count": null,
   "outputs": [],
   "source": [],
   "metadata": {
    "collapsed": false
   },
   "id": "820b7931d73d3320"
  }
 ],
 "metadata": {
  "kernelspec": {
   "display_name": "Python 3",
   "language": "python",
   "name": "python3"
  },
  "language_info": {
   "codemirror_mode": {
    "name": "ipython",
    "version": 2
   },
   "file_extension": ".py",
   "mimetype": "text/x-python",
   "name": "python",
   "nbconvert_exporter": "python",
   "pygments_lexer": "ipython2",
   "version": "2.7.6"
  }
 },
 "nbformat": 4,
 "nbformat_minor": 5
}
