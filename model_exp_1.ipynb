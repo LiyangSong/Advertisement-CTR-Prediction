{
 "cells": [
  {
   "cell_type": "markdown",
   "source": [
    "## Shortlist Promising Models"
   ],
   "metadata": {
    "collapsed": false
   },
   "id": "8a11f95060d81b4f"
  },
  {
   "cell_type": "markdown",
   "source": [
    "#### 0. Import modules and define parameters"
   ],
   "metadata": {
    "collapsed": false
   },
   "id": "1426aaee6402b046"
  },
  {
   "cell_type": "code",
   "execution_count": 1,
   "outputs": [],
   "source": [
    "from module.utils import general_utils\n",
    "from module.utils import data_prepare_utils\n",
    "from module.utils import model_performance_utils\n",
    "\n",
    "from sklearn.compose import ColumnTransformer\n",
    "from sklearn.preprocessing import StandardScaler, TargetEncoder\n",
    "from sklearn.pipeline import Pipeline\n",
    "from sklearn.impute import SimpleImputer\n",
    "from sklearn.ensemble import AdaBoostClassifier, RandomForestClassifier, GradientBoostingClassifier\n",
    "from sklearn.tree import DecisionTreeClassifier\n",
    "from sklearn.linear_model import SGDClassifier"
   ],
   "metadata": {
    "collapsed": false,
    "ExecuteTime": {
     "end_time": "2023-12-01T22:22:03.445389500Z",
     "start_time": "2023-12-01T22:22:02.126391300Z"
    }
   },
   "id": "57dd63fc78681c52"
  },
  {
   "cell_type": "code",
   "execution_count": 2,
   "outputs": [],
   "source": [
    "train_df_file = \"data/train_df.csv\"\n",
    "\n",
    "target_attr = \"label\"\n",
    "target_type = \"binary\"\n",
    "\n",
    "estimator_name = \"SGDClassifier\"\n",
    "\n",
    "sample_random_state = 24\n",
    "target_encoding_random_state = 42\n",
    "model_random_state = 42\n",
    "sgd_max_iter = 10000\n",
    "permutation_importance_random_state = 0"
   ],
   "metadata": {
    "collapsed": false,
    "ExecuteTime": {
     "end_time": "2023-12-01T22:22:03.460389400Z",
     "start_time": "2023-12-01T22:22:03.447390200Z"
    }
   },
   "id": "31791e8573191453"
  },
  {
   "cell_type": "markdown",
   "source": [
    "#### 1. Import Data"
   ],
   "metadata": {
    "collapsed": false
   },
   "id": "54488c3e58952818"
  },
  {
   "cell_type": "code",
   "execution_count": 3,
   "outputs": [
    {
     "name": "stdout",
     "output_type": "stream",
     "text": [
      "\n",
      "Read CSV file data/train_df.csv into DataFrame:\n",
      "df.head(): \n"
     ]
    },
    {
     "data": {
      "text/plain": "       uid  task_id  adv_id  creat_type_cd  adv_prim_id  dev_id  \\\n0  1641431     5177    1998              7          191      60   \n1  2021896     4628    4530              7          177      56   \n2  1790795     2709    1413              7          134      55   \n3  1216709     1949    6143              7          150      17   \n4  1635521     4806    2176              7          206      64   \n\n   inter_type_cd  slot_id  spread_app_id  tags  ...  device_price  \\\n0              5       21             82    14  ...             2   \n1              5       17             31    40  ...             3   \n2              4       17             65    18  ...             5   \n3              5       21             11    39  ...             2   \n4              5       15             22    39  ...             4   \n\n   up_life_duration  up_membership_grade  membership_life_duration  \\\n0                -1                   -1                        -1   \n1                18                   -1                        -1   \n2                20                   -1                        -1   \n3                16                   -1                        -1   \n4                20                   -1                        -1   \n\n   consume_purchase                           communication_onlinerate  \\\n0                 2                                                 -1   \n1                 2          10^11^12^13^14^15^16^17^18^19^20^21^22^23   \n2                 5  0^1^2^3^4^5^6^7^8^9^10^11^12^13^14^15^16^17^18...   \n3                 2      8^9^10^11^12^13^14^15^16^17^18^19^20^21^22^23   \n4                 2  6^7^8^9^10^11^12^13^14^15^16^17^18^19^20^21^22^23   \n\n   communication_avgonline_30d  indu_name  pt_d  label  \n0                            6         24     3      0  \n1                            7         17     3      0  \n2                           13         14     1      0  \n3                           10         36     3      0  \n4                           10         36     1      0  \n\n[5 rows x 36 columns]",
      "text/html": "<div>\n<style scoped>\n    .dataframe tbody tr th:only-of-type {\n        vertical-align: middle;\n    }\n\n    .dataframe tbody tr th {\n        vertical-align: top;\n    }\n\n    .dataframe thead th {\n        text-align: right;\n    }\n</style>\n<table border=\"1\" class=\"dataframe\">\n  <thead>\n    <tr style=\"text-align: right;\">\n      <th></th>\n      <th>uid</th>\n      <th>task_id</th>\n      <th>adv_id</th>\n      <th>creat_type_cd</th>\n      <th>adv_prim_id</th>\n      <th>dev_id</th>\n      <th>inter_type_cd</th>\n      <th>slot_id</th>\n      <th>spread_app_id</th>\n      <th>tags</th>\n      <th>...</th>\n      <th>device_price</th>\n      <th>up_life_duration</th>\n      <th>up_membership_grade</th>\n      <th>membership_life_duration</th>\n      <th>consume_purchase</th>\n      <th>communication_onlinerate</th>\n      <th>communication_avgonline_30d</th>\n      <th>indu_name</th>\n      <th>pt_d</th>\n      <th>label</th>\n    </tr>\n  </thead>\n  <tbody>\n    <tr>\n      <th>0</th>\n      <td>1641431</td>\n      <td>5177</td>\n      <td>1998</td>\n      <td>7</td>\n      <td>191</td>\n      <td>60</td>\n      <td>5</td>\n      <td>21</td>\n      <td>82</td>\n      <td>14</td>\n      <td>...</td>\n      <td>2</td>\n      <td>-1</td>\n      <td>-1</td>\n      <td>-1</td>\n      <td>2</td>\n      <td>-1</td>\n      <td>6</td>\n      <td>24</td>\n      <td>3</td>\n      <td>0</td>\n    </tr>\n    <tr>\n      <th>1</th>\n      <td>2021896</td>\n      <td>4628</td>\n      <td>4530</td>\n      <td>7</td>\n      <td>177</td>\n      <td>56</td>\n      <td>5</td>\n      <td>17</td>\n      <td>31</td>\n      <td>40</td>\n      <td>...</td>\n      <td>3</td>\n      <td>18</td>\n      <td>-1</td>\n      <td>-1</td>\n      <td>2</td>\n      <td>10^11^12^13^14^15^16^17^18^19^20^21^22^23</td>\n      <td>7</td>\n      <td>17</td>\n      <td>3</td>\n      <td>0</td>\n    </tr>\n    <tr>\n      <th>2</th>\n      <td>1790795</td>\n      <td>2709</td>\n      <td>1413</td>\n      <td>7</td>\n      <td>134</td>\n      <td>55</td>\n      <td>4</td>\n      <td>17</td>\n      <td>65</td>\n      <td>18</td>\n      <td>...</td>\n      <td>5</td>\n      <td>20</td>\n      <td>-1</td>\n      <td>-1</td>\n      <td>5</td>\n      <td>0^1^2^3^4^5^6^7^8^9^10^11^12^13^14^15^16^17^18...</td>\n      <td>13</td>\n      <td>14</td>\n      <td>1</td>\n      <td>0</td>\n    </tr>\n    <tr>\n      <th>3</th>\n      <td>1216709</td>\n      <td>1949</td>\n      <td>6143</td>\n      <td>7</td>\n      <td>150</td>\n      <td>17</td>\n      <td>5</td>\n      <td>21</td>\n      <td>11</td>\n      <td>39</td>\n      <td>...</td>\n      <td>2</td>\n      <td>16</td>\n      <td>-1</td>\n      <td>-1</td>\n      <td>2</td>\n      <td>8^9^10^11^12^13^14^15^16^17^18^19^20^21^22^23</td>\n      <td>10</td>\n      <td>36</td>\n      <td>3</td>\n      <td>0</td>\n    </tr>\n    <tr>\n      <th>4</th>\n      <td>1635521</td>\n      <td>4806</td>\n      <td>2176</td>\n      <td>7</td>\n      <td>206</td>\n      <td>64</td>\n      <td>5</td>\n      <td>15</td>\n      <td>22</td>\n      <td>39</td>\n      <td>...</td>\n      <td>4</td>\n      <td>20</td>\n      <td>-1</td>\n      <td>-1</td>\n      <td>2</td>\n      <td>6^7^8^9^10^11^12^13^14^15^16^17^18^19^20^21^22^23</td>\n      <td>10</td>\n      <td>36</td>\n      <td>1</td>\n      <td>0</td>\n    </tr>\n  </tbody>\n</table>\n<p>5 rows × 36 columns</p>\n</div>"
     },
     "metadata": {},
     "output_type": "display_data"
    },
    {
     "name": "stdout",
     "output_type": "stream",
     "text": [
      "df.shape: (838142, 36)\n"
     ]
    }
   ],
   "source": [
    "train_df = general_utils.read_csv(train_df_file)"
   ],
   "metadata": {
    "collapsed": false,
    "ExecuteTime": {
     "end_time": "2023-12-01T22:22:04.969392300Z",
     "start_time": "2023-12-01T22:22:03.463392100Z"
    }
   },
   "id": "e48c4a45f94af153"
  },
  {
   "cell_type": "markdown",
   "source": [
    "#### 2. Sample smaller training sets for fast exploration"
   ],
   "metadata": {
    "collapsed": false
   },
   "id": "51f3ed79f2b3bbfe"
  },
  {
   "cell_type": "code",
   "execution_count": 4,
   "outputs": [
    {
     "name": "stdout",
     "output_type": "stream",
     "text": [
      "\n",
      "Sample 0.01 fraction from DataFrame:\n",
      "sample_df.shape: (8381, 36)\n"
     ]
    }
   ],
   "source": [
    "train_df_sample = data_prepare_utils.sample_data(train_df, 0.01, random_state=sample_random_state)"
   ],
   "metadata": {
    "collapsed": false,
    "ExecuteTime": {
     "end_time": "2023-12-01T22:22:05.152391Z",
     "start_time": "2023-12-01T22:22:04.971391700Z"
    }
   },
   "id": "b6ebccbf90deb0c8"
  },
  {
   "cell_type": "markdown",
   "source": [
    "#### 2. Check attribute types"
   ],
   "metadata": {
    "collapsed": false
   },
   "id": "a895006705a8400a"
  },
  {
   "cell_type": "code",
   "execution_count": 5,
   "outputs": [
    {
     "data": {
      "text/plain": "['uid',\n 'task_id',\n 'adv_id',\n 'creat_type_cd',\n 'adv_prim_id',\n 'dev_id',\n 'inter_type_cd',\n 'slot_id',\n 'spread_app_id',\n 'tags',\n 'app_first_class',\n 'app_second_class',\n 'age',\n 'city',\n 'city_rank',\n 'device_name',\n 'device_size',\n 'career',\n 'gender',\n 'net_type',\n 'residence',\n 'his_app_size',\n 'his_on_shelf_time',\n 'app_score',\n 'emui_dev',\n 'list_time',\n 'device_price',\n 'up_life_duration',\n 'up_membership_grade',\n 'membership_life_duration',\n 'consume_purchase',\n 'communication_onlinerate',\n 'communication_avgonline_30d',\n 'indu_name',\n 'pt_d']"
     },
     "execution_count": 5,
     "metadata": {},
     "output_type": "execute_result"
    }
   ],
   "source": [
    "numerical_attr_list = []\n",
    "categorical_attr_list = [attr for attr in train_df_sample.columns if attr not in numerical_attr_list and attr != target_attr]\n",
    "categorical_attr_list"
   ],
   "metadata": {
    "collapsed": false,
    "ExecuteTime": {
     "end_time": "2023-12-01T22:22:05.171391Z",
     "start_time": "2023-12-01T22:22:05.145392700Z"
    }
   },
   "id": "591a6d7719bf9ed1"
  },
  {
   "cell_type": "markdown",
   "source": [
    "#### 2. Predefined data processing strategy in prep.ipynb"
   ],
   "metadata": {
    "collapsed": false
   },
   "id": "41f88f1ff9cce061"
  },
  {
   "cell_type": "code",
   "execution_count": 6,
   "outputs": [
    {
     "name": "stdout",
     "output_type": "stream",
     "text": [
      "\n",
      "Drop duplicate observations:\n",
      "df.shape:  (8381, 36)\n",
      "drop_dup_df.shape:  (8380, 36)\n"
     ]
    }
   ],
   "source": [
    "train_df_sample = data_prepare_utils.drop_duplicate_obs(train_df_sample)"
   ],
   "metadata": {
    "collapsed": false,
    "ExecuteTime": {
     "end_time": "2023-12-01T22:22:05.247392300Z",
     "start_time": "2023-12-01T22:22:05.159392500Z"
    }
   },
   "id": "ef7f8228ed76e1fa"
  },
  {
   "cell_type": "code",
   "execution_count": 7,
   "outputs": [
    {
     "data": {
      "text/plain": "ColumnTransformer(transformers=[('numerical',\n                                 Pipeline(steps=[('column_dropper',\n                                                  DropColumnsTransformer(attrs_to_drop=['app_score',\n                                                                                        'his_on_shelf_time',\n                                                                                        'task_id',\n                                                                                        'spread_app_id',\n                                                                                        'tags',\n                                                                                        'dev_id',\n                                                                                        'app_second_class',\n                                                                                        'adv_prim_id',\n                                                                                        'device_price'])),\n                                                 ('imputer', SimpleImputer()),\n                                                 ('scaler', StandardScaler())]),\n                                 []),\n                                ('categorical',\n                                 Pipeline(steps=[('column_droppe...\n                                  'adv_prim_id', 'dev_id', 'inter_type_cd',\n                                  'slot_id', 'spread_app_id', 'tags',\n                                  'app_first_class', 'app_second_class', 'age',\n                                  'city', 'city_rank', 'device_name',\n                                  'device_size', 'career', 'gender', 'net_type',\n                                  'residence', 'his_app_size',\n                                  'his_on_shelf_time', 'app_score', 'emui_dev',\n                                  'list_time', 'device_price',\n                                  'up_life_duration', 'up_membership_grade',\n                                  'membership_life_duration', ...])])",
      "text/html": "<style>#sk-container-id-1 {color: black;}#sk-container-id-1 pre{padding: 0;}#sk-container-id-1 div.sk-toggleable {background-color: white;}#sk-container-id-1 label.sk-toggleable__label {cursor: pointer;display: block;width: 100%;margin-bottom: 0;padding: 0.3em;box-sizing: border-box;text-align: center;}#sk-container-id-1 label.sk-toggleable__label-arrow:before {content: \"▸\";float: left;margin-right: 0.25em;color: #696969;}#sk-container-id-1 label.sk-toggleable__label-arrow:hover:before {color: black;}#sk-container-id-1 div.sk-estimator:hover label.sk-toggleable__label-arrow:before {color: black;}#sk-container-id-1 div.sk-toggleable__content {max-height: 0;max-width: 0;overflow: hidden;text-align: left;background-color: #f0f8ff;}#sk-container-id-1 div.sk-toggleable__content pre {margin: 0.2em;color: black;border-radius: 0.25em;background-color: #f0f8ff;}#sk-container-id-1 input.sk-toggleable__control:checked~div.sk-toggleable__content {max-height: 200px;max-width: 100%;overflow: auto;}#sk-container-id-1 input.sk-toggleable__control:checked~label.sk-toggleable__label-arrow:before {content: \"▾\";}#sk-container-id-1 div.sk-estimator input.sk-toggleable__control:checked~label.sk-toggleable__label {background-color: #d4ebff;}#sk-container-id-1 div.sk-label input.sk-toggleable__control:checked~label.sk-toggleable__label {background-color: #d4ebff;}#sk-container-id-1 input.sk-hidden--visually {border: 0;clip: rect(1px 1px 1px 1px);clip: rect(1px, 1px, 1px, 1px);height: 1px;margin: -1px;overflow: hidden;padding: 0;position: absolute;width: 1px;}#sk-container-id-1 div.sk-estimator {font-family: monospace;background-color: #f0f8ff;border: 1px dotted black;border-radius: 0.25em;box-sizing: border-box;margin-bottom: 0.5em;}#sk-container-id-1 div.sk-estimator:hover {background-color: #d4ebff;}#sk-container-id-1 div.sk-parallel-item::after {content: \"\";width: 100%;border-bottom: 1px solid gray;flex-grow: 1;}#sk-container-id-1 div.sk-label:hover label.sk-toggleable__label {background-color: #d4ebff;}#sk-container-id-1 div.sk-serial::before {content: \"\";position: absolute;border-left: 1px solid gray;box-sizing: border-box;top: 0;bottom: 0;left: 50%;z-index: 0;}#sk-container-id-1 div.sk-serial {display: flex;flex-direction: column;align-items: center;background-color: white;padding-right: 0.2em;padding-left: 0.2em;position: relative;}#sk-container-id-1 div.sk-item {position: relative;z-index: 1;}#sk-container-id-1 div.sk-parallel {display: flex;align-items: stretch;justify-content: center;background-color: white;position: relative;}#sk-container-id-1 div.sk-item::before, #sk-container-id-1 div.sk-parallel-item::before {content: \"\";position: absolute;border-left: 1px solid gray;box-sizing: border-box;top: 0;bottom: 0;left: 50%;z-index: -1;}#sk-container-id-1 div.sk-parallel-item {display: flex;flex-direction: column;z-index: 1;position: relative;background-color: white;}#sk-container-id-1 div.sk-parallel-item:first-child::after {align-self: flex-end;width: 50%;}#sk-container-id-1 div.sk-parallel-item:last-child::after {align-self: flex-start;width: 50%;}#sk-container-id-1 div.sk-parallel-item:only-child::after {width: 0;}#sk-container-id-1 div.sk-dashed-wrapped {border: 1px dashed gray;margin: 0 0.4em 0.5em 0.4em;box-sizing: border-box;padding-bottom: 0.4em;background-color: white;}#sk-container-id-1 div.sk-label label {font-family: monospace;font-weight: bold;display: inline-block;line-height: 1.2em;}#sk-container-id-1 div.sk-label-container {text-align: center;}#sk-container-id-1 div.sk-container {/* jupyter's `normalize.less` sets `[hidden] { display: none; }` but bootstrap.min.css set `[hidden] { display: none !important; }` so we also need the `!important` here to be able to override the default hidden behavior on the sphinx rendered scikit-learn.org. See: https://github.com/scikit-learn/scikit-learn/issues/21755 */display: inline-block !important;position: relative;}#sk-container-id-1 div.sk-text-repr-fallback {display: none;}</style><div id=\"sk-container-id-1\" class=\"sk-top-container\"><div class=\"sk-text-repr-fallback\"><pre>ColumnTransformer(transformers=[(&#x27;numerical&#x27;,\n                                 Pipeline(steps=[(&#x27;column_dropper&#x27;,\n                                                  DropColumnsTransformer(attrs_to_drop=[&#x27;app_score&#x27;,\n                                                                                        &#x27;his_on_shelf_time&#x27;,\n                                                                                        &#x27;task_id&#x27;,\n                                                                                        &#x27;spread_app_id&#x27;,\n                                                                                        &#x27;tags&#x27;,\n                                                                                        &#x27;dev_id&#x27;,\n                                                                                        &#x27;app_second_class&#x27;,\n                                                                                        &#x27;adv_prim_id&#x27;,\n                                                                                        &#x27;device_price&#x27;])),\n                                                 (&#x27;imputer&#x27;, SimpleImputer()),\n                                                 (&#x27;scaler&#x27;, StandardScaler())]),\n                                 []),\n                                (&#x27;categorical&#x27;,\n                                 Pipeline(steps=[(&#x27;column_droppe...\n                                  &#x27;adv_prim_id&#x27;, &#x27;dev_id&#x27;, &#x27;inter_type_cd&#x27;,\n                                  &#x27;slot_id&#x27;, &#x27;spread_app_id&#x27;, &#x27;tags&#x27;,\n                                  &#x27;app_first_class&#x27;, &#x27;app_second_class&#x27;, &#x27;age&#x27;,\n                                  &#x27;city&#x27;, &#x27;city_rank&#x27;, &#x27;device_name&#x27;,\n                                  &#x27;device_size&#x27;, &#x27;career&#x27;, &#x27;gender&#x27;, &#x27;net_type&#x27;,\n                                  &#x27;residence&#x27;, &#x27;his_app_size&#x27;,\n                                  &#x27;his_on_shelf_time&#x27;, &#x27;app_score&#x27;, &#x27;emui_dev&#x27;,\n                                  &#x27;list_time&#x27;, &#x27;device_price&#x27;,\n                                  &#x27;up_life_duration&#x27;, &#x27;up_membership_grade&#x27;,\n                                  &#x27;membership_life_duration&#x27;, ...])])</pre><b>In a Jupyter environment, please rerun this cell to show the HTML representation or trust the notebook. <br />On GitHub, the HTML representation is unable to render, please try loading this page with nbviewer.org.</b></div><div class=\"sk-container\" hidden><div class=\"sk-item sk-dashed-wrapped\"><div class=\"sk-label-container\"><div class=\"sk-label sk-toggleable\"><input class=\"sk-toggleable__control sk-hidden--visually\" id=\"sk-estimator-id-1\" type=\"checkbox\" ><label for=\"sk-estimator-id-1\" class=\"sk-toggleable__label sk-toggleable__label-arrow\">ColumnTransformer</label><div class=\"sk-toggleable__content\"><pre>ColumnTransformer(transformers=[(&#x27;numerical&#x27;,\n                                 Pipeline(steps=[(&#x27;column_dropper&#x27;,\n                                                  DropColumnsTransformer(attrs_to_drop=[&#x27;app_score&#x27;,\n                                                                                        &#x27;his_on_shelf_time&#x27;,\n                                                                                        &#x27;task_id&#x27;,\n                                                                                        &#x27;spread_app_id&#x27;,\n                                                                                        &#x27;tags&#x27;,\n                                                                                        &#x27;dev_id&#x27;,\n                                                                                        &#x27;app_second_class&#x27;,\n                                                                                        &#x27;adv_prim_id&#x27;,\n                                                                                        &#x27;device_price&#x27;])),\n                                                 (&#x27;imputer&#x27;, SimpleImputer()),\n                                                 (&#x27;scaler&#x27;, StandardScaler())]),\n                                 []),\n                                (&#x27;categorical&#x27;,\n                                 Pipeline(steps=[(&#x27;column_droppe...\n                                  &#x27;adv_prim_id&#x27;, &#x27;dev_id&#x27;, &#x27;inter_type_cd&#x27;,\n                                  &#x27;slot_id&#x27;, &#x27;spread_app_id&#x27;, &#x27;tags&#x27;,\n                                  &#x27;app_first_class&#x27;, &#x27;app_second_class&#x27;, &#x27;age&#x27;,\n                                  &#x27;city&#x27;, &#x27;city_rank&#x27;, &#x27;device_name&#x27;,\n                                  &#x27;device_size&#x27;, &#x27;career&#x27;, &#x27;gender&#x27;, &#x27;net_type&#x27;,\n                                  &#x27;residence&#x27;, &#x27;his_app_size&#x27;,\n                                  &#x27;his_on_shelf_time&#x27;, &#x27;app_score&#x27;, &#x27;emui_dev&#x27;,\n                                  &#x27;list_time&#x27;, &#x27;device_price&#x27;,\n                                  &#x27;up_life_duration&#x27;, &#x27;up_membership_grade&#x27;,\n                                  &#x27;membership_life_duration&#x27;, ...])])</pre></div></div></div><div class=\"sk-parallel\"><div class=\"sk-parallel-item\"><div class=\"sk-item\"><div class=\"sk-label-container\"><div class=\"sk-label sk-toggleable\"><input class=\"sk-toggleable__control sk-hidden--visually\" id=\"sk-estimator-id-2\" type=\"checkbox\" ><label for=\"sk-estimator-id-2\" class=\"sk-toggleable__label sk-toggleable__label-arrow\">numerical</label><div class=\"sk-toggleable__content\"><pre>[]</pre></div></div></div><div class=\"sk-serial\"><div class=\"sk-item\"><div class=\"sk-serial\"><div class=\"sk-item\"><div class=\"sk-estimator sk-toggleable\"><input class=\"sk-toggleable__control sk-hidden--visually\" id=\"sk-estimator-id-3\" type=\"checkbox\" ><label for=\"sk-estimator-id-3\" class=\"sk-toggleable__label sk-toggleable__label-arrow\">DropColumnsTransformer</label><div class=\"sk-toggleable__content\"><pre>DropColumnsTransformer(attrs_to_drop=[&#x27;app_score&#x27;, &#x27;his_on_shelf_time&#x27;,\n                                      &#x27;task_id&#x27;, &#x27;spread_app_id&#x27;, &#x27;tags&#x27;,\n                                      &#x27;dev_id&#x27;, &#x27;app_second_class&#x27;,\n                                      &#x27;adv_prim_id&#x27;, &#x27;device_price&#x27;])</pre></div></div></div><div class=\"sk-item\"><div class=\"sk-estimator sk-toggleable\"><input class=\"sk-toggleable__control sk-hidden--visually\" id=\"sk-estimator-id-4\" type=\"checkbox\" ><label for=\"sk-estimator-id-4\" class=\"sk-toggleable__label sk-toggleable__label-arrow\">SimpleImputer</label><div class=\"sk-toggleable__content\"><pre>SimpleImputer()</pre></div></div></div><div class=\"sk-item\"><div class=\"sk-estimator sk-toggleable\"><input class=\"sk-toggleable__control sk-hidden--visually\" id=\"sk-estimator-id-5\" type=\"checkbox\" ><label for=\"sk-estimator-id-5\" class=\"sk-toggleable__label sk-toggleable__label-arrow\">StandardScaler</label><div class=\"sk-toggleable__content\"><pre>StandardScaler()</pre></div></div></div></div></div></div></div></div><div class=\"sk-parallel-item\"><div class=\"sk-item\"><div class=\"sk-label-container\"><div class=\"sk-label sk-toggleable\"><input class=\"sk-toggleable__control sk-hidden--visually\" id=\"sk-estimator-id-6\" type=\"checkbox\" ><label for=\"sk-estimator-id-6\" class=\"sk-toggleable__label sk-toggleable__label-arrow\">categorical</label><div class=\"sk-toggleable__content\"><pre>[&#x27;uid&#x27;, &#x27;task_id&#x27;, &#x27;adv_id&#x27;, &#x27;creat_type_cd&#x27;, &#x27;adv_prim_id&#x27;, &#x27;dev_id&#x27;, &#x27;inter_type_cd&#x27;, &#x27;slot_id&#x27;, &#x27;spread_app_id&#x27;, &#x27;tags&#x27;, &#x27;app_first_class&#x27;, &#x27;app_second_class&#x27;, &#x27;age&#x27;, &#x27;city&#x27;, &#x27;city_rank&#x27;, &#x27;device_name&#x27;, &#x27;device_size&#x27;, &#x27;career&#x27;, &#x27;gender&#x27;, &#x27;net_type&#x27;, &#x27;residence&#x27;, &#x27;his_app_size&#x27;, &#x27;his_on_shelf_time&#x27;, &#x27;app_score&#x27;, &#x27;emui_dev&#x27;, &#x27;list_time&#x27;, &#x27;device_price&#x27;, &#x27;up_life_duration&#x27;, &#x27;up_membership_grade&#x27;, &#x27;membership_life_duration&#x27;, &#x27;consume_purchase&#x27;, &#x27;communication_onlinerate&#x27;, &#x27;communication_avgonline_30d&#x27;, &#x27;indu_name&#x27;, &#x27;pt_d&#x27;]</pre></div></div></div><div class=\"sk-serial\"><div class=\"sk-item\"><div class=\"sk-serial\"><div class=\"sk-item\"><div class=\"sk-estimator sk-toggleable\"><input class=\"sk-toggleable__control sk-hidden--visually\" id=\"sk-estimator-id-7\" type=\"checkbox\" ><label for=\"sk-estimator-id-7\" class=\"sk-toggleable__label sk-toggleable__label-arrow\">DropColumnsTransformer</label><div class=\"sk-toggleable__content\"><pre>DropColumnsTransformer(attrs_to_drop=[&#x27;app_score&#x27;, &#x27;his_on_shelf_time&#x27;,\n                                      &#x27;task_id&#x27;, &#x27;spread_app_id&#x27;, &#x27;tags&#x27;,\n                                      &#x27;dev_id&#x27;, &#x27;app_second_class&#x27;,\n                                      &#x27;adv_prim_id&#x27;, &#x27;device_price&#x27;])</pre></div></div></div><div class=\"sk-item\"><div class=\"sk-estimator sk-toggleable\"><input class=\"sk-toggleable__control sk-hidden--visually\" id=\"sk-estimator-id-8\" type=\"checkbox\" ><label for=\"sk-estimator-id-8\" class=\"sk-toggleable__label sk-toggleable__label-arrow\">SimpleImputer</label><div class=\"sk-toggleable__content\"><pre>SimpleImputer(strategy=&#x27;most_frequent&#x27;)</pre></div></div></div><div class=\"sk-item\"><div class=\"sk-estimator sk-toggleable\"><input class=\"sk-toggleable__control sk-hidden--visually\" id=\"sk-estimator-id-9\" type=\"checkbox\" ><label for=\"sk-estimator-id-9\" class=\"sk-toggleable__label sk-toggleable__label-arrow\">TargetEncoder</label><div class=\"sk-toggleable__content\"><pre>TargetEncoder(random_state=42, target_type=&#x27;binary&#x27;)</pre></div></div></div><div class=\"sk-item\"><div class=\"sk-estimator sk-toggleable\"><input class=\"sk-toggleable__control sk-hidden--visually\" id=\"sk-estimator-id-10\" type=\"checkbox\" ><label for=\"sk-estimator-id-10\" class=\"sk-toggleable__label sk-toggleable__label-arrow\">StandardScaler</label><div class=\"sk-toggleable__content\"><pre>StandardScaler()</pre></div></div></div></div></div></div></div></div></div></div></div></div>"
     },
     "execution_count": 7,
     "metadata": {},
     "output_type": "execute_result"
    }
   ],
   "source": [
    "attrs_to_drop = ['app_score', 'his_on_shelf_time', 'task_id', 'spread_app_id', 'tags', 'dev_id', 'app_second_class', 'adv_prim_id', 'device_price']\n",
    "\n",
    "numerical_transformer = Pipeline([\n",
    "    (\"column_dropper\", data_prepare_utils.DropColumnsTransformer(attrs_to_drop)),\n",
    "    (\"imputer\", SimpleImputer()),\n",
    "    (\"scaler\", StandardScaler())\n",
    "])\n",
    "\n",
    "categorical_transformer = Pipeline([\n",
    "    (\"column_dropper\", data_prepare_utils.DropColumnsTransformer(attrs_to_drop)),\n",
    "    (\"imputer\", SimpleImputer(strategy=\"most_frequent\")),\n",
    "    (\"target_encoder\", TargetEncoder(target_type=target_type, random_state=target_encoding_random_state)),\n",
    "    (\"scaler\", StandardScaler())\n",
    "])\n",
    "\n",
    "preprocessor = ColumnTransformer([\n",
    "    (\"numerical\", numerical_transformer, numerical_attr_list),\n",
    "    (\"categorical\", categorical_transformer, categorical_attr_list)\n",
    "])\n",
    "\n",
    "preprocessor"
   ],
   "metadata": {
    "collapsed": false,
    "ExecuteTime": {
     "end_time": "2023-12-01T22:22:05.250393600Z",
     "start_time": "2023-12-01T22:22:05.191390400Z"
    }
   },
   "id": "366c288392feaa21"
  },
  {
   "cell_type": "markdown",
   "source": [
    "#### 3. Define default models"
   ],
   "metadata": {
    "collapsed": false
   },
   "id": "27a9eab7b04d3c6e"
  },
  {
   "cell_type": "code",
   "execution_count": 8,
   "outputs": [],
   "source": [
    "estimator_dict = {\n",
    "    \"SGDClassifier\": SGDClassifier(\n",
    "        loss=\"log_loss\", \n",
    "        random_state=model_random_state, \n",
    "        class_weight=\"balanced\",\n",
    "        max_iter=sgd_max_iter\n",
    "    ),\n",
    "\n",
    "    \"DecisionTreeClassifier\": DecisionTreeClassifier(\n",
    "        criterion='log_loss', \n",
    "        random_state=model_random_state, \n",
    "        class_weight=\"balanced\"\n",
    "    ),\n",
    "    \n",
    "    \"RandomForestClassifier\": RandomForestClassifier(\n",
    "        criterion=\"log_loss\", \n",
    "        random_state=model_random_state, \n",
    "        class_weight=\"balanced_subsample\"\n",
    "    ),\n",
    "    \n",
    "    \"AdaBoostClassifier\": AdaBoostClassifier(\n",
    "        estimator=DecisionTreeClassifier(\n",
    "            criterion='log_loss', \n",
    "            random_state=model_random_state, \n",
    "            class_weight='balanced',\n",
    "            max_depth=1\n",
    "        ),\n",
    "        random_state=model_random_state\n",
    "    ),\n",
    "\n",
    "    \"GradientBoostingClassifier\": GradientBoostingClassifier(\n",
    "        loss='log_loss', \n",
    "        random_state=model_random_state\n",
    "    )\n",
    "}"
   ],
   "metadata": {
    "collapsed": false,
    "ExecuteTime": {
     "end_time": "2023-12-01T22:22:05.261393700Z",
     "start_time": "2023-12-01T22:22:05.237389600Z"
    }
   },
   "id": "bdc65445b3c4a948"
  },
  {
   "cell_type": "markdown",
   "source": [
    "#### 4. Define composite model"
   ],
   "metadata": {
    "collapsed": false
   },
   "id": "7af4ad67f01f2281"
  },
  {
   "cell_type": "code",
   "execution_count": 9,
   "outputs": [
    {
     "data": {
      "text/plain": "Pipeline(steps=[('preprocessor',\n                 ColumnTransformer(transformers=[('numerical',\n                                                  Pipeline(steps=[('column_dropper',\n                                                                   DropColumnsTransformer(attrs_to_drop=['app_score',\n                                                                                                         'his_on_shelf_time',\n                                                                                                         'task_id',\n                                                                                                         'spread_app_id',\n                                                                                                         'tags',\n                                                                                                         'dev_id',\n                                                                                                         'app_second_class',\n                                                                                                         'adv_prim_id',\n                                                                                                         'device_price'])),\n                                                                  ('imputer',\n                                                                   SimpleImputer()),\n                                                                  ('scaler',\n                                                                   StandardScaler())]),\n                                                  []),\n                                                 ('categorical'...\n                                                   'city', 'city_rank',\n                                                   'device_name', 'device_size',\n                                                   'career', 'gender',\n                                                   'net_type', 'residence',\n                                                   'his_app_size',\n                                                   'his_on_shelf_time',\n                                                   'app_score', 'emui_dev',\n                                                   'list_time', 'device_price',\n                                                   'up_life_duration',\n                                                   'up_membership_grade',\n                                                   'membership_life_duration', ...])])),\n                ('SGDClassifier',\n                 SGDClassifier(class_weight='balanced', loss='log_loss',\n                               max_iter=10000, random_state=42))])",
      "text/html": "<style>#sk-container-id-2 {color: black;}#sk-container-id-2 pre{padding: 0;}#sk-container-id-2 div.sk-toggleable {background-color: white;}#sk-container-id-2 label.sk-toggleable__label {cursor: pointer;display: block;width: 100%;margin-bottom: 0;padding: 0.3em;box-sizing: border-box;text-align: center;}#sk-container-id-2 label.sk-toggleable__label-arrow:before {content: \"▸\";float: left;margin-right: 0.25em;color: #696969;}#sk-container-id-2 label.sk-toggleable__label-arrow:hover:before {color: black;}#sk-container-id-2 div.sk-estimator:hover label.sk-toggleable__label-arrow:before {color: black;}#sk-container-id-2 div.sk-toggleable__content {max-height: 0;max-width: 0;overflow: hidden;text-align: left;background-color: #f0f8ff;}#sk-container-id-2 div.sk-toggleable__content pre {margin: 0.2em;color: black;border-radius: 0.25em;background-color: #f0f8ff;}#sk-container-id-2 input.sk-toggleable__control:checked~div.sk-toggleable__content {max-height: 200px;max-width: 100%;overflow: auto;}#sk-container-id-2 input.sk-toggleable__control:checked~label.sk-toggleable__label-arrow:before {content: \"▾\";}#sk-container-id-2 div.sk-estimator input.sk-toggleable__control:checked~label.sk-toggleable__label {background-color: #d4ebff;}#sk-container-id-2 div.sk-label input.sk-toggleable__control:checked~label.sk-toggleable__label {background-color: #d4ebff;}#sk-container-id-2 input.sk-hidden--visually {border: 0;clip: rect(1px 1px 1px 1px);clip: rect(1px, 1px, 1px, 1px);height: 1px;margin: -1px;overflow: hidden;padding: 0;position: absolute;width: 1px;}#sk-container-id-2 div.sk-estimator {font-family: monospace;background-color: #f0f8ff;border: 1px dotted black;border-radius: 0.25em;box-sizing: border-box;margin-bottom: 0.5em;}#sk-container-id-2 div.sk-estimator:hover {background-color: #d4ebff;}#sk-container-id-2 div.sk-parallel-item::after {content: \"\";width: 100%;border-bottom: 1px solid gray;flex-grow: 1;}#sk-container-id-2 div.sk-label:hover label.sk-toggleable__label {background-color: #d4ebff;}#sk-container-id-2 div.sk-serial::before {content: \"\";position: absolute;border-left: 1px solid gray;box-sizing: border-box;top: 0;bottom: 0;left: 50%;z-index: 0;}#sk-container-id-2 div.sk-serial {display: flex;flex-direction: column;align-items: center;background-color: white;padding-right: 0.2em;padding-left: 0.2em;position: relative;}#sk-container-id-2 div.sk-item {position: relative;z-index: 1;}#sk-container-id-2 div.sk-parallel {display: flex;align-items: stretch;justify-content: center;background-color: white;position: relative;}#sk-container-id-2 div.sk-item::before, #sk-container-id-2 div.sk-parallel-item::before {content: \"\";position: absolute;border-left: 1px solid gray;box-sizing: border-box;top: 0;bottom: 0;left: 50%;z-index: -1;}#sk-container-id-2 div.sk-parallel-item {display: flex;flex-direction: column;z-index: 1;position: relative;background-color: white;}#sk-container-id-2 div.sk-parallel-item:first-child::after {align-self: flex-end;width: 50%;}#sk-container-id-2 div.sk-parallel-item:last-child::after {align-self: flex-start;width: 50%;}#sk-container-id-2 div.sk-parallel-item:only-child::after {width: 0;}#sk-container-id-2 div.sk-dashed-wrapped {border: 1px dashed gray;margin: 0 0.4em 0.5em 0.4em;box-sizing: border-box;padding-bottom: 0.4em;background-color: white;}#sk-container-id-2 div.sk-label label {font-family: monospace;font-weight: bold;display: inline-block;line-height: 1.2em;}#sk-container-id-2 div.sk-label-container {text-align: center;}#sk-container-id-2 div.sk-container {/* jupyter's `normalize.less` sets `[hidden] { display: none; }` but bootstrap.min.css set `[hidden] { display: none !important; }` so we also need the `!important` here to be able to override the default hidden behavior on the sphinx rendered scikit-learn.org. See: https://github.com/scikit-learn/scikit-learn/issues/21755 */display: inline-block !important;position: relative;}#sk-container-id-2 div.sk-text-repr-fallback {display: none;}</style><div id=\"sk-container-id-2\" class=\"sk-top-container\"><div class=\"sk-text-repr-fallback\"><pre>Pipeline(steps=[(&#x27;preprocessor&#x27;,\n                 ColumnTransformer(transformers=[(&#x27;numerical&#x27;,\n                                                  Pipeline(steps=[(&#x27;column_dropper&#x27;,\n                                                                   DropColumnsTransformer(attrs_to_drop=[&#x27;app_score&#x27;,\n                                                                                                         &#x27;his_on_shelf_time&#x27;,\n                                                                                                         &#x27;task_id&#x27;,\n                                                                                                         &#x27;spread_app_id&#x27;,\n                                                                                                         &#x27;tags&#x27;,\n                                                                                                         &#x27;dev_id&#x27;,\n                                                                                                         &#x27;app_second_class&#x27;,\n                                                                                                         &#x27;adv_prim_id&#x27;,\n                                                                                                         &#x27;device_price&#x27;])),\n                                                                  (&#x27;imputer&#x27;,\n                                                                   SimpleImputer()),\n                                                                  (&#x27;scaler&#x27;,\n                                                                   StandardScaler())]),\n                                                  []),\n                                                 (&#x27;categorical&#x27;...\n                                                   &#x27;city&#x27;, &#x27;city_rank&#x27;,\n                                                   &#x27;device_name&#x27;, &#x27;device_size&#x27;,\n                                                   &#x27;career&#x27;, &#x27;gender&#x27;,\n                                                   &#x27;net_type&#x27;, &#x27;residence&#x27;,\n                                                   &#x27;his_app_size&#x27;,\n                                                   &#x27;his_on_shelf_time&#x27;,\n                                                   &#x27;app_score&#x27;, &#x27;emui_dev&#x27;,\n                                                   &#x27;list_time&#x27;, &#x27;device_price&#x27;,\n                                                   &#x27;up_life_duration&#x27;,\n                                                   &#x27;up_membership_grade&#x27;,\n                                                   &#x27;membership_life_duration&#x27;, ...])])),\n                (&#x27;SGDClassifier&#x27;,\n                 SGDClassifier(class_weight=&#x27;balanced&#x27;, loss=&#x27;log_loss&#x27;,\n                               max_iter=10000, random_state=42))])</pre><b>In a Jupyter environment, please rerun this cell to show the HTML representation or trust the notebook. <br />On GitHub, the HTML representation is unable to render, please try loading this page with nbviewer.org.</b></div><div class=\"sk-container\" hidden><div class=\"sk-item sk-dashed-wrapped\"><div class=\"sk-label-container\"><div class=\"sk-label sk-toggleable\"><input class=\"sk-toggleable__control sk-hidden--visually\" id=\"sk-estimator-id-11\" type=\"checkbox\" ><label for=\"sk-estimator-id-11\" class=\"sk-toggleable__label sk-toggleable__label-arrow\">Pipeline</label><div class=\"sk-toggleable__content\"><pre>Pipeline(steps=[(&#x27;preprocessor&#x27;,\n                 ColumnTransformer(transformers=[(&#x27;numerical&#x27;,\n                                                  Pipeline(steps=[(&#x27;column_dropper&#x27;,\n                                                                   DropColumnsTransformer(attrs_to_drop=[&#x27;app_score&#x27;,\n                                                                                                         &#x27;his_on_shelf_time&#x27;,\n                                                                                                         &#x27;task_id&#x27;,\n                                                                                                         &#x27;spread_app_id&#x27;,\n                                                                                                         &#x27;tags&#x27;,\n                                                                                                         &#x27;dev_id&#x27;,\n                                                                                                         &#x27;app_second_class&#x27;,\n                                                                                                         &#x27;adv_prim_id&#x27;,\n                                                                                                         &#x27;device_price&#x27;])),\n                                                                  (&#x27;imputer&#x27;,\n                                                                   SimpleImputer()),\n                                                                  (&#x27;scaler&#x27;,\n                                                                   StandardScaler())]),\n                                                  []),\n                                                 (&#x27;categorical&#x27;...\n                                                   &#x27;city&#x27;, &#x27;city_rank&#x27;,\n                                                   &#x27;device_name&#x27;, &#x27;device_size&#x27;,\n                                                   &#x27;career&#x27;, &#x27;gender&#x27;,\n                                                   &#x27;net_type&#x27;, &#x27;residence&#x27;,\n                                                   &#x27;his_app_size&#x27;,\n                                                   &#x27;his_on_shelf_time&#x27;,\n                                                   &#x27;app_score&#x27;, &#x27;emui_dev&#x27;,\n                                                   &#x27;list_time&#x27;, &#x27;device_price&#x27;,\n                                                   &#x27;up_life_duration&#x27;,\n                                                   &#x27;up_membership_grade&#x27;,\n                                                   &#x27;membership_life_duration&#x27;, ...])])),\n                (&#x27;SGDClassifier&#x27;,\n                 SGDClassifier(class_weight=&#x27;balanced&#x27;, loss=&#x27;log_loss&#x27;,\n                               max_iter=10000, random_state=42))])</pre></div></div></div><div class=\"sk-serial\"><div class=\"sk-item sk-dashed-wrapped\"><div class=\"sk-label-container\"><div class=\"sk-label sk-toggleable\"><input class=\"sk-toggleable__control sk-hidden--visually\" id=\"sk-estimator-id-12\" type=\"checkbox\" ><label for=\"sk-estimator-id-12\" class=\"sk-toggleable__label sk-toggleable__label-arrow\">preprocessor: ColumnTransformer</label><div class=\"sk-toggleable__content\"><pre>ColumnTransformer(transformers=[(&#x27;numerical&#x27;,\n                                 Pipeline(steps=[(&#x27;column_dropper&#x27;,\n                                                  DropColumnsTransformer(attrs_to_drop=[&#x27;app_score&#x27;,\n                                                                                        &#x27;his_on_shelf_time&#x27;,\n                                                                                        &#x27;task_id&#x27;,\n                                                                                        &#x27;spread_app_id&#x27;,\n                                                                                        &#x27;tags&#x27;,\n                                                                                        &#x27;dev_id&#x27;,\n                                                                                        &#x27;app_second_class&#x27;,\n                                                                                        &#x27;adv_prim_id&#x27;,\n                                                                                        &#x27;device_price&#x27;])),\n                                                 (&#x27;imputer&#x27;, SimpleImputer()),\n                                                 (&#x27;scaler&#x27;, StandardScaler())]),\n                                 []),\n                                (&#x27;categorical&#x27;,\n                                 Pipeline(steps=[(&#x27;column_droppe...\n                                  &#x27;adv_prim_id&#x27;, &#x27;dev_id&#x27;, &#x27;inter_type_cd&#x27;,\n                                  &#x27;slot_id&#x27;, &#x27;spread_app_id&#x27;, &#x27;tags&#x27;,\n                                  &#x27;app_first_class&#x27;, &#x27;app_second_class&#x27;, &#x27;age&#x27;,\n                                  &#x27;city&#x27;, &#x27;city_rank&#x27;, &#x27;device_name&#x27;,\n                                  &#x27;device_size&#x27;, &#x27;career&#x27;, &#x27;gender&#x27;, &#x27;net_type&#x27;,\n                                  &#x27;residence&#x27;, &#x27;his_app_size&#x27;,\n                                  &#x27;his_on_shelf_time&#x27;, &#x27;app_score&#x27;, &#x27;emui_dev&#x27;,\n                                  &#x27;list_time&#x27;, &#x27;device_price&#x27;,\n                                  &#x27;up_life_duration&#x27;, &#x27;up_membership_grade&#x27;,\n                                  &#x27;membership_life_duration&#x27;, ...])])</pre></div></div></div><div class=\"sk-parallel\"><div class=\"sk-parallel-item\"><div class=\"sk-item\"><div class=\"sk-label-container\"><div class=\"sk-label sk-toggleable\"><input class=\"sk-toggleable__control sk-hidden--visually\" id=\"sk-estimator-id-13\" type=\"checkbox\" ><label for=\"sk-estimator-id-13\" class=\"sk-toggleable__label sk-toggleable__label-arrow\">numerical</label><div class=\"sk-toggleable__content\"><pre>[]</pre></div></div></div><div class=\"sk-serial\"><div class=\"sk-item\"><div class=\"sk-serial\"><div class=\"sk-item\"><div class=\"sk-estimator sk-toggleable\"><input class=\"sk-toggleable__control sk-hidden--visually\" id=\"sk-estimator-id-14\" type=\"checkbox\" ><label for=\"sk-estimator-id-14\" class=\"sk-toggleable__label sk-toggleable__label-arrow\">DropColumnsTransformer</label><div class=\"sk-toggleable__content\"><pre>DropColumnsTransformer(attrs_to_drop=[&#x27;app_score&#x27;, &#x27;his_on_shelf_time&#x27;,\n                                      &#x27;task_id&#x27;, &#x27;spread_app_id&#x27;, &#x27;tags&#x27;,\n                                      &#x27;dev_id&#x27;, &#x27;app_second_class&#x27;,\n                                      &#x27;adv_prim_id&#x27;, &#x27;device_price&#x27;])</pre></div></div></div><div class=\"sk-item\"><div class=\"sk-estimator sk-toggleable\"><input class=\"sk-toggleable__control sk-hidden--visually\" id=\"sk-estimator-id-15\" type=\"checkbox\" ><label for=\"sk-estimator-id-15\" class=\"sk-toggleable__label sk-toggleable__label-arrow\">SimpleImputer</label><div class=\"sk-toggleable__content\"><pre>SimpleImputer()</pre></div></div></div><div class=\"sk-item\"><div class=\"sk-estimator sk-toggleable\"><input class=\"sk-toggleable__control sk-hidden--visually\" id=\"sk-estimator-id-16\" type=\"checkbox\" ><label for=\"sk-estimator-id-16\" class=\"sk-toggleable__label sk-toggleable__label-arrow\">StandardScaler</label><div class=\"sk-toggleable__content\"><pre>StandardScaler()</pre></div></div></div></div></div></div></div></div><div class=\"sk-parallel-item\"><div class=\"sk-item\"><div class=\"sk-label-container\"><div class=\"sk-label sk-toggleable\"><input class=\"sk-toggleable__control sk-hidden--visually\" id=\"sk-estimator-id-17\" type=\"checkbox\" ><label for=\"sk-estimator-id-17\" class=\"sk-toggleable__label sk-toggleable__label-arrow\">categorical</label><div class=\"sk-toggleable__content\"><pre>[&#x27;uid&#x27;, &#x27;task_id&#x27;, &#x27;adv_id&#x27;, &#x27;creat_type_cd&#x27;, &#x27;adv_prim_id&#x27;, &#x27;dev_id&#x27;, &#x27;inter_type_cd&#x27;, &#x27;slot_id&#x27;, &#x27;spread_app_id&#x27;, &#x27;tags&#x27;, &#x27;app_first_class&#x27;, &#x27;app_second_class&#x27;, &#x27;age&#x27;, &#x27;city&#x27;, &#x27;city_rank&#x27;, &#x27;device_name&#x27;, &#x27;device_size&#x27;, &#x27;career&#x27;, &#x27;gender&#x27;, &#x27;net_type&#x27;, &#x27;residence&#x27;, &#x27;his_app_size&#x27;, &#x27;his_on_shelf_time&#x27;, &#x27;app_score&#x27;, &#x27;emui_dev&#x27;, &#x27;list_time&#x27;, &#x27;device_price&#x27;, &#x27;up_life_duration&#x27;, &#x27;up_membership_grade&#x27;, &#x27;membership_life_duration&#x27;, &#x27;consume_purchase&#x27;, &#x27;communication_onlinerate&#x27;, &#x27;communication_avgonline_30d&#x27;, &#x27;indu_name&#x27;, &#x27;pt_d&#x27;]</pre></div></div></div><div class=\"sk-serial\"><div class=\"sk-item\"><div class=\"sk-serial\"><div class=\"sk-item\"><div class=\"sk-estimator sk-toggleable\"><input class=\"sk-toggleable__control sk-hidden--visually\" id=\"sk-estimator-id-18\" type=\"checkbox\" ><label for=\"sk-estimator-id-18\" class=\"sk-toggleable__label sk-toggleable__label-arrow\">DropColumnsTransformer</label><div class=\"sk-toggleable__content\"><pre>DropColumnsTransformer(attrs_to_drop=[&#x27;app_score&#x27;, &#x27;his_on_shelf_time&#x27;,\n                                      &#x27;task_id&#x27;, &#x27;spread_app_id&#x27;, &#x27;tags&#x27;,\n                                      &#x27;dev_id&#x27;, &#x27;app_second_class&#x27;,\n                                      &#x27;adv_prim_id&#x27;, &#x27;device_price&#x27;])</pre></div></div></div><div class=\"sk-item\"><div class=\"sk-estimator sk-toggleable\"><input class=\"sk-toggleable__control sk-hidden--visually\" id=\"sk-estimator-id-19\" type=\"checkbox\" ><label for=\"sk-estimator-id-19\" class=\"sk-toggleable__label sk-toggleable__label-arrow\">SimpleImputer</label><div class=\"sk-toggleable__content\"><pre>SimpleImputer(strategy=&#x27;most_frequent&#x27;)</pre></div></div></div><div class=\"sk-item\"><div class=\"sk-estimator sk-toggleable\"><input class=\"sk-toggleable__control sk-hidden--visually\" id=\"sk-estimator-id-20\" type=\"checkbox\" ><label for=\"sk-estimator-id-20\" class=\"sk-toggleable__label sk-toggleable__label-arrow\">TargetEncoder</label><div class=\"sk-toggleable__content\"><pre>TargetEncoder(random_state=42, target_type=&#x27;binary&#x27;)</pre></div></div></div><div class=\"sk-item\"><div class=\"sk-estimator sk-toggleable\"><input class=\"sk-toggleable__control sk-hidden--visually\" id=\"sk-estimator-id-21\" type=\"checkbox\" ><label for=\"sk-estimator-id-21\" class=\"sk-toggleable__label sk-toggleable__label-arrow\">StandardScaler</label><div class=\"sk-toggleable__content\"><pre>StandardScaler()</pre></div></div></div></div></div></div></div></div></div></div><div class=\"sk-item\"><div class=\"sk-estimator sk-toggleable\"><input class=\"sk-toggleable__control sk-hidden--visually\" id=\"sk-estimator-id-22\" type=\"checkbox\" ><label for=\"sk-estimator-id-22\" class=\"sk-toggleable__label sk-toggleable__label-arrow\">SGDClassifier</label><div class=\"sk-toggleable__content\"><pre>SGDClassifier(class_weight=&#x27;balanced&#x27;, loss=&#x27;log_loss&#x27;, max_iter=10000,\n              random_state=42)</pre></div></div></div></div></div></div></div>"
     },
     "execution_count": 9,
     "metadata": {},
     "output_type": "execute_result"
    }
   ],
   "source": [
    "composite_estimator = Pipeline([\n",
    "    (\"preprocessor\", preprocessor),\n",
    "    (estimator_name, estimator_dict[estimator_name])\n",
    "])\n",
    "composite_estimator"
   ],
   "metadata": {
    "collapsed": false,
    "ExecuteTime": {
     "end_time": "2023-12-01T22:22:05.379392300Z",
     "start_time": "2023-12-01T22:22:05.355390600Z"
    }
   },
   "id": "26923909861cf6a1"
  },
  {
   "cell_type": "code",
   "execution_count": 10,
   "outputs": [],
   "source": [
    "cap_x_df, y_df = train_df_sample.drop(columns=target_attr), train_df_sample[[target_attr]]\n",
    "del train_df_sample"
   ],
   "metadata": {
    "collapsed": false,
    "ExecuteTime": {
     "end_time": "2023-12-01T22:22:05.390392500Z",
     "start_time": "2023-12-01T22:22:05.375392300Z"
    }
   },
   "id": "396cbd819acd7a1f"
  },
  {
   "cell_type": "markdown",
   "source": [
    "#### 5. Performance using N-fold cross validation"
   ],
   "metadata": {
    "collapsed": false
   },
   "id": "c18ff2da533873c0"
  },
  {
   "cell_type": "code",
   "execution_count": 11,
   "outputs": [
    {
     "name": "stdout",
     "output_type": "stream",
     "text": [
      "Cross Validation Scores: [0.56682578 0.40393795 0.42124105 0.54295943 0.42303103]\n",
      "mean: 0.47159904534606206\n",
      "standard deviation: 0.07686552964339113\n"
     ]
    }
   ],
   "source": [
    "model_performance_utils.check_out_cross_val_score(composite_estimator, cap_x_df, y_df)"
   ],
   "metadata": {
    "collapsed": false,
    "ExecuteTime": {
     "end_time": "2023-12-01T22:22:06.277391400Z",
     "start_time": "2023-12-01T22:22:05.392391900Z"
    }
   },
   "id": "4b0a9d068d221192"
  },
  {
   "cell_type": "markdown",
   "source": [
    "#### 6. Check the most significant attributes"
   ],
   "metadata": {
    "collapsed": false
   },
   "id": "49b50fa8d9545582"
  },
  {
   "cell_type": "code",
   "execution_count": 12,
   "outputs": [
    {
     "name": "stdout",
     "output_type": "stream",
     "text": [
      "\n",
      "Permutation importance:\n",
      "\n",
      "metric: sqrt_neg_mean_squared_error\n",
      "    uid      0.172 +/- 0.031\n",
      "    app_first_class 0.103 +/- 0.027\n",
      "    his_app_size 0.101 +/- 0.047\n",
      "    city_rank 0.068 +/- 0.042\n",
      "    net_type 0.060 +/- 0.030\n",
      "    gender   0.059 +/- 0.022\n",
      "    list_time 0.056 +/- 0.032\n",
      "    age      0.044 +/- 0.026\n",
      "    membership_life_duration 0.025 +/- 0.010\n"
     ]
    }
   ],
   "source": [
    "composite_estimator.fit(cap_x_df, y_df.values.ravel())\n",
    "\n",
    "model_performance_utils.check_out_permutation_importance(\n",
    "    composite_estimator, \n",
    "    cap_x_df, \n",
    "    y_df, \n",
    "    permutation_importance_random_state\n",
    ")"
   ],
   "metadata": {
    "collapsed": false,
    "ExecuteTime": {
     "end_time": "2023-12-01T22:22:30.605392500Z",
     "start_time": "2023-12-01T22:22:06.279393100Z"
    }
   },
   "id": "33873a6ff93bb317"
  },
  {
   "cell_type": "markdown",
   "source": [
    "#### 7. Analyze error types"
   ],
   "metadata": {
    "collapsed": false
   },
   "id": "71451b086fc7cfa7"
  },
  {
   "cell_type": "code",
   "execution_count": 13,
   "outputs": [
    {
     "name": "stdout",
     "output_type": "stream",
     "text": [
      "\n",
      "Check out type I and type II errors\n",
      "type I error (false positive): 3002\n",
      "type II error (false negative): 1\n"
     ]
    }
   ],
   "source": [
    "model_performance_utils.check_out_error_types(composite_estimator, cap_x_df, y_df)"
   ],
   "metadata": {
    "collapsed": false,
    "ExecuteTime": {
     "end_time": "2023-12-01T22:22:30.698390100Z",
     "start_time": "2023-12-01T22:22:30.609392900Z"
    }
   },
   "id": "d9798d4b5c0c4361"
  },
  {
   "cell_type": "markdown",
   "source": [
    "#### 8. Feature selection and engineering"
   ],
   "metadata": {
    "collapsed": false
   },
   "id": "f337c5fe71ab2eb2"
  },
  {
   "cell_type": "code",
   "execution_count": 13,
   "outputs": [],
   "source": [],
   "metadata": {
    "collapsed": false,
    "ExecuteTime": {
     "end_time": "2023-12-01T22:22:30.742389300Z",
     "start_time": "2023-12-01T22:22:30.700389900Z"
    }
   },
   "id": "f89aed51aabf3e01"
  },
  {
   "cell_type": "markdown",
   "source": [
    "#### 9. Fit and evaluate again"
   ],
   "metadata": {
    "collapsed": false
   },
   "id": "75cf2d695fcb24"
  },
  {
   "cell_type": "code",
   "execution_count": 13,
   "outputs": [],
   "source": [],
   "metadata": {
    "collapsed": false,
    "ExecuteTime": {
     "end_time": "2023-12-01T22:22:30.752390Z",
     "start_time": "2023-12-01T22:22:30.714391500Z"
    }
   },
   "id": "9c071ad282e03571"
  },
  {
   "cell_type": "markdown",
   "source": [
    "#### 10. Check the most promising models"
   ],
   "metadata": {
    "collapsed": false
   },
   "id": "6c7a5644198f1446"
  },
  {
   "cell_type": "code",
   "execution_count": 13,
   "outputs": [],
   "source": [],
   "metadata": {
    "collapsed": false,
    "ExecuteTime": {
     "end_time": "2023-12-01T22:22:30.753389500Z",
     "start_time": "2023-12-01T22:22:30.730390900Z"
    }
   },
   "id": "b3ae9dbd8a3251bc"
  }
 ],
 "metadata": {
  "kernelspec": {
   "display_name": "Python 3",
   "language": "python",
   "name": "python3"
  },
  "language_info": {
   "codemirror_mode": {
    "name": "ipython",
    "version": 2
   },
   "file_extension": ".py",
   "mimetype": "text/x-python",
   "name": "python",
   "nbconvert_exporter": "python",
   "pygments_lexer": "ipython2",
   "version": "2.7.6"
  }
 },
 "nbformat": 4,
 "nbformat_minor": 5
}
